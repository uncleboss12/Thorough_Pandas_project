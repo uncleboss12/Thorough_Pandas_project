{
 "cells": [
  {
   "cell_type": "markdown",
   "id": "fa63b496",
   "metadata": {},
   "source": [
    "## Introduction"
   ]
  },
  {
   "cell_type": "markdown",
   "id": "d25d9760",
   "metadata": {},
   "source": [
    "The roots of pandas lay in analyzing financial time series data. Time series are points of data\n",
    "gathered over time. Generally, the time is evenly spaced between each data point. However,\n",
    "there may be gaps in the observations. pandas includes functionality to manipulate dates,\n",
    "aggregate over different time periods, sample different periods of time, and more."
   ]
  },
  {
   "cell_type": "markdown",
   "id": "0a24114f",
   "metadata": {},
   "source": [
    "## Understanding the difference between python and pandas date tools"
   ]
  },
  {
   "cell_type": "markdown",
   "id": "8e495581",
   "metadata": {},
   "source": [
    "Before we get to pandas, it can help to be aware of and understand core Python's date\n",
    "and time functionality. The datetime module provides three data types: date, time, and\n",
    "datetime. Formally, a date is a moment in time consisting of just the year, month, and day.\n",
    "For instance, June 7, 2013 would be a date. A time consists of hours, minutes, seconds,\n",
    "and microseconds (one-millionth of a second) and is unattached to any date. An example\n",
    "of time would be 12 hours and 30 minutes. A datetime consists of both the elements\n",
    "of a date and time together.\n",
    "On the other hand, pandas has a single object to encapsulate date and time called a\n",
    "Timestamp. It has nanosecond (one-billionth of a second) precision and is derived from\n",
    "NumPy's datetime64 data type. Both Python and pandas each have a timedelta object\n",
    "that is useful when doing date addition and subtraction.\n",
    "In this recipe, we will first explore Python's datetime module and then turn to the\n",
    "corresponding date tools in pandas."
   ]
  },
  {
   "cell_type": "code",
   "execution_count": 5,
   "id": "174c73a5",
   "metadata": {},
   "outputs": [
    {
     "name": "stdout",
     "output_type": "stream",
     "text": [
      "date is 2013-06-07\n"
     ]
    }
   ],
   "source": [
    "# Let's begin by importing the datetime module into\n",
    "# our namespace and creating a date, time,\n",
    "# and datetime object:\n",
    "import pandas as pd\n",
    "import numpy as np\n",
    "import datetime\n",
    "date = datetime.date(year=2013, month=6, day=7)\n",
    "time = datetime.time(hour=12, minute=30, \n",
    "                    second=19, microsecond=463198)\n",
    "dt = datetime.datetime(year=2013, month=6, day=7,\n",
    "                  hour=12, minute=30, second=19,\n",
    "                  microsecond=463198)\n",
    "print(f'date is {date}')"
   ]
  },
  {
   "cell_type": "code",
   "execution_count": 6,
   "id": "c8a07372",
   "metadata": {},
   "outputs": [
    {
     "name": "stdout",
     "output_type": "stream",
     "text": [
      "time is 12:30:19.463198\n"
     ]
    }
   ],
   "source": [
    "print(f'time is {time}')"
   ]
  },
  {
   "cell_type": "code",
   "execution_count": 7,
   "id": "609d58e2",
   "metadata": {},
   "outputs": [
    {
     "name": "stdout",
     "output_type": "stream",
     "text": [
      "datetime is 2013-06-07 12:30:19.463198\n"
     ]
    }
   ],
   "source": [
    "print(f'datetime is {dt}')"
   ]
  },
  {
   "cell_type": "code",
   "execution_count": 8,
   "id": "c22d7eba",
   "metadata": {},
   "outputs": [],
   "source": [
    "# Let's construct and print out a timedelta object, \n",
    "# the other major data type from the datetime module:\n",
    "td = datetime.timedelta(weeks=2, days=5, hours=10, minutes=20,\n",
    "                        seconds=6.73, milliseconds=99,\n",
    "                        microseconds=8\n",
    "                       )"
   ]
  },
  {
   "cell_type": "code",
   "execution_count": 9,
   "id": "67de7e5b",
   "metadata": {},
   "outputs": [
    {
     "data": {
      "text/plain": [
       "datetime.timedelta(days=19, seconds=37206, microseconds=829008)"
      ]
     },
     "execution_count": 9,
     "metadata": {},
     "output_type": "execute_result"
    }
   ],
   "source": [
    "td"
   ]
  },
  {
   "cell_type": "code",
   "execution_count": 12,
   "id": "2d11c66b",
   "metadata": {},
   "outputs": [
    {
     "name": "stdout",
     "output_type": "stream",
     "text": [
      "new date is 2013-06-26\n"
     ]
    }
   ],
   "source": [
    "# Add this td to the date and dt objects from step 1:\n",
    "print(f'new date is {date+td}')"
   ]
  },
  {
   "cell_type": "code",
   "execution_count": 14,
   "id": "4025d193",
   "metadata": {},
   "outputs": [
    {
     "name": "stdout",
     "output_type": "stream",
     "text": [
      "new datetime is 2013-06-26 22:50:26.292206\n"
     ]
    }
   ],
   "source": [
    "print(f'new datetime is {dt+td}')"
   ]
  },
  {
   "cell_type": "code",
   "execution_count": 15,
   "id": "c840c431",
   "metadata": {},
   "outputs": [
    {
     "ename": "TypeError",
     "evalue": "unsupported operand type(s) for +: 'datetime.time' and 'datetime.timedelta'",
     "output_type": "error",
     "traceback": [
      "\u001b[1;31m---------------------------------------------------------------------------\u001b[0m",
      "\u001b[1;31mTypeError\u001b[0m                                 Traceback (most recent call last)",
      "\u001b[1;32mC:\\Users\\JUSTIN~1.O_K\\AppData\\Local\\Temp/ipykernel_17524/328395089.py\u001b[0m in \u001b[0;36m<module>\u001b[1;34m\u001b[0m\n\u001b[0;32m      1\u001b[0m \u001b[1;31m# Attempting to add a timedelta to a time object\u001b[0m\u001b[1;33m\u001b[0m\u001b[1;33m\u001b[0m\u001b[0m\n\u001b[0;32m      2\u001b[0m \u001b[1;31m# is not possible:\u001b[0m\u001b[1;33m\u001b[0m\u001b[1;33m\u001b[0m\u001b[0m\n\u001b[1;32m----> 3\u001b[1;33m \u001b[0mtime\u001b[0m \u001b[1;33m+\u001b[0m \u001b[0mtd\u001b[0m\u001b[1;33m\u001b[0m\u001b[1;33m\u001b[0m\u001b[0m\n\u001b[0m",
      "\u001b[1;31mTypeError\u001b[0m: unsupported operand type(s) for +: 'datetime.time' and 'datetime.timedelta'"
     ]
    }
   ],
   "source": [
    "# Attempting to add a timedelta to a time object\n",
    "# is not possible:\n",
    "time + td"
   ]
  },
  {
   "cell_type": "markdown",
   "id": "2be857de",
   "metadata": {},
   "source": [
    "Let's turn to pandas and its Timestamp object, which is a moment in time with\n",
    "nanosecond precision. The Timestamp constructor is very flexible, and handles\n",
    "a wide variety of inputs:"
   ]
  },
  {
   "cell_type": "code",
   "execution_count": 17,
   "id": "d9615ce0",
   "metadata": {},
   "outputs": [
    {
     "data": {
      "text/plain": [
       "Timestamp('2012-12-21 05:10:08.000099')"
      ]
     },
     "execution_count": 17,
     "metadata": {},
     "output_type": "execute_result"
    }
   ],
   "source": [
    "pd.Timestamp(year=2012, month=12, day=21, hour=5, \n",
    "            minute=10, second=8, microsecond=99)"
   ]
  },
  {
   "cell_type": "code",
   "execution_count": 18,
   "id": "4dd56688",
   "metadata": {},
   "outputs": [
    {
     "data": {
      "text/plain": [
       "Timestamp('2016-01-10 00:00:00')"
      ]
     },
     "execution_count": 18,
     "metadata": {},
     "output_type": "execute_result"
    }
   ],
   "source": [
    "pd.Timestamp('2016/1/10')"
   ]
  },
  {
   "cell_type": "code",
   "execution_count": 19,
   "id": "62bc8ef2",
   "metadata": {},
   "outputs": [
    {
     "data": {
      "text/plain": [
       "Timestamp('2014-05-10 00:00:00')"
      ]
     },
     "execution_count": 19,
     "metadata": {},
     "output_type": "execute_result"
    }
   ],
   "source": [
    "pd.Timestamp('2014-5/10')"
   ]
  },
  {
   "cell_type": "code",
   "execution_count": 20,
   "id": "68979727",
   "metadata": {},
   "outputs": [
    {
     "data": {
      "text/plain": [
       "Timestamp('2019-01-03 20:45:33')"
      ]
     },
     "execution_count": 20,
     "metadata": {},
     "output_type": "execute_result"
    }
   ],
   "source": [
    "pd.Timestamp('Jan 3, 2019 20:45.56')"
   ]
  },
  {
   "cell_type": "code",
   "execution_count": 21,
   "id": "ba58e5a2",
   "metadata": {},
   "outputs": [
    {
     "data": {
      "text/plain": [
       "Timestamp('2016-01-05 00:34:43.123456789')"
      ]
     },
     "execution_count": 21,
     "metadata": {},
     "output_type": "execute_result"
    }
   ],
   "source": [
    "pd.Timestamp('2016-01-05T0:34:43.123456789')"
   ]
  },
  {
   "cell_type": "markdown",
   "id": "849c2454",
   "metadata": {},
   "source": [
    "It's also possible to pass in a single integer or float to the Timestamp constructor,\n",
    "which returns a date equivalent to the number of nanoseconds after the Unix epoch\n",
    "(January 1, 1970):"
   ]
  },
  {
   "cell_type": "code",
   "execution_count": 23,
   "id": "7269d7a9",
   "metadata": {},
   "outputs": [
    {
     "data": {
      "text/plain": [
       "Timestamp('1970-01-01 00:00:00.000000500')"
      ]
     },
     "execution_count": 23,
     "metadata": {},
     "output_type": "execute_result"
    }
   ],
   "source": [
    "pd.Timestamp(500)"
   ]
  },
  {
   "cell_type": "code",
   "execution_count": 24,
   "id": "50a3c50f",
   "metadata": {},
   "outputs": [
    {
     "data": {
      "text/plain": [
       "Timestamp('1971-05-16 00:00:00')"
      ]
     },
     "execution_count": 24,
     "metadata": {},
     "output_type": "execute_result"
    }
   ],
   "source": [
    "pd.Timestamp(500, unit='D')"
   ]
  },
  {
   "cell_type": "markdown",
   "id": "0005c9d3",
   "metadata": {},
   "source": [
    "pandas provides the to_datetime function that works similarly to the Timestamp\n",
    "constructor, but comes with a few different parameters for special situations. This\n",
    "comes in useful for converting string columns in DataFrames to dates."
   ]
  },
  {
   "cell_type": "code",
   "execution_count": 25,
   "id": "5605e9f5",
   "metadata": {},
   "outputs": [
    {
     "data": {
      "text/plain": [
       "Timestamp('2015-05-13 00:00:00')"
      ]
     },
     "execution_count": 25,
     "metadata": {},
     "output_type": "execute_result"
    }
   ],
   "source": [
    "# But it also works on scalar dates; see the\n",
    "# following examples:\n",
    "pd.to_datetime('2015-5-13')"
   ]
  },
  {
   "cell_type": "code",
   "execution_count": 26,
   "id": "e17febc0",
   "metadata": {},
   "outputs": [
    {
     "data": {
      "text/plain": [
       "Timestamp('2015-05-13 00:00:00')"
      ]
     },
     "execution_count": 26,
     "metadata": {},
     "output_type": "execute_result"
    }
   ],
   "source": [
    "pd.to_datetime('2015-13-5', dayfirst=True)"
   ]
  },
  {
   "cell_type": "code",
   "execution_count": 29,
   "id": "d957d3ef",
   "metadata": {},
   "outputs": [
    {
     "data": {
      "text/plain": [
       "Timestamp('2017-09-30 13:30:00')"
      ]
     },
     "execution_count": 29,
     "metadata": {},
     "output_type": "execute_result"
    }
   ],
   "source": [
    "pd.to_datetime('Start Date: Sep 30, 2017 Start Time: 1:30 pm',\n",
    "     format='Start Date: %b %d, %Y Start Time: %I:%M %p')\n"
   ]
  },
  {
   "cell_type": "code",
   "execution_count": 30,
   "id": "b44918dd",
   "metadata": {},
   "outputs": [
    {
     "data": {
      "text/plain": [
       "Timestamp('2031-04-11 00:00:00')"
      ]
     },
     "execution_count": 30,
     "metadata": {},
     "output_type": "execute_result"
    }
   ],
   "source": [
    "pd.to_datetime(100, unit='D', origin='2031-1-1')"
   ]
  },
  {
   "cell_type": "markdown",
   "id": "6090d404",
   "metadata": {},
   "source": [
    "The to_datetime function comes equipped with even more functionality. It is\n",
    "capable of converting entire lists or Series of strings or integers to Timestamp\n",
    "objects. Since we are far more likely to interact with Series or DataFrames and not\n",
    "single scalar values, you are far more likely to use to_datetime than Timestamp:"
   ]
  },
  {
   "cell_type": "code",
   "execution_count": 31,
   "id": "847d3b46",
   "metadata": {},
   "outputs": [
    {
     "data": {
      "text/plain": [
       "0   1970-01-11\n",
       "1   1970-04-11\n",
       "2   1972-09-27\n",
       "3   1997-05-19\n",
       "dtype: datetime64[ns]"
      ]
     },
     "execution_count": 31,
     "metadata": {},
     "output_type": "execute_result"
    }
   ],
   "source": [
    "s = pd.Series([10, 100, 1000, 10000])\n",
    "pd.to_datetime(s, unit='D')"
   ]
  },
  {
   "cell_type": "code",
   "execution_count": 32,
   "id": "9dd8c51a",
   "metadata": {},
   "outputs": [],
   "source": [
    "s = pd.Series(['12-5-2015', '14-1-2013',\n",
    "              '20/12/2017', '40/23/2017'])"
   ]
  },
  {
   "cell_type": "code",
   "execution_count": 34,
   "id": "95939774",
   "metadata": {},
   "outputs": [
    {
     "data": {
      "text/plain": [
       "0   2015-05-12\n",
       "1   2013-01-14\n",
       "2   2017-12-20\n",
       "3          NaT\n",
       "dtype: datetime64[ns]"
      ]
     },
     "execution_count": 34,
     "metadata": {},
     "output_type": "execute_result"
    }
   ],
   "source": [
    "pd.to_datetime(s, dayfirst=True, errors='coerce')"
   ]
  },
  {
   "cell_type": "code",
   "execution_count": 36,
   "id": "fe874cb1",
   "metadata": {},
   "outputs": [
    {
     "data": {
      "text/plain": [
       "DatetimeIndex(['1999-08-03 03:45:56', '2017-10-31 00:00:00'], dtype='datetime64[ns]', freq=None)"
      ]
     },
     "execution_count": 36,
     "metadata": {},
     "output_type": "execute_result"
    }
   ],
   "source": [
    "pd.to_datetime(['Aug 3 1999 3:45:56', '10/31/2017'])"
   ]
  },
  {
   "cell_type": "markdown",
   "id": "a246716a",
   "metadata": {},
   "source": [
    "Like the Timestamp constructor and the to_datetime function, pandas\n",
    "has Timedelta and to_timedelta to represent an amount of time. Both\n",
    "the Timedelta constructor and the to_timedelta function can create a\n",
    "single Timedelta object. Like to_datetime, to_timedelta has a bit more\n",
    "functionality and can convert entire lists or Series into Timedelta objects:"
   ]
  },
  {
   "cell_type": "code",
   "execution_count": 37,
   "id": "4ea308f1",
   "metadata": {},
   "outputs": [
    {
     "data": {
      "text/plain": [
       "Timedelta('12 days 05:03:00.123456789')"
      ]
     },
     "execution_count": 37,
     "metadata": {},
     "output_type": "execute_result"
    }
   ],
   "source": [
    "pd.Timedelta('12 days 5 hours 3 minutes 123456789 nanoseconds')"
   ]
  },
  {
   "cell_type": "code",
   "execution_count": 38,
   "id": "11c3eb26",
   "metadata": {},
   "outputs": [
    {
     "data": {
      "text/plain": [
       "Timedelta('5 days 00:07:20.400000')"
      ]
     },
     "execution_count": 38,
     "metadata": {},
     "output_type": "execute_result"
    }
   ],
   "source": [
    "pd.Timedelta(days=5, minutes=7.34)"
   ]
  },
  {
   "cell_type": "code",
   "execution_count": 39,
   "id": "2ff07467",
   "metadata": {},
   "outputs": [
    {
     "data": {
      "text/plain": [
       "Timedelta('2 days 19:15:45.454000')"
      ]
     },
     "execution_count": 39,
     "metadata": {},
     "output_type": "execute_result"
    }
   ],
   "source": [
    "pd.to_timedelta('67:15:45.454')"
   ]
  },
  {
   "cell_type": "code",
   "execution_count": 40,
   "id": "54174cd6",
   "metadata": {},
   "outputs": [
    {
     "data": {
      "text/plain": [
       "0   0 days 00:00:10\n",
       "1   0 days 00:01:40\n",
       "dtype: timedelta64[ns]"
      ]
     },
     "execution_count": 40,
     "metadata": {},
     "output_type": "execute_result"
    }
   ],
   "source": [
    "s = pd.Series([10, 100])\n",
    "pd.to_timedelta(s, unit='s')"
   ]
  },
  {
   "cell_type": "code",
   "execution_count": 41,
   "id": "25241ae3",
   "metadata": {},
   "outputs": [],
   "source": [
    "time_strings = ['2 days 24 minutes 89.67 seconds',\n",
    "     '00:45:23.6']"
   ]
  },
  {
   "cell_type": "code",
   "execution_count": 42,
   "id": "1ac0f830",
   "metadata": {},
   "outputs": [
    {
     "data": {
      "text/plain": [
       "TimedeltaIndex(['2 days 00:25:29.670000', '0 days 00:45:23.600000'], dtype='timedelta64[ns]', freq=None)"
      ]
     },
     "execution_count": 42,
     "metadata": {},
     "output_type": "execute_result"
    }
   ],
   "source": [
    "pd.to_timedelta(time_strings)"
   ]
  },
  {
   "cell_type": "markdown",
   "id": "51c7e461",
   "metadata": {},
   "source": [
    "A Timedelta may be added or subtracted from another Timestamp. They may even\n",
    "be divided from each other to return a float:"
   ]
  },
  {
   "cell_type": "code",
   "execution_count": 43,
   "id": "a4a9b660",
   "metadata": {},
   "outputs": [
    {
     "data": {
      "text/plain": [
       "Timedelta('24 days 10:06:00')"
      ]
     },
     "execution_count": 43,
     "metadata": {},
     "output_type": "execute_result"
    }
   ],
   "source": [
    "pd.Timedelta('12 days 5 hours 3 minutes') * 2"
   ]
  },
  {
   "cell_type": "code",
   "execution_count": 44,
   "id": "8d4d34cd",
   "metadata": {},
   "outputs": [
    {
     "data": {
      "text/plain": [
       "Timestamp('2017-01-13 05:03:00')"
      ]
     },
     "execution_count": 44,
     "metadata": {},
     "output_type": "execute_result"
    }
   ],
   "source": [
    "(pd.Timestamp('1/1/2017') +\n",
    "pd.Timedelta('12 days 5 hours 3 minutes'))"
   ]
  },
  {
   "cell_type": "code",
   "execution_count": 48,
   "id": "2e0ae9fb",
   "metadata": {},
   "outputs": [
    {
     "data": {
      "text/plain": [
       "TimedeltaIndex(['0 days 03:00:10', '0 days 04:01:40'], dtype='timedelta64[ns]', freq=None)"
      ]
     },
     "execution_count": 48,
     "metadata": {},
     "output_type": "execute_result"
    }
   ],
   "source": [
    "td1 = pd.to_timedelta([10, 100], unit='s')\n",
    "td2 = pd.to_timedelta(['3 hours', '4 hours'])\n",
    "td1 + td2"
   ]
  },
  {
   "cell_type": "code",
   "execution_count": 49,
   "id": "64372b2a",
   "metadata": {},
   "outputs": [
    {
     "data": {
      "text/plain": [
       "4.0"
      ]
     },
     "execution_count": 49,
     "metadata": {},
     "output_type": "execute_result"
    }
   ],
   "source": [
    "pd.Timedelta('12 days') / pd.Timedelta('3 days')"
   ]
  },
  {
   "cell_type": "markdown",
   "id": "863e9532",
   "metadata": {},
   "source": [
    "Both Timestamp and Timedelta have a large number of features available as\n",
    "attributes and methods. "
   ]
  },
  {
   "cell_type": "code",
   "execution_count": 51,
   "id": "eb7362ab",
   "metadata": {},
   "outputs": [
    {
     "data": {
      "text/plain": [
       "Timestamp('2016-10-01 05:00:00')"
      ]
     },
     "execution_count": 51,
     "metadata": {},
     "output_type": "execute_result"
    }
   ],
   "source": [
    "ts = pd.Timestamp('2016-10-1 4:23:23.9')\n",
    "ts.ceil('h')"
   ]
  },
  {
   "cell_type": "code",
   "execution_count": 55,
   "id": "086ef6f0",
   "metadata": {},
   "outputs": [
    {
     "data": {
      "text/plain": [
       "(2016, 10, 1, 4, 23, 23)"
      ]
     },
     "execution_count": 55,
     "metadata": {},
     "output_type": "execute_result"
    }
   ],
   "source": [
    "ts.year, ts.month, ts.day, ts.hour, ts.minute, ts.second"
   ]
  },
  {
   "cell_type": "code",
   "execution_count": 54,
   "id": "f7979901",
   "metadata": {},
   "outputs": [
    {
     "data": {
      "text/plain": [
       "(5, 275, 31)"
      ]
     },
     "execution_count": 54,
     "metadata": {},
     "output_type": "execute_result"
    }
   ],
   "source": [
    "ts.dayofweek,  ts.dayofyear, ts.daysinmonth"
   ]
  },
  {
   "cell_type": "code",
   "execution_count": 56,
   "id": "ef2d35ca",
   "metadata": {},
   "outputs": [
    {
     "data": {
      "text/plain": [
       "datetime.datetime(2016, 10, 1, 4, 23, 23, 900000)"
      ]
     },
     "execution_count": 56,
     "metadata": {},
     "output_type": "execute_result"
    }
   ],
   "source": [
    "ts.to_pydatetime()"
   ]
  },
  {
   "cell_type": "code",
   "execution_count": 57,
   "id": "02f07302",
   "metadata": {},
   "outputs": [],
   "source": [
    "td = pd.Timedelta(125.8723, unit='h')"
   ]
  },
  {
   "cell_type": "code",
   "execution_count": 58,
   "id": "2171ad7e",
   "metadata": {},
   "outputs": [
    {
     "data": {
      "text/plain": [
       "Timedelta('5 days 05:52:20.280000')"
      ]
     },
     "execution_count": 58,
     "metadata": {},
     "output_type": "execute_result"
    }
   ],
   "source": [
    "td"
   ]
  },
  {
   "cell_type": "code",
   "execution_count": 59,
   "id": "cf6c9891",
   "metadata": {},
   "outputs": [
    {
     "data": {
      "text/plain": [
       "Timedelta('5 days 05:52:00')"
      ]
     },
     "execution_count": 59,
     "metadata": {},
     "output_type": "execute_result"
    }
   ],
   "source": [
    "td.round('min')"
   ]
  },
  {
   "cell_type": "code",
   "execution_count": 60,
   "id": "75153628",
   "metadata": {},
   "outputs": [
    {
     "data": {
      "text/plain": [
       "Components(days=5, hours=5, minutes=52, seconds=20, milliseconds=280, microseconds=0, nanoseconds=0)"
      ]
     },
     "execution_count": 60,
     "metadata": {},
     "output_type": "execute_result"
    }
   ],
   "source": [
    "td.components"
   ]
  },
  {
   "cell_type": "code",
   "execution_count": 61,
   "id": "176d25a8",
   "metadata": {},
   "outputs": [
    {
     "data": {
      "text/plain": [
       "453140.28"
      ]
     },
     "execution_count": 61,
     "metadata": {},
     "output_type": "execute_result"
    }
   ],
   "source": [
    "td.total_seconds()"
   ]
  },
  {
   "cell_type": "markdown",
   "id": "9a5f4721",
   "metadata": {},
   "source": [
    "## Slicing time Series Intelligently"
   ]
  },
  {
   "cell_type": "markdown",
   "id": "fb4fa3e8",
   "metadata": {},
   "source": [
    "DataFrame selection and slicing was covered previously. When the DataFrame has\n",
    "a DatetimeIndex, even more opportunities arise for selection and slicing.\n",
    "In this recipe, we will use partial date matching to select and slice a DataFrame with\n",
    "a DatetimeIndex."
   ]
  },
  {
   "cell_type": "code",
   "execution_count": 70,
   "id": "ec0c1275",
   "metadata": {},
   "outputs": [],
   "source": [
    "pd.set_option('max_columns', 4)"
   ]
  },
  {
   "cell_type": "code",
   "execution_count": 92,
   "id": "5f60a335",
   "metadata": {},
   "outputs": [],
   "source": [
    "\n",
    "crime = pd.read_hdf('C:/Users/justine.o_kobo360/Desktop/Pandas Workbook/Pandas CookBook 1.x/Data files/crime.h5', 'crime')"
   ]
  },
  {
   "cell_type": "code",
   "execution_count": 81,
   "id": "8ea8dffb",
   "metadata": {},
   "outputs": [
    {
     "data": {
      "text/plain": [
       "OFFENSE_TYPE_ID              category\n",
       "OFFENSE_CATEGORY_ID          category\n",
       "REPORTED_DATE          datetime64[ns]\n",
       "GEO_LON                       float64\n",
       "GEO_LAT                       float64\n",
       "NEIGHBORHOOD_ID              category\n",
       "IS_CRIME                        int64\n",
       "IS_TRAFFIC                      int64\n",
       "dtype: object"
      ]
     },
     "execution_count": 81,
     "metadata": {},
     "output_type": "execute_result"
    }
   ],
   "source": [
    "crime.dtypes"
   ]
  },
  {
   "cell_type": "markdown",
   "id": "ea20099b",
   "metadata": {},
   "source": [
    "Notice that there are three categorical columns and a Timestamp (denoted by\n",
    "NumPy's datetime64 object). These data types were stored whenever the data file\n",
    "was created, unlike a CSV file, which only stores raw text. Set the REPORTED_DATE\n",
    "column as the index to make intelligent Timestamp slicing possible:"
   ]
  },
  {
   "cell_type": "code",
   "execution_count": 87,
   "id": "8d0cb675",
   "metadata": {},
   "outputs": [
    {
     "data": {
      "text/html": [
       "<div>\n",
       "<style scoped>\n",
       "    .dataframe tbody tr th:only-of-type {\n",
       "        vertical-align: middle;\n",
       "    }\n",
       "\n",
       "    .dataframe tbody tr th {\n",
       "        vertical-align: top;\n",
       "    }\n",
       "\n",
       "    .dataframe thead th {\n",
       "        text-align: right;\n",
       "    }\n",
       "</style>\n",
       "<table border=\"1\" class=\"dataframe\">\n",
       "  <thead>\n",
       "    <tr style=\"text-align: right;\">\n",
       "      <th></th>\n",
       "      <th>OFFENSE_TYPE_ID</th>\n",
       "      <th>OFFENSE_CATEGORY_ID</th>\n",
       "      <th>...</th>\n",
       "      <th>IS_CRIME</th>\n",
       "      <th>IS_TRAFFIC</th>\n",
       "    </tr>\n",
       "    <tr>\n",
       "      <th>REPORTED_DATE</th>\n",
       "      <th></th>\n",
       "      <th></th>\n",
       "      <th></th>\n",
       "      <th></th>\n",
       "      <th></th>\n",
       "    </tr>\n",
       "  </thead>\n",
       "  <tbody>\n",
       "    <tr>\n",
       "      <th>2014-06-29 02:01:00</th>\n",
       "      <td>traffic-accident-dui-duid</td>\n",
       "      <td>traffic-accident</td>\n",
       "      <td>...</td>\n",
       "      <td>0</td>\n",
       "      <td>1</td>\n",
       "    </tr>\n",
       "    <tr>\n",
       "      <th>2014-06-29 01:54:00</th>\n",
       "      <td>vehicular-eluding-no-chase</td>\n",
       "      <td>all-other-crimes</td>\n",
       "      <td>...</td>\n",
       "      <td>1</td>\n",
       "      <td>0</td>\n",
       "    </tr>\n",
       "    <tr>\n",
       "      <th>2014-06-29 02:00:00</th>\n",
       "      <td>disturbing-the-peace</td>\n",
       "      <td>public-disorder</td>\n",
       "      <td>...</td>\n",
       "      <td>1</td>\n",
       "      <td>0</td>\n",
       "    </tr>\n",
       "    <tr>\n",
       "      <th>2014-06-29 02:18:00</th>\n",
       "      <td>curfew</td>\n",
       "      <td>public-disorder</td>\n",
       "      <td>...</td>\n",
       "      <td>1</td>\n",
       "      <td>0</td>\n",
       "    </tr>\n",
       "    <tr>\n",
       "      <th>2014-06-29 04:17:00</th>\n",
       "      <td>aggravated-assault</td>\n",
       "      <td>aggravated-assault</td>\n",
       "      <td>...</td>\n",
       "      <td>1</td>\n",
       "      <td>0</td>\n",
       "    </tr>\n",
       "    <tr>\n",
       "      <th>...</th>\n",
       "      <td>...</td>\n",
       "      <td>...</td>\n",
       "      <td>...</td>\n",
       "      <td>...</td>\n",
       "      <td>...</td>\n",
       "    </tr>\n",
       "    <tr>\n",
       "      <th>2017-09-13 05:48:00</th>\n",
       "      <td>burglary-business-by-force</td>\n",
       "      <td>burglary</td>\n",
       "      <td>...</td>\n",
       "      <td>1</td>\n",
       "      <td>0</td>\n",
       "    </tr>\n",
       "    <tr>\n",
       "      <th>2017-09-12 20:37:00</th>\n",
       "      <td>weapon-unlawful-discharge-of</td>\n",
       "      <td>all-other-crimes</td>\n",
       "      <td>...</td>\n",
       "      <td>1</td>\n",
       "      <td>0</td>\n",
       "    </tr>\n",
       "    <tr>\n",
       "      <th>2017-09-12 16:32:00</th>\n",
       "      <td>traf-habitual-offender</td>\n",
       "      <td>all-other-crimes</td>\n",
       "      <td>...</td>\n",
       "      <td>1</td>\n",
       "      <td>0</td>\n",
       "    </tr>\n",
       "    <tr>\n",
       "      <th>2017-09-12 13:04:00</th>\n",
       "      <td>criminal-mischief-other</td>\n",
       "      <td>public-disorder</td>\n",
       "      <td>...</td>\n",
       "      <td>1</td>\n",
       "      <td>0</td>\n",
       "    </tr>\n",
       "    <tr>\n",
       "      <th>2017-09-12 09:30:00</th>\n",
       "      <td>theft-other</td>\n",
       "      <td>larceny</td>\n",
       "      <td>...</td>\n",
       "      <td>1</td>\n",
       "      <td>0</td>\n",
       "    </tr>\n",
       "  </tbody>\n",
       "</table>\n",
       "<p>460911 rows × 7 columns</p>\n",
       "</div>"
      ],
      "text/plain": [
       "                                  OFFENSE_TYPE_ID OFFENSE_CATEGORY_ID  ...  \\\n",
       "REPORTED_DATE                                                          ...   \n",
       "2014-06-29 02:01:00     traffic-accident-dui-duid    traffic-accident  ...   \n",
       "2014-06-29 01:54:00    vehicular-eluding-no-chase    all-other-crimes  ...   \n",
       "2014-06-29 02:00:00          disturbing-the-peace     public-disorder  ...   \n",
       "2014-06-29 02:18:00                        curfew     public-disorder  ...   \n",
       "2014-06-29 04:17:00            aggravated-assault  aggravated-assault  ...   \n",
       "...                                           ...                 ...  ...   \n",
       "2017-09-13 05:48:00    burglary-business-by-force            burglary  ...   \n",
       "2017-09-12 20:37:00  weapon-unlawful-discharge-of    all-other-crimes  ...   \n",
       "2017-09-12 16:32:00        traf-habitual-offender    all-other-crimes  ...   \n",
       "2017-09-12 13:04:00       criminal-mischief-other     public-disorder  ...   \n",
       "2017-09-12 09:30:00                   theft-other             larceny  ...   \n",
       "\n",
       "                     IS_CRIME  IS_TRAFFIC  \n",
       "REPORTED_DATE                              \n",
       "2014-06-29 02:01:00         0           1  \n",
       "2014-06-29 01:54:00         1           0  \n",
       "2014-06-29 02:00:00         1           0  \n",
       "2014-06-29 02:18:00         1           0  \n",
       "2014-06-29 04:17:00         1           0  \n",
       "...                       ...         ...  \n",
       "2017-09-13 05:48:00         1           0  \n",
       "2017-09-12 20:37:00         1           0  \n",
       "2017-09-12 16:32:00         1           0  \n",
       "2017-09-12 13:04:00         1           0  \n",
       "2017-09-12 09:30:00         1           0  \n",
       "\n",
       "[460911 rows x 7 columns]"
      ]
     },
     "execution_count": 87,
     "metadata": {},
     "output_type": "execute_result"
    }
   ],
   "source": [
    "crime.set_index('REPORTED_DATE')"
   ]
  },
  {
   "cell_type": "code",
   "execution_count": 132,
   "id": "234436c5",
   "metadata": {
    "scrolled": false
   },
   "outputs": [
    {
     "data": {
      "text/html": [
       "<div>\n",
       "<style scoped>\n",
       "    .dataframe tbody tr th:only-of-type {\n",
       "        vertical-align: middle;\n",
       "    }\n",
       "\n",
       "    .dataframe tbody tr th {\n",
       "        vertical-align: top;\n",
       "    }\n",
       "\n",
       "    .dataframe thead th {\n",
       "        text-align: right;\n",
       "    }\n",
       "</style>\n",
       "<table border=\"1\" class=\"dataframe\">\n",
       "  <thead>\n",
       "    <tr style=\"text-align: right;\">\n",
       "      <th></th>\n",
       "      <th>OFFENSE_TYPE_ID</th>\n",
       "      <th>OFFENSE_CATEGORY_ID</th>\n",
       "      <th>...</th>\n",
       "      <th>IS_CRIME</th>\n",
       "      <th>IS_TRAFFIC</th>\n",
       "    </tr>\n",
       "    <tr>\n",
       "      <th>REPORTED_DATE</th>\n",
       "      <th></th>\n",
       "      <th></th>\n",
       "      <th></th>\n",
       "      <th></th>\n",
       "      <th></th>\n",
       "    </tr>\n",
       "  </thead>\n",
       "  <tbody>\n",
       "    <tr>\n",
       "      <th>2016-05-12 16:45:00</th>\n",
       "      <td>traffic-accident</td>\n",
       "      <td>traffic-accident</td>\n",
       "      <td>...</td>\n",
       "      <td>0</td>\n",
       "      <td>1</td>\n",
       "    </tr>\n",
       "    <tr>\n",
       "      <th>2016-05-12 16:45:00</th>\n",
       "      <td>traffic-accident</td>\n",
       "      <td>traffic-accident</td>\n",
       "      <td>...</td>\n",
       "      <td>0</td>\n",
       "      <td>1</td>\n",
       "    </tr>\n",
       "    <tr>\n",
       "      <th>2016-05-12 16:45:00</th>\n",
       "      <td>fraud-identity-theft</td>\n",
       "      <td>white-collar-crime</td>\n",
       "      <td>...</td>\n",
       "      <td>1</td>\n",
       "      <td>0</td>\n",
       "    </tr>\n",
       "  </tbody>\n",
       "</table>\n",
       "<p>3 rows × 7 columns</p>\n",
       "</div>"
      ],
      "text/plain": [
       "                          OFFENSE_TYPE_ID OFFENSE_CATEGORY_ID  ...  IS_CRIME  \\\n",
       "REPORTED_DATE                                                  ...             \n",
       "2016-05-12 16:45:00      traffic-accident    traffic-accident  ...         0   \n",
       "2016-05-12 16:45:00      traffic-accident    traffic-accident  ...         0   \n",
       "2016-05-12 16:45:00  fraud-identity-theft  white-collar-crime  ...         1   \n",
       "\n",
       "                     IS_TRAFFIC  \n",
       "REPORTED_DATE                    \n",
       "2016-05-12 16:45:00           1  \n",
       "2016-05-12 16:45:00           1  \n",
       "2016-05-12 16:45:00           0  \n",
       "\n",
       "[3 rows x 7 columns]"
      ]
     },
     "execution_count": 132,
     "metadata": {},
     "output_type": "execute_result"
    }
   ],
   "source": [
    "# As usual, it is possible to select all the rows \n",
    "# equal to a single index by passing that value to\n",
    "# the .loc attribute:\n",
    "crime.loc['2016-05-12 16:45:00']\n"
   ]
  },
  {
   "cell_type": "markdown",
   "id": "b9a5ffb1",
   "metadata": {},
   "source": [
    "With a Timestamp in the index, it is possible to select all rows that partially match\n",
    "an index value. For instance, if we wanted all the crimes from May 5, 2016, we would\n",
    "select it as follows:"
   ]
  },
  {
   "cell_type": "code",
   "execution_count": 144,
   "id": "3d0f917c",
   "metadata": {},
   "outputs": [
    {
     "data": {
      "text/html": [
       "<div>\n",
       "<style scoped>\n",
       "    .dataframe tbody tr th:only-of-type {\n",
       "        vertical-align: middle;\n",
       "    }\n",
       "\n",
       "    .dataframe tbody tr th {\n",
       "        vertical-align: top;\n",
       "    }\n",
       "\n",
       "    .dataframe thead th {\n",
       "        text-align: right;\n",
       "    }\n",
       "</style>\n",
       "<table border=\"1\" class=\"dataframe\">\n",
       "  <thead>\n",
       "    <tr style=\"text-align: right;\">\n",
       "      <th></th>\n",
       "      <th>OFFENSE_TYPE_ID</th>\n",
       "      <th>OFFENSE_CATEGORY_ID</th>\n",
       "      <th>...</th>\n",
       "      <th>IS_CRIME</th>\n",
       "      <th>IS_TRAFFIC</th>\n",
       "    </tr>\n",
       "    <tr>\n",
       "      <th>REPORTED_DATE</th>\n",
       "      <th></th>\n",
       "      <th></th>\n",
       "      <th></th>\n",
       "      <th></th>\n",
       "      <th></th>\n",
       "    </tr>\n",
       "  </thead>\n",
       "  <tbody>\n",
       "    <tr>\n",
       "      <th>2016-05-12 23:51:00</th>\n",
       "      <td>criminal-mischief-other</td>\n",
       "      <td>public-disorder</td>\n",
       "      <td>...</td>\n",
       "      <td>1</td>\n",
       "      <td>0</td>\n",
       "    </tr>\n",
       "    <tr>\n",
       "      <th>2016-05-12 18:40:00</th>\n",
       "      <td>liquor-possession</td>\n",
       "      <td>drug-alcohol</td>\n",
       "      <td>...</td>\n",
       "      <td>1</td>\n",
       "      <td>0</td>\n",
       "    </tr>\n",
       "    <tr>\n",
       "      <th>2016-05-12 22:26:00</th>\n",
       "      <td>traffic-accident</td>\n",
       "      <td>traffic-accident</td>\n",
       "      <td>...</td>\n",
       "      <td>0</td>\n",
       "      <td>1</td>\n",
       "    </tr>\n",
       "    <tr>\n",
       "      <th>2016-05-12 20:35:00</th>\n",
       "      <td>theft-bicycle</td>\n",
       "      <td>larceny</td>\n",
       "      <td>...</td>\n",
       "      <td>1</td>\n",
       "      <td>0</td>\n",
       "    </tr>\n",
       "    <tr>\n",
       "      <th>2016-05-12 09:39:00</th>\n",
       "      <td>theft-of-motor-vehicle</td>\n",
       "      <td>auto-theft</td>\n",
       "      <td>...</td>\n",
       "      <td>1</td>\n",
       "      <td>0</td>\n",
       "    </tr>\n",
       "    <tr>\n",
       "      <th>...</th>\n",
       "      <td>...</td>\n",
       "      <td>...</td>\n",
       "      <td>...</td>\n",
       "      <td>...</td>\n",
       "      <td>...</td>\n",
       "    </tr>\n",
       "    <tr>\n",
       "      <th>2016-05-12 17:55:00</th>\n",
       "      <td>public-peace-other</td>\n",
       "      <td>public-disorder</td>\n",
       "      <td>...</td>\n",
       "      <td>1</td>\n",
       "      <td>0</td>\n",
       "    </tr>\n",
       "    <tr>\n",
       "      <th>2016-05-12 19:24:00</th>\n",
       "      <td>threats-to-injure</td>\n",
       "      <td>public-disorder</td>\n",
       "      <td>...</td>\n",
       "      <td>1</td>\n",
       "      <td>0</td>\n",
       "    </tr>\n",
       "    <tr>\n",
       "      <th>2016-05-12 22:28:00</th>\n",
       "      <td>sex-aslt-rape</td>\n",
       "      <td>sexual-assault</td>\n",
       "      <td>...</td>\n",
       "      <td>1</td>\n",
       "      <td>0</td>\n",
       "    </tr>\n",
       "    <tr>\n",
       "      <th>2016-05-12 15:59:00</th>\n",
       "      <td>menacing-felony-w-weap</td>\n",
       "      <td>aggravated-assault</td>\n",
       "      <td>...</td>\n",
       "      <td>1</td>\n",
       "      <td>0</td>\n",
       "    </tr>\n",
       "    <tr>\n",
       "      <th>2016-05-12 16:39:00</th>\n",
       "      <td>assault-dv</td>\n",
       "      <td>other-crimes-against-persons</td>\n",
       "      <td>...</td>\n",
       "      <td>1</td>\n",
       "      <td>0</td>\n",
       "    </tr>\n",
       "  </tbody>\n",
       "</table>\n",
       "<p>243 rows × 7 columns</p>\n",
       "</div>"
      ],
      "text/plain": [
       "                             OFFENSE_TYPE_ID           OFFENSE_CATEGORY_ID  \\\n",
       "REPORTED_DATE                                                                \n",
       "2016-05-12 23:51:00  criminal-mischief-other               public-disorder   \n",
       "2016-05-12 18:40:00        liquor-possession                  drug-alcohol   \n",
       "2016-05-12 22:26:00         traffic-accident              traffic-accident   \n",
       "2016-05-12 20:35:00            theft-bicycle                       larceny   \n",
       "2016-05-12 09:39:00   theft-of-motor-vehicle                    auto-theft   \n",
       "...                                      ...                           ...   \n",
       "2016-05-12 17:55:00       public-peace-other               public-disorder   \n",
       "2016-05-12 19:24:00        threats-to-injure               public-disorder   \n",
       "2016-05-12 22:28:00            sex-aslt-rape                sexual-assault   \n",
       "2016-05-12 15:59:00   menacing-felony-w-weap            aggravated-assault   \n",
       "2016-05-12 16:39:00               assault-dv  other-crimes-against-persons   \n",
       "\n",
       "                     ...  IS_CRIME  IS_TRAFFIC  \n",
       "REPORTED_DATE        ...                        \n",
       "2016-05-12 23:51:00  ...         1           0  \n",
       "2016-05-12 18:40:00  ...         1           0  \n",
       "2016-05-12 22:26:00  ...         0           1  \n",
       "2016-05-12 20:35:00  ...         1           0  \n",
       "2016-05-12 09:39:00  ...         1           0  \n",
       "...                  ...       ...         ...  \n",
       "2016-05-12 17:55:00  ...         1           0  \n",
       "2016-05-12 19:24:00  ...         1           0  \n",
       "2016-05-12 22:28:00  ...         1           0  \n",
       "2016-05-12 15:59:00  ...         1           0  \n",
       "2016-05-12 16:39:00  ...         1           0  \n",
       "\n",
       "[243 rows x 7 columns]"
      ]
     },
     "execution_count": 144,
     "metadata": {},
     "output_type": "execute_result"
    }
   ],
   "source": [
    "crime.loc['2016-05-12']"
   ]
  },
  {
   "cell_type": "markdown",
   "id": "99990dbf",
   "metadata": {},
   "source": [
    "\n",
    "Not only can you select a single date inexactly, but you can do so for an entire month,\n",
    "year, or even hour of the day:"
   ]
  },
  {
   "cell_type": "code",
   "execution_count": 145,
   "id": "9f795533",
   "metadata": {},
   "outputs": [
    {
     "data": {
      "text/plain": [
       "(8012, 7)"
      ]
     },
     "execution_count": 145,
     "metadata": {},
     "output_type": "execute_result"
    }
   ],
   "source": [
    "crime.loc['2016-05'].shape"
   ]
  },
  {
   "cell_type": "code",
   "execution_count": 146,
   "id": "dd76b218",
   "metadata": {
    "scrolled": true
   },
   "outputs": [
    {
     "data": {
      "text/plain": [
       "(4, 7)"
      ]
     },
     "execution_count": 146,
     "metadata": {},
     "output_type": "execute_result"
    }
   ],
   "source": [
    "crime.loc['2016-05-12 03'].shape"
   ]
  },
  {
   "cell_type": "markdown",
   "id": "f74a0f6e",
   "metadata": {},
   "source": [
    "The selection strings may also contain the name of the month:"
   ]
  },
  {
   "cell_type": "code",
   "execution_count": 147,
   "id": "0b771fee",
   "metadata": {
    "scrolled": true
   },
   "outputs": [
    {
     "data": {
      "text/html": [
       "<div>\n",
       "<style scoped>\n",
       "    .dataframe tbody tr th:only-of-type {\n",
       "        vertical-align: middle;\n",
       "    }\n",
       "\n",
       "    .dataframe tbody tr th {\n",
       "        vertical-align: top;\n",
       "    }\n",
       "\n",
       "    .dataframe thead th {\n",
       "        text-align: right;\n",
       "    }\n",
       "</style>\n",
       "<table border=\"1\" class=\"dataframe\">\n",
       "  <thead>\n",
       "    <tr style=\"text-align: right;\">\n",
       "      <th></th>\n",
       "      <th>OFFENSE_TYPE_ID</th>\n",
       "      <th>OFFENSE_CATEGORY_ID</th>\n",
       "      <th>...</th>\n",
       "      <th>IS_CRIME</th>\n",
       "      <th>IS_TRAFFIC</th>\n",
       "    </tr>\n",
       "    <tr>\n",
       "      <th>REPORTED_DATE</th>\n",
       "      <th></th>\n",
       "      <th></th>\n",
       "      <th></th>\n",
       "      <th></th>\n",
       "      <th></th>\n",
       "    </tr>\n",
       "  </thead>\n",
       "  <tbody>\n",
       "    <tr>\n",
       "      <th>2015-12-01 00:48:00</th>\n",
       "      <td>drug-cocaine-possess</td>\n",
       "      <td>drug-alcohol</td>\n",
       "      <td>...</td>\n",
       "      <td>1</td>\n",
       "      <td>0</td>\n",
       "    </tr>\n",
       "    <tr>\n",
       "      <th>2015-12-01 00:48:00</th>\n",
       "      <td>theft-of-motor-vehicle</td>\n",
       "      <td>auto-theft</td>\n",
       "      <td>...</td>\n",
       "      <td>1</td>\n",
       "      <td>0</td>\n",
       "    </tr>\n",
       "    <tr>\n",
       "      <th>2015-12-01 01:00:00</th>\n",
       "      <td>criminal-mischief-other</td>\n",
       "      <td>public-disorder</td>\n",
       "      <td>...</td>\n",
       "      <td>1</td>\n",
       "      <td>0</td>\n",
       "    </tr>\n",
       "    <tr>\n",
       "      <th>2015-12-01 01:10:00</th>\n",
       "      <td>traf-other</td>\n",
       "      <td>all-other-crimes</td>\n",
       "      <td>...</td>\n",
       "      <td>1</td>\n",
       "      <td>0</td>\n",
       "    </tr>\n",
       "    <tr>\n",
       "      <th>2015-12-01 01:10:00</th>\n",
       "      <td>traf-habitual-offender</td>\n",
       "      <td>all-other-crimes</td>\n",
       "      <td>...</td>\n",
       "      <td>1</td>\n",
       "      <td>0</td>\n",
       "    </tr>\n",
       "    <tr>\n",
       "      <th>...</th>\n",
       "      <td>...</td>\n",
       "      <td>...</td>\n",
       "      <td>...</td>\n",
       "      <td>...</td>\n",
       "      <td>...</td>\n",
       "    </tr>\n",
       "    <tr>\n",
       "      <th>2015-12-31 23:35:00</th>\n",
       "      <td>drug-cocaine-possess</td>\n",
       "      <td>drug-alcohol</td>\n",
       "      <td>...</td>\n",
       "      <td>1</td>\n",
       "      <td>0</td>\n",
       "    </tr>\n",
       "    <tr>\n",
       "      <th>2015-12-31 23:40:00</th>\n",
       "      <td>traffic-accident</td>\n",
       "      <td>traffic-accident</td>\n",
       "      <td>...</td>\n",
       "      <td>0</td>\n",
       "      <td>1</td>\n",
       "    </tr>\n",
       "    <tr>\n",
       "      <th>2015-12-31 23:44:00</th>\n",
       "      <td>drug-cocaine-possess</td>\n",
       "      <td>drug-alcohol</td>\n",
       "      <td>...</td>\n",
       "      <td>1</td>\n",
       "      <td>0</td>\n",
       "    </tr>\n",
       "    <tr>\n",
       "      <th>2015-12-31 23:45:00</th>\n",
       "      <td>violation-of-restraining-order</td>\n",
       "      <td>all-other-crimes</td>\n",
       "      <td>...</td>\n",
       "      <td>1</td>\n",
       "      <td>0</td>\n",
       "    </tr>\n",
       "    <tr>\n",
       "      <th>2015-12-31 23:50:00</th>\n",
       "      <td>weapon-poss-illegal-dangerous</td>\n",
       "      <td>all-other-crimes</td>\n",
       "      <td>...</td>\n",
       "      <td>1</td>\n",
       "      <td>0</td>\n",
       "    </tr>\n",
       "  </tbody>\n",
       "</table>\n",
       "<p>6907 rows × 7 columns</p>\n",
       "</div>"
      ],
      "text/plain": [
       "                                    OFFENSE_TYPE_ID OFFENSE_CATEGORY_ID  ...  \\\n",
       "REPORTED_DATE                                                            ...   \n",
       "2015-12-01 00:48:00            drug-cocaine-possess        drug-alcohol  ...   \n",
       "2015-12-01 00:48:00          theft-of-motor-vehicle          auto-theft  ...   \n",
       "2015-12-01 01:00:00         criminal-mischief-other     public-disorder  ...   \n",
       "2015-12-01 01:10:00                      traf-other    all-other-crimes  ...   \n",
       "2015-12-01 01:10:00          traf-habitual-offender    all-other-crimes  ...   \n",
       "...                                             ...                 ...  ...   \n",
       "2015-12-31 23:35:00            drug-cocaine-possess        drug-alcohol  ...   \n",
       "2015-12-31 23:40:00                traffic-accident    traffic-accident  ...   \n",
       "2015-12-31 23:44:00            drug-cocaine-possess        drug-alcohol  ...   \n",
       "2015-12-31 23:45:00  violation-of-restraining-order    all-other-crimes  ...   \n",
       "2015-12-31 23:50:00   weapon-poss-illegal-dangerous    all-other-crimes  ...   \n",
       "\n",
       "                     IS_CRIME  IS_TRAFFIC  \n",
       "REPORTED_DATE                              \n",
       "2015-12-01 00:48:00         1           0  \n",
       "2015-12-01 00:48:00         1           0  \n",
       "2015-12-01 01:00:00         1           0  \n",
       "2015-12-01 01:10:00         1           0  \n",
       "2015-12-01 01:10:00         1           0  \n",
       "...                       ...         ...  \n",
       "2015-12-31 23:35:00         1           0  \n",
       "2015-12-31 23:40:00         0           1  \n",
       "2015-12-31 23:44:00         1           0  \n",
       "2015-12-31 23:45:00         1           0  \n",
       "2015-12-31 23:50:00         1           0  \n",
       "\n",
       "[6907 rows x 7 columns]"
      ]
     },
     "execution_count": 147,
     "metadata": {},
     "output_type": "execute_result"
    }
   ],
   "source": [
    "crime.loc['Dec 2015'].sort_index()"
   ]
  },
  {
   "cell_type": "code",
   "execution_count": 148,
   "id": "a3d96d11",
   "metadata": {},
   "outputs": [
    {
     "data": {
      "text/plain": [
       "(252, 7)"
      ]
     },
     "execution_count": 148,
     "metadata": {},
     "output_type": "execute_result"
    }
   ],
   "source": [
    "# Many other string patterns with month name\n",
    "# included also work:\n",
    "\n",
    "crime.loc['2016 Sep, 15'].shape"
   ]
  },
  {
   "cell_type": "code",
   "execution_count": 149,
   "id": "676cb092",
   "metadata": {
    "scrolled": true
   },
   "outputs": [
    {
     "data": {
      "text/plain": [
       "(4, 7)"
      ]
     },
     "execution_count": 149,
     "metadata": {},
     "output_type": "execute_result"
    }
   ],
   "source": [
    "crime.loc['21st October 2014 05'].shape"
   ]
  },
  {
   "cell_type": "markdown",
   "id": "b8bf35da",
   "metadata": {},
   "source": [
    "In addition to selection, you may use the slice notation to select a precise range of\n",
    "data. This example will include all values starting from March 4, 2015 through the\n",
    "end of January 1, 2016:"
   ]
  },
  {
   "cell_type": "code",
   "execution_count": 150,
   "id": "34fc6f54",
   "metadata": {
    "scrolled": true
   },
   "outputs": [
    {
     "name": "stderr",
     "output_type": "stream",
     "text": [
      "C:\\Users\\JUSTIN~1.O_K\\AppData\\Local\\Temp/ipykernel_17524/929735105.py:1: FutureWarning: Value based partial slicing on non-monotonic DatetimeIndexes with non-existing keys is deprecated and will raise a KeyError in a future Version.\n",
      "  crime.loc['2015-3-4':'2016-1-1'].sort_index()\n"
     ]
    },
    {
     "data": {
      "text/html": [
       "<div>\n",
       "<style scoped>\n",
       "    .dataframe tbody tr th:only-of-type {\n",
       "        vertical-align: middle;\n",
       "    }\n",
       "\n",
       "    .dataframe tbody tr th {\n",
       "        vertical-align: top;\n",
       "    }\n",
       "\n",
       "    .dataframe thead th {\n",
       "        text-align: right;\n",
       "    }\n",
       "</style>\n",
       "<table border=\"1\" class=\"dataframe\">\n",
       "  <thead>\n",
       "    <tr style=\"text-align: right;\">\n",
       "      <th></th>\n",
       "      <th>OFFENSE_TYPE_ID</th>\n",
       "      <th>OFFENSE_CATEGORY_ID</th>\n",
       "      <th>...</th>\n",
       "      <th>IS_CRIME</th>\n",
       "      <th>IS_TRAFFIC</th>\n",
       "    </tr>\n",
       "    <tr>\n",
       "      <th>REPORTED_DATE</th>\n",
       "      <th></th>\n",
       "      <th></th>\n",
       "      <th></th>\n",
       "      <th></th>\n",
       "      <th></th>\n",
       "    </tr>\n",
       "  </thead>\n",
       "  <tbody>\n",
       "    <tr>\n",
       "      <th>2015-03-04 00:11:00</th>\n",
       "      <td>assault-dv</td>\n",
       "      <td>other-crimes-against-persons</td>\n",
       "      <td>...</td>\n",
       "      <td>1</td>\n",
       "      <td>0</td>\n",
       "    </tr>\n",
       "    <tr>\n",
       "      <th>2015-03-04 00:19:00</th>\n",
       "      <td>assault-dv</td>\n",
       "      <td>other-crimes-against-persons</td>\n",
       "      <td>...</td>\n",
       "      <td>1</td>\n",
       "      <td>0</td>\n",
       "    </tr>\n",
       "    <tr>\n",
       "      <th>2015-03-04 00:27:00</th>\n",
       "      <td>theft-of-services</td>\n",
       "      <td>larceny</td>\n",
       "      <td>...</td>\n",
       "      <td>1</td>\n",
       "      <td>0</td>\n",
       "    </tr>\n",
       "    <tr>\n",
       "      <th>2015-03-04 00:49:00</th>\n",
       "      <td>traffic-accident-hit-and-run</td>\n",
       "      <td>traffic-accident</td>\n",
       "      <td>...</td>\n",
       "      <td>0</td>\n",
       "      <td>1</td>\n",
       "    </tr>\n",
       "    <tr>\n",
       "      <th>2015-03-04 01:07:00</th>\n",
       "      <td>burglary-business-no-force</td>\n",
       "      <td>burglary</td>\n",
       "      <td>...</td>\n",
       "      <td>1</td>\n",
       "      <td>0</td>\n",
       "    </tr>\n",
       "    <tr>\n",
       "      <th>...</th>\n",
       "      <td>...</td>\n",
       "      <td>...</td>\n",
       "      <td>...</td>\n",
       "      <td>...</td>\n",
       "      <td>...</td>\n",
       "    </tr>\n",
       "    <tr>\n",
       "      <th>2016-01-01 23:15:00</th>\n",
       "      <td>traffic-accident-hit-and-run</td>\n",
       "      <td>traffic-accident</td>\n",
       "      <td>...</td>\n",
       "      <td>0</td>\n",
       "      <td>1</td>\n",
       "    </tr>\n",
       "    <tr>\n",
       "      <th>2016-01-01 23:16:00</th>\n",
       "      <td>traffic-accident</td>\n",
       "      <td>traffic-accident</td>\n",
       "      <td>...</td>\n",
       "      <td>0</td>\n",
       "      <td>1</td>\n",
       "    </tr>\n",
       "    <tr>\n",
       "      <th>2016-01-01 23:40:00</th>\n",
       "      <td>robbery-business</td>\n",
       "      <td>robbery</td>\n",
       "      <td>...</td>\n",
       "      <td>1</td>\n",
       "      <td>0</td>\n",
       "    </tr>\n",
       "    <tr>\n",
       "      <th>2016-01-01 23:45:00</th>\n",
       "      <td>drug-cocaine-possess</td>\n",
       "      <td>drug-alcohol</td>\n",
       "      <td>...</td>\n",
       "      <td>1</td>\n",
       "      <td>0</td>\n",
       "    </tr>\n",
       "    <tr>\n",
       "      <th>2016-01-01 23:48:00</th>\n",
       "      <td>drug-poss-paraphernalia</td>\n",
       "      <td>drug-alcohol</td>\n",
       "      <td>...</td>\n",
       "      <td>1</td>\n",
       "      <td>0</td>\n",
       "    </tr>\n",
       "  </tbody>\n",
       "</table>\n",
       "<p>75403 rows × 7 columns</p>\n",
       "</div>"
      ],
      "text/plain": [
       "                                  OFFENSE_TYPE_ID  \\\n",
       "REPORTED_DATE                                       \n",
       "2015-03-04 00:11:00                    assault-dv   \n",
       "2015-03-04 00:19:00                    assault-dv   \n",
       "2015-03-04 00:27:00             theft-of-services   \n",
       "2015-03-04 00:49:00  traffic-accident-hit-and-run   \n",
       "2015-03-04 01:07:00    burglary-business-no-force   \n",
       "...                                           ...   \n",
       "2016-01-01 23:15:00  traffic-accident-hit-and-run   \n",
       "2016-01-01 23:16:00              traffic-accident   \n",
       "2016-01-01 23:40:00              robbery-business   \n",
       "2016-01-01 23:45:00          drug-cocaine-possess   \n",
       "2016-01-01 23:48:00       drug-poss-paraphernalia   \n",
       "\n",
       "                              OFFENSE_CATEGORY_ID  ...  IS_CRIME  IS_TRAFFIC  \n",
       "REPORTED_DATE                                      ...                        \n",
       "2015-03-04 00:11:00  other-crimes-against-persons  ...         1           0  \n",
       "2015-03-04 00:19:00  other-crimes-against-persons  ...         1           0  \n",
       "2015-03-04 00:27:00                       larceny  ...         1           0  \n",
       "2015-03-04 00:49:00              traffic-accident  ...         0           1  \n",
       "2015-03-04 01:07:00                      burglary  ...         1           0  \n",
       "...                                           ...  ...       ...         ...  \n",
       "2016-01-01 23:15:00              traffic-accident  ...         0           1  \n",
       "2016-01-01 23:16:00              traffic-accident  ...         0           1  \n",
       "2016-01-01 23:40:00                       robbery  ...         1           0  \n",
       "2016-01-01 23:45:00                  drug-alcohol  ...         1           0  \n",
       "2016-01-01 23:48:00                  drug-alcohol  ...         1           0  \n",
       "\n",
       "[75403 rows x 7 columns]"
      ]
     },
     "execution_count": 150,
     "metadata": {},
     "output_type": "execute_result"
    }
   ],
   "source": [
    "crime.loc['2015-3-4':'2016-1-1'].sort_index()"
   ]
  },
  {
   "cell_type": "markdown",
   "id": "f535b6b1",
   "metadata": {},
   "source": [
    "Notice that all crimes committed on the end date regardless of the time are included\n",
    "in the returned result. This is true for any result using the label-based .loc attribute.\n",
    "You can provide as much precision (or lack thereof) to any start or end portion of the\n",
    "slice:"
   ]
  },
  {
   "cell_type": "code",
   "execution_count": 151,
   "id": "1d694a8a",
   "metadata": {
    "scrolled": true
   },
   "outputs": [
    {
     "name": "stderr",
     "output_type": "stream",
     "text": [
      "C:\\Users\\JUSTIN~1.O_K\\AppData\\Local\\Temp/ipykernel_17524/3926182107.py:1: FutureWarning: Value based partial slicing on non-monotonic DatetimeIndexes with non-existing keys is deprecated and will raise a KeyError in a future Version.\n",
      "  (crime\n"
     ]
    },
    {
     "data": {
      "text/html": [
       "<div>\n",
       "<style scoped>\n",
       "    .dataframe tbody tr th:only-of-type {\n",
       "        vertical-align: middle;\n",
       "    }\n",
       "\n",
       "    .dataframe tbody tr th {\n",
       "        vertical-align: top;\n",
       "    }\n",
       "\n",
       "    .dataframe thead th {\n",
       "        text-align: right;\n",
       "    }\n",
       "</style>\n",
       "<table border=\"1\" class=\"dataframe\">\n",
       "  <thead>\n",
       "    <tr style=\"text-align: right;\">\n",
       "      <th></th>\n",
       "      <th>OFFENSE_TYPE_ID</th>\n",
       "      <th>OFFENSE_CATEGORY_ID</th>\n",
       "      <th>...</th>\n",
       "      <th>IS_CRIME</th>\n",
       "      <th>IS_TRAFFIC</th>\n",
       "    </tr>\n",
       "    <tr>\n",
       "      <th>REPORTED_DATE</th>\n",
       "      <th></th>\n",
       "      <th></th>\n",
       "      <th></th>\n",
       "      <th></th>\n",
       "      <th></th>\n",
       "    </tr>\n",
       "  </thead>\n",
       "  <tbody>\n",
       "    <tr>\n",
       "      <th>2015-03-04 22:25:00</th>\n",
       "      <td>traffic-accident-hit-and-run</td>\n",
       "      <td>traffic-accident</td>\n",
       "      <td>...</td>\n",
       "      <td>0</td>\n",
       "      <td>1</td>\n",
       "    </tr>\n",
       "    <tr>\n",
       "      <th>2015-03-04 22:30:00</th>\n",
       "      <td>traffic-accident</td>\n",
       "      <td>traffic-accident</td>\n",
       "      <td>...</td>\n",
       "      <td>0</td>\n",
       "      <td>1</td>\n",
       "    </tr>\n",
       "    <tr>\n",
       "      <th>2015-03-04 22:32:00</th>\n",
       "      <td>traffic-accident-hit-and-run</td>\n",
       "      <td>traffic-accident</td>\n",
       "      <td>...</td>\n",
       "      <td>0</td>\n",
       "      <td>1</td>\n",
       "    </tr>\n",
       "    <tr>\n",
       "      <th>2015-03-04 22:33:00</th>\n",
       "      <td>traffic-accident-hit-and-run</td>\n",
       "      <td>traffic-accident</td>\n",
       "      <td>...</td>\n",
       "      <td>0</td>\n",
       "      <td>1</td>\n",
       "    </tr>\n",
       "    <tr>\n",
       "      <th>2015-03-04 22:36:00</th>\n",
       "      <td>theft-unauth-use-of-ftd</td>\n",
       "      <td>white-collar-crime</td>\n",
       "      <td>...</td>\n",
       "      <td>1</td>\n",
       "      <td>0</td>\n",
       "    </tr>\n",
       "    <tr>\n",
       "      <th>...</th>\n",
       "      <td>...</td>\n",
       "      <td>...</td>\n",
       "      <td>...</td>\n",
       "      <td>...</td>\n",
       "      <td>...</td>\n",
       "    </tr>\n",
       "    <tr>\n",
       "      <th>2016-01-01 11:10:00</th>\n",
       "      <td>theft-of-motor-vehicle</td>\n",
       "      <td>auto-theft</td>\n",
       "      <td>...</td>\n",
       "      <td>1</td>\n",
       "      <td>0</td>\n",
       "    </tr>\n",
       "    <tr>\n",
       "      <th>2016-01-01 11:11:00</th>\n",
       "      <td>traffic-accident</td>\n",
       "      <td>traffic-accident</td>\n",
       "      <td>...</td>\n",
       "      <td>0</td>\n",
       "      <td>1</td>\n",
       "    </tr>\n",
       "    <tr>\n",
       "      <th>2016-01-01 11:11:00</th>\n",
       "      <td>traffic-accident-hit-and-run</td>\n",
       "      <td>traffic-accident</td>\n",
       "      <td>...</td>\n",
       "      <td>0</td>\n",
       "      <td>1</td>\n",
       "    </tr>\n",
       "    <tr>\n",
       "      <th>2016-01-01 11:16:00</th>\n",
       "      <td>traf-other</td>\n",
       "      <td>all-other-crimes</td>\n",
       "      <td>...</td>\n",
       "      <td>1</td>\n",
       "      <td>0</td>\n",
       "    </tr>\n",
       "    <tr>\n",
       "      <th>2016-01-01 11:22:00</th>\n",
       "      <td>traffic-accident</td>\n",
       "      <td>traffic-accident</td>\n",
       "      <td>...</td>\n",
       "      <td>0</td>\n",
       "      <td>1</td>\n",
       "    </tr>\n",
       "  </tbody>\n",
       "</table>\n",
       "<p>75071 rows × 7 columns</p>\n",
       "</div>"
      ],
      "text/plain": [
       "                                  OFFENSE_TYPE_ID OFFENSE_CATEGORY_ID  ...  \\\n",
       "REPORTED_DATE                                                          ...   \n",
       "2015-03-04 22:25:00  traffic-accident-hit-and-run    traffic-accident  ...   \n",
       "2015-03-04 22:30:00              traffic-accident    traffic-accident  ...   \n",
       "2015-03-04 22:32:00  traffic-accident-hit-and-run    traffic-accident  ...   \n",
       "2015-03-04 22:33:00  traffic-accident-hit-and-run    traffic-accident  ...   \n",
       "2015-03-04 22:36:00       theft-unauth-use-of-ftd  white-collar-crime  ...   \n",
       "...                                           ...                 ...  ...   \n",
       "2016-01-01 11:10:00        theft-of-motor-vehicle          auto-theft  ...   \n",
       "2016-01-01 11:11:00              traffic-accident    traffic-accident  ...   \n",
       "2016-01-01 11:11:00  traffic-accident-hit-and-run    traffic-accident  ...   \n",
       "2016-01-01 11:16:00                    traf-other    all-other-crimes  ...   \n",
       "2016-01-01 11:22:00              traffic-accident    traffic-accident  ...   \n",
       "\n",
       "                     IS_CRIME  IS_TRAFFIC  \n",
       "REPORTED_DATE                              \n",
       "2015-03-04 22:25:00         0           1  \n",
       "2015-03-04 22:30:00         0           1  \n",
       "2015-03-04 22:32:00         0           1  \n",
       "2015-03-04 22:33:00         0           1  \n",
       "2015-03-04 22:36:00         1           0  \n",
       "...                       ...         ...  \n",
       "2016-01-01 11:10:00         1           0  \n",
       "2016-01-01 11:11:00         0           1  \n",
       "2016-01-01 11:11:00         0           1  \n",
       "2016-01-01 11:16:00         1           0  \n",
       "2016-01-01 11:22:00         0           1  \n",
       "\n",
       "[75071 rows x 7 columns]"
      ]
     },
     "execution_count": 151,
     "metadata": {},
     "output_type": "execute_result"
    }
   ],
   "source": [
    "(crime\n",
    ".loc['2015-3-4 22':'2016-1-1 11:22:00']\n",
    " .sort_index()\n",
    ")"
   ]
  },
  {
   "cell_type": "markdown",
   "id": "c0fdce3c",
   "metadata": {},
   "source": [
    "Our original crimes DataFrame was not sorted and slicing still worked as expected. Sorting the\n",
    "index will lead to large gains in performance. Let's see the difference with slicing done from\n",
    "step 8:"
   ]
  },
  {
   "cell_type": "code",
   "execution_count": 159,
   "id": "9ea585c7",
   "metadata": {},
   "outputs": [
    {
     "name": "stderr",
     "output_type": "stream",
     "text": [
      "<magic-timeit>:1: FutureWarning: Value based partial slicing on non-monotonic DatetimeIndexes with non-existing keys is deprecated and will raise a KeyError in a future Version.\n"
     ]
    },
    {
     "name": "stdout",
     "output_type": "stream",
     "text": [
      "12.3 ms ± 610 µs per loop (mean ± std. dev. of 7 runs, 100 loops each)\n"
     ]
    }
   ],
   "source": [
    "%timeit  crime.loc['2015-3-4': '2016-1-1']"
   ]
  },
  {
   "cell_type": "code",
   "execution_count": 154,
   "id": "da429c8c",
   "metadata": {},
   "outputs": [],
   "source": [
    "crime_sort = crime.sort_index()"
   ]
  },
  {
   "cell_type": "code",
   "execution_count": 158,
   "id": "c718feeb",
   "metadata": {},
   "outputs": [
    {
     "name": "stdout",
     "output_type": "stream",
     "text": [
      "1.58 ms ± 244 µs per loop (mean ± std. dev. of 7 runs, 100 loops each)\n"
     ]
    }
   ],
   "source": [
    "%timeit crime_sort.loc['2015-3-4': '2016-1-1']"
   ]
  },
  {
   "cell_type": "markdown",
   "id": "3fcd39c2",
   "metadata": {},
   "source": [
    "## Filtering columns with time data"
   ]
  },
  {
   "cell_type": "code",
   "execution_count": 91,
   "id": "b487ead8",
   "metadata": {},
   "outputs": [
    {
     "data": {
      "text/plain": [
       "OFFENSE_TYPE_ID              category\n",
       "OFFENSE_CATEGORY_ID          category\n",
       "REPORTED_DATE          datetime64[ns]\n",
       "GEO_LON                       float64\n",
       "GEO_LAT                       float64\n",
       "NEIGHBORHOOD_ID              category\n",
       "IS_CRIME                        int64\n",
       "IS_TRAFFIC                      int64\n",
       "dtype: object"
      ]
     },
     "execution_count": 91,
     "metadata": {},
     "output_type": "execute_result"
    }
   ],
   "source": [
    "crime.dtypes"
   ]
  },
  {
   "cell_type": "markdown",
   "id": "df863c7b",
   "metadata": {},
   "source": [
    "2. Select all the rows where the REPORTED_DATE column has a certain value. We will\n",
    "use a Boolean array to filter. Note, that we can compare the a datetime column to\n",
    "a string:"
   ]
  },
  {
   "cell_type": "code",
   "execution_count": 93,
   "id": "0023901f",
   "metadata": {},
   "outputs": [
    {
     "data": {
      "text/html": [
       "<div>\n",
       "<style scoped>\n",
       "    .dataframe tbody tr th:only-of-type {\n",
       "        vertical-align: middle;\n",
       "    }\n",
       "\n",
       "    .dataframe tbody tr th {\n",
       "        vertical-align: top;\n",
       "    }\n",
       "\n",
       "    .dataframe thead th {\n",
       "        text-align: right;\n",
       "    }\n",
       "</style>\n",
       "<table border=\"1\" class=\"dataframe\">\n",
       "  <thead>\n",
       "    <tr style=\"text-align: right;\">\n",
       "      <th></th>\n",
       "      <th>OFFENSE_TYPE_ID</th>\n",
       "      <th>OFFENSE_CATEGORY_ID</th>\n",
       "      <th>...</th>\n",
       "      <th>IS_CRIME</th>\n",
       "      <th>IS_TRAFFIC</th>\n",
       "    </tr>\n",
       "  </thead>\n",
       "  <tbody>\n",
       "    <tr>\n",
       "      <th>300905</th>\n",
       "      <td>traffic-accident</td>\n",
       "      <td>traffic-accident</td>\n",
       "      <td>...</td>\n",
       "      <td>0</td>\n",
       "      <td>1</td>\n",
       "    </tr>\n",
       "    <tr>\n",
       "      <th>302354</th>\n",
       "      <td>traffic-accident</td>\n",
       "      <td>traffic-accident</td>\n",
       "      <td>...</td>\n",
       "      <td>0</td>\n",
       "      <td>1</td>\n",
       "    </tr>\n",
       "    <tr>\n",
       "      <th>302373</th>\n",
       "      <td>fraud-identity-theft</td>\n",
       "      <td>white-collar-crime</td>\n",
       "      <td>...</td>\n",
       "      <td>1</td>\n",
       "      <td>0</td>\n",
       "    </tr>\n",
       "  </tbody>\n",
       "</table>\n",
       "<p>3 rows × 8 columns</p>\n",
       "</div>"
      ],
      "text/plain": [
       "             OFFENSE_TYPE_ID OFFENSE_CATEGORY_ID  ... IS_CRIME  IS_TRAFFIC\n",
       "300905      traffic-accident    traffic-accident  ...        0           1\n",
       "302354      traffic-accident    traffic-accident  ...        0           1\n",
       "302373  fraud-identity-theft  white-collar-crime  ...        1           0\n",
       "\n",
       "[3 rows x 8 columns]"
      ]
     },
     "execution_count": 93,
     "metadata": {},
     "output_type": "execute_result"
    }
   ],
   "source": [
    "(crime\n",
    "    [crime.REPORTED_DATE == '2016-05-12 16:45:00']\n",
    ")"
   ]
  },
  {
   "cell_type": "markdown",
   "id": "e1b10a05",
   "metadata": {},
   "source": [
    "3. Select all rows with a partial date match. If we try this with the equality operator,\n",
    "it fails. We do not get an error, but there are no rows returned:"
   ]
  },
  {
   "cell_type": "code",
   "execution_count": 94,
   "id": "52d93dac",
   "metadata": {},
   "outputs": [
    {
     "data": {
      "text/html": [
       "<div>\n",
       "<style scoped>\n",
       "    .dataframe tbody tr th:only-of-type {\n",
       "        vertical-align: middle;\n",
       "    }\n",
       "\n",
       "    .dataframe tbody tr th {\n",
       "        vertical-align: top;\n",
       "    }\n",
       "\n",
       "    .dataframe thead th {\n",
       "        text-align: right;\n",
       "    }\n",
       "</style>\n",
       "<table border=\"1\" class=\"dataframe\">\n",
       "  <thead>\n",
       "    <tr style=\"text-align: right;\">\n",
       "      <th></th>\n",
       "      <th>OFFENSE_TYPE_ID</th>\n",
       "      <th>OFFENSE_CATEGORY_ID</th>\n",
       "      <th>...</th>\n",
       "      <th>IS_CRIME</th>\n",
       "      <th>IS_TRAFFIC</th>\n",
       "    </tr>\n",
       "  </thead>\n",
       "  <tbody>\n",
       "  </tbody>\n",
       "</table>\n",
       "<p>0 rows × 8 columns</p>\n",
       "</div>"
      ],
      "text/plain": [
       "Empty DataFrame\n",
       "Columns: [OFFENSE_TYPE_ID, OFFENSE_CATEGORY_ID, REPORTED_DATE, GEO_LON, GEO_LAT, NEIGHBORHOOD_ID, IS_CRIME, IS_TRAFFIC]\n",
       "Index: []\n",
       "\n",
       "[0 rows x 8 columns]"
      ]
     },
     "execution_count": 94,
     "metadata": {},
     "output_type": "execute_result"
    }
   ],
   "source": [
    "(crime\n",
    "    [crime.REPORTED_DATE == '2016-05-12']\n",
    ")"
   ]
  },
  {
   "cell_type": "markdown",
   "id": "0e064a1a",
   "metadata": {},
   "source": [
    "This also fails if we try and compare to the .dt.date attribute. That is because\n",
    "this is a series of Python datetime.date objects, and they do not support that\n",
    "comparison:"
   ]
  },
  {
   "cell_type": "code",
   "execution_count": 95,
   "id": "22d50cd7",
   "metadata": {},
   "outputs": [
    {
     "data": {
      "text/html": [
       "<div>\n",
       "<style scoped>\n",
       "    .dataframe tbody tr th:only-of-type {\n",
       "        vertical-align: middle;\n",
       "    }\n",
       "\n",
       "    .dataframe tbody tr th {\n",
       "        vertical-align: top;\n",
       "    }\n",
       "\n",
       "    .dataframe thead th {\n",
       "        text-align: right;\n",
       "    }\n",
       "</style>\n",
       "<table border=\"1\" class=\"dataframe\">\n",
       "  <thead>\n",
       "    <tr style=\"text-align: right;\">\n",
       "      <th></th>\n",
       "      <th>OFFENSE_TYPE_ID</th>\n",
       "      <th>OFFENSE_CATEGORY_ID</th>\n",
       "      <th>...</th>\n",
       "      <th>IS_CRIME</th>\n",
       "      <th>IS_TRAFFIC</th>\n",
       "    </tr>\n",
       "  </thead>\n",
       "  <tbody>\n",
       "  </tbody>\n",
       "</table>\n",
       "<p>0 rows × 8 columns</p>\n",
       "</div>"
      ],
      "text/plain": [
       "Empty DataFrame\n",
       "Columns: [OFFENSE_TYPE_ID, OFFENSE_CATEGORY_ID, REPORTED_DATE, GEO_LON, GEO_LAT, NEIGHBORHOOD_ID, IS_CRIME, IS_TRAFFIC]\n",
       "Index: []\n",
       "\n",
       "[0 rows x 8 columns]"
      ]
     },
     "execution_count": 95,
     "metadata": {},
     "output_type": "execute_result"
    }
   ],
   "source": [
    "(crime\n",
    "    [crime.REPORTED_DATE.dt.date == '2016-05-12']\n",
    ")"
   ]
  },
  {
   "cell_type": "markdown",
   "id": "1f41e7b9",
   "metadata": {},
   "source": [
    "If we want a partial date match, we can use the .between method, which supports\n",
    "partial date strings. Note that the start and end dates (the parameter names are\n",
    "left and right respectively) are inclusive by default. If there were a row with\n",
    "a date on midnight May 13, 2016, it would be included here:"
   ]
  },
  {
   "cell_type": "code",
   "execution_count": 96,
   "id": "aa28c779",
   "metadata": {},
   "outputs": [
    {
     "data": {
      "text/html": [
       "<div>\n",
       "<style scoped>\n",
       "    .dataframe tbody tr th:only-of-type {\n",
       "        vertical-align: middle;\n",
       "    }\n",
       "\n",
       "    .dataframe tbody tr th {\n",
       "        vertical-align: top;\n",
       "    }\n",
       "\n",
       "    .dataframe thead th {\n",
       "        text-align: right;\n",
       "    }\n",
       "</style>\n",
       "<table border=\"1\" class=\"dataframe\">\n",
       "  <thead>\n",
       "    <tr style=\"text-align: right;\">\n",
       "      <th></th>\n",
       "      <th>OFFENSE_TYPE_ID</th>\n",
       "      <th>OFFENSE_CATEGORY_ID</th>\n",
       "      <th>...</th>\n",
       "      <th>IS_CRIME</th>\n",
       "      <th>IS_TRAFFIC</th>\n",
       "    </tr>\n",
       "  </thead>\n",
       "  <tbody>\n",
       "    <tr>\n",
       "      <th>295715</th>\n",
       "      <td>criminal-mischief-other</td>\n",
       "      <td>public-disorder</td>\n",
       "      <td>...</td>\n",
       "      <td>1</td>\n",
       "      <td>0</td>\n",
       "    </tr>\n",
       "    <tr>\n",
       "      <th>296474</th>\n",
       "      <td>liquor-possession</td>\n",
       "      <td>drug-alcohol</td>\n",
       "      <td>...</td>\n",
       "      <td>1</td>\n",
       "      <td>0</td>\n",
       "    </tr>\n",
       "    <tr>\n",
       "      <th>297204</th>\n",
       "      <td>traffic-accident</td>\n",
       "      <td>traffic-accident</td>\n",
       "      <td>...</td>\n",
       "      <td>0</td>\n",
       "      <td>1</td>\n",
       "    </tr>\n",
       "    <tr>\n",
       "      <th>299383</th>\n",
       "      <td>theft-bicycle</td>\n",
       "      <td>larceny</td>\n",
       "      <td>...</td>\n",
       "      <td>1</td>\n",
       "      <td>0</td>\n",
       "    </tr>\n",
       "    <tr>\n",
       "      <th>299389</th>\n",
       "      <td>theft-of-motor-vehicle</td>\n",
       "      <td>auto-theft</td>\n",
       "      <td>...</td>\n",
       "      <td>1</td>\n",
       "      <td>0</td>\n",
       "    </tr>\n",
       "    <tr>\n",
       "      <th>...</th>\n",
       "      <td>...</td>\n",
       "      <td>...</td>\n",
       "      <td>...</td>\n",
       "      <td>...</td>\n",
       "      <td>...</td>\n",
       "    </tr>\n",
       "    <tr>\n",
       "      <th>358208</th>\n",
       "      <td>public-peace-other</td>\n",
       "      <td>public-disorder</td>\n",
       "      <td>...</td>\n",
       "      <td>1</td>\n",
       "      <td>0</td>\n",
       "    </tr>\n",
       "    <tr>\n",
       "      <th>358448</th>\n",
       "      <td>threats-to-injure</td>\n",
       "      <td>public-disorder</td>\n",
       "      <td>...</td>\n",
       "      <td>1</td>\n",
       "      <td>0</td>\n",
       "    </tr>\n",
       "    <tr>\n",
       "      <th>363134</th>\n",
       "      <td>sex-aslt-rape</td>\n",
       "      <td>sexual-assault</td>\n",
       "      <td>...</td>\n",
       "      <td>1</td>\n",
       "      <td>0</td>\n",
       "    </tr>\n",
       "    <tr>\n",
       "      <th>365959</th>\n",
       "      <td>menacing-felony-w-weap</td>\n",
       "      <td>aggravated-assault</td>\n",
       "      <td>...</td>\n",
       "      <td>1</td>\n",
       "      <td>0</td>\n",
       "    </tr>\n",
       "    <tr>\n",
       "      <th>378711</th>\n",
       "      <td>assault-dv</td>\n",
       "      <td>other-crimes-against-persons</td>\n",
       "      <td>...</td>\n",
       "      <td>1</td>\n",
       "      <td>0</td>\n",
       "    </tr>\n",
       "  </tbody>\n",
       "</table>\n",
       "<p>243 rows × 8 columns</p>\n",
       "</div>"
      ],
      "text/plain": [
       "                OFFENSE_TYPE_ID           OFFENSE_CATEGORY_ID  ... IS_CRIME  \\\n",
       "295715  criminal-mischief-other               public-disorder  ...        1   \n",
       "296474        liquor-possession                  drug-alcohol  ...        1   \n",
       "297204         traffic-accident              traffic-accident  ...        0   \n",
       "299383            theft-bicycle                       larceny  ...        1   \n",
       "299389   theft-of-motor-vehicle                    auto-theft  ...        1   \n",
       "...                         ...                           ...  ...      ...   \n",
       "358208       public-peace-other               public-disorder  ...        1   \n",
       "358448        threats-to-injure               public-disorder  ...        1   \n",
       "363134            sex-aslt-rape                sexual-assault  ...        1   \n",
       "365959   menacing-felony-w-weap            aggravated-assault  ...        1   \n",
       "378711               assault-dv  other-crimes-against-persons  ...        1   \n",
       "\n",
       "        IS_TRAFFIC  \n",
       "295715           0  \n",
       "296474           0  \n",
       "297204           1  \n",
       "299383           0  \n",
       "299389           0  \n",
       "...            ...  \n",
       "358208           0  \n",
       "358448           0  \n",
       "363134           0  \n",
       "365959           0  \n",
       "378711           0  \n",
       "\n",
       "[243 rows x 8 columns]"
      ]
     },
     "execution_count": 96,
     "metadata": {},
     "output_type": "execute_result"
    }
   ],
   "source": [
    "(crime\n",
    " [crime.REPORTED_DATE.between(\n",
    " '2016-05-12', '2016-05-13')]\n",
    ")"
   ]
  },
  {
   "cell_type": "markdown",
   "id": "9e8bbf83",
   "metadata": {},
   "source": [
    "Because .between supports partial date strings, we can replicate most of the slicing\n",
    "functionality of the previous section with it. We can match just a month, year, or hour\n",
    "of the day:"
   ]
  },
  {
   "cell_type": "code",
   "execution_count": 102,
   "id": "66f10e1c",
   "metadata": {},
   "outputs": [
    {
     "data": {
      "text/plain": [
       "(8012, 8)"
      ]
     },
     "execution_count": 102,
     "metadata": {},
     "output_type": "execute_result"
    }
   ],
   "source": [
    "(crime\n",
    " [crime.REPORTED_DATE.between('2016-05', '2016-06')]\n",
    " .shape)"
   ]
  },
  {
   "cell_type": "code",
   "execution_count": 101,
   "id": "5cca6d40",
   "metadata": {},
   "outputs": [
    {
     "data": {
      "text/plain": [
       "(91076, 8)"
      ]
     },
     "execution_count": 101,
     "metadata": {},
     "output_type": "execute_result"
    }
   ],
   "source": [
    "(crime\n",
    " [crime.REPORTED_DATE.between('2016', '2017')]\n",
    " .shape)"
   ]
  },
  {
   "cell_type": "code",
   "execution_count": 103,
   "id": "edb9c47c",
   "metadata": {},
   "outputs": [
    {
     "data": {
      "text/plain": [
       "(4, 8)"
      ]
     },
     "execution_count": 103,
     "metadata": {},
     "output_type": "execute_result"
    }
   ],
   "source": [
    "(crime\n",
    " [crime.REPORTED_DATE.between('2016-05-12 03', '2016-05-12 04')]\n",
    " .shape)"
   ]
  },
  {
   "cell_type": "markdown",
   "id": "4ffdc88c",
   "metadata": {},
   "source": [
    "6. We can use other string patterns:"
   ]
  },
  {
   "cell_type": "code",
   "execution_count": 104,
   "id": "cc21157a",
   "metadata": {},
   "outputs": [
    {
     "data": {
      "text/plain": [
       "(252, 8)"
      ]
     },
     "execution_count": 104,
     "metadata": {},
     "output_type": "execute_result"
    }
   ],
   "source": [
    "(crime\n",
    " [crime.REPORTED_DATE.between(\n",
    " '2016 sep, 15', '2016 sep, 16')]\n",
    " .shape\n",
    ")"
   ]
  },
  {
   "cell_type": "code",
   "execution_count": 105,
   "id": "c0774ff2",
   "metadata": {},
   "outputs": [
    {
     "data": {
      "text/plain": [
       "(4, 8)"
      ]
     },
     "execution_count": 105,
     "metadata": {},
     "output_type": "execute_result"
    }
   ],
   "source": [
    "(crime\n",
    " [crime.REPORTED_DATE.between(\n",
    " '21st October 2014 05', '21st October 2014 06')]\n",
    " .shape\n",
    ")"
   ]
  },
  {
   "cell_type": "markdown",
   "id": "4add3f39",
   "metadata": {},
   "source": [
    "Because .loc is closed and includes both start and end, the functionality of\n",
    ".between mimics that. However, in a partial date string there is a slight difference.\n",
    "Ending a slice on 2016-1-1 will include all values for January 1, 2016. Using that\n",
    "value as the end value will include values up to the start of that day. To replicate the\n",
    "slice ['2015-3-4':'2016-1-1'], we need to add the last time of the end day:"
   ]
  },
  {
   "cell_type": "code",
   "execution_count": 106,
   "id": "b1172020",
   "metadata": {},
   "outputs": [
    {
     "data": {
      "text/plain": [
       "(75403, 8)"
      ]
     },
     "execution_count": 106,
     "metadata": {},
     "output_type": "execute_result"
    }
   ],
   "source": [
    "(crime\n",
    " [crime.REPORTED_DATE.between(\n",
    " '2015-3-4', '2016-1-1 23:59:59')]\n",
    " .shape\n",
    ")"
   ]
  },
  {
   "cell_type": "markdown",
   "id": "69a0f3ea",
   "metadata": {},
   "source": [
    "8. We can tweak this dates as needed. Below replicates the behavior of the last step\n",
    "of the previous recipe:"
   ]
  },
  {
   "cell_type": "code",
   "execution_count": 107,
   "id": "6a0e4eeb",
   "metadata": {},
   "outputs": [
    {
     "data": {
      "text/plain": [
       "(75298, 8)"
      ]
     },
     "execution_count": 107,
     "metadata": {},
     "output_type": "execute_result"
    }
   ],
   "source": [
    "(crime\n",
    " [crime.REPORTED_DATE.between(\n",
    "     '2015-3-4', '2016-1-1 11:22:00'\n",
    " )]\n",
    " .shape\n",
    ")"
   ]
  },
  {
   "cell_type": "markdown",
   "id": "c53e3905",
   "metadata": {},
   "source": [
    "The pandas library can slice index values, but not columns. To replicate DatetimeIndex\n",
    "slicing on a column, we need to use the .between method. The body of this method is just\n",
    "seven lines of code:"
   ]
  },
  {
   "cell_type": "code",
   "execution_count": 108,
   "id": "cc970f49",
   "metadata": {},
   "outputs": [],
   "source": [
    "def between(self, left, right, inclusive=True):\n",
    "    if inclusive:\n",
    "        lmask = self >= left\n",
    "        rmask = self >= right\n",
    "    else:\n",
    "        lmask = self > left\n",
    "        rmask = self < right\n",
    "        \n",
    "    return lmask & rmask"
   ]
  },
  {
   "cell_type": "code",
   "execution_count": 109,
   "id": "4777a1d2",
   "metadata": {},
   "outputs": [
    {
     "data": {
      "text/plain": [
       "(75071, 8)"
      ]
     },
     "execution_count": 109,
     "metadata": {},
     "output_type": "execute_result"
    }
   ],
   "source": [
    "lmask = crime.REPORTED_DATE >= '2015-3-4 22'\n",
    "rmask = crime.REPORTED_DATE <= '2016-1-1 11:22:00'\n",
    "crime[lmask & rmask].shape"
   ]
  },
  {
   "cell_type": "code",
   "execution_count": 110,
   "id": "372315ff",
   "metadata": {},
   "outputs": [
    {
     "name": "stdout",
     "output_type": "stream",
     "text": [
      "17.8 ms ± 2.58 ms per loop (mean ± std. dev. of 7 runs, 10 loops each)\n"
     ]
    }
   ],
   "source": [
    "%%timeit \n",
    "crime[crime.REPORTED_DATE.between('2015-3-4', '2016-1-1')]"
   ]
  },
  {
   "cell_type": "markdown",
   "id": "f6e70b61",
   "metadata": {},
   "source": [
    "## Using methods that only work with a DatetimeIndex"
   ]
  },
  {
   "cell_type": "markdown",
   "id": "eaa76fb2",
   "metadata": {},
   "source": [
    "There are a number of DataFrame and Series methods that only work with\n",
    "a DatetimeIndex. If the index is of any other type, these methods will fail.\n",
    "In this recipe, we will first use methods to select rows of data by their time component.\n",
    "We will then learn about the powerful DateOffset objects and their aliases."
   ]
  },
  {
   "cell_type": "code",
   "execution_count": 121,
   "id": "fcb611a8",
   "metadata": {},
   "outputs": [],
   "source": [
    "crime = (pd.read_hdf('C:/Users/justine.o_kobo360/Desktop/Pandas Workbook/Pandas CookBook 1.x/Data files/crime.h5', 'crime')\n",
    "         .set_index('REPORTED_DATE')\n",
    "        )"
   ]
  },
  {
   "cell_type": "code",
   "execution_count": 123,
   "id": "a7e0ae8f",
   "metadata": {},
   "outputs": [
    {
     "data": {
      "text/plain": [
       "pandas.core.indexes.datetimes.DatetimeIndex"
      ]
     },
     "execution_count": 123,
     "metadata": {},
     "output_type": "execute_result"
    }
   ],
   "source": [
    "type(crime.index)"
   ]
  },
  {
   "cell_type": "markdown",
   "id": "65e902c0",
   "metadata": {},
   "source": [
    "2. Use the .between_time method to select all crimes that occurred between 2 A.M.\n",
    "and 5 A.M., regardless of the date:"
   ]
  },
  {
   "cell_type": "code",
   "execution_count": 127,
   "id": "65e227e4",
   "metadata": {},
   "outputs": [
    {
     "data": {
      "text/html": [
       "<div>\n",
       "<style scoped>\n",
       "    .dataframe tbody tr th:only-of-type {\n",
       "        vertical-align: middle;\n",
       "    }\n",
       "\n",
       "    .dataframe tbody tr th {\n",
       "        vertical-align: top;\n",
       "    }\n",
       "\n",
       "    .dataframe thead th {\n",
       "        text-align: right;\n",
       "    }\n",
       "</style>\n",
       "<table border=\"1\" class=\"dataframe\">\n",
       "  <thead>\n",
       "    <tr style=\"text-align: right;\">\n",
       "      <th></th>\n",
       "      <th>OFFENSE_TYPE_ID</th>\n",
       "      <th>OFFENSE_CATEGORY_ID</th>\n",
       "      <th>...</th>\n",
       "      <th>IS_CRIME</th>\n",
       "      <th>IS_TRAFFIC</th>\n",
       "    </tr>\n",
       "    <tr>\n",
       "      <th>REPORTED_DATE</th>\n",
       "      <th></th>\n",
       "      <th></th>\n",
       "      <th></th>\n",
       "      <th></th>\n",
       "      <th></th>\n",
       "    </tr>\n",
       "  </thead>\n",
       "  <tbody>\n",
       "    <tr>\n",
       "      <th>2014-06-29 02:01:00</th>\n",
       "      <td>traffic-accident-dui-duid</td>\n",
       "      <td>traffic-accident</td>\n",
       "      <td>...</td>\n",
       "      <td>0</td>\n",
       "      <td>1</td>\n",
       "    </tr>\n",
       "    <tr>\n",
       "      <th>2014-06-29 02:00:00</th>\n",
       "      <td>disturbing-the-peace</td>\n",
       "      <td>public-disorder</td>\n",
       "      <td>...</td>\n",
       "      <td>1</td>\n",
       "      <td>0</td>\n",
       "    </tr>\n",
       "    <tr>\n",
       "      <th>2014-06-29 02:18:00</th>\n",
       "      <td>curfew</td>\n",
       "      <td>public-disorder</td>\n",
       "      <td>...</td>\n",
       "      <td>1</td>\n",
       "      <td>0</td>\n",
       "    </tr>\n",
       "    <tr>\n",
       "      <th>2014-06-29 04:17:00</th>\n",
       "      <td>aggravated-assault</td>\n",
       "      <td>aggravated-assault</td>\n",
       "      <td>...</td>\n",
       "      <td>1</td>\n",
       "      <td>0</td>\n",
       "    </tr>\n",
       "    <tr>\n",
       "      <th>2014-06-29 04:22:00</th>\n",
       "      <td>violation-of-restraining-order</td>\n",
       "      <td>all-other-crimes</td>\n",
       "      <td>...</td>\n",
       "      <td>1</td>\n",
       "      <td>0</td>\n",
       "    </tr>\n",
       "    <tr>\n",
       "      <th>...</th>\n",
       "      <td>...</td>\n",
       "      <td>...</td>\n",
       "      <td>...</td>\n",
       "      <td>...</td>\n",
       "      <td>...</td>\n",
       "    </tr>\n",
       "    <tr>\n",
       "      <th>2017-08-25 04:41:00</th>\n",
       "      <td>theft-items-from-vehicle</td>\n",
       "      <td>theft-from-motor-vehicle</td>\n",
       "      <td>...</td>\n",
       "      <td>1</td>\n",
       "      <td>0</td>\n",
       "    </tr>\n",
       "    <tr>\n",
       "      <th>2017-09-13 04:17:00</th>\n",
       "      <td>theft-of-motor-vehicle</td>\n",
       "      <td>auto-theft</td>\n",
       "      <td>...</td>\n",
       "      <td>1</td>\n",
       "      <td>0</td>\n",
       "    </tr>\n",
       "    <tr>\n",
       "      <th>2017-09-13 02:21:00</th>\n",
       "      <td>assault-simple</td>\n",
       "      <td>other-crimes-against-persons</td>\n",
       "      <td>...</td>\n",
       "      <td>1</td>\n",
       "      <td>0</td>\n",
       "    </tr>\n",
       "    <tr>\n",
       "      <th>2017-09-13 03:21:00</th>\n",
       "      <td>traffic-accident-dui-duid</td>\n",
       "      <td>traffic-accident</td>\n",
       "      <td>...</td>\n",
       "      <td>0</td>\n",
       "      <td>1</td>\n",
       "    </tr>\n",
       "    <tr>\n",
       "      <th>2017-09-13 02:15:00</th>\n",
       "      <td>traffic-accident-hit-and-run</td>\n",
       "      <td>traffic-accident</td>\n",
       "      <td>...</td>\n",
       "      <td>0</td>\n",
       "      <td>1</td>\n",
       "    </tr>\n",
       "  </tbody>\n",
       "</table>\n",
       "<p>29078 rows × 7 columns</p>\n",
       "</div>"
      ],
      "text/plain": [
       "                                    OFFENSE_TYPE_ID  \\\n",
       "REPORTED_DATE                                         \n",
       "2014-06-29 02:01:00       traffic-accident-dui-duid   \n",
       "2014-06-29 02:00:00            disturbing-the-peace   \n",
       "2014-06-29 02:18:00                          curfew   \n",
       "2014-06-29 04:17:00              aggravated-assault   \n",
       "2014-06-29 04:22:00  violation-of-restraining-order   \n",
       "...                                             ...   \n",
       "2017-08-25 04:41:00        theft-items-from-vehicle   \n",
       "2017-09-13 04:17:00          theft-of-motor-vehicle   \n",
       "2017-09-13 02:21:00                  assault-simple   \n",
       "2017-09-13 03:21:00       traffic-accident-dui-duid   \n",
       "2017-09-13 02:15:00    traffic-accident-hit-and-run   \n",
       "\n",
       "                              OFFENSE_CATEGORY_ID  ...  IS_CRIME  IS_TRAFFIC  \n",
       "REPORTED_DATE                                      ...                        \n",
       "2014-06-29 02:01:00              traffic-accident  ...         0           1  \n",
       "2014-06-29 02:00:00               public-disorder  ...         1           0  \n",
       "2014-06-29 02:18:00               public-disorder  ...         1           0  \n",
       "2014-06-29 04:17:00            aggravated-assault  ...         1           0  \n",
       "2014-06-29 04:22:00              all-other-crimes  ...         1           0  \n",
       "...                                           ...  ...       ...         ...  \n",
       "2017-08-25 04:41:00      theft-from-motor-vehicle  ...         1           0  \n",
       "2017-09-13 04:17:00                    auto-theft  ...         1           0  \n",
       "2017-09-13 02:21:00  other-crimes-against-persons  ...         1           0  \n",
       "2017-09-13 03:21:00              traffic-accident  ...         0           1  \n",
       "2017-09-13 02:15:00              traffic-accident  ...         0           1  \n",
       "\n",
       "[29078 rows x 7 columns]"
      ]
     },
     "execution_count": 127,
     "metadata": {},
     "output_type": "execute_result"
    }
   ],
   "source": [
    "crime.between_time('2:00', '5:00', include_end=False)"
   ]
  },
  {
   "cell_type": "code",
   "execution_count": 115,
   "id": "0b44b7c7",
   "metadata": {},
   "outputs": [
    {
     "data": {
      "text/html": [
       "<div>\n",
       "<style scoped>\n",
       "    .dataframe tbody tr th:only-of-type {\n",
       "        vertical-align: middle;\n",
       "    }\n",
       "\n",
       "    .dataframe tbody tr th {\n",
       "        vertical-align: top;\n",
       "    }\n",
       "\n",
       "    .dataframe thead th {\n",
       "        text-align: right;\n",
       "    }\n",
       "</style>\n",
       "<table border=\"1\" class=\"dataframe\">\n",
       "  <thead>\n",
       "    <tr style=\"text-align: right;\">\n",
       "      <th></th>\n",
       "      <th>OFFENSE_TYPE_ID</th>\n",
       "      <th>OFFENSE_CATEGORY_ID</th>\n",
       "      <th>...</th>\n",
       "      <th>IS_CRIME</th>\n",
       "      <th>IS_TRAFFIC</th>\n",
       "    </tr>\n",
       "    <tr>\n",
       "      <th>REPORTED_DATE</th>\n",
       "      <th></th>\n",
       "      <th></th>\n",
       "      <th></th>\n",
       "      <th></th>\n",
       "      <th></th>\n",
       "    </tr>\n",
       "  </thead>\n",
       "  <tbody>\n",
       "    <tr>\n",
       "      <th>2013-11-26 05:47:00</th>\n",
       "      <td>criminal-mischief-other</td>\n",
       "      <td>public-disorder</td>\n",
       "      <td>...</td>\n",
       "      <td>1</td>\n",
       "      <td>0</td>\n",
       "    </tr>\n",
       "    <tr>\n",
       "      <th>2017-04-09 05:47:00</th>\n",
       "      <td>criminal-mischief-mtr-veh</td>\n",
       "      <td>public-disorder</td>\n",
       "      <td>...</td>\n",
       "      <td>1</td>\n",
       "      <td>0</td>\n",
       "    </tr>\n",
       "    <tr>\n",
       "      <th>2017-02-19 05:47:00</th>\n",
       "      <td>criminal-mischief-other</td>\n",
       "      <td>public-disorder</td>\n",
       "      <td>...</td>\n",
       "      <td>1</td>\n",
       "      <td>0</td>\n",
       "    </tr>\n",
       "    <tr>\n",
       "      <th>2017-02-16 05:47:00</th>\n",
       "      <td>aggravated-assault</td>\n",
       "      <td>aggravated-assault</td>\n",
       "      <td>...</td>\n",
       "      <td>1</td>\n",
       "      <td>0</td>\n",
       "    </tr>\n",
       "    <tr>\n",
       "      <th>2017-02-12 05:47:00</th>\n",
       "      <td>police-interference</td>\n",
       "      <td>all-other-crimes</td>\n",
       "      <td>...</td>\n",
       "      <td>1</td>\n",
       "      <td>0</td>\n",
       "    </tr>\n",
       "    <tr>\n",
       "      <th>...</th>\n",
       "      <td>...</td>\n",
       "      <td>...</td>\n",
       "      <td>...</td>\n",
       "      <td>...</td>\n",
       "      <td>...</td>\n",
       "    </tr>\n",
       "    <tr>\n",
       "      <th>2013-09-10 05:47:00</th>\n",
       "      <td>traffic-accident</td>\n",
       "      <td>traffic-accident</td>\n",
       "      <td>...</td>\n",
       "      <td>0</td>\n",
       "      <td>1</td>\n",
       "    </tr>\n",
       "    <tr>\n",
       "      <th>2013-03-14 05:47:00</th>\n",
       "      <td>theft-other</td>\n",
       "      <td>larceny</td>\n",
       "      <td>...</td>\n",
       "      <td>1</td>\n",
       "      <td>0</td>\n",
       "    </tr>\n",
       "    <tr>\n",
       "      <th>2012-10-08 05:47:00</th>\n",
       "      <td>theft-items-from-vehicle</td>\n",
       "      <td>theft-from-motor-vehicle</td>\n",
       "      <td>...</td>\n",
       "      <td>1</td>\n",
       "      <td>0</td>\n",
       "    </tr>\n",
       "    <tr>\n",
       "      <th>2013-08-21 05:47:00</th>\n",
       "      <td>theft-items-from-vehicle</td>\n",
       "      <td>theft-from-motor-vehicle</td>\n",
       "      <td>...</td>\n",
       "      <td>1</td>\n",
       "      <td>0</td>\n",
       "    </tr>\n",
       "    <tr>\n",
       "      <th>2017-08-23 05:47:00</th>\n",
       "      <td>traffic-accident-hit-and-run</td>\n",
       "      <td>traffic-accident</td>\n",
       "      <td>...</td>\n",
       "      <td>0</td>\n",
       "      <td>1</td>\n",
       "    </tr>\n",
       "  </tbody>\n",
       "</table>\n",
       "<p>118 rows × 7 columns</p>\n",
       "</div>"
      ],
      "text/plain": [
       "                                  OFFENSE_TYPE_ID       OFFENSE_CATEGORY_ID  \\\n",
       "REPORTED_DATE                                                                 \n",
       "2013-11-26 05:47:00       criminal-mischief-other           public-disorder   \n",
       "2017-04-09 05:47:00     criminal-mischief-mtr-veh           public-disorder   \n",
       "2017-02-19 05:47:00       criminal-mischief-other           public-disorder   \n",
       "2017-02-16 05:47:00            aggravated-assault        aggravated-assault   \n",
       "2017-02-12 05:47:00           police-interference          all-other-crimes   \n",
       "...                                           ...                       ...   \n",
       "2013-09-10 05:47:00              traffic-accident          traffic-accident   \n",
       "2013-03-14 05:47:00                   theft-other                   larceny   \n",
       "2012-10-08 05:47:00      theft-items-from-vehicle  theft-from-motor-vehicle   \n",
       "2013-08-21 05:47:00      theft-items-from-vehicle  theft-from-motor-vehicle   \n",
       "2017-08-23 05:47:00  traffic-accident-hit-and-run          traffic-accident   \n",
       "\n",
       "                     ...  IS_CRIME  IS_TRAFFIC  \n",
       "REPORTED_DATE        ...                        \n",
       "2013-11-26 05:47:00  ...         1           0  \n",
       "2017-04-09 05:47:00  ...         1           0  \n",
       "2017-02-19 05:47:00  ...         1           0  \n",
       "2017-02-16 05:47:00  ...         1           0  \n",
       "2017-02-12 05:47:00  ...         1           0  \n",
       "...                  ...       ...         ...  \n",
       "2013-09-10 05:47:00  ...         0           1  \n",
       "2013-03-14 05:47:00  ...         1           0  \n",
       "2012-10-08 05:47:00  ...         1           0  \n",
       "2013-08-21 05:47:00  ...         1           0  \n",
       "2017-08-23 05:47:00  ...         0           1  \n",
       "\n",
       "[118 rows x 7 columns]"
      ]
     },
     "execution_count": 115,
     "metadata": {},
     "output_type": "execute_result"
    }
   ],
   "source": [
    "# Select all dates at a specific time with .at_time:\n",
    "crime.at_time('5:47')"
   ]
  },
  {
   "cell_type": "markdown",
   "id": "931b1e67",
   "metadata": {},
   "source": [
    "4. The .first methods provide an elegant way of selecting the first n segments of\n",
    "time, where n is an integer. These segments of time are represented by DateOffset\n",
    "objects that can be in the pd.offsets module. The DataFrame must be sorted on\n",
    "its index to guarantee that this method will work. Let's select the first six months of\n",
    "crime data:"
   ]
  },
  {
   "cell_type": "code",
   "execution_count": 117,
   "id": "7d0f4805",
   "metadata": {
    "scrolled": false
   },
   "outputs": [
    {
     "data": {
      "text/html": [
       "<div>\n",
       "<style scoped>\n",
       "    .dataframe tbody tr th:only-of-type {\n",
       "        vertical-align: middle;\n",
       "    }\n",
       "\n",
       "    .dataframe tbody tr th {\n",
       "        vertical-align: top;\n",
       "    }\n",
       "\n",
       "    .dataframe thead th {\n",
       "        text-align: right;\n",
       "    }\n",
       "</style>\n",
       "<table border=\"1\" class=\"dataframe\">\n",
       "  <thead>\n",
       "    <tr style=\"text-align: right;\">\n",
       "      <th></th>\n",
       "      <th>OFFENSE_TYPE_ID</th>\n",
       "      <th>OFFENSE_CATEGORY_ID</th>\n",
       "      <th>...</th>\n",
       "      <th>IS_CRIME</th>\n",
       "      <th>IS_TRAFFIC</th>\n",
       "    </tr>\n",
       "    <tr>\n",
       "      <th>REPORTED_DATE</th>\n",
       "      <th></th>\n",
       "      <th></th>\n",
       "      <th></th>\n",
       "      <th></th>\n",
       "      <th></th>\n",
       "    </tr>\n",
       "  </thead>\n",
       "  <tbody>\n",
       "    <tr>\n",
       "      <th>2012-01-02 00:06:00</th>\n",
       "      <td>aggravated-assault</td>\n",
       "      <td>aggravated-assault</td>\n",
       "      <td>...</td>\n",
       "      <td>1</td>\n",
       "      <td>0</td>\n",
       "    </tr>\n",
       "    <tr>\n",
       "      <th>2012-01-02 00:06:00</th>\n",
       "      <td>violation-of-restraining-order</td>\n",
       "      <td>all-other-crimes</td>\n",
       "      <td>...</td>\n",
       "      <td>1</td>\n",
       "      <td>0</td>\n",
       "    </tr>\n",
       "    <tr>\n",
       "      <th>2012-01-02 00:16:00</th>\n",
       "      <td>traffic-accident-dui-duid</td>\n",
       "      <td>traffic-accident</td>\n",
       "      <td>...</td>\n",
       "      <td>0</td>\n",
       "      <td>1</td>\n",
       "    </tr>\n",
       "    <tr>\n",
       "      <th>2012-01-02 00:47:00</th>\n",
       "      <td>traffic-accident</td>\n",
       "      <td>traffic-accident</td>\n",
       "      <td>...</td>\n",
       "      <td>0</td>\n",
       "      <td>1</td>\n",
       "    </tr>\n",
       "    <tr>\n",
       "      <th>2012-01-02 01:35:00</th>\n",
       "      <td>aggravated-assault</td>\n",
       "      <td>aggravated-assault</td>\n",
       "      <td>...</td>\n",
       "      <td>1</td>\n",
       "      <td>0</td>\n",
       "    </tr>\n",
       "    <tr>\n",
       "      <th>...</th>\n",
       "      <td>...</td>\n",
       "      <td>...</td>\n",
       "      <td>...</td>\n",
       "      <td>...</td>\n",
       "      <td>...</td>\n",
       "    </tr>\n",
       "    <tr>\n",
       "      <th>2012-06-30 23:40:00</th>\n",
       "      <td>traffic-accident-dui-duid</td>\n",
       "      <td>traffic-accident</td>\n",
       "      <td>...</td>\n",
       "      <td>0</td>\n",
       "      <td>1</td>\n",
       "    </tr>\n",
       "    <tr>\n",
       "      <th>2012-06-30 23:44:00</th>\n",
       "      <td>traffic-accident</td>\n",
       "      <td>traffic-accident</td>\n",
       "      <td>...</td>\n",
       "      <td>0</td>\n",
       "      <td>1</td>\n",
       "    </tr>\n",
       "    <tr>\n",
       "      <th>2012-06-30 23:50:00</th>\n",
       "      <td>criminal-mischief-mtr-veh</td>\n",
       "      <td>public-disorder</td>\n",
       "      <td>...</td>\n",
       "      <td>1</td>\n",
       "      <td>0</td>\n",
       "    </tr>\n",
       "    <tr>\n",
       "      <th>2012-06-30 23:54:00</th>\n",
       "      <td>traffic-accident-hit-and-run</td>\n",
       "      <td>traffic-accident</td>\n",
       "      <td>...</td>\n",
       "      <td>0</td>\n",
       "      <td>1</td>\n",
       "    </tr>\n",
       "    <tr>\n",
       "      <th>2012-07-01 00:01:00</th>\n",
       "      <td>robbery-street</td>\n",
       "      <td>robbery</td>\n",
       "      <td>...</td>\n",
       "      <td>1</td>\n",
       "      <td>0</td>\n",
       "    </tr>\n",
       "  </tbody>\n",
       "</table>\n",
       "<p>27489 rows × 7 columns</p>\n",
       "</div>"
      ],
      "text/plain": [
       "                                    OFFENSE_TYPE_ID OFFENSE_CATEGORY_ID  ...  \\\n",
       "REPORTED_DATE                                                            ...   \n",
       "2012-01-02 00:06:00              aggravated-assault  aggravated-assault  ...   \n",
       "2012-01-02 00:06:00  violation-of-restraining-order    all-other-crimes  ...   \n",
       "2012-01-02 00:16:00       traffic-accident-dui-duid    traffic-accident  ...   \n",
       "2012-01-02 00:47:00                traffic-accident    traffic-accident  ...   \n",
       "2012-01-02 01:35:00              aggravated-assault  aggravated-assault  ...   \n",
       "...                                             ...                 ...  ...   \n",
       "2012-06-30 23:40:00       traffic-accident-dui-duid    traffic-accident  ...   \n",
       "2012-06-30 23:44:00                traffic-accident    traffic-accident  ...   \n",
       "2012-06-30 23:50:00       criminal-mischief-mtr-veh     public-disorder  ...   \n",
       "2012-06-30 23:54:00    traffic-accident-hit-and-run    traffic-accident  ...   \n",
       "2012-07-01 00:01:00                  robbery-street             robbery  ...   \n",
       "\n",
       "                     IS_CRIME  IS_TRAFFIC  \n",
       "REPORTED_DATE                              \n",
       "2012-01-02 00:06:00         1           0  \n",
       "2012-01-02 00:06:00         1           0  \n",
       "2012-01-02 00:16:00         0           1  \n",
       "2012-01-02 00:47:00         0           1  \n",
       "2012-01-02 01:35:00         1           0  \n",
       "...                       ...         ...  \n",
       "2012-06-30 23:40:00         0           1  \n",
       "2012-06-30 23:44:00         0           1  \n",
       "2012-06-30 23:50:00         1           0  \n",
       "2012-06-30 23:54:00         0           1  \n",
       "2012-07-01 00:01:00         1           0  \n",
       "\n",
       "[27489 rows x 7 columns]"
      ]
     },
     "execution_count": 117,
     "metadata": {},
     "output_type": "execute_result"
    }
   ],
   "source": [
    "crime_sort = crime.sort_index()\n",
    "crime_sort.first(pd.offsets.MonthBegin(6))"
   ]
  },
  {
   "cell_type": "markdown",
   "id": "89af6c18",
   "metadata": {},
   "source": [
    "This captured the data from January through June but also, surprisingly, selected a\n",
    "single row in July. The reason for this is that pandas uses the time component of the\n",
    "first element in the index, which, in this example, is 6 minutes. Let's use MonthEnd, a\n",
    "slightly different offset:"
   ]
  },
  {
   "cell_type": "code",
   "execution_count": 129,
   "id": "8df10556",
   "metadata": {},
   "outputs": [
    {
     "data": {
      "text/html": [
       "<div>\n",
       "<style scoped>\n",
       "    .dataframe tbody tr th:only-of-type {\n",
       "        vertical-align: middle;\n",
       "    }\n",
       "\n",
       "    .dataframe tbody tr th {\n",
       "        vertical-align: top;\n",
       "    }\n",
       "\n",
       "    .dataframe thead th {\n",
       "        text-align: right;\n",
       "    }\n",
       "</style>\n",
       "<table border=\"1\" class=\"dataframe\">\n",
       "  <thead>\n",
       "    <tr style=\"text-align: right;\">\n",
       "      <th></th>\n",
       "      <th>OFFENSE_TYPE_ID</th>\n",
       "      <th>OFFENSE_CATEGORY_ID</th>\n",
       "      <th>...</th>\n",
       "      <th>IS_CRIME</th>\n",
       "      <th>IS_TRAFFIC</th>\n",
       "    </tr>\n",
       "    <tr>\n",
       "      <th>REPORTED_DATE</th>\n",
       "      <th></th>\n",
       "      <th></th>\n",
       "      <th></th>\n",
       "      <th></th>\n",
       "      <th></th>\n",
       "    </tr>\n",
       "  </thead>\n",
       "  <tbody>\n",
       "    <tr>\n",
       "      <th>2012-01-02 00:06:00</th>\n",
       "      <td>aggravated-assault</td>\n",
       "      <td>aggravated-assault</td>\n",
       "      <td>...</td>\n",
       "      <td>1</td>\n",
       "      <td>0</td>\n",
       "    </tr>\n",
       "    <tr>\n",
       "      <th>2012-01-02 00:06:00</th>\n",
       "      <td>violation-of-restraining-order</td>\n",
       "      <td>all-other-crimes</td>\n",
       "      <td>...</td>\n",
       "      <td>1</td>\n",
       "      <td>0</td>\n",
       "    </tr>\n",
       "    <tr>\n",
       "      <th>2012-01-02 00:16:00</th>\n",
       "      <td>traffic-accident-dui-duid</td>\n",
       "      <td>traffic-accident</td>\n",
       "      <td>...</td>\n",
       "      <td>0</td>\n",
       "      <td>1</td>\n",
       "    </tr>\n",
       "    <tr>\n",
       "      <th>2012-01-02 00:47:00</th>\n",
       "      <td>traffic-accident</td>\n",
       "      <td>traffic-accident</td>\n",
       "      <td>...</td>\n",
       "      <td>0</td>\n",
       "      <td>1</td>\n",
       "    </tr>\n",
       "    <tr>\n",
       "      <th>2012-01-02 01:35:00</th>\n",
       "      <td>aggravated-assault</td>\n",
       "      <td>aggravated-assault</td>\n",
       "      <td>...</td>\n",
       "      <td>1</td>\n",
       "      <td>0</td>\n",
       "    </tr>\n",
       "    <tr>\n",
       "      <th>...</th>\n",
       "      <td>...</td>\n",
       "      <td>...</td>\n",
       "      <td>...</td>\n",
       "      <td>...</td>\n",
       "      <td>...</td>\n",
       "    </tr>\n",
       "    <tr>\n",
       "      <th>2012-06-29 23:01:00</th>\n",
       "      <td>aggravated-assault</td>\n",
       "      <td>aggravated-assault</td>\n",
       "      <td>...</td>\n",
       "      <td>1</td>\n",
       "      <td>0</td>\n",
       "    </tr>\n",
       "    <tr>\n",
       "      <th>2012-06-29 23:11:00</th>\n",
       "      <td>traffic-accident</td>\n",
       "      <td>traffic-accident</td>\n",
       "      <td>...</td>\n",
       "      <td>0</td>\n",
       "      <td>1</td>\n",
       "    </tr>\n",
       "    <tr>\n",
       "      <th>2012-06-29 23:41:00</th>\n",
       "      <td>robbery-street</td>\n",
       "      <td>robbery</td>\n",
       "      <td>...</td>\n",
       "      <td>1</td>\n",
       "      <td>0</td>\n",
       "    </tr>\n",
       "    <tr>\n",
       "      <th>2012-06-29 23:57:00</th>\n",
       "      <td>assault-simple</td>\n",
       "      <td>other-crimes-against-persons</td>\n",
       "      <td>...</td>\n",
       "      <td>1</td>\n",
       "      <td>0</td>\n",
       "    </tr>\n",
       "    <tr>\n",
       "      <th>2012-06-30 00:04:00</th>\n",
       "      <td>traffic-accident</td>\n",
       "      <td>traffic-accident</td>\n",
       "      <td>...</td>\n",
       "      <td>0</td>\n",
       "      <td>1</td>\n",
       "    </tr>\n",
       "  </tbody>\n",
       "</table>\n",
       "<p>27332 rows × 7 columns</p>\n",
       "</div>"
      ],
      "text/plain": [
       "                                    OFFENSE_TYPE_ID  \\\n",
       "REPORTED_DATE                                         \n",
       "2012-01-02 00:06:00              aggravated-assault   \n",
       "2012-01-02 00:06:00  violation-of-restraining-order   \n",
       "2012-01-02 00:16:00       traffic-accident-dui-duid   \n",
       "2012-01-02 00:47:00                traffic-accident   \n",
       "2012-01-02 01:35:00              aggravated-assault   \n",
       "...                                             ...   \n",
       "2012-06-29 23:01:00              aggravated-assault   \n",
       "2012-06-29 23:11:00                traffic-accident   \n",
       "2012-06-29 23:41:00                  robbery-street   \n",
       "2012-06-29 23:57:00                  assault-simple   \n",
       "2012-06-30 00:04:00                traffic-accident   \n",
       "\n",
       "                              OFFENSE_CATEGORY_ID  ...  IS_CRIME  IS_TRAFFIC  \n",
       "REPORTED_DATE                                      ...                        \n",
       "2012-01-02 00:06:00            aggravated-assault  ...         1           0  \n",
       "2012-01-02 00:06:00              all-other-crimes  ...         1           0  \n",
       "2012-01-02 00:16:00              traffic-accident  ...         0           1  \n",
       "2012-01-02 00:47:00              traffic-accident  ...         0           1  \n",
       "2012-01-02 01:35:00            aggravated-assault  ...         1           0  \n",
       "...                                           ...  ...       ...         ...  \n",
       "2012-06-29 23:01:00            aggravated-assault  ...         1           0  \n",
       "2012-06-29 23:11:00              traffic-accident  ...         0           1  \n",
       "2012-06-29 23:41:00                       robbery  ...         1           0  \n",
       "2012-06-29 23:57:00  other-crimes-against-persons  ...         1           0  \n",
       "2012-06-30 00:04:00              traffic-accident  ...         0           1  \n",
       "\n",
       "[27332 rows x 7 columns]"
      ]
     },
     "execution_count": 129,
     "metadata": {},
     "output_type": "execute_result"
    }
   ],
   "source": [
    "crime_sort.first(pd.offsets.MonthEnd(6))"
   ]
  },
  {
   "cell_type": "markdown",
   "id": "cfd3ec69",
   "metadata": {},
   "source": [
    "This captured nearly the same amount of data but if you look closely, only a single\n",
    "row from June 30th was captured. Again, this is because the time component of\n",
    "the first index was preserved. The exact search went to 2012-06-30 00:06:00.\n",
    "So, how do we get exactly six months of data? There are a couple of ways. All\n",
    "DateOffset objects have a normalize parameter that, when set to True, sets all\n",
    "the time components to zero. The following should get us very close to what we want:"
   ]
  },
  {
   "cell_type": "code",
   "execution_count": 130,
   "id": "01bb315c",
   "metadata": {},
   "outputs": [
    {
     "data": {
      "text/html": [
       "<div>\n",
       "<style scoped>\n",
       "    .dataframe tbody tr th:only-of-type {\n",
       "        vertical-align: middle;\n",
       "    }\n",
       "\n",
       "    .dataframe tbody tr th {\n",
       "        vertical-align: top;\n",
       "    }\n",
       "\n",
       "    .dataframe thead th {\n",
       "        text-align: right;\n",
       "    }\n",
       "</style>\n",
       "<table border=\"1\" class=\"dataframe\">\n",
       "  <thead>\n",
       "    <tr style=\"text-align: right;\">\n",
       "      <th></th>\n",
       "      <th>OFFENSE_TYPE_ID</th>\n",
       "      <th>OFFENSE_CATEGORY_ID</th>\n",
       "      <th>...</th>\n",
       "      <th>IS_CRIME</th>\n",
       "      <th>IS_TRAFFIC</th>\n",
       "    </tr>\n",
       "    <tr>\n",
       "      <th>REPORTED_DATE</th>\n",
       "      <th></th>\n",
       "      <th></th>\n",
       "      <th></th>\n",
       "      <th></th>\n",
       "      <th></th>\n",
       "    </tr>\n",
       "  </thead>\n",
       "  <tbody>\n",
       "    <tr>\n",
       "      <th>2012-01-02 00:06:00</th>\n",
       "      <td>aggravated-assault</td>\n",
       "      <td>aggravated-assault</td>\n",
       "      <td>...</td>\n",
       "      <td>1</td>\n",
       "      <td>0</td>\n",
       "    </tr>\n",
       "    <tr>\n",
       "      <th>2012-01-02 00:06:00</th>\n",
       "      <td>violation-of-restraining-order</td>\n",
       "      <td>all-other-crimes</td>\n",
       "      <td>...</td>\n",
       "      <td>1</td>\n",
       "      <td>0</td>\n",
       "    </tr>\n",
       "    <tr>\n",
       "      <th>2012-01-02 00:16:00</th>\n",
       "      <td>traffic-accident-dui-duid</td>\n",
       "      <td>traffic-accident</td>\n",
       "      <td>...</td>\n",
       "      <td>0</td>\n",
       "      <td>1</td>\n",
       "    </tr>\n",
       "    <tr>\n",
       "      <th>2012-01-02 00:47:00</th>\n",
       "      <td>traffic-accident</td>\n",
       "      <td>traffic-accident</td>\n",
       "      <td>...</td>\n",
       "      <td>0</td>\n",
       "      <td>1</td>\n",
       "    </tr>\n",
       "    <tr>\n",
       "      <th>2012-01-02 01:35:00</th>\n",
       "      <td>aggravated-assault</td>\n",
       "      <td>aggravated-assault</td>\n",
       "      <td>...</td>\n",
       "      <td>1</td>\n",
       "      <td>0</td>\n",
       "    </tr>\n",
       "    <tr>\n",
       "      <th>...</th>\n",
       "      <td>...</td>\n",
       "      <td>...</td>\n",
       "      <td>...</td>\n",
       "      <td>...</td>\n",
       "      <td>...</td>\n",
       "    </tr>\n",
       "    <tr>\n",
       "      <th>2012-06-30 23:40:00</th>\n",
       "      <td>traffic-accident-hit-and-run</td>\n",
       "      <td>traffic-accident</td>\n",
       "      <td>...</td>\n",
       "      <td>0</td>\n",
       "      <td>1</td>\n",
       "    </tr>\n",
       "    <tr>\n",
       "      <th>2012-06-30 23:40:00</th>\n",
       "      <td>traffic-accident-dui-duid</td>\n",
       "      <td>traffic-accident</td>\n",
       "      <td>...</td>\n",
       "      <td>0</td>\n",
       "      <td>1</td>\n",
       "    </tr>\n",
       "    <tr>\n",
       "      <th>2012-06-30 23:44:00</th>\n",
       "      <td>traffic-accident</td>\n",
       "      <td>traffic-accident</td>\n",
       "      <td>...</td>\n",
       "      <td>0</td>\n",
       "      <td>1</td>\n",
       "    </tr>\n",
       "    <tr>\n",
       "      <th>2012-06-30 23:50:00</th>\n",
       "      <td>criminal-mischief-mtr-veh</td>\n",
       "      <td>public-disorder</td>\n",
       "      <td>...</td>\n",
       "      <td>1</td>\n",
       "      <td>0</td>\n",
       "    </tr>\n",
       "    <tr>\n",
       "      <th>2012-06-30 23:54:00</th>\n",
       "      <td>traffic-accident-hit-and-run</td>\n",
       "      <td>traffic-accident</td>\n",
       "      <td>...</td>\n",
       "      <td>0</td>\n",
       "      <td>1</td>\n",
       "    </tr>\n",
       "  </tbody>\n",
       "</table>\n",
       "<p>27488 rows × 7 columns</p>\n",
       "</div>"
      ],
      "text/plain": [
       "                                    OFFENSE_TYPE_ID OFFENSE_CATEGORY_ID  ...  \\\n",
       "REPORTED_DATE                                                            ...   \n",
       "2012-01-02 00:06:00              aggravated-assault  aggravated-assault  ...   \n",
       "2012-01-02 00:06:00  violation-of-restraining-order    all-other-crimes  ...   \n",
       "2012-01-02 00:16:00       traffic-accident-dui-duid    traffic-accident  ...   \n",
       "2012-01-02 00:47:00                traffic-accident    traffic-accident  ...   \n",
       "2012-01-02 01:35:00              aggravated-assault  aggravated-assault  ...   \n",
       "...                                             ...                 ...  ...   \n",
       "2012-06-30 23:40:00    traffic-accident-hit-and-run    traffic-accident  ...   \n",
       "2012-06-30 23:40:00       traffic-accident-dui-duid    traffic-accident  ...   \n",
       "2012-06-30 23:44:00                traffic-accident    traffic-accident  ...   \n",
       "2012-06-30 23:50:00       criminal-mischief-mtr-veh     public-disorder  ...   \n",
       "2012-06-30 23:54:00    traffic-accident-hit-and-run    traffic-accident  ...   \n",
       "\n",
       "                     IS_CRIME  IS_TRAFFIC  \n",
       "REPORTED_DATE                              \n",
       "2012-01-02 00:06:00         1           0  \n",
       "2012-01-02 00:06:00         1           0  \n",
       "2012-01-02 00:16:00         0           1  \n",
       "2012-01-02 00:47:00         0           1  \n",
       "2012-01-02 01:35:00         1           0  \n",
       "...                       ...         ...  \n",
       "2012-06-30 23:40:00         0           1  \n",
       "2012-06-30 23:40:00         0           1  \n",
       "2012-06-30 23:44:00         0           1  \n",
       "2012-06-30 23:50:00         1           0  \n",
       "2012-06-30 23:54:00         0           1  \n",
       "\n",
       "[27488 rows x 7 columns]"
      ]
     },
     "execution_count": 130,
     "metadata": {},
     "output_type": "execute_result"
    }
   ],
   "source": [
    "crime_sort.first(pd.offsets.MonthBegin(6, normalize=True))"
   ]
  },
  {
   "cell_type": "code",
   "execution_count": 131,
   "id": "1fb2f6e6",
   "metadata": {},
   "outputs": [
    {
     "data": {
      "text/html": [
       "<div>\n",
       "<style scoped>\n",
       "    .dataframe tbody tr th:only-of-type {\n",
       "        vertical-align: middle;\n",
       "    }\n",
       "\n",
       "    .dataframe tbody tr th {\n",
       "        vertical-align: top;\n",
       "    }\n",
       "\n",
       "    .dataframe thead th {\n",
       "        text-align: right;\n",
       "    }\n",
       "</style>\n",
       "<table border=\"1\" class=\"dataframe\">\n",
       "  <thead>\n",
       "    <tr style=\"text-align: right;\">\n",
       "      <th></th>\n",
       "      <th>OFFENSE_TYPE_ID</th>\n",
       "      <th>OFFENSE_CATEGORY_ID</th>\n",
       "      <th>...</th>\n",
       "      <th>IS_CRIME</th>\n",
       "      <th>IS_TRAFFIC</th>\n",
       "    </tr>\n",
       "    <tr>\n",
       "      <th>REPORTED_DATE</th>\n",
       "      <th></th>\n",
       "      <th></th>\n",
       "      <th></th>\n",
       "      <th></th>\n",
       "      <th></th>\n",
       "    </tr>\n",
       "  </thead>\n",
       "  <tbody>\n",
       "    <tr>\n",
       "      <th>2012-06-01 00:00:00</th>\n",
       "      <td>traffic-accident</td>\n",
       "      <td>traffic-accident</td>\n",
       "      <td>...</td>\n",
       "      <td>0</td>\n",
       "      <td>1</td>\n",
       "    </tr>\n",
       "    <tr>\n",
       "      <th>2012-06-01 00:26:00</th>\n",
       "      <td>theft-items-from-vehicle</td>\n",
       "      <td>theft-from-motor-vehicle</td>\n",
       "      <td>...</td>\n",
       "      <td>1</td>\n",
       "      <td>0</td>\n",
       "    </tr>\n",
       "    <tr>\n",
       "      <th>2012-06-01 01:06:00</th>\n",
       "      <td>aggravated-assault</td>\n",
       "      <td>aggravated-assault</td>\n",
       "      <td>...</td>\n",
       "      <td>1</td>\n",
       "      <td>0</td>\n",
       "    </tr>\n",
       "    <tr>\n",
       "      <th>2012-06-01 01:10:00</th>\n",
       "      <td>burglary-residence-no-force</td>\n",
       "      <td>burglary</td>\n",
       "      <td>...</td>\n",
       "      <td>1</td>\n",
       "      <td>0</td>\n",
       "    </tr>\n",
       "    <tr>\n",
       "      <th>2012-06-01 01:19:00</th>\n",
       "      <td>criminal-mischief-other</td>\n",
       "      <td>public-disorder</td>\n",
       "      <td>...</td>\n",
       "      <td>1</td>\n",
       "      <td>0</td>\n",
       "    </tr>\n",
       "    <tr>\n",
       "      <th>...</th>\n",
       "      <td>...</td>\n",
       "      <td>...</td>\n",
       "      <td>...</td>\n",
       "      <td>...</td>\n",
       "      <td>...</td>\n",
       "    </tr>\n",
       "    <tr>\n",
       "      <th>2012-06-30 23:40:00</th>\n",
       "      <td>traffic-accident-hit-and-run</td>\n",
       "      <td>traffic-accident</td>\n",
       "      <td>...</td>\n",
       "      <td>0</td>\n",
       "      <td>1</td>\n",
       "    </tr>\n",
       "    <tr>\n",
       "      <th>2012-06-30 23:40:00</th>\n",
       "      <td>traffic-accident-dui-duid</td>\n",
       "      <td>traffic-accident</td>\n",
       "      <td>...</td>\n",
       "      <td>0</td>\n",
       "      <td>1</td>\n",
       "    </tr>\n",
       "    <tr>\n",
       "      <th>2012-06-30 23:44:00</th>\n",
       "      <td>traffic-accident</td>\n",
       "      <td>traffic-accident</td>\n",
       "      <td>...</td>\n",
       "      <td>0</td>\n",
       "      <td>1</td>\n",
       "    </tr>\n",
       "    <tr>\n",
       "      <th>2012-06-30 23:50:00</th>\n",
       "      <td>criminal-mischief-mtr-veh</td>\n",
       "      <td>public-disorder</td>\n",
       "      <td>...</td>\n",
       "      <td>1</td>\n",
       "      <td>0</td>\n",
       "    </tr>\n",
       "    <tr>\n",
       "      <th>2012-06-30 23:54:00</th>\n",
       "      <td>traffic-accident-hit-and-run</td>\n",
       "      <td>traffic-accident</td>\n",
       "      <td>...</td>\n",
       "      <td>0</td>\n",
       "      <td>1</td>\n",
       "    </tr>\n",
       "  </tbody>\n",
       "</table>\n",
       "<p>5078 rows × 7 columns</p>\n",
       "</div>"
      ],
      "text/plain": [
       "                                  OFFENSE_TYPE_ID       OFFENSE_CATEGORY_ID  \\\n",
       "REPORTED_DATE                                                                 \n",
       "2012-06-01 00:00:00              traffic-accident          traffic-accident   \n",
       "2012-06-01 00:26:00      theft-items-from-vehicle  theft-from-motor-vehicle   \n",
       "2012-06-01 01:06:00            aggravated-assault        aggravated-assault   \n",
       "2012-06-01 01:10:00   burglary-residence-no-force                  burglary   \n",
       "2012-06-01 01:19:00       criminal-mischief-other           public-disorder   \n",
       "...                                           ...                       ...   \n",
       "2012-06-30 23:40:00  traffic-accident-hit-and-run          traffic-accident   \n",
       "2012-06-30 23:40:00     traffic-accident-dui-duid          traffic-accident   \n",
       "2012-06-30 23:44:00              traffic-accident          traffic-accident   \n",
       "2012-06-30 23:50:00     criminal-mischief-mtr-veh           public-disorder   \n",
       "2012-06-30 23:54:00  traffic-accident-hit-and-run          traffic-accident   \n",
       "\n",
       "                     ...  IS_CRIME  IS_TRAFFIC  \n",
       "REPORTED_DATE        ...                        \n",
       "2012-06-01 00:00:00  ...         0           1  \n",
       "2012-06-01 00:26:00  ...         1           0  \n",
       "2012-06-01 01:06:00  ...         1           0  \n",
       "2012-06-01 01:10:00  ...         1           0  \n",
       "2012-06-01 01:19:00  ...         1           0  \n",
       "...                  ...       ...         ...  \n",
       "2012-06-30 23:40:00  ...         0           1  \n",
       "2012-06-30 23:40:00  ...         0           1  \n",
       "2012-06-30 23:44:00  ...         0           1  \n",
       "2012-06-30 23:50:00  ...         1           0  \n",
       "2012-06-30 23:54:00  ...         0           1  \n",
       "\n",
       "[5078 rows x 7 columns]"
      ]
     },
     "execution_count": 131,
     "metadata": {},
     "output_type": "execute_result"
    }
   ],
   "source": [
    "crime_sort.loc['2012-06']"
   ]
  },
  {
   "cell_type": "markdown",
   "id": "68556a7c",
   "metadata": {},
   "source": [
    "There are a dozen DateOffset objects for moving forward or backward to the next\n",
    "nearest offset. Instead of hunting down the DateOffset objects in pd.offsets,\n",
    "you can use a string called an offset alias instead. For instance, the string for\n",
    "MonthEnd is M and for MonthBegin is MS. To denote the number of these offset\n",
    "aliases, place an integer in front of it. Use this table to find all the aliases (https://\n",
    "pandas.pydata.org/pandas-docs/stable/user_guide/timeseries.\n",
    "html#timeseries-offset-aliases). Let's see some examples of offset\n",
    "aliases with the description of what is being selected in the comments:"
   ]
  },
  {
   "cell_type": "code",
   "execution_count": 134,
   "id": "67d42d90",
   "metadata": {},
   "outputs": [
    {
     "data": {
      "text/html": [
       "<div>\n",
       "<style scoped>\n",
       "    .dataframe tbody tr th:only-of-type {\n",
       "        vertical-align: middle;\n",
       "    }\n",
       "\n",
       "    .dataframe tbody tr th {\n",
       "        vertical-align: top;\n",
       "    }\n",
       "\n",
       "    .dataframe thead th {\n",
       "        text-align: right;\n",
       "    }\n",
       "</style>\n",
       "<table border=\"1\" class=\"dataframe\">\n",
       "  <thead>\n",
       "    <tr style=\"text-align: right;\">\n",
       "      <th></th>\n",
       "      <th>OFFENSE_TYPE_ID</th>\n",
       "      <th>OFFENSE_CATEGORY_ID</th>\n",
       "      <th>...</th>\n",
       "      <th>IS_CRIME</th>\n",
       "      <th>IS_TRAFFIC</th>\n",
       "    </tr>\n",
       "    <tr>\n",
       "      <th>REPORTED_DATE</th>\n",
       "      <th></th>\n",
       "      <th></th>\n",
       "      <th></th>\n",
       "      <th></th>\n",
       "      <th></th>\n",
       "    </tr>\n",
       "  </thead>\n",
       "  <tbody>\n",
       "    <tr>\n",
       "      <th>2012-01-02 00:06:00</th>\n",
       "      <td>aggravated-assault</td>\n",
       "      <td>aggravated-assault</td>\n",
       "      <td>...</td>\n",
       "      <td>1</td>\n",
       "      <td>0</td>\n",
       "    </tr>\n",
       "    <tr>\n",
       "      <th>2012-01-02 00:06:00</th>\n",
       "      <td>violation-of-restraining-order</td>\n",
       "      <td>all-other-crimes</td>\n",
       "      <td>...</td>\n",
       "      <td>1</td>\n",
       "      <td>0</td>\n",
       "    </tr>\n",
       "    <tr>\n",
       "      <th>2012-01-02 00:16:00</th>\n",
       "      <td>traffic-accident-dui-duid</td>\n",
       "      <td>traffic-accident</td>\n",
       "      <td>...</td>\n",
       "      <td>0</td>\n",
       "      <td>1</td>\n",
       "    </tr>\n",
       "    <tr>\n",
       "      <th>2012-01-02 00:47:00</th>\n",
       "      <td>traffic-accident</td>\n",
       "      <td>traffic-accident</td>\n",
       "      <td>...</td>\n",
       "      <td>0</td>\n",
       "      <td>1</td>\n",
       "    </tr>\n",
       "    <tr>\n",
       "      <th>2012-01-02 01:35:00</th>\n",
       "      <td>aggravated-assault</td>\n",
       "      <td>aggravated-assault</td>\n",
       "      <td>...</td>\n",
       "      <td>1</td>\n",
       "      <td>0</td>\n",
       "    </tr>\n",
       "    <tr>\n",
       "      <th>...</th>\n",
       "      <td>...</td>\n",
       "      <td>...</td>\n",
       "      <td>...</td>\n",
       "      <td>...</td>\n",
       "      <td>...</td>\n",
       "    </tr>\n",
       "    <tr>\n",
       "      <th>2012-01-06 23:11:00</th>\n",
       "      <td>theft-items-from-vehicle</td>\n",
       "      <td>theft-from-motor-vehicle</td>\n",
       "      <td>...</td>\n",
       "      <td>1</td>\n",
       "      <td>0</td>\n",
       "    </tr>\n",
       "    <tr>\n",
       "      <th>2012-01-06 23:23:00</th>\n",
       "      <td>violation-of-restraining-order</td>\n",
       "      <td>all-other-crimes</td>\n",
       "      <td>...</td>\n",
       "      <td>1</td>\n",
       "      <td>0</td>\n",
       "    </tr>\n",
       "    <tr>\n",
       "      <th>2012-01-06 23:30:00</th>\n",
       "      <td>assault-dv</td>\n",
       "      <td>other-crimes-against-persons</td>\n",
       "      <td>...</td>\n",
       "      <td>1</td>\n",
       "      <td>0</td>\n",
       "    </tr>\n",
       "    <tr>\n",
       "      <th>2012-01-06 23:44:00</th>\n",
       "      <td>theft-of-motor-vehicle</td>\n",
       "      <td>auto-theft</td>\n",
       "      <td>...</td>\n",
       "      <td>1</td>\n",
       "      <td>0</td>\n",
       "    </tr>\n",
       "    <tr>\n",
       "      <th>2012-01-06 23:55:00</th>\n",
       "      <td>threats-to-injure</td>\n",
       "      <td>public-disorder</td>\n",
       "      <td>...</td>\n",
       "      <td>1</td>\n",
       "      <td>0</td>\n",
       "    </tr>\n",
       "  </tbody>\n",
       "</table>\n",
       "<p>605 rows × 7 columns</p>\n",
       "</div>"
      ],
      "text/plain": [
       "                                    OFFENSE_TYPE_ID  \\\n",
       "REPORTED_DATE                                         \n",
       "2012-01-02 00:06:00              aggravated-assault   \n",
       "2012-01-02 00:06:00  violation-of-restraining-order   \n",
       "2012-01-02 00:16:00       traffic-accident-dui-duid   \n",
       "2012-01-02 00:47:00                traffic-accident   \n",
       "2012-01-02 01:35:00              aggravated-assault   \n",
       "...                                             ...   \n",
       "2012-01-06 23:11:00        theft-items-from-vehicle   \n",
       "2012-01-06 23:23:00  violation-of-restraining-order   \n",
       "2012-01-06 23:30:00                      assault-dv   \n",
       "2012-01-06 23:44:00          theft-of-motor-vehicle   \n",
       "2012-01-06 23:55:00               threats-to-injure   \n",
       "\n",
       "                              OFFENSE_CATEGORY_ID  ...  IS_CRIME  IS_TRAFFIC  \n",
       "REPORTED_DATE                                      ...                        \n",
       "2012-01-02 00:06:00            aggravated-assault  ...         1           0  \n",
       "2012-01-02 00:06:00              all-other-crimes  ...         1           0  \n",
       "2012-01-02 00:16:00              traffic-accident  ...         0           1  \n",
       "2012-01-02 00:47:00              traffic-accident  ...         0           1  \n",
       "2012-01-02 01:35:00            aggravated-assault  ...         1           0  \n",
       "...                                           ...  ...       ...         ...  \n",
       "2012-01-06 23:11:00      theft-from-motor-vehicle  ...         1           0  \n",
       "2012-01-06 23:23:00              all-other-crimes  ...         1           0  \n",
       "2012-01-06 23:30:00  other-crimes-against-persons  ...         1           0  \n",
       "2012-01-06 23:44:00                    auto-theft  ...         1           0  \n",
       "2012-01-06 23:55:00               public-disorder  ...         1           0  \n",
       "\n",
       "[605 rows x 7 columns]"
      ]
     },
     "execution_count": 134,
     "metadata": {},
     "output_type": "execute_result"
    }
   ],
   "source": [
    "crime_sort.first('5D') # 5 days"
   ]
  },
  {
   "cell_type": "code",
   "execution_count": 135,
   "id": "0f5438fc",
   "metadata": {},
   "outputs": [
    {
     "data": {
      "text/html": [
       "<div>\n",
       "<style scoped>\n",
       "    .dataframe tbody tr th:only-of-type {\n",
       "        vertical-align: middle;\n",
       "    }\n",
       "\n",
       "    .dataframe tbody tr th {\n",
       "        vertical-align: top;\n",
       "    }\n",
       "\n",
       "    .dataframe thead th {\n",
       "        text-align: right;\n",
       "    }\n",
       "</style>\n",
       "<table border=\"1\" class=\"dataframe\">\n",
       "  <thead>\n",
       "    <tr style=\"text-align: right;\">\n",
       "      <th></th>\n",
       "      <th>OFFENSE_TYPE_ID</th>\n",
       "      <th>OFFENSE_CATEGORY_ID</th>\n",
       "      <th>...</th>\n",
       "      <th>IS_CRIME</th>\n",
       "      <th>IS_TRAFFIC</th>\n",
       "    </tr>\n",
       "    <tr>\n",
       "      <th>REPORTED_DATE</th>\n",
       "      <th></th>\n",
       "      <th></th>\n",
       "      <th></th>\n",
       "      <th></th>\n",
       "      <th></th>\n",
       "    </tr>\n",
       "  </thead>\n",
       "  <tbody>\n",
       "    <tr>\n",
       "      <th>2012-01-02 00:06:00</th>\n",
       "      <td>aggravated-assault</td>\n",
       "      <td>aggravated-assault</td>\n",
       "      <td>...</td>\n",
       "      <td>1</td>\n",
       "      <td>0</td>\n",
       "    </tr>\n",
       "    <tr>\n",
       "      <th>2012-01-02 00:06:00</th>\n",
       "      <td>violation-of-restraining-order</td>\n",
       "      <td>all-other-crimes</td>\n",
       "      <td>...</td>\n",
       "      <td>1</td>\n",
       "      <td>0</td>\n",
       "    </tr>\n",
       "    <tr>\n",
       "      <th>2012-01-02 00:16:00</th>\n",
       "      <td>traffic-accident-dui-duid</td>\n",
       "      <td>traffic-accident</td>\n",
       "      <td>...</td>\n",
       "      <td>0</td>\n",
       "      <td>1</td>\n",
       "    </tr>\n",
       "    <tr>\n",
       "      <th>2012-01-02 00:47:00</th>\n",
       "      <td>traffic-accident</td>\n",
       "      <td>traffic-accident</td>\n",
       "      <td>...</td>\n",
       "      <td>0</td>\n",
       "      <td>1</td>\n",
       "    </tr>\n",
       "    <tr>\n",
       "      <th>2012-01-02 01:35:00</th>\n",
       "      <td>aggravated-assault</td>\n",
       "      <td>aggravated-assault</td>\n",
       "      <td>...</td>\n",
       "      <td>1</td>\n",
       "      <td>0</td>\n",
       "    </tr>\n",
       "    <tr>\n",
       "      <th>...</th>\n",
       "      <td>...</td>\n",
       "      <td>...</td>\n",
       "      <td>...</td>\n",
       "      <td>...</td>\n",
       "      <td>...</td>\n",
       "    </tr>\n",
       "    <tr>\n",
       "      <th>2012-01-05 22:27:00</th>\n",
       "      <td>criminal-mischief-graffiti</td>\n",
       "      <td>public-disorder</td>\n",
       "      <td>...</td>\n",
       "      <td>1</td>\n",
       "      <td>0</td>\n",
       "    </tr>\n",
       "    <tr>\n",
       "      <th>2012-01-05 22:32:00</th>\n",
       "      <td>traffic-accident-hit-and-run</td>\n",
       "      <td>traffic-accident</td>\n",
       "      <td>...</td>\n",
       "      <td>0</td>\n",
       "      <td>1</td>\n",
       "    </tr>\n",
       "    <tr>\n",
       "      <th>2012-01-05 23:40:00</th>\n",
       "      <td>harassment</td>\n",
       "      <td>public-disorder</td>\n",
       "      <td>...</td>\n",
       "      <td>1</td>\n",
       "      <td>0</td>\n",
       "    </tr>\n",
       "    <tr>\n",
       "      <th>2012-01-05 23:43:00</th>\n",
       "      <td>theft-of-motor-vehicle</td>\n",
       "      <td>auto-theft</td>\n",
       "      <td>...</td>\n",
       "      <td>1</td>\n",
       "      <td>0</td>\n",
       "    </tr>\n",
       "    <tr>\n",
       "      <th>2012-01-06 00:06:00</th>\n",
       "      <td>theft-items-from-vehicle</td>\n",
       "      <td>theft-from-motor-vehicle</td>\n",
       "      <td>...</td>\n",
       "      <td>1</td>\n",
       "      <td>0</td>\n",
       "    </tr>\n",
       "  </tbody>\n",
       "</table>\n",
       "<p>463 rows × 7 columns</p>\n",
       "</div>"
      ],
      "text/plain": [
       "                                    OFFENSE_TYPE_ID       OFFENSE_CATEGORY_ID  \\\n",
       "REPORTED_DATE                                                                   \n",
       "2012-01-02 00:06:00              aggravated-assault        aggravated-assault   \n",
       "2012-01-02 00:06:00  violation-of-restraining-order          all-other-crimes   \n",
       "2012-01-02 00:16:00       traffic-accident-dui-duid          traffic-accident   \n",
       "2012-01-02 00:47:00                traffic-accident          traffic-accident   \n",
       "2012-01-02 01:35:00              aggravated-assault        aggravated-assault   \n",
       "...                                             ...                       ...   \n",
       "2012-01-05 22:27:00      criminal-mischief-graffiti           public-disorder   \n",
       "2012-01-05 22:32:00    traffic-accident-hit-and-run          traffic-accident   \n",
       "2012-01-05 23:40:00                      harassment           public-disorder   \n",
       "2012-01-05 23:43:00          theft-of-motor-vehicle                auto-theft   \n",
       "2012-01-06 00:06:00        theft-items-from-vehicle  theft-from-motor-vehicle   \n",
       "\n",
       "                     ...  IS_CRIME  IS_TRAFFIC  \n",
       "REPORTED_DATE        ...                        \n",
       "2012-01-02 00:06:00  ...         1           0  \n",
       "2012-01-02 00:06:00  ...         1           0  \n",
       "2012-01-02 00:16:00  ...         0           1  \n",
       "2012-01-02 00:47:00  ...         0           1  \n",
       "2012-01-02 01:35:00  ...         1           0  \n",
       "...                  ...       ...         ...  \n",
       "2012-01-05 22:27:00  ...         1           0  \n",
       "2012-01-05 22:32:00  ...         0           1  \n",
       "2012-01-05 23:40:00  ...         1           0  \n",
       "2012-01-05 23:43:00  ...         1           0  \n",
       "2012-01-06 00:06:00  ...         1           0  \n",
       "\n",
       "[463 rows x 7 columns]"
      ]
     },
     "execution_count": 135,
     "metadata": {},
     "output_type": "execute_result"
    }
   ],
   "source": [
    "crime_sort.first('5B') # 5 business days"
   ]
  },
  {
   "cell_type": "code",
   "execution_count": 136,
   "id": "54d3c906",
   "metadata": {},
   "outputs": [
    {
     "data": {
      "text/html": [
       "<div>\n",
       "<style scoped>\n",
       "    .dataframe tbody tr th:only-of-type {\n",
       "        vertical-align: middle;\n",
       "    }\n",
       "\n",
       "    .dataframe tbody tr th {\n",
       "        vertical-align: top;\n",
       "    }\n",
       "\n",
       "    .dataframe thead th {\n",
       "        text-align: right;\n",
       "    }\n",
       "</style>\n",
       "<table border=\"1\" class=\"dataframe\">\n",
       "  <thead>\n",
       "    <tr style=\"text-align: right;\">\n",
       "      <th></th>\n",
       "      <th>OFFENSE_TYPE_ID</th>\n",
       "      <th>OFFENSE_CATEGORY_ID</th>\n",
       "      <th>...</th>\n",
       "      <th>IS_CRIME</th>\n",
       "      <th>IS_TRAFFIC</th>\n",
       "    </tr>\n",
       "    <tr>\n",
       "      <th>REPORTED_DATE</th>\n",
       "      <th></th>\n",
       "      <th></th>\n",
       "      <th></th>\n",
       "      <th></th>\n",
       "      <th></th>\n",
       "    </tr>\n",
       "  </thead>\n",
       "  <tbody>\n",
       "    <tr>\n",
       "      <th>2012-01-02 00:06:00</th>\n",
       "      <td>aggravated-assault</td>\n",
       "      <td>aggravated-assault</td>\n",
       "      <td>...</td>\n",
       "      <td>1</td>\n",
       "      <td>0</td>\n",
       "    </tr>\n",
       "    <tr>\n",
       "      <th>2012-01-02 00:06:00</th>\n",
       "      <td>violation-of-restraining-order</td>\n",
       "      <td>all-other-crimes</td>\n",
       "      <td>...</td>\n",
       "      <td>1</td>\n",
       "      <td>0</td>\n",
       "    </tr>\n",
       "    <tr>\n",
       "      <th>2012-01-02 00:16:00</th>\n",
       "      <td>traffic-accident-dui-duid</td>\n",
       "      <td>traffic-accident</td>\n",
       "      <td>...</td>\n",
       "      <td>0</td>\n",
       "      <td>1</td>\n",
       "    </tr>\n",
       "    <tr>\n",
       "      <th>2012-01-02 00:47:00</th>\n",
       "      <td>traffic-accident</td>\n",
       "      <td>traffic-accident</td>\n",
       "      <td>...</td>\n",
       "      <td>0</td>\n",
       "      <td>1</td>\n",
       "    </tr>\n",
       "    <tr>\n",
       "      <th>2012-01-02 01:35:00</th>\n",
       "      <td>aggravated-assault</td>\n",
       "      <td>aggravated-assault</td>\n",
       "      <td>...</td>\n",
       "      <td>1</td>\n",
       "      <td>0</td>\n",
       "    </tr>\n",
       "    <tr>\n",
       "      <th>...</th>\n",
       "      <td>...</td>\n",
       "      <td>...</td>\n",
       "      <td>...</td>\n",
       "      <td>...</td>\n",
       "      <td>...</td>\n",
       "    </tr>\n",
       "    <tr>\n",
       "      <th>2012-02-18 21:57:00</th>\n",
       "      <td>traffic-accident</td>\n",
       "      <td>traffic-accident</td>\n",
       "      <td>...</td>\n",
       "      <td>0</td>\n",
       "      <td>1</td>\n",
       "    </tr>\n",
       "    <tr>\n",
       "      <th>2012-02-18 22:19:00</th>\n",
       "      <td>criminal-mischief-graffiti</td>\n",
       "      <td>public-disorder</td>\n",
       "      <td>...</td>\n",
       "      <td>1</td>\n",
       "      <td>0</td>\n",
       "    </tr>\n",
       "    <tr>\n",
       "      <th>2012-02-18 22:20:00</th>\n",
       "      <td>traffic-accident-dui-duid</td>\n",
       "      <td>traffic-accident</td>\n",
       "      <td>...</td>\n",
       "      <td>0</td>\n",
       "      <td>1</td>\n",
       "    </tr>\n",
       "    <tr>\n",
       "      <th>2012-02-18 22:44:00</th>\n",
       "      <td>criminal-mischief-mtr-veh</td>\n",
       "      <td>public-disorder</td>\n",
       "      <td>...</td>\n",
       "      <td>1</td>\n",
       "      <td>0</td>\n",
       "    </tr>\n",
       "    <tr>\n",
       "      <th>2012-02-18 23:27:00</th>\n",
       "      <td>theft-items-from-vehicle</td>\n",
       "      <td>theft-from-motor-vehicle</td>\n",
       "      <td>...</td>\n",
       "      <td>1</td>\n",
       "      <td>0</td>\n",
       "    </tr>\n",
       "  </tbody>\n",
       "</table>\n",
       "<p>6708 rows × 7 columns</p>\n",
       "</div>"
      ],
      "text/plain": [
       "                                    OFFENSE_TYPE_ID       OFFENSE_CATEGORY_ID  \\\n",
       "REPORTED_DATE                                                                   \n",
       "2012-01-02 00:06:00              aggravated-assault        aggravated-assault   \n",
       "2012-01-02 00:06:00  violation-of-restraining-order          all-other-crimes   \n",
       "2012-01-02 00:16:00       traffic-accident-dui-duid          traffic-accident   \n",
       "2012-01-02 00:47:00                traffic-accident          traffic-accident   \n",
       "2012-01-02 01:35:00              aggravated-assault        aggravated-assault   \n",
       "...                                             ...                       ...   \n",
       "2012-02-18 21:57:00                traffic-accident          traffic-accident   \n",
       "2012-02-18 22:19:00      criminal-mischief-graffiti           public-disorder   \n",
       "2012-02-18 22:20:00       traffic-accident-dui-duid          traffic-accident   \n",
       "2012-02-18 22:44:00       criminal-mischief-mtr-veh           public-disorder   \n",
       "2012-02-18 23:27:00        theft-items-from-vehicle  theft-from-motor-vehicle   \n",
       "\n",
       "                     ...  IS_CRIME  IS_TRAFFIC  \n",
       "REPORTED_DATE        ...                        \n",
       "2012-01-02 00:06:00  ...         1           0  \n",
       "2012-01-02 00:06:00  ...         1           0  \n",
       "2012-01-02 00:16:00  ...         0           1  \n",
       "2012-01-02 00:47:00  ...         0           1  \n",
       "2012-01-02 01:35:00  ...         1           0  \n",
       "...                  ...       ...         ...  \n",
       "2012-02-18 21:57:00  ...         0           1  \n",
       "2012-02-18 22:19:00  ...         1           0  \n",
       "2012-02-18 22:20:00  ...         0           1  \n",
       "2012-02-18 22:44:00  ...         1           0  \n",
       "2012-02-18 23:27:00  ...         1           0  \n",
       "\n",
       "[6708 rows x 7 columns]"
      ]
     },
     "execution_count": 136,
     "metadata": {},
     "output_type": "execute_result"
    }
   ],
   "source": [
    "crime_sort.first('7W') # 7 weeks, with weeks ending on sunday"
   ]
  },
  {
   "cell_type": "code",
   "execution_count": 142,
   "id": "4547e2e1",
   "metadata": {},
   "outputs": [
    {
     "data": {
      "text/html": [
       "<div>\n",
       "<style scoped>\n",
       "    .dataframe tbody tr th:only-of-type {\n",
       "        vertical-align: middle;\n",
       "    }\n",
       "\n",
       "    .dataframe tbody tr th {\n",
       "        vertical-align: top;\n",
       "    }\n",
       "\n",
       "    .dataframe thead th {\n",
       "        text-align: right;\n",
       "    }\n",
       "</style>\n",
       "<table border=\"1\" class=\"dataframe\">\n",
       "  <thead>\n",
       "    <tr style=\"text-align: right;\">\n",
       "      <th></th>\n",
       "      <th>OFFENSE_TYPE_ID</th>\n",
       "      <th>OFFENSE_CATEGORY_ID</th>\n",
       "      <th>...</th>\n",
       "      <th>IS_CRIME</th>\n",
       "      <th>IS_TRAFFIC</th>\n",
       "    </tr>\n",
       "    <tr>\n",
       "      <th>REPORTED_DATE</th>\n",
       "      <th></th>\n",
       "      <th></th>\n",
       "      <th></th>\n",
       "      <th></th>\n",
       "      <th></th>\n",
       "    </tr>\n",
       "  </thead>\n",
       "  <tbody>\n",
       "    <tr>\n",
       "      <th>2012-01-02 00:06:00</th>\n",
       "      <td>aggravated-assault</td>\n",
       "      <td>aggravated-assault</td>\n",
       "      <td>...</td>\n",
       "      <td>1</td>\n",
       "      <td>0</td>\n",
       "    </tr>\n",
       "    <tr>\n",
       "      <th>2012-01-02 00:06:00</th>\n",
       "      <td>violation-of-restraining-order</td>\n",
       "      <td>all-other-crimes</td>\n",
       "      <td>...</td>\n",
       "      <td>1</td>\n",
       "      <td>0</td>\n",
       "    </tr>\n",
       "    <tr>\n",
       "      <th>2012-01-02 00:16:00</th>\n",
       "      <td>traffic-accident-dui-duid</td>\n",
       "      <td>traffic-accident</td>\n",
       "      <td>...</td>\n",
       "      <td>0</td>\n",
       "      <td>1</td>\n",
       "    </tr>\n",
       "    <tr>\n",
       "      <th>2012-01-02 00:47:00</th>\n",
       "      <td>traffic-accident</td>\n",
       "      <td>traffic-accident</td>\n",
       "      <td>...</td>\n",
       "      <td>0</td>\n",
       "      <td>1</td>\n",
       "    </tr>\n",
       "    <tr>\n",
       "      <th>2012-01-02 01:35:00</th>\n",
       "      <td>aggravated-assault</td>\n",
       "      <td>aggravated-assault</td>\n",
       "      <td>...</td>\n",
       "      <td>1</td>\n",
       "      <td>0</td>\n",
       "    </tr>\n",
       "    <tr>\n",
       "      <th>...</th>\n",
       "      <td>...</td>\n",
       "      <td>...</td>\n",
       "      <td>...</td>\n",
       "      <td>...</td>\n",
       "      <td>...</td>\n",
       "    </tr>\n",
       "    <tr>\n",
       "      <th>2012-09-30 23:17:00</th>\n",
       "      <td>drug-hallucinogen-possess</td>\n",
       "      <td>drug-alcohol</td>\n",
       "      <td>...</td>\n",
       "      <td>1</td>\n",
       "      <td>0</td>\n",
       "    </tr>\n",
       "    <tr>\n",
       "      <th>2012-09-30 23:29:00</th>\n",
       "      <td>robbery-street</td>\n",
       "      <td>robbery</td>\n",
       "      <td>...</td>\n",
       "      <td>1</td>\n",
       "      <td>0</td>\n",
       "    </tr>\n",
       "    <tr>\n",
       "      <th>2012-09-30 23:29:00</th>\n",
       "      <td>theft-of-motor-vehicle</td>\n",
       "      <td>auto-theft</td>\n",
       "      <td>...</td>\n",
       "      <td>1</td>\n",
       "      <td>0</td>\n",
       "    </tr>\n",
       "    <tr>\n",
       "      <th>2012-09-30 23:41:00</th>\n",
       "      <td>traffic-accident-hit-and-run</td>\n",
       "      <td>traffic-accident</td>\n",
       "      <td>...</td>\n",
       "      <td>0</td>\n",
       "      <td>1</td>\n",
       "    </tr>\n",
       "    <tr>\n",
       "      <th>2012-09-30 23:43:00</th>\n",
       "      <td>robbery-business</td>\n",
       "      <td>robbery</td>\n",
       "      <td>...</td>\n",
       "      <td>1</td>\n",
       "      <td>0</td>\n",
       "    </tr>\n",
       "  </tbody>\n",
       "</table>\n",
       "<p>43045 rows × 7 columns</p>\n",
       "</div>"
      ],
      "text/plain": [
       "                                    OFFENSE_TYPE_ID OFFENSE_CATEGORY_ID  ...  \\\n",
       "REPORTED_DATE                                                            ...   \n",
       "2012-01-02 00:06:00              aggravated-assault  aggravated-assault  ...   \n",
       "2012-01-02 00:06:00  violation-of-restraining-order    all-other-crimes  ...   \n",
       "2012-01-02 00:16:00       traffic-accident-dui-duid    traffic-accident  ...   \n",
       "2012-01-02 00:47:00                traffic-accident    traffic-accident  ...   \n",
       "2012-01-02 01:35:00              aggravated-assault  aggravated-assault  ...   \n",
       "...                                             ...                 ...  ...   \n",
       "2012-09-30 23:17:00       drug-hallucinogen-possess        drug-alcohol  ...   \n",
       "2012-09-30 23:29:00                  robbery-street             robbery  ...   \n",
       "2012-09-30 23:29:00          theft-of-motor-vehicle          auto-theft  ...   \n",
       "2012-09-30 23:41:00    traffic-accident-hit-and-run    traffic-accident  ...   \n",
       "2012-09-30 23:43:00                robbery-business             robbery  ...   \n",
       "\n",
       "                     IS_CRIME  IS_TRAFFIC  \n",
       "REPORTED_DATE                              \n",
       "2012-01-02 00:06:00         1           0  \n",
       "2012-01-02 00:06:00         1           0  \n",
       "2012-01-02 00:16:00         0           1  \n",
       "2012-01-02 00:47:00         0           1  \n",
       "2012-01-02 01:35:00         1           0  \n",
       "...                       ...         ...  \n",
       "2012-09-30 23:17:00         1           0  \n",
       "2012-09-30 23:29:00         1           0  \n",
       "2012-09-30 23:29:00         1           0  \n",
       "2012-09-30 23:41:00         0           1  \n",
       "2012-09-30 23:43:00         1           0  \n",
       "\n",
       "[43045 rows x 7 columns]"
      ]
     },
     "execution_count": 142,
     "metadata": {},
     "output_type": "execute_result"
    }
   ],
   "source": [
    "crime_sort.first('3QS') # 3rd quarter start"
   ]
  },
  {
   "cell_type": "code",
   "execution_count": 143,
   "id": "41c2cdb8",
   "metadata": {},
   "outputs": [
    {
     "data": {
      "text/html": [
       "<div>\n",
       "<style scoped>\n",
       "    .dataframe tbody tr th:only-of-type {\n",
       "        vertical-align: middle;\n",
       "    }\n",
       "\n",
       "    .dataframe tbody tr th {\n",
       "        vertical-align: top;\n",
       "    }\n",
       "\n",
       "    .dataframe thead th {\n",
       "        text-align: right;\n",
       "    }\n",
       "</style>\n",
       "<table border=\"1\" class=\"dataframe\">\n",
       "  <thead>\n",
       "    <tr style=\"text-align: right;\">\n",
       "      <th></th>\n",
       "      <th>OFFENSE_TYPE_ID</th>\n",
       "      <th>OFFENSE_CATEGORY_ID</th>\n",
       "      <th>...</th>\n",
       "      <th>IS_CRIME</th>\n",
       "      <th>IS_TRAFFIC</th>\n",
       "    </tr>\n",
       "    <tr>\n",
       "      <th>REPORTED_DATE</th>\n",
       "      <th></th>\n",
       "      <th></th>\n",
       "      <th></th>\n",
       "      <th></th>\n",
       "      <th></th>\n",
       "    </tr>\n",
       "  </thead>\n",
       "  <tbody>\n",
       "    <tr>\n",
       "      <th>2012-01-02 00:06:00</th>\n",
       "      <td>aggravated-assault</td>\n",
       "      <td>aggravated-assault</td>\n",
       "      <td>...</td>\n",
       "      <td>1</td>\n",
       "      <td>0</td>\n",
       "    </tr>\n",
       "    <tr>\n",
       "      <th>2012-01-02 00:06:00</th>\n",
       "      <td>violation-of-restraining-order</td>\n",
       "      <td>all-other-crimes</td>\n",
       "      <td>...</td>\n",
       "      <td>1</td>\n",
       "      <td>0</td>\n",
       "    </tr>\n",
       "    <tr>\n",
       "      <th>2012-01-02 00:16:00</th>\n",
       "      <td>traffic-accident-dui-duid</td>\n",
       "      <td>traffic-accident</td>\n",
       "      <td>...</td>\n",
       "      <td>0</td>\n",
       "      <td>1</td>\n",
       "    </tr>\n",
       "    <tr>\n",
       "      <th>2012-01-02 00:47:00</th>\n",
       "      <td>traffic-accident</td>\n",
       "      <td>traffic-accident</td>\n",
       "      <td>...</td>\n",
       "      <td>0</td>\n",
       "      <td>1</td>\n",
       "    </tr>\n",
       "    <tr>\n",
       "      <th>2012-01-02 01:35:00</th>\n",
       "      <td>aggravated-assault</td>\n",
       "      <td>aggravated-assault</td>\n",
       "      <td>...</td>\n",
       "      <td>1</td>\n",
       "      <td>0</td>\n",
       "    </tr>\n",
       "    <tr>\n",
       "      <th>...</th>\n",
       "      <td>...</td>\n",
       "      <td>...</td>\n",
       "      <td>...</td>\n",
       "      <td>...</td>\n",
       "      <td>...</td>\n",
       "    </tr>\n",
       "    <tr>\n",
       "      <th>2012-12-30 23:13:00</th>\n",
       "      <td>traffic-accident</td>\n",
       "      <td>traffic-accident</td>\n",
       "      <td>...</td>\n",
       "      <td>0</td>\n",
       "      <td>1</td>\n",
       "    </tr>\n",
       "    <tr>\n",
       "      <th>2012-12-30 23:14:00</th>\n",
       "      <td>burglary-residence-no-force</td>\n",
       "      <td>burglary</td>\n",
       "      <td>...</td>\n",
       "      <td>1</td>\n",
       "      <td>0</td>\n",
       "    </tr>\n",
       "    <tr>\n",
       "      <th>2012-12-30 23:39:00</th>\n",
       "      <td>theft-of-motor-vehicle</td>\n",
       "      <td>auto-theft</td>\n",
       "      <td>...</td>\n",
       "      <td>1</td>\n",
       "      <td>0</td>\n",
       "    </tr>\n",
       "    <tr>\n",
       "      <th>2012-12-30 23:41:00</th>\n",
       "      <td>traffic-accident</td>\n",
       "      <td>traffic-accident</td>\n",
       "      <td>...</td>\n",
       "      <td>0</td>\n",
       "      <td>1</td>\n",
       "    </tr>\n",
       "    <tr>\n",
       "      <th>2012-12-31 00:05:00</th>\n",
       "      <td>assault-simple</td>\n",
       "      <td>other-crimes-against-persons</td>\n",
       "      <td>...</td>\n",
       "      <td>1</td>\n",
       "      <td>0</td>\n",
       "    </tr>\n",
       "  </tbody>\n",
       "</table>\n",
       "<p>56897 rows × 7 columns</p>\n",
       "</div>"
      ],
      "text/plain": [
       "                                    OFFENSE_TYPE_ID  \\\n",
       "REPORTED_DATE                                         \n",
       "2012-01-02 00:06:00              aggravated-assault   \n",
       "2012-01-02 00:06:00  violation-of-restraining-order   \n",
       "2012-01-02 00:16:00       traffic-accident-dui-duid   \n",
       "2012-01-02 00:47:00                traffic-accident   \n",
       "2012-01-02 01:35:00              aggravated-assault   \n",
       "...                                             ...   \n",
       "2012-12-30 23:13:00                traffic-accident   \n",
       "2012-12-30 23:14:00     burglary-residence-no-force   \n",
       "2012-12-30 23:39:00          theft-of-motor-vehicle   \n",
       "2012-12-30 23:41:00                traffic-accident   \n",
       "2012-12-31 00:05:00                  assault-simple   \n",
       "\n",
       "                              OFFENSE_CATEGORY_ID  ...  IS_CRIME  IS_TRAFFIC  \n",
       "REPORTED_DATE                                      ...                        \n",
       "2012-01-02 00:06:00            aggravated-assault  ...         1           0  \n",
       "2012-01-02 00:06:00              all-other-crimes  ...         1           0  \n",
       "2012-01-02 00:16:00              traffic-accident  ...         0           1  \n",
       "2012-01-02 00:47:00              traffic-accident  ...         0           1  \n",
       "2012-01-02 01:35:00            aggravated-assault  ...         1           0  \n",
       "...                                           ...  ...       ...         ...  \n",
       "2012-12-30 23:13:00              traffic-accident  ...         0           1  \n",
       "2012-12-30 23:14:00                      burglary  ...         1           0  \n",
       "2012-12-30 23:39:00                    auto-theft  ...         1           0  \n",
       "2012-12-30 23:41:00              traffic-accident  ...         0           1  \n",
       "2012-12-31 00:05:00  other-crimes-against-persons  ...         1           0  \n",
       "\n",
       "[56897 rows x 7 columns]"
      ]
     },
     "execution_count": 143,
     "metadata": {},
     "output_type": "execute_result"
    }
   ],
   "source": [
    "crime_sort.first('A') # one year end"
   ]
  },
  {
   "cell_type": "markdown",
   "id": "5b083bd7",
   "metadata": {},
   "source": [
    "## Counting the number of weekly crimes"
   ]
  },
  {
   "cell_type": "markdown",
   "id": "e4c4e55f",
   "metadata": {},
   "source": [
    "The Denver crime dataset is huge, with over 460,000 rows each marked with a reported\n",
    "date. Counting the number of weekly crimes is one of many queries that can be answered\n",
    "by grouping according to some period of time. The .resample method provides an easy\n",
    "interface to grouping by any possible span of time.\n",
    "In this recipe, we will use both the .resample and .groupby methods to count the number\n",
    "of weekly crimes."
   ]
  },
  {
   "cell_type": "code",
   "execution_count": 165,
   "id": "a6845643",
   "metadata": {},
   "outputs": [],
   "source": [
    "crime_sort = (pd.read_hdf('C:/Users/justine.o_kobo360/Desktop/Pandas Workbook/Pandas CookBook 1.x/Data files/crime.h5', 'crime')\n",
    "         .set_index('REPORTED_DATE')\n",
    "         .sort_index()\n",
    "        )\n"
   ]
  },
  {
   "cell_type": "markdown",
   "id": "fe4e8861",
   "metadata": {},
   "source": [
    "To count the number of crimes per week, we need to form a group for each week. The\n",
    ".resample method takes a DateOffset object or alias and returns an object ready\n",
    "to perform an action on all groups. The object returned from the .resample method\n",
    "is very similar to the object produced after calling the .groupby method:"
   ]
  },
  {
   "cell_type": "code",
   "execution_count": 166,
   "id": "41b0aed9",
   "metadata": {},
   "outputs": [
    {
     "data": {
      "text/plain": [
       "<pandas.core.resample.DatetimeIndexResampler object at 0x0000022187995A00>"
      ]
     },
     "execution_count": 166,
     "metadata": {},
     "output_type": "execute_result"
    }
   ],
   "source": [
    "crime_sort.resample('W')"
   ]
  },
  {
   "cell_type": "markdown",
   "id": "7cedf913",
   "metadata": {},
   "source": [
    "The offset alias, W, was used to inform pandas that we want to group by each week.\n",
    "There isn't much that happened in the preceding step. pandas has validated our\n",
    "offset and returned an object that is ready to perform an action on each week as\n",
    "a group. There are several methods that we can chain after calling .resample to\n",
    "return some data. Let's chain the .size method to count the number of weekly\n",
    "crimes:"
   ]
  },
  {
   "cell_type": "code",
   "execution_count": 168,
   "id": "403fd360",
   "metadata": {},
   "outputs": [
    {
     "data": {
      "text/plain": [
       "REPORTED_DATE\n",
       "2012-01-08     877\n",
       "2012-01-15    1071\n",
       "2012-01-22     991\n",
       "2012-01-29     988\n",
       "2012-02-05     888\n",
       "              ... \n",
       "2017-09-03    1956\n",
       "2017-09-10    1733\n",
       "2017-09-17    1976\n",
       "2017-09-24    1839\n",
       "2017-10-01    1059\n",
       "Freq: W-SUN, Length: 300, dtype: int64"
      ]
     },
     "execution_count": 168,
     "metadata": {},
     "output_type": "execute_result"
    }
   ],
   "source": [
    "(\n",
    "    crime_sort\n",
    "    .resample('W')\n",
    "    .size()\n",
    ")"
   ]
  },
  {
   "cell_type": "markdown",
   "id": "c7399be3",
   "metadata": {},
   "source": [
    "We now have the weekly crime count as a Series with the new index incrementing\n",
    "one week at a time. There are a few things that happen by default that are very\n",
    "important to understand. Sunday is chosen as the last day of the week and is also\n",
    "the date used to label each element in the resulting Series. For instance, the first\n",
    "index value January 8, 2012 is a Sunday. There were 877 crimes committed during\n",
    "that week ending on the 8th. The week of Monday, January 9th to Sunday, January\n",
    "15th recorded 1,071 crimes. Let's do some sanity checks and ensure that our\n",
    "resampling is doing this:"
   ]
  },
  {
   "cell_type": "code",
   "execution_count": 169,
   "id": "f132b130",
   "metadata": {},
   "outputs": [
    {
     "data": {
      "text/plain": [
       "877"
      ]
     },
     "execution_count": 169,
     "metadata": {},
     "output_type": "execute_result"
    }
   ],
   "source": [
    "len(crime_sort.loc[:'2012-1-8'])"
   ]
  },
  {
   "cell_type": "code",
   "execution_count": 172,
   "id": "bd5f0880",
   "metadata": {},
   "outputs": [
    {
     "data": {
      "text/plain": [
       "1071"
      ]
     },
     "execution_count": 172,
     "metadata": {},
     "output_type": "execute_result"
    }
   ],
   "source": [
    "len(crime_sort['2012-1-9': '2012-1-15'])"
   ]
  },
  {
   "cell_type": "code",
   "execution_count": 173,
   "id": "bf17382f",
   "metadata": {},
   "outputs": [
    {
     "data": {
      "text/plain": [
       "REPORTED_DATE\n",
       "2012-01-05     462\n",
       "2012-01-12    1116\n",
       "2012-01-19     924\n",
       "2012-01-26    1061\n",
       "2012-02-02     926\n",
       "              ... \n",
       "2017-09-07    1803\n",
       "2017-09-14    1866\n",
       "2017-09-21    1926\n",
       "2017-09-28    1720\n",
       "2017-10-05      28\n",
       "Freq: W-THU, Length: 301, dtype: int64"
      ]
     },
     "execution_count": 173,
     "metadata": {},
     "output_type": "execute_result"
    }
   ],
   "source": [
    "# Let's choose a different day to end the week\n",
    "# besides Sunday with an anchored offset\n",
    "(\n",
    "    crime_sort\n",
    "    .resample('W-THU')\n",
    "    .size()\n",
    ")"
   ]
  },
  {
   "cell_type": "markdown",
   "id": "ba2c9196",
   "metadata": {},
   "source": [
    "Nearly all the functionality of .resample may be reproduced by the .groupby\n",
    "method. The only difference is that you must pass the offset into a pd.Grouper\n",
    "object:"
   ]
  },
  {
   "cell_type": "code",
   "execution_count": 179,
   "id": "1f05209d",
   "metadata": {},
   "outputs": [],
   "source": [
    "weekly_crime = (crime_sort\n",
    " .groupby(pd.Grouper(freq='W'))\n",
    " .size()\n",
    "\n",
    ")"
   ]
  },
  {
   "cell_type": "code",
   "execution_count": 180,
   "id": "bf47306a",
   "metadata": {},
   "outputs": [
    {
     "data": {
      "text/plain": [
       "REPORTED_DATE\n",
       "2012-01-08     877\n",
       "2012-01-15    1071\n",
       "2012-01-22     991\n",
       "2012-01-29     988\n",
       "2012-02-05     888\n",
       "              ... \n",
       "2017-09-03    1956\n",
       "2017-09-10    1733\n",
       "2017-09-17    1976\n",
       "2017-09-24    1839\n",
       "2017-10-01    1059\n",
       "Freq: W-SUN, Length: 300, dtype: int64"
      ]
     },
     "execution_count": 180,
     "metadata": {},
     "output_type": "execute_result"
    }
   ],
   "source": [
    "weekly_crime"
   ]
  },
  {
   "cell_type": "code",
   "execution_count": 177,
   "id": "89708b7e",
   "metadata": {},
   "outputs": [],
   "source": [
    "r = crime_sort.resample('W')"
   ]
  },
  {
   "cell_type": "code",
   "execution_count": 178,
   "id": "d7ee7f53",
   "metadata": {},
   "outputs": [
    {
     "data": {
      "text/plain": [
       "['agg',\n",
       " 'aggregate',\n",
       " 'apply',\n",
       " 'asfreq',\n",
       " 'ax',\n",
       " 'backfill',\n",
       " 'bfill',\n",
       " 'binner',\n",
       " 'count',\n",
       " 'ffill',\n",
       " 'fillna',\n",
       " 'first',\n",
       " 'get_group',\n",
       " 'groupby',\n",
       " 'groups',\n",
       " 'indices',\n",
       " 'interpolate',\n",
       " 'kind',\n",
       " 'last',\n",
       " 'max',\n",
       " 'mean',\n",
       " 'median',\n",
       " 'min',\n",
       " 'ndim',\n",
       " 'nearest',\n",
       " 'ngroups',\n",
       " 'nunique',\n",
       " 'ohlc',\n",
       " 'pad',\n",
       " 'pipe',\n",
       " 'plot',\n",
       " 'prod',\n",
       " 'quantile',\n",
       " 'sem',\n",
       " 'size',\n",
       " 'std',\n",
       " 'sum',\n",
       " 'transform',\n",
       " 'var']"
      ]
     },
     "execution_count": 178,
     "metadata": {},
     "output_type": "execute_result"
    }
   ],
   "source": [
    "[attr for attr in dir(r) if attr[0].islower()]"
   ]
  },
  {
   "cell_type": "code",
   "execution_count": 182,
   "id": "75ed9862",
   "metadata": {},
   "outputs": [],
   "source": [
    "crime = pd.read_hdf('C:/Users/justine.o_kobo360/Desktop/Pandas Workbook/Pandas CookBook 1.x/Data files/crime.h5', 'crime')"
   ]
  },
  {
   "cell_type": "code",
   "execution_count": 183,
   "id": "d31bfdb1",
   "metadata": {},
   "outputs": [],
   "source": [
    "weekly_crime2 = (crime.resample('W', on='REPORTED_DATE')\n",
    "                       .size()\n",
    "                )"
   ]
  },
  {
   "cell_type": "code",
   "execution_count": 184,
   "id": "a9513d6a",
   "metadata": {},
   "outputs": [
    {
     "data": {
      "text/plain": [
       "True"
      ]
     },
     "execution_count": 184,
     "metadata": {},
     "output_type": "execute_result"
    }
   ],
   "source": [
    "weekly_crime2.equals(weekly_crime)"
   ]
  },
  {
   "cell_type": "markdown",
   "id": "c31ff069",
   "metadata": {},
   "source": [
    "We can also produce a line plot of all the crimes in Denver (including traffic accidents) by\n",
    "calling the .plot method on our Series of weekly crimes:"
   ]
  },
  {
   "cell_type": "code",
   "execution_count": 185,
   "id": "71fa7a85",
   "metadata": {},
   "outputs": [
    {
     "data": {
      "image/png": "[encoded data removed]",
      "text/plain": [
       "<Figure size 1152x288 with 1 Axes>"
      ]
     },
     "metadata": {
      "needs_background": "light"
     },
     "output_type": "display_data"
    }
   ],
   "source": [
    "import matplotlib.pyplot as plt\n",
    "fig, ax = plt.subplots(figsize=(16, 4))\n",
    "weekly_crime.plot(title='All Denver Crimes', ax=ax)\n",
    "fig.savefig('c12-crimes.png', dpi=300)"
   ]
  },
  {
   "cell_type": "markdown",
   "id": "b6e1b7e0",
   "metadata": {},
   "source": [
    "### Aggregating weekly crime and traffic accidents separately"
   ]
  },
  {
   "cell_type": "code",
   "execution_count": 190,
   "id": "0a5690cd",
   "metadata": {},
   "outputs": [],
   "source": [
    "crime = (pd.read_hdf('C:/Users/justine.o_kobo360/Desktop/Pandas Workbook/Pandas CookBook 1.x/Data files/crime.h5', 'crime')\n",
    "           .set_index('REPORTED_DATE')\n",
    "           .sort_index()\n",
    "        )"
   ]
  },
  {
   "cell_type": "code",
   "execution_count": 192,
   "id": "7b8bd2a2",
   "metadata": {},
   "outputs": [
    {
     "data": {
      "text/html": [
       "<div>\n",
       "<style scoped>\n",
       "    .dataframe tbody tr th:only-of-type {\n",
       "        vertical-align: middle;\n",
       "    }\n",
       "\n",
       "    .dataframe tbody tr th {\n",
       "        vertical-align: top;\n",
       "    }\n",
       "\n",
       "    .dataframe thead th {\n",
       "        text-align: right;\n",
       "    }\n",
       "</style>\n",
       "<table border=\"1\" class=\"dataframe\">\n",
       "  <thead>\n",
       "    <tr style=\"text-align: right;\">\n",
       "      <th></th>\n",
       "      <th>IS_CRIME</th>\n",
       "      <th>IS_TRAFFIC</th>\n",
       "    </tr>\n",
       "    <tr>\n",
       "      <th>REPORTED_DATE</th>\n",
       "      <th></th>\n",
       "      <th></th>\n",
       "    </tr>\n",
       "  </thead>\n",
       "  <tbody>\n",
       "    <tr>\n",
       "      <th>2012-03-31</th>\n",
       "      <td>7882</td>\n",
       "      <td>4726</td>\n",
       "    </tr>\n",
       "    <tr>\n",
       "      <th>2012-06-30</th>\n",
       "      <td>9641</td>\n",
       "      <td>5255</td>\n",
       "    </tr>\n",
       "    <tr>\n",
       "      <th>2012-09-30</th>\n",
       "      <td>10566</td>\n",
       "      <td>5003</td>\n",
       "    </tr>\n",
       "    <tr>\n",
       "      <th>2012-12-31</th>\n",
       "      <td>9197</td>\n",
       "      <td>4802</td>\n",
       "    </tr>\n",
       "    <tr>\n",
       "      <th>2013-03-31</th>\n",
       "      <td>8730</td>\n",
       "      <td>4442</td>\n",
       "    </tr>\n",
       "    <tr>\n",
       "      <th>...</th>\n",
       "      <td>...</td>\n",
       "      <td>...</td>\n",
       "    </tr>\n",
       "    <tr>\n",
       "      <th>2016-09-30</th>\n",
       "      <td>17427</td>\n",
       "      <td>6199</td>\n",
       "    </tr>\n",
       "    <tr>\n",
       "      <th>2016-12-31</th>\n",
       "      <td>15984</td>\n",
       "      <td>6094</td>\n",
       "    </tr>\n",
       "    <tr>\n",
       "      <th>2017-03-31</th>\n",
       "      <td>16426</td>\n",
       "      <td>5587</td>\n",
       "    </tr>\n",
       "    <tr>\n",
       "      <th>2017-06-30</th>\n",
       "      <td>17486</td>\n",
       "      <td>6148</td>\n",
       "    </tr>\n",
       "    <tr>\n",
       "      <th>2017-09-30</th>\n",
       "      <td>17990</td>\n",
       "      <td>6101</td>\n",
       "    </tr>\n",
       "  </tbody>\n",
       "</table>\n",
       "<p>23 rows × 2 columns</p>\n",
       "</div>"
      ],
      "text/plain": [
       "               IS_CRIME  IS_TRAFFIC\n",
       "REPORTED_DATE                      \n",
       "2012-03-31         7882        4726\n",
       "2012-06-30         9641        5255\n",
       "2012-09-30        10566        5003\n",
       "2012-12-31         9197        4802\n",
       "2013-03-31         8730        4442\n",
       "...                 ...         ...\n",
       "2016-09-30        17427        6199\n",
       "2016-12-31        15984        6094\n",
       "2017-03-31        16426        5587\n",
       "2017-06-30        17486        6148\n",
       "2017-09-30        17990        6101\n",
       "\n",
       "[23 rows x 2 columns]"
      ]
     },
     "execution_count": 192,
     "metadata": {},
     "output_type": "execute_result"
    }
   ],
   "source": [
    "# Use the .resample method to group by each quarter\n",
    "# of the year and then sum the IS_CRIME and \n",
    "# IS_TRAFFIC columns for each group:\n",
    "(crime\n",
    " .resample('Q')\n",
    " [['IS_CRIME', 'IS_TRAFFIC']]\n",
    " .sum()\n",
    ")"
   ]
  },
  {
   "cell_type": "markdown",
   "id": "1f246b22",
   "metadata": {},
   "source": [
    "Notice that the dates all appear as the last day of the quarter. This is because the\n",
    "offset alias, Q, represents the end of the quarter. Let's use the offset alias QS to\n",
    "represent the start of the quarter"
   ]
  },
  {
   "cell_type": "code",
   "execution_count": 193,
   "id": "c4ed9f0f",
   "metadata": {},
   "outputs": [
    {
     "data": {
      "text/html": [
       "<div>\n",
       "<style scoped>\n",
       "    .dataframe tbody tr th:only-of-type {\n",
       "        vertical-align: middle;\n",
       "    }\n",
       "\n",
       "    .dataframe tbody tr th {\n",
       "        vertical-align: top;\n",
       "    }\n",
       "\n",
       "    .dataframe thead th {\n",
       "        text-align: right;\n",
       "    }\n",
       "</style>\n",
       "<table border=\"1\" class=\"dataframe\">\n",
       "  <thead>\n",
       "    <tr style=\"text-align: right;\">\n",
       "      <th></th>\n",
       "      <th>IS_CRIME</th>\n",
       "      <th>IS_TRAFFIC</th>\n",
       "    </tr>\n",
       "    <tr>\n",
       "      <th>REPORTED_DATE</th>\n",
       "      <th></th>\n",
       "      <th></th>\n",
       "    </tr>\n",
       "  </thead>\n",
       "  <tbody>\n",
       "    <tr>\n",
       "      <th>2012-01-01</th>\n",
       "      <td>7882</td>\n",
       "      <td>4726</td>\n",
       "    </tr>\n",
       "    <tr>\n",
       "      <th>2012-04-01</th>\n",
       "      <td>9641</td>\n",
       "      <td>5255</td>\n",
       "    </tr>\n",
       "    <tr>\n",
       "      <th>2012-07-01</th>\n",
       "      <td>10566</td>\n",
       "      <td>5003</td>\n",
       "    </tr>\n",
       "    <tr>\n",
       "      <th>2012-10-01</th>\n",
       "      <td>9197</td>\n",
       "      <td>4802</td>\n",
       "    </tr>\n",
       "    <tr>\n",
       "      <th>2013-01-01</th>\n",
       "      <td>8730</td>\n",
       "      <td>4442</td>\n",
       "    </tr>\n",
       "    <tr>\n",
       "      <th>...</th>\n",
       "      <td>...</td>\n",
       "      <td>...</td>\n",
       "    </tr>\n",
       "    <tr>\n",
       "      <th>2016-07-01</th>\n",
       "      <td>17427</td>\n",
       "      <td>6199</td>\n",
       "    </tr>\n",
       "    <tr>\n",
       "      <th>2016-10-01</th>\n",
       "      <td>15984</td>\n",
       "      <td>6094</td>\n",
       "    </tr>\n",
       "    <tr>\n",
       "      <th>2017-01-01</th>\n",
       "      <td>16426</td>\n",
       "      <td>5587</td>\n",
       "    </tr>\n",
       "    <tr>\n",
       "      <th>2017-04-01</th>\n",
       "      <td>17486</td>\n",
       "      <td>6148</td>\n",
       "    </tr>\n",
       "    <tr>\n",
       "      <th>2017-07-01</th>\n",
       "      <td>17990</td>\n",
       "      <td>6101</td>\n",
       "    </tr>\n",
       "  </tbody>\n",
       "</table>\n",
       "<p>23 rows × 2 columns</p>\n",
       "</div>"
      ],
      "text/plain": [
       "               IS_CRIME  IS_TRAFFIC\n",
       "REPORTED_DATE                      \n",
       "2012-01-01         7882        4726\n",
       "2012-04-01         9641        5255\n",
       "2012-07-01        10566        5003\n",
       "2012-10-01         9197        4802\n",
       "2013-01-01         8730        4442\n",
       "...                 ...         ...\n",
       "2016-07-01        17427        6199\n",
       "2016-10-01        15984        6094\n",
       "2017-01-01        16426        5587\n",
       "2017-04-01        17486        6148\n",
       "2017-07-01        17990        6101\n",
       "\n",
       "[23 rows x 2 columns]"
      ]
     },
     "execution_count": 193,
     "metadata": {},
     "output_type": "execute_result"
    }
   ],
   "source": [
    "(crime\n",
    " .resample('QS')\n",
    " [['IS_CRIME', 'IS_TRAFFIC']]\n",
    " .sum()\n",
    ")"
   ]
  },
  {
   "cell_type": "markdown",
   "id": "d8fd25be",
   "metadata": {},
   "source": [
    "Let's verify these results by checking whether the second quarter of data is correct:"
   ]
  },
  {
   "cell_type": "code",
   "execution_count": 197,
   "id": "4780b843",
   "metadata": {},
   "outputs": [
    {
     "data": {
      "text/plain": [
       "IS_CRIME      9641\n",
       "IS_TRAFFIC    5255\n",
       "dtype: int64"
      ]
     },
     "execution_count": 197,
     "metadata": {},
     "output_type": "execute_result"
    }
   ],
   "source": [
    "(crime\n",
    " .loc['2012-04-01': '2012-6-30', ['IS_CRIME', 'IS_TRAFFIC']]\n",
    ").sum()"
   ]
  },
  {
   "cell_type": "code",
   "execution_count": 200,
   "id": "e9a6ada3",
   "metadata": {},
   "outputs": [
    {
     "data": {
      "text/html": [
       "<div>\n",
       "<style scoped>\n",
       "    .dataframe tbody tr th:only-of-type {\n",
       "        vertical-align: middle;\n",
       "    }\n",
       "\n",
       "    .dataframe tbody tr th {\n",
       "        vertical-align: top;\n",
       "    }\n",
       "\n",
       "    .dataframe thead th {\n",
       "        text-align: right;\n",
       "    }\n",
       "</style>\n",
       "<table border=\"1\" class=\"dataframe\">\n",
       "  <thead>\n",
       "    <tr style=\"text-align: right;\">\n",
       "      <th></th>\n",
       "      <th>IS_CRIME</th>\n",
       "      <th>IS_TRAFFIC</th>\n",
       "    </tr>\n",
       "    <tr>\n",
       "      <th>REPORTED_DATE</th>\n",
       "      <th></th>\n",
       "      <th></th>\n",
       "    </tr>\n",
       "  </thead>\n",
       "  <tbody>\n",
       "    <tr>\n",
       "      <th>2012-03-31</th>\n",
       "      <td>7882</td>\n",
       "      <td>4726</td>\n",
       "    </tr>\n",
       "    <tr>\n",
       "      <th>2012-06-30</th>\n",
       "      <td>9641</td>\n",
       "      <td>5255</td>\n",
       "    </tr>\n",
       "    <tr>\n",
       "      <th>2012-09-30</th>\n",
       "      <td>10566</td>\n",
       "      <td>5003</td>\n",
       "    </tr>\n",
       "    <tr>\n",
       "      <th>2012-12-31</th>\n",
       "      <td>9197</td>\n",
       "      <td>4802</td>\n",
       "    </tr>\n",
       "    <tr>\n",
       "      <th>2013-03-31</th>\n",
       "      <td>8730</td>\n",
       "      <td>4442</td>\n",
       "    </tr>\n",
       "    <tr>\n",
       "      <th>...</th>\n",
       "      <td>...</td>\n",
       "      <td>...</td>\n",
       "    </tr>\n",
       "    <tr>\n",
       "      <th>2016-09-30</th>\n",
       "      <td>17427</td>\n",
       "      <td>6199</td>\n",
       "    </tr>\n",
       "    <tr>\n",
       "      <th>2016-12-31</th>\n",
       "      <td>15984</td>\n",
       "      <td>6094</td>\n",
       "    </tr>\n",
       "    <tr>\n",
       "      <th>2017-03-31</th>\n",
       "      <td>16426</td>\n",
       "      <td>5587</td>\n",
       "    </tr>\n",
       "    <tr>\n",
       "      <th>2017-06-30</th>\n",
       "      <td>17486</td>\n",
       "      <td>6148</td>\n",
       "    </tr>\n",
       "    <tr>\n",
       "      <th>2017-09-30</th>\n",
       "      <td>17990</td>\n",
       "      <td>6101</td>\n",
       "    </tr>\n",
       "  </tbody>\n",
       "</table>\n",
       "<p>23 rows × 2 columns</p>\n",
       "</div>"
      ],
      "text/plain": [
       "               IS_CRIME  IS_TRAFFIC\n",
       "REPORTED_DATE                      \n",
       "2012-03-31         7882        4726\n",
       "2012-06-30         9641        5255\n",
       "2012-09-30        10566        5003\n",
       "2012-12-31         9197        4802\n",
       "2013-03-31         8730        4442\n",
       "...                 ...         ...\n",
       "2016-09-30        17427        6199\n",
       "2016-12-31        15984        6094\n",
       "2017-03-31        16426        5587\n",
       "2017-06-30        17486        6148\n",
       "2017-09-30        17990        6101\n",
       "\n",
       "[23 rows x 2 columns]"
      ]
     },
     "execution_count": 200,
     "metadata": {},
     "output_type": "execute_result"
    }
   ],
   "source": [
    "# It is possible to replicate this operation using\n",
    "# the .groupby method:\n",
    "\n",
    "(crime\n",
    " .groupby(pd.Grouper(freq='Q'))\n",
    " [['IS_CRIME', 'IS_TRAFFIC']]\n",
    " .sum()\n",
    ")"
   ]
  },
  {
   "cell_type": "code",
   "execution_count": 202,
   "id": "551035a4",
   "metadata": {},
   "outputs": [
    {
     "data": {
      "image/png": "[encoded data removed]",
      "text/plain": [
       "<Figure size 1152x288 with 1 Axes>"
      ]
     },
     "metadata": {
      "needs_background": "light"
     },
     "output_type": "display_data"
    }
   ],
   "source": [
    "# Let's make a plot to visualize the trends in crime\n",
    "# and traffic accidents over time:\n",
    "fig, ax = plt.subplots(figsize=(16, 4))\n",
    "(crime\n",
    " .groupby(pd.Grouper(freq='Q'))\n",
    " [['IS_CRIME', 'IS_TRAFFIC']]\n",
    " .sum()\n",
    " .plot(color=['black', 'lightgrey'], title='Denver Crimes and Traffic Accidents', ax=ax)\n",
    " \n",
    ")\n",
    "fig.savefig('c12-crime2.png', dpi=300)"
   ]
  },
  {
   "cell_type": "markdown",
   "id": "b4f15f84",
   "metadata": {},
   "source": [
    "After reading in and preparing our data in step 1, we begin grouping and aggregating in step\n",
    "2. Immediately after calling the .resample method, we can continue either by chaining a\n",
    "method or by selecting a group of columns to aggregate. We choose to select the IS_CRIME\n",
    "and IS_TRAFFIC columns to aggregate. If we didn't select just these two, then all of the\n",
    "numeric columns would have been summed with the following outcome:"
   ]
  },
  {
   "cell_type": "code",
   "execution_count": 203,
   "id": "777c95bb",
   "metadata": {},
   "outputs": [
    {
     "data": {
      "text/html": [
       "<div>\n",
       "<style scoped>\n",
       "    .dataframe tbody tr th:only-of-type {\n",
       "        vertical-align: middle;\n",
       "    }\n",
       "\n",
       "    .dataframe tbody tr th {\n",
       "        vertical-align: top;\n",
       "    }\n",
       "\n",
       "    .dataframe thead th {\n",
       "        text-align: right;\n",
       "    }\n",
       "</style>\n",
       "<table border=\"1\" class=\"dataframe\">\n",
       "  <thead>\n",
       "    <tr style=\"text-align: right;\">\n",
       "      <th></th>\n",
       "      <th>GEO_LON</th>\n",
       "      <th>GEO_LAT</th>\n",
       "      <th>IS_CRIME</th>\n",
       "      <th>IS_TRAFFIC</th>\n",
       "    </tr>\n",
       "    <tr>\n",
       "      <th>REPORTED_DATE</th>\n",
       "      <th></th>\n",
       "      <th></th>\n",
       "      <th></th>\n",
       "      <th></th>\n",
       "    </tr>\n",
       "  </thead>\n",
       "  <tbody>\n",
       "    <tr>\n",
       "      <th>2012-03-31</th>\n",
       "      <td>-1.313006e+06</td>\n",
       "      <td>496960.237747</td>\n",
       "      <td>7882</td>\n",
       "      <td>4726</td>\n",
       "    </tr>\n",
       "    <tr>\n",
       "      <th>2012-06-30</th>\n",
       "      <td>-1.547274e+06</td>\n",
       "      <td>585656.789182</td>\n",
       "      <td>9641</td>\n",
       "      <td>5255</td>\n",
       "    </tr>\n",
       "    <tr>\n",
       "      <th>2012-09-30</th>\n",
       "      <td>-1.615835e+06</td>\n",
       "      <td>611604.800384</td>\n",
       "      <td>10566</td>\n",
       "      <td>5003</td>\n",
       "    </tr>\n",
       "    <tr>\n",
       "      <th>2012-12-31</th>\n",
       "      <td>-1.458177e+06</td>\n",
       "      <td>551923.040048</td>\n",
       "      <td>9197</td>\n",
       "      <td>4802</td>\n",
       "    </tr>\n",
       "    <tr>\n",
       "      <th>2013-03-31</th>\n",
       "      <td>-1.368931e+06</td>\n",
       "      <td>518159.721947</td>\n",
       "      <td>8730</td>\n",
       "      <td>4442</td>\n",
       "    </tr>\n",
       "    <tr>\n",
       "      <th>...</th>\n",
       "      <td>...</td>\n",
       "      <td>...</td>\n",
       "      <td>...</td>\n",
       "      <td>...</td>\n",
       "    </tr>\n",
       "    <tr>\n",
       "      <th>2016-09-30</th>\n",
       "      <td>-2.459343e+06</td>\n",
       "      <td>930926.400392</td>\n",
       "      <td>17427</td>\n",
       "      <td>6199</td>\n",
       "    </tr>\n",
       "    <tr>\n",
       "      <th>2016-12-31</th>\n",
       "      <td>-2.293628e+06</td>\n",
       "      <td>868233.856718</td>\n",
       "      <td>15984</td>\n",
       "      <td>6094</td>\n",
       "    </tr>\n",
       "    <tr>\n",
       "      <th>2017-03-31</th>\n",
       "      <td>-2.288383e+06</td>\n",
       "      <td>866234.222733</td>\n",
       "      <td>16426</td>\n",
       "      <td>5587</td>\n",
       "    </tr>\n",
       "    <tr>\n",
       "      <th>2017-06-30</th>\n",
       "      <td>-2.453857e+06</td>\n",
       "      <td>928864.661232</td>\n",
       "      <td>17486</td>\n",
       "      <td>6148</td>\n",
       "    </tr>\n",
       "    <tr>\n",
       "      <th>2017-09-30</th>\n",
       "      <td>-2.508001e+06</td>\n",
       "      <td>949396.372035</td>\n",
       "      <td>17990</td>\n",
       "      <td>6101</td>\n",
       "    </tr>\n",
       "  </tbody>\n",
       "</table>\n",
       "<p>23 rows × 4 columns</p>\n",
       "</div>"
      ],
      "text/plain": [
       "                    GEO_LON        GEO_LAT  IS_CRIME  IS_TRAFFIC\n",
       "REPORTED_DATE                                                   \n",
       "2012-03-31    -1.313006e+06  496960.237747      7882        4726\n",
       "2012-06-30    -1.547274e+06  585656.789182      9641        5255\n",
       "2012-09-30    -1.615835e+06  611604.800384     10566        5003\n",
       "2012-12-31    -1.458177e+06  551923.040048      9197        4802\n",
       "2013-03-31    -1.368931e+06  518159.721947      8730        4442\n",
       "...                     ...            ...       ...         ...\n",
       "2016-09-30    -2.459343e+06  930926.400392     17427        6199\n",
       "2016-12-31    -2.293628e+06  868233.856718     15984        6094\n",
       "2017-03-31    -2.288383e+06  866234.222733     16426        5587\n",
       "2017-06-30    -2.453857e+06  928864.661232     17486        6148\n",
       "2017-09-30    -2.508001e+06  949396.372035     17990        6101\n",
       "\n",
       "[23 rows x 4 columns]"
      ]
     },
     "execution_count": 203,
     "metadata": {},
     "output_type": "execute_result"
    }
   ],
   "source": [
    "(crime\n",
    " .resample('Q')\n",
    " .sum()\n",
    ")"
   ]
  },
  {
   "cell_type": "markdown",
   "id": "5cd236e0",
   "metadata": {},
   "source": [
    "By default, the offset alias Q technically uses December 31st as the last day of the year. The\n",
    "span of dates that represent a single quarter are all calculated using this ending date. The\n",
    "aggregated result uses the last day of the quarter as its label. Step 3 uses the offset alias\n",
    "QS, which, by default, calculates quarters using January 1st as the first day of the year.\n",
    "Most public businesses report quarterly earnings but they do not all have the same calendar\n",
    "year beginning in January. For instance, if we wanted our quarters to begin March 1st, then\n",
    "we could use QS-MAR to anchor our offset alias:"
   ]
  },
  {
   "cell_type": "code",
   "execution_count": 207,
   "id": "0dbc961b",
   "metadata": {},
   "outputs": [
    {
     "data": {
      "text/html": [
       "<div>\n",
       "<style scoped>\n",
       "    .dataframe tbody tr th:only-of-type {\n",
       "        vertical-align: middle;\n",
       "    }\n",
       "\n",
       "    .dataframe tbody tr th {\n",
       "        vertical-align: top;\n",
       "    }\n",
       "\n",
       "    .dataframe thead th {\n",
       "        text-align: right;\n",
       "    }\n",
       "</style>\n",
       "<table border=\"1\" class=\"dataframe\">\n",
       "  <thead>\n",
       "    <tr style=\"text-align: right;\">\n",
       "      <th></th>\n",
       "      <th>IS_CRIME</th>\n",
       "      <th>IS_TRAFFIC</th>\n",
       "    </tr>\n",
       "    <tr>\n",
       "      <th>REPORTED_DATE</th>\n",
       "      <th></th>\n",
       "      <th></th>\n",
       "    </tr>\n",
       "  </thead>\n",
       "  <tbody>\n",
       "    <tr>\n",
       "      <th>2012-03-31</th>\n",
       "      <td>7882</td>\n",
       "      <td>4726</td>\n",
       "    </tr>\n",
       "    <tr>\n",
       "      <th>2012-06-30</th>\n",
       "      <td>9641</td>\n",
       "      <td>5255</td>\n",
       "    </tr>\n",
       "    <tr>\n",
       "      <th>2012-09-30</th>\n",
       "      <td>10566</td>\n",
       "      <td>5003</td>\n",
       "    </tr>\n",
       "    <tr>\n",
       "      <th>2012-12-31</th>\n",
       "      <td>9197</td>\n",
       "      <td>4802</td>\n",
       "    </tr>\n",
       "    <tr>\n",
       "      <th>2013-03-31</th>\n",
       "      <td>8730</td>\n",
       "      <td>4442</td>\n",
       "    </tr>\n",
       "    <tr>\n",
       "      <th>...</th>\n",
       "      <td>...</td>\n",
       "      <td>...</td>\n",
       "    </tr>\n",
       "    <tr>\n",
       "      <th>2016-09-30</th>\n",
       "      <td>17427</td>\n",
       "      <td>6199</td>\n",
       "    </tr>\n",
       "    <tr>\n",
       "      <th>2016-12-31</th>\n",
       "      <td>15984</td>\n",
       "      <td>6094</td>\n",
       "    </tr>\n",
       "    <tr>\n",
       "      <th>2017-03-31</th>\n",
       "      <td>16426</td>\n",
       "      <td>5587</td>\n",
       "    </tr>\n",
       "    <tr>\n",
       "      <th>2017-06-30</th>\n",
       "      <td>17486</td>\n",
       "      <td>6148</td>\n",
       "    </tr>\n",
       "    <tr>\n",
       "      <th>2017-09-30</th>\n",
       "      <td>17990</td>\n",
       "      <td>6101</td>\n",
       "    </tr>\n",
       "  </tbody>\n",
       "</table>\n",
       "<p>23 rows × 2 columns</p>\n",
       "</div>"
      ],
      "text/plain": [
       "               IS_CRIME  IS_TRAFFIC\n",
       "REPORTED_DATE                      \n",
       "2012-03-31         7882        4726\n",
       "2012-06-30         9641        5255\n",
       "2012-09-30        10566        5003\n",
       "2012-12-31         9197        4802\n",
       "2013-03-31         8730        4442\n",
       "...                 ...         ...\n",
       "2016-09-30        17427        6199\n",
       "2016-12-31        15984        6094\n",
       "2017-03-31        16426        5587\n",
       "2017-06-30        17486        6148\n",
       "2017-09-30        17990        6101\n",
       "\n",
       "[23 rows x 2 columns]"
      ]
     },
     "execution_count": 207,
     "metadata": {},
     "output_type": "execute_result"
    }
   ],
   "source": [
    "(crime\n",
    " .groupby(pd.Grouper(freq='Q-MAR'))5\n",
    " [['IS_CRIME', 'IS_TRAFFIC']]\n",
    " .sum())"
   ]
  },
  {
   "cell_type": "code",
   "execution_count": 212,
   "id": "90fa427b",
   "metadata": {},
   "outputs": [
    {
     "data": {
      "text/html": [
       "<div>\n",
       "<style scoped>\n",
       "    .dataframe tbody tr th:only-of-type {\n",
       "        vertical-align: middle;\n",
       "    }\n",
       "\n",
       "    .dataframe tbody tr th {\n",
       "        vertical-align: top;\n",
       "    }\n",
       "\n",
       "    .dataframe thead th {\n",
       "        text-align: right;\n",
       "    }\n",
       "</style>\n",
       "<table border=\"1\" class=\"dataframe\">\n",
       "  <thead>\n",
       "    <tr style=\"text-align: right;\">\n",
       "      <th></th>\n",
       "      <th>IS_CRIME</th>\n",
       "      <th>IS_TRAFFIC</th>\n",
       "    </tr>\n",
       "    <tr>\n",
       "      <th>REPORTED_DATE</th>\n",
       "      <th></th>\n",
       "      <th></th>\n",
       "    </tr>\n",
       "  </thead>\n",
       "  <tbody>\n",
       "    <tr>\n",
       "      <th>2012-03-31</th>\n",
       "      <td>7882</td>\n",
       "      <td>4726</td>\n",
       "    </tr>\n",
       "    <tr>\n",
       "      <th>2012-06-30</th>\n",
       "      <td>9641</td>\n",
       "      <td>5255</td>\n",
       "    </tr>\n",
       "    <tr>\n",
       "      <th>2012-09-30</th>\n",
       "      <td>10566</td>\n",
       "      <td>5003</td>\n",
       "    </tr>\n",
       "    <tr>\n",
       "      <th>2012-12-31</th>\n",
       "      <td>9197</td>\n",
       "      <td>4802</td>\n",
       "    </tr>\n",
       "    <tr>\n",
       "      <th>2013-03-31</th>\n",
       "      <td>8730</td>\n",
       "      <td>4442</td>\n",
       "    </tr>\n",
       "    <tr>\n",
       "      <th>...</th>\n",
       "      <td>...</td>\n",
       "      <td>...</td>\n",
       "    </tr>\n",
       "    <tr>\n",
       "      <th>2016-09-30</th>\n",
       "      <td>17427</td>\n",
       "      <td>6199</td>\n",
       "    </tr>\n",
       "    <tr>\n",
       "      <th>2016-12-31</th>\n",
       "      <td>15984</td>\n",
       "      <td>6094</td>\n",
       "    </tr>\n",
       "    <tr>\n",
       "      <th>2017-03-31</th>\n",
       "      <td>16426</td>\n",
       "      <td>5587</td>\n",
       "    </tr>\n",
       "    <tr>\n",
       "      <th>2017-06-30</th>\n",
       "      <td>17486</td>\n",
       "      <td>6148</td>\n",
       "    </tr>\n",
       "    <tr>\n",
       "      <th>2017-09-30</th>\n",
       "      <td>17990</td>\n",
       "      <td>6101</td>\n",
       "    </tr>\n",
       "  </tbody>\n",
       "</table>\n",
       "<p>23 rows × 2 columns</p>\n",
       "</div>"
      ],
      "text/plain": [
       "               IS_CRIME  IS_TRAFFIC\n",
       "REPORTED_DATE                      \n",
       "2012-03-31         7882        4726\n",
       "2012-06-30         9641        5255\n",
       "2012-09-30        10566        5003\n",
       "2012-12-31         9197        4802\n",
       "2013-03-31         8730        4442\n",
       "...                 ...         ...\n",
       "2016-09-30        17427        6199\n",
       "2016-12-31        15984        6094\n",
       "2017-03-31        16426        5587\n",
       "2017-06-30        17486        6148\n",
       "2017-09-30        17990        6101\n",
       "\n",
       "[23 rows x 2 columns]"
      ]
     },
     "execution_count": 212,
     "metadata": {},
     "output_type": "execute_result"
    }
   ],
   "source": [
    "(crime\n",
    " .resample('Q-MAR')\n",
    " [['IS_CRIME', 'IS_TRAFFIC']]\n",
    " .sum()\n",
    ")"
   ]
  },
  {
   "cell_type": "markdown",
   "id": "c5184485",
   "metadata": {},
   "source": [
    "To get a different visual perspective, we can plot the percentage increase in crime and traffic,\n",
    "instead of the raw count. Let's divide all the data by the first row and plot again"
   ]
  },
  {
   "cell_type": "code",
   "execution_count": 210,
   "id": "28434654",
   "metadata": {},
   "outputs": [],
   "source": [
    "crime_begin = (crime\n",
    "               .resample('Q')\n",
    "               [['IS_CRIME', 'IS_TRAFFIC']]\n",
    "               .sum()\n",
    "               .iloc[0]\n",
    "              )"
   ]
  },
  {
   "cell_type": "code",
   "execution_count": 211,
   "id": "a0bfc103",
   "metadata": {},
   "outputs": [
    {
     "data": {
      "text/plain": [
       "IS_CRIME      7882\n",
       "IS_TRAFFIC    4726\n",
       "Name: 2012-03-31 00:00:00, dtype: int64"
      ]
     },
     "execution_count": 211,
     "metadata": {},
     "output_type": "execute_result"
    }
   ],
   "source": [
    "crime_begin"
   ]
  },
  {
   "cell_type": "code",
   "execution_count": 215,
   "id": "9b903b71",
   "metadata": {},
   "outputs": [
    {
     "data": {
      "text/plain": [
       "<AxesSubplot:title={'center':'Denver Crimes and Traffic Accidents % Increase'}, xlabel='REPORTED_DATE'>"
      ]
     },
     "execution_count": 215,
     "metadata": {},
     "output_type": "execute_result"
    },
    {
     "data": {
      "image/png": "[encoded data removed]",
      "text/plain": [
       "<Figure size 1152x288 with 1 Axes>"
      ]
     },
     "metadata": {
      "needs_background": "light"
     },
     "output_type": "display_data"
    }
   ],
   "source": [
    "fig, ax = plt.subplots(figsize=(16, 4))\n",
    "(crime\n",
    " .resample('Q')\n",
    " [['IS_CRIME', 'IS_TRAFFIC']]\n",
    " .sum()\n",
    " .div(crime_begin)\n",
    " .sub(1)\n",
    " .round(2)\n",
    " .mul(100)\n",
    " .plot.bar(color=['black', 'lightgrey'], ax=ax, \n",
    "       title='Denver Crimes and Traffic Accidents % Increase')\n",
    ")"
   ]
  },
  {
   "cell_type": "code",
   "execution_count": 216,
   "id": "e04ee718",
   "metadata": {},
   "outputs": [],
   "source": [
    "fig.autofmt_xdate()\n",
    "fig.savefig('c12-crime3.png', dpi=300, bbox_inches='tight')"
   ]
  },
  {
   "cell_type": "markdown",
   "id": "b0c35524",
   "metadata": {},
   "source": [
    "## Measuring Crime by weekday and year"
   ]
  },
  {
   "cell_type": "markdown",
   "id": "68acf32e",
   "metadata": {},
   "source": [
    "Measuring crimes by weekday and by year simultaneously requires the functionality to pull\n",
    "this information from a Timestamp. Thankfully, this functionality is built into any Timestamp\n",
    "column with the .dt attribute.\n",
    "In this recipe, we will use the .dt attribute to provide us with both the weekday name and\n",
    "year of each crime as a Series. We count all of the crimes by forming groups using both of\n",
    "these Series. Finally, we adjust the data to consider partial years and population before\n",
    "creating a heatmap of the total amount of crime."
   ]
  },
  {
   "cell_type": "code",
   "execution_count": 217,
   "id": "e8563968",
   "metadata": {},
   "outputs": [],
   "source": [
    "crime = pd.read_hdf('C:/Users/justine.o_kobo360/Desktop/Pandas Workbook/Pandas CookBook 1.x/Data files/crime.h5', 'crime')"
   ]
  },
  {
   "cell_type": "code",
   "execution_count": 218,
   "id": "57828a67",
   "metadata": {},
   "outputs": [
    {
     "data": {
      "text/html": [
       "<div>\n",
       "<style scoped>\n",
       "    .dataframe tbody tr th:only-of-type {\n",
       "        vertical-align: middle;\n",
       "    }\n",
       "\n",
       "    .dataframe tbody tr th {\n",
       "        vertical-align: top;\n",
       "    }\n",
       "\n",
       "    .dataframe thead th {\n",
       "        text-align: right;\n",
       "    }\n",
       "</style>\n",
       "<table border=\"1\" class=\"dataframe\">\n",
       "  <thead>\n",
       "    <tr style=\"text-align: right;\">\n",
       "      <th></th>\n",
       "      <th>OFFENSE_TYPE_ID</th>\n",
       "      <th>OFFENSE_CATEGORY_ID</th>\n",
       "      <th>...</th>\n",
       "      <th>IS_CRIME</th>\n",
       "      <th>IS_TRAFFIC</th>\n",
       "    </tr>\n",
       "  </thead>\n",
       "  <tbody>\n",
       "    <tr>\n",
       "      <th>0</th>\n",
       "      <td>traffic-accident-dui-duid</td>\n",
       "      <td>traffic-accident</td>\n",
       "      <td>...</td>\n",
       "      <td>0</td>\n",
       "      <td>1</td>\n",
       "    </tr>\n",
       "    <tr>\n",
       "      <th>1</th>\n",
       "      <td>vehicular-eluding-no-chase</td>\n",
       "      <td>all-other-crimes</td>\n",
       "      <td>...</td>\n",
       "      <td>1</td>\n",
       "      <td>0</td>\n",
       "    </tr>\n",
       "    <tr>\n",
       "      <th>2</th>\n",
       "      <td>disturbing-the-peace</td>\n",
       "      <td>public-disorder</td>\n",
       "      <td>...</td>\n",
       "      <td>1</td>\n",
       "      <td>0</td>\n",
       "    </tr>\n",
       "    <tr>\n",
       "      <th>3</th>\n",
       "      <td>curfew</td>\n",
       "      <td>public-disorder</td>\n",
       "      <td>...</td>\n",
       "      <td>1</td>\n",
       "      <td>0</td>\n",
       "    </tr>\n",
       "    <tr>\n",
       "      <th>4</th>\n",
       "      <td>aggravated-assault</td>\n",
       "      <td>aggravated-assault</td>\n",
       "      <td>...</td>\n",
       "      <td>1</td>\n",
       "      <td>0</td>\n",
       "    </tr>\n",
       "    <tr>\n",
       "      <th>...</th>\n",
       "      <td>...</td>\n",
       "      <td>...</td>\n",
       "      <td>...</td>\n",
       "      <td>...</td>\n",
       "      <td>...</td>\n",
       "    </tr>\n",
       "    <tr>\n",
       "      <th>460906</th>\n",
       "      <td>burglary-business-by-force</td>\n",
       "      <td>burglary</td>\n",
       "      <td>...</td>\n",
       "      <td>1</td>\n",
       "      <td>0</td>\n",
       "    </tr>\n",
       "    <tr>\n",
       "      <th>460907</th>\n",
       "      <td>weapon-unlawful-discharge-of</td>\n",
       "      <td>all-other-crimes</td>\n",
       "      <td>...</td>\n",
       "      <td>1</td>\n",
       "      <td>0</td>\n",
       "    </tr>\n",
       "    <tr>\n",
       "      <th>460908</th>\n",
       "      <td>traf-habitual-offender</td>\n",
       "      <td>all-other-crimes</td>\n",
       "      <td>...</td>\n",
       "      <td>1</td>\n",
       "      <td>0</td>\n",
       "    </tr>\n",
       "    <tr>\n",
       "      <th>460909</th>\n",
       "      <td>criminal-mischief-other</td>\n",
       "      <td>public-disorder</td>\n",
       "      <td>...</td>\n",
       "      <td>1</td>\n",
       "      <td>0</td>\n",
       "    </tr>\n",
       "    <tr>\n",
       "      <th>460910</th>\n",
       "      <td>theft-other</td>\n",
       "      <td>larceny</td>\n",
       "      <td>...</td>\n",
       "      <td>1</td>\n",
       "      <td>0</td>\n",
       "    </tr>\n",
       "  </tbody>\n",
       "</table>\n",
       "<p>460911 rows × 8 columns</p>\n",
       "</div>"
      ],
      "text/plain": [
       "                     OFFENSE_TYPE_ID OFFENSE_CATEGORY_ID  ... IS_CRIME  \\\n",
       "0          traffic-accident-dui-duid    traffic-accident  ...        0   \n",
       "1         vehicular-eluding-no-chase    all-other-crimes  ...        1   \n",
       "2               disturbing-the-peace     public-disorder  ...        1   \n",
       "3                             curfew     public-disorder  ...        1   \n",
       "4                 aggravated-assault  aggravated-assault  ...        1   \n",
       "...                              ...                 ...  ...      ...   \n",
       "460906    burglary-business-by-force            burglary  ...        1   \n",
       "460907  weapon-unlawful-discharge-of    all-other-crimes  ...        1   \n",
       "460908        traf-habitual-offender    all-other-crimes  ...        1   \n",
       "460909       criminal-mischief-other     public-disorder  ...        1   \n",
       "460910                   theft-other             larceny  ...        1   \n",
       "\n",
       "        IS_TRAFFIC  \n",
       "0                1  \n",
       "1                0  \n",
       "2                0  \n",
       "3                0  \n",
       "4                0  \n",
       "...            ...  \n",
       "460906           0  \n",
       "460907           0  \n",
       "460908           0  \n",
       "460909           0  \n",
       "460910           0  \n",
       "\n",
       "[460911 rows x 8 columns]"
      ]
     },
     "execution_count": 218,
     "metadata": {},
     "output_type": "execute_result"
    }
   ],
   "source": [
    "crime"
   ]
  },
  {
   "cell_type": "markdown",
   "id": "6539821c",
   "metadata": {},
   "source": [
    "All Timestamp columns have a special attribute, .dt, which gives access to a variety\n",
    "of extra attributes and methods specifically designed for dates. Let's find the day\n",
    "name of each REPORTED_DATE and then count these values"
   ]
  },
  {
   "cell_type": "code",
   "execution_count": 219,
   "id": "6aa608dd",
   "metadata": {},
   "outputs": [
    {
     "data": {
      "text/plain": [
       "Monday       70024\n",
       "Friday       69621\n",
       "Wednesday    69538\n",
       "Thursday     69287\n",
       "Tuesday      68394\n",
       "Saturday     58834\n",
       "Sunday       55213\n",
       "Name: REPORTED_DATE, dtype: int64"
      ]
     },
     "execution_count": 219,
     "metadata": {},
     "output_type": "execute_result"
    }
   ],
   "source": [
    "(crime\n",
    "   ['REPORTED_DATE']\n",
    "   .dt.day_name()\n",
    "   .value_counts()\n",
    ")"
   ]
  },
  {
   "cell_type": "markdown",
   "id": "8c59889e",
   "metadata": {},
   "source": [
    "The weekends appear to have substantially less crime and traffic accidents. Let's put\n",
    "this data in correct weekday order and make a horizontal bar plot:"
   ]
  },
  {
   "cell_type": "code",
   "execution_count": 222,
   "id": "6ab4903d",
   "metadata": {},
   "outputs": [
    {
     "data": {
      "image/png": "[encoded data removed]",
      "text/plain": [
       "<Figure size 432x288 with 1 Axes>"
      ]
     },
     "metadata": {
      "needs_background": "light"
     },
     "output_type": "display_data"
    }
   ],
   "source": [
    "days = ['Monday', 'Tuesday', 'Wednesday', 'Thursday',\n",
    "       'Friday', 'Saturday', 'Sunday']\n",
    "title = 'Denver Crimes and Traffic Accidents per Weekday'\n",
    "\n",
    "fig, ax = plt.subplots(figsize=(6, 4))\n",
    "                                \n",
    "(crime\n",
    " ['REPORTED_DATE']\n",
    " .dt.day_name() \\\n",
    " .value_counts() \\\n",
    " .reindex(days) \\\n",
    " .plot.barh(title=title, ax=ax)\n",
    " \n",
    " \n",
    ")        \n",
    "fig.savefig('c12-crime4.png', dpi=300, bbox_inches='tight')"
   ]
  },
  {
   "cell_type": "code",
   "execution_count": 229,
   "id": "6ca24a94",
   "metadata": {},
   "outputs": [
    {
     "data": {
      "image/png": "[encoded data removed]",
      "text/plain": [
       "<Figure size 432x288 with 1 Axes>"
      ]
     },
     "metadata": {
      "needs_background": "light"
     },
     "output_type": "display_data"
    }
   ],
   "source": [
    "# We can do a very similar procedure to plot the \n",
    "# count by year:\n",
    "\n",
    "title = 'Denver Crimes and Trffic Accidents per Year'\n",
    "fig, ax = plt.subplots(figsize=(6, 4))\n",
    "\n",
    "(crime\n",
    " ['REPORTED_DATE']\n",
    " .dt.year \\\n",
    " .value_counts()\n",
    " .sort_index() \\\n",
    " \n",
    " .plot.barh(title=title, ax=ax)\n",
    ")\n",
    " \n",
    "fig.savefig('c12-crime5.png', dpi=300, bbox_inches='tight')"
   ]
  },
  {
   "cell_type": "markdown",
   "id": "21842e06",
   "metadata": {},
   "source": [
    "We need to group by both weekday and year. One way of doing this is to use these\n",
    "attributes in the .groupby method:"
   ]
  },
  {
   "cell_type": "code",
   "execution_count": 234,
   "id": "1a0b79a4",
   "metadata": {},
   "outputs": [
    {
     "data": {
      "text/plain": [
       "year  day      \n",
       "2012  Friday        8549\n",
       "      Monday        8786\n",
       "      Saturday      7442\n",
       "      Sunday        7189\n",
       "      Thursday      8440\n",
       "                   ...  \n",
       "2017  Saturday      8514\n",
       "      Sunday        8124\n",
       "      Thursday     10545\n",
       "      Tuesday      10628\n",
       "      Wednesday    10576\n",
       "Length: 42, dtype: int64"
      ]
     },
     "execution_count": 234,
     "metadata": {},
     "output_type": "execute_result"
    }
   ],
   "source": [
    "(crime\n",
    " .groupby([crime['REPORTED_DATE'].dt.year.rename('year'),\n",
    "          crime['REPORTED_DATE'].dt.day_name().rename('day')])\n",
    " .size()\n",
    ")"
   ]
  },
  {
   "cell_type": "markdown",
   "id": "50ea258a",
   "metadata": {},
   "source": [
    "We have aggregated the data correctly, but the structure is not conducive to make\n",
    "comparisons easily. Let's use the .unstack method to get a more readable table"
   ]
  },
  {
   "cell_type": "code",
   "execution_count": 238,
   "id": "96ff9cd9",
   "metadata": {},
   "outputs": [
    {
     "data": {
      "text/html": [
       "<div>\n",
       "<style scoped>\n",
       "    .dataframe tbody tr th:only-of-type {\n",
       "        vertical-align: middle;\n",
       "    }\n",
       "\n",
       "    .dataframe tbody tr th {\n",
       "        vertical-align: top;\n",
       "    }\n",
       "\n",
       "    .dataframe thead th {\n",
       "        text-align: right;\n",
       "    }\n",
       "</style>\n",
       "<table border=\"1\" class=\"dataframe\">\n",
       "  <thead>\n",
       "    <tr style=\"text-align: right;\">\n",
       "      <th>day</th>\n",
       "      <th>Friday</th>\n",
       "      <th>Monday</th>\n",
       "      <th>...</th>\n",
       "      <th>Tuesday</th>\n",
       "      <th>Wednesday</th>\n",
       "    </tr>\n",
       "    <tr>\n",
       "      <th>year</th>\n",
       "      <th></th>\n",
       "      <th></th>\n",
       "      <th></th>\n",
       "      <th></th>\n",
       "      <th></th>\n",
       "    </tr>\n",
       "  </thead>\n",
       "  <tbody>\n",
       "    <tr>\n",
       "      <th>2012</th>\n",
       "      <td>8549</td>\n",
       "      <td>8786</td>\n",
       "      <td>...</td>\n",
       "      <td>8191</td>\n",
       "      <td>8440</td>\n",
       "    </tr>\n",
       "    <tr>\n",
       "      <th>2013</th>\n",
       "      <td>10380</td>\n",
       "      <td>10627</td>\n",
       "      <td>...</td>\n",
       "      <td>10416</td>\n",
       "      <td>10354</td>\n",
       "    </tr>\n",
       "    <tr>\n",
       "      <th>2014</th>\n",
       "      <td>12683</td>\n",
       "      <td>12813</td>\n",
       "      <td>...</td>\n",
       "      <td>12440</td>\n",
       "      <td>12948</td>\n",
       "    </tr>\n",
       "    <tr>\n",
       "      <th>2015</th>\n",
       "      <td>13273</td>\n",
       "      <td>13452</td>\n",
       "      <td>...</td>\n",
       "      <td>13381</td>\n",
       "      <td>13320</td>\n",
       "    </tr>\n",
       "    <tr>\n",
       "      <th>2016</th>\n",
       "      <td>14059</td>\n",
       "      <td>13708</td>\n",
       "      <td>...</td>\n",
       "      <td>13338</td>\n",
       "      <td>13900</td>\n",
       "    </tr>\n",
       "    <tr>\n",
       "      <th>2017</th>\n",
       "      <td>10677</td>\n",
       "      <td>10638</td>\n",
       "      <td>...</td>\n",
       "      <td>10628</td>\n",
       "      <td>10576</td>\n",
       "    </tr>\n",
       "  </tbody>\n",
       "</table>\n",
       "<p>6 rows × 7 columns</p>\n",
       "</div>"
      ],
      "text/plain": [
       "day   Friday  Monday  ...  Tuesday  Wednesday\n",
       "year                  ...                    \n",
       "2012    8549    8786  ...     8191       8440\n",
       "2013   10380   10627  ...    10416      10354\n",
       "2014   12683   12813  ...    12440      12948\n",
       "2015   13273   13452  ...    13381      13320\n",
       "2016   14059   13708  ...    13338      13900\n",
       "2017   10677   10638  ...    10628      10576\n",
       "\n",
       "[6 rows x 7 columns]"
      ]
     },
     "execution_count": 238,
     "metadata": {},
     "output_type": "execute_result"
    }
   ],
   "source": [
    "(crime\n",
    " .groupby([crime['REPORTED_DATE'].dt.year.rename('year'),\n",
    "          crime['REPORTED_DATE'].dt.day_name().rename('day')])\n",
    " .size()\n",
    " .unstack(level=1)\n",
    ")"
   ]
  },
  {
   "cell_type": "code",
   "execution_count": 239,
   "id": "1ee2470c",
   "metadata": {},
   "outputs": [
    {
     "data": {
      "text/html": [
       "<div>\n",
       "<style scoped>\n",
       "    .dataframe tbody tr th:only-of-type {\n",
       "        vertical-align: middle;\n",
       "    }\n",
       "\n",
       "    .dataframe tbody tr th {\n",
       "        vertical-align: top;\n",
       "    }\n",
       "\n",
       "    .dataframe thead th {\n",
       "        text-align: right;\n",
       "    }\n",
       "</style>\n",
       "<table border=\"1\" class=\"dataframe\">\n",
       "  <thead>\n",
       "    <tr style=\"text-align: right;\">\n",
       "      <th>day</th>\n",
       "      <th>Friday</th>\n",
       "      <th>Monday</th>\n",
       "      <th>...</th>\n",
       "      <th>Tuesday</th>\n",
       "      <th>Wednesday</th>\n",
       "    </tr>\n",
       "    <tr>\n",
       "      <th>year</th>\n",
       "      <th></th>\n",
       "      <th></th>\n",
       "      <th></th>\n",
       "      <th></th>\n",
       "      <th></th>\n",
       "    </tr>\n",
       "  </thead>\n",
       "  <tbody>\n",
       "    <tr>\n",
       "      <th>2012</th>\n",
       "      <td>8549</td>\n",
       "      <td>8786</td>\n",
       "      <td>...</td>\n",
       "      <td>8191</td>\n",
       "      <td>8440</td>\n",
       "    </tr>\n",
       "    <tr>\n",
       "      <th>2013</th>\n",
       "      <td>10380</td>\n",
       "      <td>10627</td>\n",
       "      <td>...</td>\n",
       "      <td>10416</td>\n",
       "      <td>10354</td>\n",
       "    </tr>\n",
       "    <tr>\n",
       "      <th>2014</th>\n",
       "      <td>12683</td>\n",
       "      <td>12813</td>\n",
       "      <td>...</td>\n",
       "      <td>12440</td>\n",
       "      <td>12948</td>\n",
       "    </tr>\n",
       "    <tr>\n",
       "      <th>2015</th>\n",
       "      <td>13273</td>\n",
       "      <td>13452</td>\n",
       "      <td>...</td>\n",
       "      <td>13381</td>\n",
       "      <td>13320</td>\n",
       "    </tr>\n",
       "    <tr>\n",
       "      <th>2016</th>\n",
       "      <td>14059</td>\n",
       "      <td>13708</td>\n",
       "      <td>...</td>\n",
       "      <td>13338</td>\n",
       "      <td>13900</td>\n",
       "    </tr>\n",
       "    <tr>\n",
       "      <th>2017</th>\n",
       "      <td>10677</td>\n",
       "      <td>10638</td>\n",
       "      <td>...</td>\n",
       "      <td>10628</td>\n",
       "      <td>10576</td>\n",
       "    </tr>\n",
       "  </tbody>\n",
       "</table>\n",
       "<p>6 rows × 7 columns</p>\n",
       "</div>"
      ],
      "text/plain": [
       "day   Friday  Monday  ...  Tuesday  Wednesday\n",
       "year                  ...                    \n",
       "2012    8549    8786  ...     8191       8440\n",
       "2013   10380   10627  ...    10416      10354\n",
       "2014   12683   12813  ...    12440      12948\n",
       "2015   13273   13452  ...    13381      13320\n",
       "2016   14059   13708  ...    13338      13900\n",
       "2017   10677   10638  ...    10628      10576\n",
       "\n",
       "[6 rows x 7 columns]"
      ]
     },
     "execution_count": 239,
     "metadata": {},
     "output_type": "execute_result"
    }
   ],
   "source": [
    "(crime\n",
    " .groupby([crime['REPORTED_DATE'].dt.year.rename('year'),\n",
    "          crime['REPORTED_DATE'].dt.day_name().rename('day')])\n",
    " .size()\n",
    " .unstack('day')\n",
    ")"
   ]
  },
  {
   "cell_type": "markdown",
   "id": "461da417",
   "metadata": {},
   "source": [
    "We now have a nicer representation that is easier to read but noticeably, the 2017\n",
    "numbers are incomplete. To help make a fairer comparison, we can make a linear\n",
    "extrapolation to estimate the final number of crimes. Let's first find the last day that\n",
    "we have data for in 2017:\n"
   ]
  },
  {
   "cell_type": "code",
   "execution_count": 240,
   "id": "6800b64a",
   "metadata": {},
   "outputs": [
    {
     "data": {
      "text/plain": [
       "272"
      ]
     },
     "execution_count": 240,
     "metadata": {},
     "output_type": "execute_result"
    }
   ],
   "source": [
    "criteria = crime['REPORTED_DATE'].dt.year == 2017\n",
    "crime.loc[criteria, 'REPORTED_DATE'].dt.dayofyear.max()"
   ]
  },
  {
   "cell_type": "markdown",
   "id": "b30aea51",
   "metadata": {},
   "source": [
    "A naive estimate would be to assume a constant rate of crime throughout the year\n",
    "and multiply all values in the 2017 table by 365/272. However, we can do a little\n",
    "better and look at our historical data and calculate the average percentage of crimes\n",
    "that have taken place through the first 272 days of the year:"
   ]
  },
  {
   "cell_type": "code",
   "execution_count": 241,
   "id": "f3ac03e5",
   "metadata": {},
   "outputs": [
    {
     "data": {
      "text/plain": [
       "0.745"
      ]
     },
     "execution_count": 241,
     "metadata": {},
     "output_type": "execute_result"
    }
   ],
   "source": [
    "round(272/365, 3)"
   ]
  },
  {
   "cell_type": "code",
   "execution_count": 246,
   "id": "374ba6b1",
   "metadata": {},
   "outputs": [],
   "source": [
    "crime_pct = (crime\n",
    "             ['REPORTED_DATE']\n",
    "             .dt.dayofyear.le(272)\n",
    "             .groupby(crime.REPORTED_DATE.dt.year)\n",
    "             .mean()\n",
    "             .mul(100)\n",
    "             .round(2)\n",
    "            )"
   ]
  },
  {
   "cell_type": "code",
   "execution_count": 247,
   "id": "b2bd1aa1",
   "metadata": {},
   "outputs": [
    {
     "data": {
      "text/plain": [
       "REPORTED_DATE\n",
       "2012     74.84\n",
       "2013     72.54\n",
       "2014     75.06\n",
       "2015     74.81\n",
       "2016     75.15\n",
       "2017    100.00\n",
       "Name: REPORTED_DATE, dtype: float64"
      ]
     },
     "execution_count": 247,
     "metadata": {},
     "output_type": "execute_result"
    }
   ],
   "source": [
    "crime_pct"
   ]
  },
  {
   "cell_type": "code",
   "execution_count": 254,
   "id": "855ccfc6",
   "metadata": {},
   "outputs": [
    {
     "data": {
      "text/plain": [
       "74.84"
      ]
     },
     "execution_count": 254,
     "metadata": {},
     "output_type": "execute_result"
    }
   ],
   "source": [
    "crime_pct.loc[2012:2016].median()"
   ]
  },
  {
   "cell_type": "markdown",
   "id": "1a32e9f6",
   "metadata": {},
   "source": [
    "It turns out (perhaps coincidentally) that the percentage of crimes that happen during\n",
    "the first 272 days of the year is almost exactly proportional to the percentage of days\n",
    "passed in the year. Let's now update the row for 2017 and change the column order\n",
    "to match the weekday order:"
   ]
  },
  {
   "cell_type": "code",
   "execution_count": 255,
   "id": "dc3e77b4",
   "metadata": {},
   "outputs": [],
   "source": [
    "def update_2017(df_):\n",
    "    df_.loc[2017] = (df_\n",
    "                    .loc[2017]\n",
    "                    .div(.748)\n",
    "                    .astype('int'))\n",
    "    return df_"
   ]
  },
  {
   "cell_type": "code",
   "execution_count": 276,
   "id": "478b5877",
   "metadata": {},
   "outputs": [
    {
     "data": {
      "text/html": [
       "<div>\n",
       "<style scoped>\n",
       "    .dataframe tbody tr th:only-of-type {\n",
       "        vertical-align: middle;\n",
       "    }\n",
       "\n",
       "    .dataframe tbody tr th {\n",
       "        vertical-align: top;\n",
       "    }\n",
       "\n",
       "    .dataframe thead th {\n",
       "        text-align: right;\n",
       "    }\n",
       "</style>\n",
       "<table border=\"1\" class=\"dataframe\">\n",
       "  <thead>\n",
       "    <tr style=\"text-align: right;\">\n",
       "      <th>day</th>\n",
       "      <th>Monday</th>\n",
       "      <th>Tuesday</th>\n",
       "      <th>...</th>\n",
       "      <th>Saturday</th>\n",
       "      <th>Sunday</th>\n",
       "    </tr>\n",
       "    <tr>\n",
       "      <th>year</th>\n",
       "      <th></th>\n",
       "      <th></th>\n",
       "      <th></th>\n",
       "      <th></th>\n",
       "      <th></th>\n",
       "    </tr>\n",
       "  </thead>\n",
       "  <tbody>\n",
       "    <tr>\n",
       "      <th>2012</th>\n",
       "      <td>8786</td>\n",
       "      <td>8191</td>\n",
       "      <td>...</td>\n",
       "      <td>7442</td>\n",
       "      <td>7189</td>\n",
       "    </tr>\n",
       "    <tr>\n",
       "      <th>2013</th>\n",
       "      <td>10627</td>\n",
       "      <td>10416</td>\n",
       "      <td>...</td>\n",
       "      <td>8875</td>\n",
       "      <td>8444</td>\n",
       "    </tr>\n",
       "    <tr>\n",
       "      <th>2014</th>\n",
       "      <td>12813</td>\n",
       "      <td>12440</td>\n",
       "      <td>...</td>\n",
       "      <td>10950</td>\n",
       "      <td>10278</td>\n",
       "    </tr>\n",
       "    <tr>\n",
       "      <th>2015</th>\n",
       "      <td>13452</td>\n",
       "      <td>13381</td>\n",
       "      <td>...</td>\n",
       "      <td>11586</td>\n",
       "      <td>10624</td>\n",
       "    </tr>\n",
       "    <tr>\n",
       "      <th>2016</th>\n",
       "      <td>13708</td>\n",
       "      <td>13338</td>\n",
       "      <td>...</td>\n",
       "      <td>11467</td>\n",
       "      <td>10554</td>\n",
       "    </tr>\n",
       "    <tr>\n",
       "      <th>2017</th>\n",
       "      <td>14221</td>\n",
       "      <td>14208</td>\n",
       "      <td>...</td>\n",
       "      <td>11382</td>\n",
       "      <td>10860</td>\n",
       "    </tr>\n",
       "  </tbody>\n",
       "</table>\n",
       "<p>6 rows × 7 columns</p>\n",
       "</div>"
      ],
      "text/plain": [
       "day   Monday  Tuesday  ...  Saturday  Sunday\n",
       "year                   ...                  \n",
       "2012    8786     8191  ...      7442    7189\n",
       "2013   10627    10416  ...      8875    8444\n",
       "2014   12813    12440  ...     10950   10278\n",
       "2015   13452    13381  ...     11586   10624\n",
       "2016   13708    13338  ...     11467   10554\n",
       "2017   14221    14208  ...     11382   10860\n",
       "\n",
       "[6 rows x 7 columns]"
      ]
     },
     "execution_count": 276,
     "metadata": {},
     "output_type": "execute_result"
    }
   ],
   "source": [
    "(crime\n",
    " .groupby([crime['REPORTED_DATE'].dt.year.rename('year'), \n",
    "          crime['REPORTED_DATE'].dt.day_name().rename('day')])\n",
    " .size()\n",
    " .unstack('day')\n",
    " .pipe(update_2017)\n",
    " .reindex(columns=days)\n",
    ")"
   ]
  },
  {
   "cell_type": "markdown",
   "id": "61434c1e",
   "metadata": {},
   "source": [
    "We could make a bar or line plot, but this is also a good situation for a heatmap,\n",
    "which is in the seaborn library:"
   ]
  },
  {
   "cell_type": "code",
   "execution_count": 277,
   "id": "1d4747b4",
   "metadata": {},
   "outputs": [
    {
     "data": {
      "image/png": "[encoded data removed]",
      "text/plain": [
       "<Figure size 432x288 with 2 Axes>"
      ]
     },
     "metadata": {
      "needs_background": "light"
     },
     "output_type": "display_data"
    }
   ],
   "source": [
    "import seaborn as sns\n",
    "fig, ax = plt.subplots(figsize=(6, 4))\n",
    "table = (crime\n",
    " .groupby([crime['REPORTED_DATE'].dt.year.rename('year'), \n",
    "          crime['REPORTED_DATE'].dt.day_name().rename('day')])\n",
    " .size()\n",
    " .unstack('day')\n",
    " .pipe(update_2017)\n",
    " .reindex(columns=days)\n",
    ")\n",
    "\n",
    "sns.heatmap(table, cmap='Greys', ax=ax)\n",
    "fig.savefig('c12-crime6.png', dpi=300, bbox_inches='tight')"
   ]
  },
  {
   "cell_type": "markdown",
   "id": "e644bcb8",
   "metadata": {},
   "source": [
    "Crime seems to be rising every year but this data does not account for rising\n",
    "population. Let's read in a table for the Denver population for each year that we\n",
    "have data:"
   ]
  },
  {
   "cell_type": "code",
   "execution_count": 278,
   "id": "bfa225bb",
   "metadata": {},
   "outputs": [],
   "source": [
    "denver_pop = pd.read_csv('C:/Users/justine.o_kobo360/Desktop/Pandas Workbook/Pandas CookBook 1.x/Data files/denver_pop.csv', index_col='Year')"
   ]
  },
  {
   "cell_type": "code",
   "execution_count": 279,
   "id": "f2ddfafd",
   "metadata": {},
   "outputs": [
    {
     "data": {
      "text/html": [
       "<div>\n",
       "<style scoped>\n",
       "    .dataframe tbody tr th:only-of-type {\n",
       "        vertical-align: middle;\n",
       "    }\n",
       "\n",
       "    .dataframe tbody tr th {\n",
       "        vertical-align: top;\n",
       "    }\n",
       "\n",
       "    .dataframe thead th {\n",
       "        text-align: right;\n",
       "    }\n",
       "</style>\n",
       "<table border=\"1\" class=\"dataframe\">\n",
       "  <thead>\n",
       "    <tr style=\"text-align: right;\">\n",
       "      <th></th>\n",
       "      <th>Population</th>\n",
       "    </tr>\n",
       "    <tr>\n",
       "      <th>Year</th>\n",
       "      <th></th>\n",
       "    </tr>\n",
       "  </thead>\n",
       "  <tbody>\n",
       "    <tr>\n",
       "      <th>2017</th>\n",
       "      <td>705000</td>\n",
       "    </tr>\n",
       "    <tr>\n",
       "      <th>2016</th>\n",
       "      <td>693000</td>\n",
       "    </tr>\n",
       "    <tr>\n",
       "      <th>2015</th>\n",
       "      <td>680000</td>\n",
       "    </tr>\n",
       "    <tr>\n",
       "      <th>2014</th>\n",
       "      <td>662000</td>\n",
       "    </tr>\n",
       "    <tr>\n",
       "      <th>2013</th>\n",
       "      <td>647000</td>\n",
       "    </tr>\n",
       "    <tr>\n",
       "      <th>2012</th>\n",
       "      <td>634000</td>\n",
       "    </tr>\n",
       "  </tbody>\n",
       "</table>\n",
       "</div>"
      ],
      "text/plain": [
       "      Population\n",
       "Year            \n",
       "2017      705000\n",
       "2016      693000\n",
       "2015      680000\n",
       "2014      662000\n",
       "2013      647000\n",
       "2012      634000"
      ]
     },
     "execution_count": 279,
     "metadata": {},
     "output_type": "execute_result"
    }
   ],
   "source": [
    "denver_pop"
   ]
  },
  {
   "cell_type": "markdown",
   "id": "edbc9b7c",
   "metadata": {},
   "source": [
    "Many crime metrics are reported as rates per 100,000 residents. Let's divide the\n",
    "population by 100,000 and then divide the raw crime counts by this number to get\n",
    "the crime rate per 100,000 residents:"
   ]
  },
  {
   "cell_type": "code",
   "execution_count": 293,
   "id": "79e74ab3",
   "metadata": {},
   "outputs": [],
   "source": [
    "den_100k = denver_pop.div(100_000).squeeze()\n",
    "\n",
    "normalized =  (crime\n",
    " .groupby([crime['REPORTED_DATE'].dt.year.rename('year'), \n",
    "          crime['REPORTED_DATE'].dt.day_name().rename('day')])\n",
    " .size()\n",
    " .unstack('day')\n",
    " .pipe(update_2017)\n",
    " .reindex(columns=days)\n",
    " .div(den_100k, axis='index')\n",
    " .astype(int)\n",
    ")"
   ]
  },
  {
   "cell_type": "code",
   "execution_count": 294,
   "id": "75d3f5ff",
   "metadata": {},
   "outputs": [
    {
     "data": {
      "text/html": [
       "<div>\n",
       "<style scoped>\n",
       "    .dataframe tbody tr th:only-of-type {\n",
       "        vertical-align: middle;\n",
       "    }\n",
       "\n",
       "    .dataframe tbody tr th {\n",
       "        vertical-align: top;\n",
       "    }\n",
       "\n",
       "    .dataframe thead th {\n",
       "        text-align: right;\n",
       "    }\n",
       "</style>\n",
       "<table border=\"1\" class=\"dataframe\">\n",
       "  <thead>\n",
       "    <tr style=\"text-align: right;\">\n",
       "      <th>day</th>\n",
       "      <th>Monday</th>\n",
       "      <th>Tuesday</th>\n",
       "      <th>...</th>\n",
       "      <th>Saturday</th>\n",
       "      <th>Sunday</th>\n",
       "    </tr>\n",
       "  </thead>\n",
       "  <tbody>\n",
       "    <tr>\n",
       "      <th>2012</th>\n",
       "      <td>1385</td>\n",
       "      <td>1291</td>\n",
       "      <td>...</td>\n",
       "      <td>1173</td>\n",
       "      <td>1133</td>\n",
       "    </tr>\n",
       "    <tr>\n",
       "      <th>2013</th>\n",
       "      <td>1642</td>\n",
       "      <td>1609</td>\n",
       "      <td>...</td>\n",
       "      <td>1371</td>\n",
       "      <td>1305</td>\n",
       "    </tr>\n",
       "    <tr>\n",
       "      <th>2014</th>\n",
       "      <td>1935</td>\n",
       "      <td>1879</td>\n",
       "      <td>...</td>\n",
       "      <td>1654</td>\n",
       "      <td>1552</td>\n",
       "    </tr>\n",
       "    <tr>\n",
       "      <th>2015</th>\n",
       "      <td>1978</td>\n",
       "      <td>1967</td>\n",
       "      <td>...</td>\n",
       "      <td>1703</td>\n",
       "      <td>1562</td>\n",
       "    </tr>\n",
       "    <tr>\n",
       "      <th>2016</th>\n",
       "      <td>1978</td>\n",
       "      <td>1924</td>\n",
       "      <td>...</td>\n",
       "      <td>1654</td>\n",
       "      <td>1522</td>\n",
       "    </tr>\n",
       "    <tr>\n",
       "      <th>2017</th>\n",
       "      <td>2017</td>\n",
       "      <td>2015</td>\n",
       "      <td>...</td>\n",
       "      <td>1614</td>\n",
       "      <td>1540</td>\n",
       "    </tr>\n",
       "  </tbody>\n",
       "</table>\n",
       "<p>6 rows × 7 columns</p>\n",
       "</div>"
      ],
      "text/plain": [
       "day   Monday  Tuesday  ...  Saturday  Sunday\n",
       "2012    1385     1291  ...      1173    1133\n",
       "2013    1642     1609  ...      1371    1305\n",
       "2014    1935     1879  ...      1654    1552\n",
       "2015    1978     1967  ...      1703    1562\n",
       "2016    1978     1924  ...      1654    1522\n",
       "2017    2017     2015  ...      1614    1540\n",
       "\n",
       "[6 rows x 7 columns]"
      ]
     },
     "execution_count": 294,
     "metadata": {},
     "output_type": "execute_result"
    }
   ],
   "source": [
    "normalized"
   ]
  },
  {
   "cell_type": "markdown",
   "id": "aae03ea7",
   "metadata": {},
   "source": [
    "Once again, we can make a heatmap that, even after adjusting for population\n",
    "increase, looks nearly identical to the first one:"
   ]
  },
  {
   "cell_type": "code",
   "execution_count": 296,
   "id": "5bcfef17",
   "metadata": {},
   "outputs": [
    {
     "data": {
      "image/png": "[encoded data removed]",
      "text/plain": [
       "<Figure size 432x288 with 2 Axes>"
      ]
     },
     "metadata": {
      "needs_background": "light"
     },
     "output_type": "display_data"
    }
   ],
   "source": [
    "import seaborn as sns\n",
    "fig, ax = plt.subplots(figsize=(6, 4))\n",
    "sns.heatmap(normalized, cmap='Greys', ax=ax)\n",
    "fig.savefig('c12-crime7.png', dpi=300, bbox_inches='tight')"
   ]
  },
  {
   "cell_type": "markdown",
   "id": "3fe311ce",
   "metadata": {},
   "source": [
    "All DataFrame columns containing Timestamps have access to numerous other attributes and\n",
    "methods with the .dt attribute. In fact, all of these methods and attributes available from the\n",
    ".dt attribute are also available on a Timestamp object."
   ]
  },
  {
   "cell_type": "code",
   "execution_count": 303,
   "id": "638b3b84",
   "metadata": {},
   "outputs": [
    {
     "data": {
      "text/plain": [
       "Monday       70024\n",
       "Tuesday      68394\n",
       "Wednesday    69538\n",
       "Thursday     69287\n",
       "Friday       69621\n",
       "Saturday     58834\n",
       "Sunday       55213\n",
       "Name: REPORTED_DATE, dtype: int64"
      ]
     },
     "execution_count": 303,
     "metadata": {},
     "output_type": "execute_result"
    }
   ],
   "source": [
    "(crime\n",
    " ['REPORTED_DATE']\n",
    " .dt.day_name()\n",
    " .value_counts()\n",
    " .loc[days]\n",
    ")"
   ]
  },
  {
   "cell_type": "markdown",
   "id": "8352777e",
   "metadata": {},
   "source": [
    "To ease the readability, we pivot the weekday level into horizontal column names with .unstack\n",
    "in step 6. Step 6 is doing a cross tabulation. Here is another way to do this in pandas:"
   ]
  },
  {
   "cell_type": "code",
   "execution_count": 312,
   "id": "99224273",
   "metadata": {
    "scrolled": true
   },
   "outputs": [
    {
     "data": {
      "text/html": [
       "<div>\n",
       "<style scoped>\n",
       "    .dataframe tbody tr th:only-of-type {\n",
       "        vertical-align: middle;\n",
       "    }\n",
       "\n",
       "    .dataframe tbody tr th {\n",
       "        vertical-align: top;\n",
       "    }\n",
       "\n",
       "    .dataframe thead th {\n",
       "        text-align: right;\n",
       "    }\n",
       "</style>\n",
       "<table border=\"1\" class=\"dataframe\">\n",
       "  <thead>\n",
       "    <tr style=\"text-align: right;\">\n",
       "      <th>day</th>\n",
       "      <th>Friday</th>\n",
       "      <th>Monday</th>\n",
       "      <th>...</th>\n",
       "      <th>Tuesday</th>\n",
       "      <th>Wednesday</th>\n",
       "    </tr>\n",
       "    <tr>\n",
       "      <th>year</th>\n",
       "      <th></th>\n",
       "      <th></th>\n",
       "      <th></th>\n",
       "      <th></th>\n",
       "      <th></th>\n",
       "    </tr>\n",
       "  </thead>\n",
       "  <tbody>\n",
       "    <tr>\n",
       "      <th>2012</th>\n",
       "      <td>8549</td>\n",
       "      <td>8786</td>\n",
       "      <td>...</td>\n",
       "      <td>8191</td>\n",
       "      <td>8440</td>\n",
       "    </tr>\n",
       "    <tr>\n",
       "      <th>2013</th>\n",
       "      <td>10380</td>\n",
       "      <td>10627</td>\n",
       "      <td>...</td>\n",
       "      <td>10416</td>\n",
       "      <td>10354</td>\n",
       "    </tr>\n",
       "    <tr>\n",
       "      <th>2014</th>\n",
       "      <td>12683</td>\n",
       "      <td>12813</td>\n",
       "      <td>...</td>\n",
       "      <td>12440</td>\n",
       "      <td>12948</td>\n",
       "    </tr>\n",
       "    <tr>\n",
       "      <th>2015</th>\n",
       "      <td>13273</td>\n",
       "      <td>13452</td>\n",
       "      <td>...</td>\n",
       "      <td>13381</td>\n",
       "      <td>13320</td>\n",
       "    </tr>\n",
       "    <tr>\n",
       "      <th>2016</th>\n",
       "      <td>14059</td>\n",
       "      <td>13708</td>\n",
       "      <td>...</td>\n",
       "      <td>13338</td>\n",
       "      <td>13900</td>\n",
       "    </tr>\n",
       "    <tr>\n",
       "      <th>2017</th>\n",
       "      <td>10677</td>\n",
       "      <td>10638</td>\n",
       "      <td>...</td>\n",
       "      <td>10628</td>\n",
       "      <td>10576</td>\n",
       "    </tr>\n",
       "  </tbody>\n",
       "</table>\n",
       "<p>6 rows × 7 columns</p>\n",
       "</div>"
      ],
      "text/plain": [
       "day   Friday  Monday  ...  Tuesday  Wednesday\n",
       "year                  ...                    \n",
       "2012    8549    8786  ...     8191       8440\n",
       "2013   10380   10627  ...    10416      10354\n",
       "2014   12683   12813  ...    12440      12948\n",
       "2015   13273   13452  ...    13381      13320\n",
       "2016   14059   13708  ...    13338      13900\n",
       "2017   10677   10638  ...    10628      10576\n",
       "\n",
       "[6 rows x 7 columns]"
      ]
     },
     "execution_count": 312,
     "metadata": {},
     "output_type": "execute_result"
    }
   ],
   "source": [
    "(crime\n",
    " .assign(year=crime['REPORTED_DATE'].dt.year,\n",
    "        day=crime['REPORTED_DATE'].dt.day_name())\n",
    " .pipe(lambda df_: pd.crosstab(df_.year, df_.day))\n",
    " \n",
    ")"
   ]
  },
  {
   "cell_type": "markdown",
   "id": "5694614f",
   "metadata": {},
   "source": [
    "If we wanted to look at specific types of crimes we could do the following"
   ]
  },
  {
   "cell_type": "code",
   "execution_count": 313,
   "id": "7d7f1f61",
   "metadata": {},
   "outputs": [],
   "source": [
    "crime_type = 'auto-theft'\n"
   ]
  },
  {
   "cell_type": "code",
   "execution_count": 314,
   "id": "157d920a",
   "metadata": {},
   "outputs": [],
   "source": [
    "normalized =  (crime\n",
    "               .query('OFFENSE_CATEGORY_ID == @crime_type')\n",
    " .groupby([crime['REPORTED_DATE'].dt.year.rename('year'), \n",
    "          crime['REPORTED_DATE'].dt.day_name().rename('day')])\n",
    " .size()\n",
    " .unstack('day')\n",
    " .pipe(update_2017)\n",
    " .reindex(columns=days)\n",
    " .div(den_100k, axis='index')\n",
    " .astype(int)\n",
    ")"
   ]
  },
  {
   "cell_type": "code",
   "execution_count": 315,
   "id": "eb27c326",
   "metadata": {},
   "outputs": [
    {
     "data": {
      "text/html": [
       "<div>\n",
       "<style scoped>\n",
       "    .dataframe tbody tr th:only-of-type {\n",
       "        vertical-align: middle;\n",
       "    }\n",
       "\n",
       "    .dataframe tbody tr th {\n",
       "        vertical-align: top;\n",
       "    }\n",
       "\n",
       "    .dataframe thead th {\n",
       "        text-align: right;\n",
       "    }\n",
       "</style>\n",
       "<table border=\"1\" class=\"dataframe\">\n",
       "  <thead>\n",
       "    <tr style=\"text-align: right;\">\n",
       "      <th>day</th>\n",
       "      <th>Monday</th>\n",
       "      <th>Tuesday</th>\n",
       "      <th>...</th>\n",
       "      <th>Saturday</th>\n",
       "      <th>Sunday</th>\n",
       "    </tr>\n",
       "  </thead>\n",
       "  <tbody>\n",
       "    <tr>\n",
       "      <th>2012</th>\n",
       "      <td>95</td>\n",
       "      <td>72</td>\n",
       "      <td>...</td>\n",
       "      <td>78</td>\n",
       "      <td>76</td>\n",
       "    </tr>\n",
       "    <tr>\n",
       "      <th>2013</th>\n",
       "      <td>85</td>\n",
       "      <td>74</td>\n",
       "      <td>...</td>\n",
       "      <td>68</td>\n",
       "      <td>67</td>\n",
       "    </tr>\n",
       "    <tr>\n",
       "      <th>2014</th>\n",
       "      <td>94</td>\n",
       "      <td>76</td>\n",
       "      <td>...</td>\n",
       "      <td>67</td>\n",
       "      <td>67</td>\n",
       "    </tr>\n",
       "    <tr>\n",
       "      <th>2015</th>\n",
       "      <td>108</td>\n",
       "      <td>102</td>\n",
       "      <td>...</td>\n",
       "      <td>85</td>\n",
       "      <td>78</td>\n",
       "    </tr>\n",
       "    <tr>\n",
       "      <th>2016</th>\n",
       "      <td>119</td>\n",
       "      <td>102</td>\n",
       "      <td>...</td>\n",
       "      <td>86</td>\n",
       "      <td>85</td>\n",
       "    </tr>\n",
       "    <tr>\n",
       "      <th>2017</th>\n",
       "      <td>114</td>\n",
       "      <td>118</td>\n",
       "      <td>...</td>\n",
       "      <td>91</td>\n",
       "      <td>102</td>\n",
       "    </tr>\n",
       "  </tbody>\n",
       "</table>\n",
       "<p>6 rows × 7 columns</p>\n",
       "</div>"
      ],
      "text/plain": [
       "day   Monday  Tuesday  ...  Saturday  Sunday\n",
       "2012      95       72  ...        78      76\n",
       "2013      85       74  ...        68      67\n",
       "2014      94       76  ...        67      67\n",
       "2015     108      102  ...        85      78\n",
       "2016     119      102  ...        86      85\n",
       "2017     114      118  ...        91     102\n",
       "\n",
       "[6 rows x 7 columns]"
      ]
     },
     "execution_count": 315,
     "metadata": {},
     "output_type": "execute_result"
    }
   ],
   "source": [
    "normalized"
   ]
  },
  {
   "cell_type": "code",
   "execution_count": 317,
   "id": "ad34731f",
   "metadata": {},
   "outputs": [
    {
     "data": {
      "text/html": [
       "<div>\n",
       "<style scoped>\n",
       "    .dataframe tbody tr th:only-of-type {\n",
       "        vertical-align: middle;\n",
       "    }\n",
       "\n",
       "    .dataframe tbody tr th {\n",
       "        vertical-align: top;\n",
       "    }\n",
       "\n",
       "    .dataframe thead th {\n",
       "        text-align: right;\n",
       "    }\n",
       "</style>\n",
       "<table border=\"1\" class=\"dataframe\">\n",
       "  <thead>\n",
       "    <tr style=\"text-align: right;\">\n",
       "      <th>day</th>\n",
       "      <th>Monday</th>\n",
       "      <th>Tuesday</th>\n",
       "      <th>...</th>\n",
       "      <th>Saturday</th>\n",
       "      <th>Sunday</th>\n",
       "    </tr>\n",
       "  </thead>\n",
       "  <tbody>\n",
       "    <tr>\n",
       "      <th>2012</th>\n",
       "      <td>427</td>\n",
       "      <td>457</td>\n",
       "      <td>...</td>\n",
       "      <td>420</td>\n",
       "      <td>362</td>\n",
       "    </tr>\n",
       "    <tr>\n",
       "      <th>2013</th>\n",
       "      <td>407</td>\n",
       "      <td>451</td>\n",
       "      <td>...</td>\n",
       "      <td>362</td>\n",
       "      <td>302</td>\n",
       "    </tr>\n",
       "    <tr>\n",
       "      <th>2014</th>\n",
       "      <td>467</td>\n",
       "      <td>496</td>\n",
       "      <td>...</td>\n",
       "      <td>405</td>\n",
       "      <td>341</td>\n",
       "    </tr>\n",
       "    <tr>\n",
       "      <th>2015</th>\n",
       "      <td>489</td>\n",
       "      <td>514</td>\n",
       "      <td>...</td>\n",
       "      <td>425</td>\n",
       "      <td>342</td>\n",
       "    </tr>\n",
       "    <tr>\n",
       "      <th>2016</th>\n",
       "      <td>496</td>\n",
       "      <td>499</td>\n",
       "      <td>...</td>\n",
       "      <td>418</td>\n",
       "      <td>339</td>\n",
       "    </tr>\n",
       "    <tr>\n",
       "      <th>2017</th>\n",
       "      <td>503</td>\n",
       "      <td>506</td>\n",
       "      <td>...</td>\n",
       "      <td>376</td>\n",
       "      <td>320</td>\n",
       "    </tr>\n",
       "  </tbody>\n",
       "</table>\n",
       "<p>6 rows × 7 columns</p>\n",
       "</div>"
      ],
      "text/plain": [
       "day   Monday  Tuesday  ...  Saturday  Sunday\n",
       "2012     427      457  ...       420     362\n",
       "2013     407      451  ...       362     302\n",
       "2014     467      496  ...       405     341\n",
       "2015     489      514  ...       425     342\n",
       "2016     496      499  ...       418     339\n",
       "2017     503      506  ...       376     320\n",
       "\n",
       "[6 rows x 7 columns]"
      ]
     },
     "execution_count": 317,
     "metadata": {},
     "output_type": "execute_result"
    }
   ],
   "source": [
    "crime_type = 'traffic-accident'\n",
    "\n",
    "normalized =  (crime\n",
    "               .query('OFFENSE_CATEGORY_ID == @crime_type')\n",
    " .groupby([crime['REPORTED_DATE'].dt.year.rename('year'), \n",
    "          crime['REPORTED_DATE'].dt.day_name().rename('day')])\n",
    " .size()\n",
    " .unstack('day')\n",
    " .pipe(update_2017)\n",
    " .reindex(columns=days)\n",
    " .div(den_100k, axis='index')\n",
    " .astype(int)\n",
    ")\n",
    "\n",
    "normalized"
   ]
  },
  {
   "cell_type": "markdown",
   "id": "92a898fe",
   "metadata": {},
   "source": [
    "### Grouping with anonymous functions with a DatetimeIndex"
   ]
  },
  {
   "cell_type": "markdown",
   "id": "4a2e19cb",
   "metadata": {},
   "source": [
    "Read in the Denver crime hdf5 file, place the REPORTED_DATE column in the index,\n",
    "and sort it:\n"
   ]
  },
  {
   "cell_type": "code",
   "execution_count": 322,
   "id": "e2b1a010",
   "metadata": {},
   "outputs": [],
   "source": [
    "crime = (pd.read_hdf('C:/Users/justine.o_kobo360/Desktop/Pandas Workbook/Pandas CookBook 1.x/Data files/crime.h5', 'crime')\n",
    "           .set_index('REPORTED_DATE')\n",
    "           .sort_index()\n",
    "        )"
   ]
  },
  {
   "cell_type": "markdown",
   "id": "be3e9ff7",
   "metadata": {},
   "source": [
    "The DatetimeIndex has many of the same attributes and methods as a pandas\n",
    "Timestamp. Let's take a look at some that they have in common:"
   ]
  },
  {
   "cell_type": "code",
   "execution_count": 323,
   "id": "6203ea29",
   "metadata": {},
   "outputs": [
    {
     "data": {
      "text/plain": [
       "['to_period',\n",
       " 'hour',\n",
       " 'minute',\n",
       " 'freq',\n",
       " 'microsecond',\n",
       " 'to_pydatetime',\n",
       " 'time',\n",
       " 'timetz',\n",
       " 'is_month_start',\n",
       " 'quarter',\n",
       " 'freqstr',\n",
       " 'tz_convert',\n",
       " 'ceil',\n",
       " 'resolution',\n",
       " 'month_name',\n",
       " 'max',\n",
       " 'days_in_month',\n",
       " 'daysinmonth',\n",
       " 'floor',\n",
       " 'isocalendar',\n",
       " 'day_of_week',\n",
       " 'is_leap_year',\n",
       " 'nanosecond',\n",
       " 'week',\n",
       " 'is_month_end',\n",
       " 'is_year_end',\n",
       " 'strftime',\n",
       " 'dayofyear',\n",
       " 'is_quarter_start',\n",
       " 'round',\n",
       " 'month',\n",
       " 'day_of_year',\n",
       " 'to_julian_date',\n",
       " 'year',\n",
       " 'is_year_start',\n",
       " 'second',\n",
       " 'dayofweek',\n",
       " 'weekofyear',\n",
       " 'tz',\n",
       " 'to_numpy',\n",
       " 'tz_localize',\n",
       " 'date',\n",
       " 'is_quarter_end',\n",
       " 'day',\n",
       " 'weekday',\n",
       " 'min',\n",
       " 'day_name',\n",
       " 'normalize',\n",
       " 'tzinfo']"
      ]
     },
     "execution_count": 323,
     "metadata": {},
     "output_type": "execute_result"
    }
   ],
   "source": [
    "common_attrs = (set(dir(crime.index)) & set(dir(pd.Timestamp)))\n",
    "\n",
    "[attr for attr in common_attrs if attr[0] != '_']"
   ]
  },
  {
   "cell_type": "markdown",
   "id": "b29e77d8",
   "metadata": {},
   "source": [
    "We can then use the .index to find weekday names, similarly to what was done in\n",
    "step 2 of the preceding recipe:"
   ]
  },
  {
   "cell_type": "code",
   "execution_count": 324,
   "id": "368aa406",
   "metadata": {},
   "outputs": [
    {
     "data": {
      "text/plain": [
       "Monday       70024\n",
       "Friday       69621\n",
       "Wednesday    69538\n",
       "Thursday     69287\n",
       "Tuesday      68394\n",
       "Saturday     58834\n",
       "Sunday       55213\n",
       "Name: REPORTED_DATE, dtype: int64"
      ]
     },
     "execution_count": 324,
     "metadata": {},
     "output_type": "execute_result"
    }
   ],
   "source": [
    "crime.index.day_name().value_counts()"
   ]
  },
  {
   "cell_type": "markdown",
   "id": "ff96c766",
   "metadata": {},
   "source": [
    "The .groupby method can accept a function as an argument. This function will be\n",
    "passed the .index and the return value is used to form groups. Let's see this in\n",
    "action by grouping with a function that turns the .index into a weekday name and\n",
    "then counts the number of crimes and traffic accidents separately:"
   ]
  },
  {
   "cell_type": "code",
   "execution_count": 327,
   "id": "b2eac7ba",
   "metadata": {},
   "outputs": [
    {
     "data": {
      "text/html": [
       "<div>\n",
       "<style scoped>\n",
       "    .dataframe tbody tr th:only-of-type {\n",
       "        vertical-align: middle;\n",
       "    }\n",
       "\n",
       "    .dataframe tbody tr th {\n",
       "        vertical-align: top;\n",
       "    }\n",
       "\n",
       "    .dataframe thead th {\n",
       "        text-align: right;\n",
       "    }\n",
       "</style>\n",
       "<table border=\"1\" class=\"dataframe\">\n",
       "  <thead>\n",
       "    <tr style=\"text-align: right;\">\n",
       "      <th></th>\n",
       "      <th>IS_CRIME</th>\n",
       "      <th>IS_TRAFFIC</th>\n",
       "    </tr>\n",
       "    <tr>\n",
       "      <th>REPORTED_DATE</th>\n",
       "      <th></th>\n",
       "      <th></th>\n",
       "    </tr>\n",
       "  </thead>\n",
       "  <tbody>\n",
       "    <tr>\n",
       "      <th>Friday</th>\n",
       "      <td>48833</td>\n",
       "      <td>20814</td>\n",
       "    </tr>\n",
       "    <tr>\n",
       "      <th>Monday</th>\n",
       "      <td>52158</td>\n",
       "      <td>17895</td>\n",
       "    </tr>\n",
       "    <tr>\n",
       "      <th>Saturday</th>\n",
       "      <td>43363</td>\n",
       "      <td>15516</td>\n",
       "    </tr>\n",
       "    <tr>\n",
       "      <th>Sunday</th>\n",
       "      <td>42315</td>\n",
       "      <td>12968</td>\n",
       "    </tr>\n",
       "    <tr>\n",
       "      <th>Thursday</th>\n",
       "      <td>49470</td>\n",
       "      <td>19845</td>\n",
       "    </tr>\n",
       "    <tr>\n",
       "      <th>Tuesday</th>\n",
       "      <td>49658</td>\n",
       "      <td>18755</td>\n",
       "    </tr>\n",
       "    <tr>\n",
       "      <th>Wednesday</th>\n",
       "      <td>50054</td>\n",
       "      <td>19508</td>\n",
       "    </tr>\n",
       "  </tbody>\n",
       "</table>\n",
       "</div>"
      ],
      "text/plain": [
       "               IS_CRIME  IS_TRAFFIC\n",
       "REPORTED_DATE                      \n",
       "Friday            48833       20814\n",
       "Monday            52158       17895\n",
       "Saturday          43363       15516\n",
       "Sunday            42315       12968\n",
       "Thursday          49470       19845\n",
       "Tuesday           49658       18755\n",
       "Wednesday         50054       19508"
      ]
     },
     "execution_count": 327,
     "metadata": {},
     "output_type": "execute_result"
    }
   ],
   "source": [
    "(crime\n",
    " .groupby(lambda idx: idx.day_name())\n",
    " [['IS_CRIME', 'IS_TRAFFIC']]\n",
    " .sum()\n",
    ")"
   ]
  },
  {
   "cell_type": "markdown",
   "id": "1735cdf6",
   "metadata": {},
   "source": [
    "You can use a list of functions to group by both the hour of day and year, and then\n",
    "reshape the table to make it more readable:"
   ]
  },
  {
   "cell_type": "code",
   "execution_count": 328,
   "id": "0c0e0013",
   "metadata": {},
   "outputs": [],
   "source": [
    "funcs = [lambda idx: idx.round('2h').hour, lambda idx: idx.year]"
   ]
  },
  {
   "cell_type": "code",
   "execution_count": 335,
   "id": "ef757ba4",
   "metadata": {},
   "outputs": [
    {
     "data": {
      "text/html": [
       "<div>\n",
       "<style scoped>\n",
       "    .dataframe tbody tr th:only-of-type {\n",
       "        vertical-align: middle;\n",
       "    }\n",
       "\n",
       "    .dataframe tbody tr th {\n",
       "        vertical-align: top;\n",
       "    }\n",
       "\n",
       "    .dataframe thead tr th {\n",
       "        text-align: left;\n",
       "    }\n",
       "\n",
       "    .dataframe thead tr:last-of-type th {\n",
       "        text-align: right;\n",
       "    }\n",
       "</style>\n",
       "<table border=\"1\" class=\"dataframe\">\n",
       "  <thead>\n",
       "    <tr>\n",
       "      <th></th>\n",
       "      <th colspan=\"2\" halign=\"left\">IS_CRIME</th>\n",
       "      <th>...</th>\n",
       "      <th colspan=\"2\" halign=\"left\">IS_TRAFFIC</th>\n",
       "    </tr>\n",
       "    <tr>\n",
       "      <th>REPORTED_DATE</th>\n",
       "      <th>2012</th>\n",
       "      <th>2013</th>\n",
       "      <th>...</th>\n",
       "      <th>2016</th>\n",
       "      <th>2017</th>\n",
       "    </tr>\n",
       "    <tr>\n",
       "      <th>REPORTED_DATE</th>\n",
       "      <th></th>\n",
       "      <th></th>\n",
       "      <th></th>\n",
       "      <th></th>\n",
       "      <th></th>\n",
       "    </tr>\n",
       "  </thead>\n",
       "  <tbody>\n",
       "    <tr>\n",
       "      <th>0</th>\n",
       "      <td>2422</td>\n",
       "      <td>4040</td>\n",
       "      <td>...</td>\n",
       "      <td>980</td>\n",
       "      <td>782</td>\n",
       "    </tr>\n",
       "    <tr>\n",
       "      <th>2</th>\n",
       "      <td>1888</td>\n",
       "      <td>3214</td>\n",
       "      <td>...</td>\n",
       "      <td>718</td>\n",
       "      <td>537</td>\n",
       "    </tr>\n",
       "    <tr>\n",
       "      <th>4</th>\n",
       "      <td>1472</td>\n",
       "      <td>2181</td>\n",
       "      <td>...</td>\n",
       "      <td>464</td>\n",
       "      <td>313</td>\n",
       "    </tr>\n",
       "    <tr>\n",
       "      <th>6</th>\n",
       "      <td>1067</td>\n",
       "      <td>1365</td>\n",
       "      <td>...</td>\n",
       "      <td>593</td>\n",
       "      <td>462</td>\n",
       "    </tr>\n",
       "    <tr>\n",
       "      <th>8</th>\n",
       "      <td>2998</td>\n",
       "      <td>3445</td>\n",
       "      <td>...</td>\n",
       "      <td>2372</td>\n",
       "      <td>1828</td>\n",
       "    </tr>\n",
       "    <tr>\n",
       "      <th>10</th>\n",
       "      <td>4305</td>\n",
       "      <td>5035</td>\n",
       "      <td>...</td>\n",
       "      <td>2303</td>\n",
       "      <td>1873</td>\n",
       "    </tr>\n",
       "    <tr>\n",
       "      <th>12</th>\n",
       "      <td>4496</td>\n",
       "      <td>5524</td>\n",
       "      <td>...</td>\n",
       "      <td>2760</td>\n",
       "      <td>1986</td>\n",
       "    </tr>\n",
       "    <tr>\n",
       "      <th>14</th>\n",
       "      <td>4266</td>\n",
       "      <td>5698</td>\n",
       "      <td>...</td>\n",
       "      <td>2763</td>\n",
       "      <td>1990</td>\n",
       "    </tr>\n",
       "    <tr>\n",
       "      <th>16</th>\n",
       "      <td>4113</td>\n",
       "      <td>5889</td>\n",
       "      <td>...</td>\n",
       "      <td>3527</td>\n",
       "      <td>2784</td>\n",
       "    </tr>\n",
       "    <tr>\n",
       "      <th>18</th>\n",
       "      <td>3660</td>\n",
       "      <td>5094</td>\n",
       "      <td>...</td>\n",
       "      <td>3608</td>\n",
       "      <td>2718</td>\n",
       "    </tr>\n",
       "    <tr>\n",
       "      <th>20</th>\n",
       "      <td>3521</td>\n",
       "      <td>4895</td>\n",
       "      <td>...</td>\n",
       "      <td>2184</td>\n",
       "      <td>1491</td>\n",
       "    </tr>\n",
       "    <tr>\n",
       "      <th>22</th>\n",
       "      <td>3078</td>\n",
       "      <td>4318</td>\n",
       "      <td>...</td>\n",
       "      <td>1472</td>\n",
       "      <td>1072</td>\n",
       "    </tr>\n",
       "  </tbody>\n",
       "</table>\n",
       "<p>12 rows × 12 columns</p>\n",
       "</div>"
      ],
      "text/plain": [
       "              IS_CRIME        ... IS_TRAFFIC      \n",
       "REPORTED_DATE     2012  2013  ...       2016  2017\n",
       "REPORTED_DATE                 ...                 \n",
       "0                 2422  4040  ...        980   782\n",
       "2                 1888  3214  ...        718   537\n",
       "4                 1472  2181  ...        464   313\n",
       "6                 1067  1365  ...        593   462\n",
       "8                 2998  3445  ...       2372  1828\n",
       "10                4305  5035  ...       2303  1873\n",
       "12                4496  5524  ...       2760  1986\n",
       "14                4266  5698  ...       2763  1990\n",
       "16                4113  5889  ...       3527  2784\n",
       "18                3660  5094  ...       3608  2718\n",
       "20                3521  4895  ...       2184  1491\n",
       "22                3078  4318  ...       1472  1072\n",
       "\n",
       "[12 rows x 12 columns]"
      ]
     },
     "execution_count": 335,
     "metadata": {},
     "output_type": "execute_result"
    }
   ],
   "source": [
    "( crime\n",
    " .groupby(funcs)\n",
    " [['IS_CRIME', 'IS_TRAFFIC']]\n",
    " .sum()\n",
    " .unstack()\n",
    " #.swaplevel(axis=1)\n",
    ")"
   ]
  },
  {
   "cell_type": "markdown",
   "id": "e9efc6db",
   "metadata": {},
   "source": [
    "If you are using Jupyter, you can add .style.highlight_\n",
    "max(color='lightgrey') to bring attention to the largest value in each column:"
   ]
  },
  {
   "cell_type": "code",
   "execution_count": 336,
   "id": "609be448",
   "metadata": {},
   "outputs": [
    {
     "data": {
      "text/html": [
       "<style type=\"text/css\">\n",
       "#T_04e5b_row6_col0, #T_04e5b_row8_col1, #T_04e5b_row8_col2, #T_04e5b_row8_col3, #T_04e5b_row8_col4, #T_04e5b_row8_col5, #T_04e5b_row8_col11, #T_04e5b_row9_col6, #T_04e5b_row9_col7, #T_04e5b_row9_col8, #T_04e5b_row9_col9, #T_04e5b_row9_col10 {\n",
       "  background-color: lightgrey;\n",
       "}\n",
       "</style>\n",
       "<table id=\"T_04e5b_\">\n",
       "  <thead>\n",
       "    <tr>\n",
       "      <th class=\"blank level0\" >&nbsp;</th>\n",
       "      <th class=\"col_heading level0 col0\" colspan=\"6\">IS_CRIME</th>\n",
       "      <th class=\"col_heading level0 col6\" colspan=\"6\">IS_TRAFFIC</th>\n",
       "    </tr>\n",
       "    <tr>\n",
       "      <th class=\"index_name level1\" >REPORTED_DATE</th>\n",
       "      <th class=\"col_heading level1 col0\" >2012</th>\n",
       "      <th class=\"col_heading level1 col1\" >2013</th>\n",
       "      <th class=\"col_heading level1 col2\" >2014</th>\n",
       "      <th class=\"col_heading level1 col3\" >2015</th>\n",
       "      <th class=\"col_heading level1 col4\" >2016</th>\n",
       "      <th class=\"col_heading level1 col5\" >2017</th>\n",
       "      <th class=\"col_heading level1 col6\" >2012</th>\n",
       "      <th class=\"col_heading level1 col7\" >2013</th>\n",
       "      <th class=\"col_heading level1 col8\" >2014</th>\n",
       "      <th class=\"col_heading level1 col9\" >2015</th>\n",
       "      <th class=\"col_heading level1 col10\" >2016</th>\n",
       "      <th class=\"col_heading level1 col11\" >2017</th>\n",
       "    </tr>\n",
       "    <tr>\n",
       "      <th class=\"index_name level0\" >REPORTED_DATE</th>\n",
       "      <th class=\"blank col0\" >&nbsp;</th>\n",
       "      <th class=\"blank col1\" >&nbsp;</th>\n",
       "      <th class=\"blank col2\" >&nbsp;</th>\n",
       "      <th class=\"blank col3\" >&nbsp;</th>\n",
       "      <th class=\"blank col4\" >&nbsp;</th>\n",
       "      <th class=\"blank col5\" >&nbsp;</th>\n",
       "      <th class=\"blank col6\" >&nbsp;</th>\n",
       "      <th class=\"blank col7\" >&nbsp;</th>\n",
       "      <th class=\"blank col8\" >&nbsp;</th>\n",
       "      <th class=\"blank col9\" >&nbsp;</th>\n",
       "      <th class=\"blank col10\" >&nbsp;</th>\n",
       "      <th class=\"blank col11\" >&nbsp;</th>\n",
       "    </tr>\n",
       "  </thead>\n",
       "  <tbody>\n",
       "    <tr>\n",
       "      <th id=\"T_04e5b_level0_row0\" class=\"row_heading level0 row0\" >0</th>\n",
       "      <td id=\"T_04e5b_row0_col0\" class=\"data row0 col0\" >2422</td>\n",
       "      <td id=\"T_04e5b_row0_col1\" class=\"data row0 col1\" >4040</td>\n",
       "      <td id=\"T_04e5b_row0_col2\" class=\"data row0 col2\" >5649</td>\n",
       "      <td id=\"T_04e5b_row0_col3\" class=\"data row0 col3\" >5649</td>\n",
       "      <td id=\"T_04e5b_row0_col4\" class=\"data row0 col4\" >5377</td>\n",
       "      <td id=\"T_04e5b_row0_col5\" class=\"data row0 col5\" >3811</td>\n",
       "      <td id=\"T_04e5b_row0_col6\" class=\"data row0 col6\" >919</td>\n",
       "      <td id=\"T_04e5b_row0_col7\" class=\"data row0 col7\" >792</td>\n",
       "      <td id=\"T_04e5b_row0_col8\" class=\"data row0 col8\" >978</td>\n",
       "      <td id=\"T_04e5b_row0_col9\" class=\"data row0 col9\" >1136</td>\n",
       "      <td id=\"T_04e5b_row0_col10\" class=\"data row0 col10\" >980</td>\n",
       "      <td id=\"T_04e5b_row0_col11\" class=\"data row0 col11\" >782</td>\n",
       "    </tr>\n",
       "    <tr>\n",
       "      <th id=\"T_04e5b_level0_row1\" class=\"row_heading level0 row1\" >2</th>\n",
       "      <td id=\"T_04e5b_row1_col0\" class=\"data row1 col0\" >1888</td>\n",
       "      <td id=\"T_04e5b_row1_col1\" class=\"data row1 col1\" >3214</td>\n",
       "      <td id=\"T_04e5b_row1_col2\" class=\"data row1 col2\" >4245</td>\n",
       "      <td id=\"T_04e5b_row1_col3\" class=\"data row1 col3\" >4050</td>\n",
       "      <td id=\"T_04e5b_row1_col4\" class=\"data row1 col4\" >4091</td>\n",
       "      <td id=\"T_04e5b_row1_col5\" class=\"data row1 col5\" >3041</td>\n",
       "      <td id=\"T_04e5b_row1_col6\" class=\"data row1 col6\" >718</td>\n",
       "      <td id=\"T_04e5b_row1_col7\" class=\"data row1 col7\" >652</td>\n",
       "      <td id=\"T_04e5b_row1_col8\" class=\"data row1 col8\" >779</td>\n",
       "      <td id=\"T_04e5b_row1_col9\" class=\"data row1 col9\" >773</td>\n",
       "      <td id=\"T_04e5b_row1_col10\" class=\"data row1 col10\" >718</td>\n",
       "      <td id=\"T_04e5b_row1_col11\" class=\"data row1 col11\" >537</td>\n",
       "    </tr>\n",
       "    <tr>\n",
       "      <th id=\"T_04e5b_level0_row2\" class=\"row_heading level0 row2\" >4</th>\n",
       "      <td id=\"T_04e5b_row2_col0\" class=\"data row2 col0\" >1472</td>\n",
       "      <td id=\"T_04e5b_row2_col1\" class=\"data row2 col1\" >2181</td>\n",
       "      <td id=\"T_04e5b_row2_col2\" class=\"data row2 col2\" >2956</td>\n",
       "      <td id=\"T_04e5b_row2_col3\" class=\"data row2 col3\" >2959</td>\n",
       "      <td id=\"T_04e5b_row2_col4\" class=\"data row2 col4\" >3044</td>\n",
       "      <td id=\"T_04e5b_row2_col5\" class=\"data row2 col5\" >2255</td>\n",
       "      <td id=\"T_04e5b_row2_col6\" class=\"data row2 col6\" >399</td>\n",
       "      <td id=\"T_04e5b_row2_col7\" class=\"data row2 col7\" >378</td>\n",
       "      <td id=\"T_04e5b_row2_col8\" class=\"data row2 col8\" >424</td>\n",
       "      <td id=\"T_04e5b_row2_col9\" class=\"data row2 col9\" >471</td>\n",
       "      <td id=\"T_04e5b_row2_col10\" class=\"data row2 col10\" >464</td>\n",
       "      <td id=\"T_04e5b_row2_col11\" class=\"data row2 col11\" >313</td>\n",
       "    </tr>\n",
       "    <tr>\n",
       "      <th id=\"T_04e5b_level0_row3\" class=\"row_heading level0 row3\" >6</th>\n",
       "      <td id=\"T_04e5b_row3_col0\" class=\"data row3 col0\" >1067</td>\n",
       "      <td id=\"T_04e5b_row3_col1\" class=\"data row3 col1\" >1365</td>\n",
       "      <td id=\"T_04e5b_row3_col2\" class=\"data row3 col2\" >1750</td>\n",
       "      <td id=\"T_04e5b_row3_col3\" class=\"data row3 col3\" >2167</td>\n",
       "      <td id=\"T_04e5b_row3_col4\" class=\"data row3 col4\" >2108</td>\n",
       "      <td id=\"T_04e5b_row3_col5\" class=\"data row3 col5\" >1567</td>\n",
       "      <td id=\"T_04e5b_row3_col6\" class=\"data row3 col6\" >411</td>\n",
       "      <td id=\"T_04e5b_row3_col7\" class=\"data row3 col7\" >399</td>\n",
       "      <td id=\"T_04e5b_row3_col8\" class=\"data row3 col8\" >479</td>\n",
       "      <td id=\"T_04e5b_row3_col9\" class=\"data row3 col9\" >494</td>\n",
       "      <td id=\"T_04e5b_row3_col10\" class=\"data row3 col10\" >593</td>\n",
       "      <td id=\"T_04e5b_row3_col11\" class=\"data row3 col11\" >462</td>\n",
       "    </tr>\n",
       "    <tr>\n",
       "      <th id=\"T_04e5b_level0_row4\" class=\"row_heading level0 row4\" >8</th>\n",
       "      <td id=\"T_04e5b_row4_col0\" class=\"data row4 col0\" >2998</td>\n",
       "      <td id=\"T_04e5b_row4_col1\" class=\"data row4 col1\" >3445</td>\n",
       "      <td id=\"T_04e5b_row4_col2\" class=\"data row4 col2\" >3727</td>\n",
       "      <td id=\"T_04e5b_row4_col3\" class=\"data row4 col3\" >4161</td>\n",
       "      <td id=\"T_04e5b_row4_col4\" class=\"data row4 col4\" >4488</td>\n",
       "      <td id=\"T_04e5b_row4_col5\" class=\"data row4 col5\" >3251</td>\n",
       "      <td id=\"T_04e5b_row4_col6\" class=\"data row4 col6\" >1957</td>\n",
       "      <td id=\"T_04e5b_row4_col7\" class=\"data row4 col7\" >1955</td>\n",
       "      <td id=\"T_04e5b_row4_col8\" class=\"data row4 col8\" >2210</td>\n",
       "      <td id=\"T_04e5b_row4_col9\" class=\"data row4 col9\" >2331</td>\n",
       "      <td id=\"T_04e5b_row4_col10\" class=\"data row4 col10\" >2372</td>\n",
       "      <td id=\"T_04e5b_row4_col11\" class=\"data row4 col11\" >1828</td>\n",
       "    </tr>\n",
       "    <tr>\n",
       "      <th id=\"T_04e5b_level0_row5\" class=\"row_heading level0 row5\" >10</th>\n",
       "      <td id=\"T_04e5b_row5_col0\" class=\"data row5 col0\" >4305</td>\n",
       "      <td id=\"T_04e5b_row5_col1\" class=\"data row5 col1\" >5035</td>\n",
       "      <td id=\"T_04e5b_row5_col2\" class=\"data row5 col2\" >5658</td>\n",
       "      <td id=\"T_04e5b_row5_col3\" class=\"data row5 col3\" >6205</td>\n",
       "      <td id=\"T_04e5b_row5_col4\" class=\"data row5 col4\" >6218</td>\n",
       "      <td id=\"T_04e5b_row5_col5\" class=\"data row5 col5\" >4993</td>\n",
       "      <td id=\"T_04e5b_row5_col6\" class=\"data row5 col6\" >1979</td>\n",
       "      <td id=\"T_04e5b_row5_col7\" class=\"data row5 col7\" >1901</td>\n",
       "      <td id=\"T_04e5b_row5_col8\" class=\"data row5 col8\" >2139</td>\n",
       "      <td id=\"T_04e5b_row5_col9\" class=\"data row5 col9\" >2320</td>\n",
       "      <td id=\"T_04e5b_row5_col10\" class=\"data row5 col10\" >2303</td>\n",
       "      <td id=\"T_04e5b_row5_col11\" class=\"data row5 col11\" >1873</td>\n",
       "    </tr>\n",
       "    <tr>\n",
       "      <th id=\"T_04e5b_level0_row6\" class=\"row_heading level0 row6\" >12</th>\n",
       "      <td id=\"T_04e5b_row6_col0\" class=\"data row6 col0\" >4496</td>\n",
       "      <td id=\"T_04e5b_row6_col1\" class=\"data row6 col1\" >5524</td>\n",
       "      <td id=\"T_04e5b_row6_col2\" class=\"data row6 col2\" >6434</td>\n",
       "      <td id=\"T_04e5b_row6_col3\" class=\"data row6 col3\" >6841</td>\n",
       "      <td id=\"T_04e5b_row6_col4\" class=\"data row6 col4\" >7226</td>\n",
       "      <td id=\"T_04e5b_row6_col5\" class=\"data row6 col5\" >5463</td>\n",
       "      <td id=\"T_04e5b_row6_col6\" class=\"data row6 col6\" >2200</td>\n",
       "      <td id=\"T_04e5b_row6_col7\" class=\"data row6 col7\" >2138</td>\n",
       "      <td id=\"T_04e5b_row6_col8\" class=\"data row6 col8\" >2379</td>\n",
       "      <td id=\"T_04e5b_row6_col9\" class=\"data row6 col9\" >2631</td>\n",
       "      <td id=\"T_04e5b_row6_col10\" class=\"data row6 col10\" >2760</td>\n",
       "      <td id=\"T_04e5b_row6_col11\" class=\"data row6 col11\" >1986</td>\n",
       "    </tr>\n",
       "    <tr>\n",
       "      <th id=\"T_04e5b_level0_row7\" class=\"row_heading level0 row7\" >14</th>\n",
       "      <td id=\"T_04e5b_row7_col0\" class=\"data row7 col0\" >4266</td>\n",
       "      <td id=\"T_04e5b_row7_col1\" class=\"data row7 col1\" >5698</td>\n",
       "      <td id=\"T_04e5b_row7_col2\" class=\"data row7 col2\" >6708</td>\n",
       "      <td id=\"T_04e5b_row7_col3\" class=\"data row7 col3\" >7218</td>\n",
       "      <td id=\"T_04e5b_row7_col4\" class=\"data row7 col4\" >6896</td>\n",
       "      <td id=\"T_04e5b_row7_col5\" class=\"data row7 col5\" >5396</td>\n",
       "      <td id=\"T_04e5b_row7_col6\" class=\"data row7 col6\" >2241</td>\n",
       "      <td id=\"T_04e5b_row7_col7\" class=\"data row7 col7\" >2245</td>\n",
       "      <td id=\"T_04e5b_row7_col8\" class=\"data row7 col8\" >2630</td>\n",
       "      <td id=\"T_04e5b_row7_col9\" class=\"data row7 col9\" >2840</td>\n",
       "      <td id=\"T_04e5b_row7_col10\" class=\"data row7 col10\" >2763</td>\n",
       "      <td id=\"T_04e5b_row7_col11\" class=\"data row7 col11\" >1990</td>\n",
       "    </tr>\n",
       "    <tr>\n",
       "      <th id=\"T_04e5b_level0_row8\" class=\"row_heading level0 row8\" >16</th>\n",
       "      <td id=\"T_04e5b_row8_col0\" class=\"data row8 col0\" >4113</td>\n",
       "      <td id=\"T_04e5b_row8_col1\" class=\"data row8 col1\" >5889</td>\n",
       "      <td id=\"T_04e5b_row8_col2\" class=\"data row8 col2\" >7351</td>\n",
       "      <td id=\"T_04e5b_row8_col3\" class=\"data row8 col3\" >7643</td>\n",
       "      <td id=\"T_04e5b_row8_col4\" class=\"data row8 col4\" >7926</td>\n",
       "      <td id=\"T_04e5b_row8_col5\" class=\"data row8 col5\" >6338</td>\n",
       "      <td id=\"T_04e5b_row8_col6\" class=\"data row8 col6\" >2714</td>\n",
       "      <td id=\"T_04e5b_row8_col7\" class=\"data row8 col7\" >2562</td>\n",
       "      <td id=\"T_04e5b_row8_col8\" class=\"data row8 col8\" >3002</td>\n",
       "      <td id=\"T_04e5b_row8_col9\" class=\"data row8 col9\" >3160</td>\n",
       "      <td id=\"T_04e5b_row8_col10\" class=\"data row8 col10\" >3527</td>\n",
       "      <td id=\"T_04e5b_row8_col11\" class=\"data row8 col11\" >2784</td>\n",
       "    </tr>\n",
       "    <tr>\n",
       "      <th id=\"T_04e5b_level0_row9\" class=\"row_heading level0 row9\" >18</th>\n",
       "      <td id=\"T_04e5b_row9_col0\" class=\"data row9 col0\" >3660</td>\n",
       "      <td id=\"T_04e5b_row9_col1\" class=\"data row9 col1\" >5094</td>\n",
       "      <td id=\"T_04e5b_row9_col2\" class=\"data row9 col2\" >6586</td>\n",
       "      <td id=\"T_04e5b_row9_col3\" class=\"data row9 col3\" >7015</td>\n",
       "      <td id=\"T_04e5b_row9_col4\" class=\"data row9 col4\" >7407</td>\n",
       "      <td id=\"T_04e5b_row9_col5\" class=\"data row9 col5\" >6157</td>\n",
       "      <td id=\"T_04e5b_row9_col6\" class=\"data row9 col6\" >3118</td>\n",
       "      <td id=\"T_04e5b_row9_col7\" class=\"data row9 col7\" >2704</td>\n",
       "      <td id=\"T_04e5b_row9_col8\" class=\"data row9 col8\" >3217</td>\n",
       "      <td id=\"T_04e5b_row9_col9\" class=\"data row9 col9\" >3412</td>\n",
       "      <td id=\"T_04e5b_row9_col10\" class=\"data row9 col10\" >3608</td>\n",
       "      <td id=\"T_04e5b_row9_col11\" class=\"data row9 col11\" >2718</td>\n",
       "    </tr>\n",
       "    <tr>\n",
       "      <th id=\"T_04e5b_level0_row10\" class=\"row_heading level0 row10\" >20</th>\n",
       "      <td id=\"T_04e5b_row10_col0\" class=\"data row10 col0\" >3521</td>\n",
       "      <td id=\"T_04e5b_row10_col1\" class=\"data row10 col1\" >4895</td>\n",
       "      <td id=\"T_04e5b_row10_col2\" class=\"data row10 col2\" >6130</td>\n",
       "      <td id=\"T_04e5b_row10_col3\" class=\"data row10 col3\" >6360</td>\n",
       "      <td id=\"T_04e5b_row10_col4\" class=\"data row10 col4\" >6963</td>\n",
       "      <td id=\"T_04e5b_row10_col5\" class=\"data row10 col5\" >5272</td>\n",
       "      <td id=\"T_04e5b_row10_col6\" class=\"data row10 col6\" >1787</td>\n",
       "      <td id=\"T_04e5b_row10_col7\" class=\"data row10 col7\" >1806</td>\n",
       "      <td id=\"T_04e5b_row10_col8\" class=\"data row10 col8\" >1994</td>\n",
       "      <td id=\"T_04e5b_row10_col9\" class=\"data row10 col9\" >2071</td>\n",
       "      <td id=\"T_04e5b_row10_col10\" class=\"data row10 col10\" >2184</td>\n",
       "      <td id=\"T_04e5b_row10_col11\" class=\"data row10 col11\" >1491</td>\n",
       "    </tr>\n",
       "    <tr>\n",
       "      <th id=\"T_04e5b_level0_row11\" class=\"row_heading level0 row11\" >22</th>\n",
       "      <td id=\"T_04e5b_row11_col0\" class=\"data row11 col0\" >3078</td>\n",
       "      <td id=\"T_04e5b_row11_col1\" class=\"data row11 col1\" >4318</td>\n",
       "      <td id=\"T_04e5b_row11_col2\" class=\"data row11 col2\" >5496</td>\n",
       "      <td id=\"T_04e5b_row11_col3\" class=\"data row11 col3\" >5626</td>\n",
       "      <td id=\"T_04e5b_row11_col4\" class=\"data row11 col4\" >5637</td>\n",
       "      <td id=\"T_04e5b_row11_col5\" class=\"data row11 col5\" >4358</td>\n",
       "      <td id=\"T_04e5b_row11_col6\" class=\"data row11 col6\" >1343</td>\n",
       "      <td id=\"T_04e5b_row11_col7\" class=\"data row11 col7\" >1330</td>\n",
       "      <td id=\"T_04e5b_row11_col8\" class=\"data row11 col8\" >1532</td>\n",
       "      <td id=\"T_04e5b_row11_col9\" class=\"data row11 col9\" >1671</td>\n",
       "      <td id=\"T_04e5b_row11_col10\" class=\"data row11 col10\" >1472</td>\n",
       "      <td id=\"T_04e5b_row11_col11\" class=\"data row11 col11\" >1072</td>\n",
       "    </tr>\n",
       "  </tbody>\n",
       "</table>\n"
      ],
      "text/plain": [
       "<pandas.io.formats.style.Styler at 0x2219f227a60>"
      ]
     },
     "execution_count": 336,
     "metadata": {},
     "output_type": "execute_result"
    }
   ],
   "source": [
    "( crime\n",
    " .groupby(funcs)\n",
    " [['IS_CRIME', 'IS_TRAFFIC']]\n",
    " .sum()\n",
    " .unstack()\n",
    " .style.highlight_max(color='lightgrey')\n",
    " #.swaplevel(axis=1)\n",
    ")"
   ]
  },
  {
   "cell_type": "markdown",
   "id": "88e9edd4",
   "metadata": {},
   "source": [
    "## Grouping by a Timestamp and another column"
   ]
  },
  {
   "cell_type": "markdown",
   "id": "d600d71d",
   "metadata": {},
   "source": [
    "Read in the employee dataset, and create a DatetimeIndex with the HIRE_DATE\n",
    "column:"
   ]
  },
  {
   "cell_type": "code",
   "execution_count": 339,
   "id": "d8240b97",
   "metadata": {},
   "outputs": [],
   "source": [
    "employee = pd.read_csv('C:/Users/justine.o_kobo360/Desktop/Pandas Workbook/Pandas CookBook 1.x/Data files/employee.csv', parse_dates=['JOB_DATE', 'HIRE_DATE'], index_col='HIRE_DATE')\n",
    "           "
   ]
  },
  {
   "cell_type": "code",
   "execution_count": 340,
   "id": "beee30b2",
   "metadata": {},
   "outputs": [
    {
     "data": {
      "text/html": [
       "<div>\n",
       "<style scoped>\n",
       "    .dataframe tbody tr th:only-of-type {\n",
       "        vertical-align: middle;\n",
       "    }\n",
       "\n",
       "    .dataframe tbody tr th {\n",
       "        vertical-align: top;\n",
       "    }\n",
       "\n",
       "    .dataframe thead th {\n",
       "        text-align: right;\n",
       "    }\n",
       "</style>\n",
       "<table border=\"1\" class=\"dataframe\">\n",
       "  <thead>\n",
       "    <tr style=\"text-align: right;\">\n",
       "      <th></th>\n",
       "      <th>UNIQUE_ID</th>\n",
       "      <th>POSITION_TITLE</th>\n",
       "      <th>...</th>\n",
       "      <th>EMPLOYMENT_STATUS</th>\n",
       "      <th>JOB_DATE</th>\n",
       "    </tr>\n",
       "    <tr>\n",
       "      <th>HIRE_DATE</th>\n",
       "      <th></th>\n",
       "      <th></th>\n",
       "      <th></th>\n",
       "      <th></th>\n",
       "      <th></th>\n",
       "    </tr>\n",
       "  </thead>\n",
       "  <tbody>\n",
       "    <tr>\n",
       "      <th>2006-06-12</th>\n",
       "      <td>0</td>\n",
       "      <td>ASSISTANT DIRECTOR (EX LVL)</td>\n",
       "      <td>...</td>\n",
       "      <td>Active</td>\n",
       "      <td>2012-10-13</td>\n",
       "    </tr>\n",
       "    <tr>\n",
       "      <th>2000-07-19</th>\n",
       "      <td>1</td>\n",
       "      <td>LIBRARY ASSISTANT</td>\n",
       "      <td>...</td>\n",
       "      <td>Active</td>\n",
       "      <td>2010-09-18</td>\n",
       "    </tr>\n",
       "    <tr>\n",
       "      <th>2015-02-03</th>\n",
       "      <td>2</td>\n",
       "      <td>POLICE OFFICER</td>\n",
       "      <td>...</td>\n",
       "      <td>Active</td>\n",
       "      <td>2015-02-03</td>\n",
       "    </tr>\n",
       "    <tr>\n",
       "      <th>1982-02-08</th>\n",
       "      <td>3</td>\n",
       "      <td>ENGINEER/OPERATOR</td>\n",
       "      <td>...</td>\n",
       "      <td>Active</td>\n",
       "      <td>1991-05-25</td>\n",
       "    </tr>\n",
       "    <tr>\n",
       "      <th>1989-06-19</th>\n",
       "      <td>4</td>\n",
       "      <td>ELECTRICIAN</td>\n",
       "      <td>...</td>\n",
       "      <td>Active</td>\n",
       "      <td>1994-10-22</td>\n",
       "    </tr>\n",
       "    <tr>\n",
       "      <th>...</th>\n",
       "      <td>...</td>\n",
       "      <td>...</td>\n",
       "      <td>...</td>\n",
       "      <td>...</td>\n",
       "      <td>...</td>\n",
       "    </tr>\n",
       "    <tr>\n",
       "      <th>2014-06-09</th>\n",
       "      <td>1995</td>\n",
       "      <td>POLICE OFFICER</td>\n",
       "      <td>...</td>\n",
       "      <td>Active</td>\n",
       "      <td>2015-06-09</td>\n",
       "    </tr>\n",
       "    <tr>\n",
       "      <th>2003-09-02</th>\n",
       "      <td>1996</td>\n",
       "      <td>COMMUNICATIONS CAPTAIN</td>\n",
       "      <td>...</td>\n",
       "      <td>Active</td>\n",
       "      <td>2013-10-06</td>\n",
       "    </tr>\n",
       "    <tr>\n",
       "      <th>2014-10-13</th>\n",
       "      <td>1997</td>\n",
       "      <td>POLICE OFFICER</td>\n",
       "      <td>...</td>\n",
       "      <td>Active</td>\n",
       "      <td>2015-10-13</td>\n",
       "    </tr>\n",
       "    <tr>\n",
       "      <th>2009-01-20</th>\n",
       "      <td>1998</td>\n",
       "      <td>POLICE OFFICER</td>\n",
       "      <td>...</td>\n",
       "      <td>Active</td>\n",
       "      <td>2011-07-02</td>\n",
       "    </tr>\n",
       "    <tr>\n",
       "      <th>2009-01-12</th>\n",
       "      <td>1999</td>\n",
       "      <td>FIRE FIGHTER</td>\n",
       "      <td>...</td>\n",
       "      <td>Active</td>\n",
       "      <td>2010-07-12</td>\n",
       "    </tr>\n",
       "  </tbody>\n",
       "</table>\n",
       "<p>2000 rows × 9 columns</p>\n",
       "</div>"
      ],
      "text/plain": [
       "            UNIQUE_ID               POSITION_TITLE  ... EMPLOYMENT_STATUS  \\\n",
       "HIRE_DATE                                           ...                     \n",
       "2006-06-12          0  ASSISTANT DIRECTOR (EX LVL)  ...            Active   \n",
       "2000-07-19          1            LIBRARY ASSISTANT  ...            Active   \n",
       "2015-02-03          2               POLICE OFFICER  ...            Active   \n",
       "1982-02-08          3            ENGINEER/OPERATOR  ...            Active   \n",
       "1989-06-19          4                  ELECTRICIAN  ...            Active   \n",
       "...               ...                          ...  ...               ...   \n",
       "2014-06-09       1995               POLICE OFFICER  ...            Active   \n",
       "2003-09-02       1996       COMMUNICATIONS CAPTAIN  ...            Active   \n",
       "2014-10-13       1997               POLICE OFFICER  ...            Active   \n",
       "2009-01-20       1998               POLICE OFFICER  ...            Active   \n",
       "2009-01-12       1999                 FIRE FIGHTER  ...            Active   \n",
       "\n",
       "             JOB_DATE  \n",
       "HIRE_DATE              \n",
       "2006-06-12 2012-10-13  \n",
       "2000-07-19 2010-09-18  \n",
       "2015-02-03 2015-02-03  \n",
       "1982-02-08 1991-05-25  \n",
       "1989-06-19 1994-10-22  \n",
       "...               ...  \n",
       "2014-06-09 2015-06-09  \n",
       "2003-09-02 2013-10-06  \n",
       "2014-10-13 2015-10-13  \n",
       "2009-01-20 2011-07-02  \n",
       "2009-01-12 2010-07-12  \n",
       "\n",
       "[2000 rows x 9 columns]"
      ]
     },
     "execution_count": 340,
     "metadata": {},
     "output_type": "execute_result"
    }
   ],
   "source": [
    "employee"
   ]
  },
  {
   "cell_type": "markdown",
   "id": "85e70946",
   "metadata": {},
   "source": [
    "Let's first do a grouping by just gender, and find the average salary for each:"
   ]
  },
  {
   "cell_type": "code",
   "execution_count": 345,
   "id": "4f65da00",
   "metadata": {},
   "outputs": [
    {
     "data": {
      "text/plain": [
       "GENDER\n",
       "Female    52200.0\n",
       "Male      57400.0\n",
       "Name: BASE_SALARY, dtype: float64"
      ]
     },
     "execution_count": 345,
     "metadata": {},
     "output_type": "execute_result"
    }
   ],
   "source": [
    "(employee\n",
    " .groupby('GENDER')\n",
    " ['BASE_SALARY']\n",
    " .mean()\n",
    " .round(-2)\n",
    ")"
   ]
  },
  {
   "cell_type": "markdown",
   "id": "efdd15c7",
   "metadata": {},
   "source": [
    "Let's find the average salary based on hire date, and group everyone into 10-year\n",
    "buckets:"
   ]
  },
  {
   "cell_type": "code",
   "execution_count": 346,
   "id": "76f54444",
   "metadata": {},
   "outputs": [
    {
     "data": {
      "text/plain": [
       "HIRE_DATE\n",
       "1958-01-01     81200.0\n",
       "1968-01-01    106500.0\n",
       "1978-01-01     69600.0\n",
       "1988-01-01     62300.0\n",
       "1998-01-01     58200.0\n",
       "2008-01-01     47200.0\n",
       "Freq: 10AS-JAN, Name: BASE_SALARY, dtype: float64"
      ]
     },
     "execution_count": 346,
     "metadata": {},
     "output_type": "execute_result"
    }
   ],
   "source": [
    "(employee\n",
    " .resample('10AS')\n",
    " ['BASE_SALARY']\n",
    " .mean()\n",
    " .round(-2)\n",
    ")"
   ]
  },
  {
   "cell_type": "markdown",
   "id": "5b0d118d",
   "metadata": {},
   "source": [
    "If we wanted to group by both gender and a ten-year time span, we can call\n",
    ".resample after calling .groupby:"
   ]
  },
  {
   "cell_type": "code",
   "execution_count": 349,
   "id": "9f2c46b2",
   "metadata": {
    "scrolled": true
   },
   "outputs": [
    {
     "data": {
      "text/html": [
       "<div>\n",
       "<style scoped>\n",
       "    .dataframe tbody tr th:only-of-type {\n",
       "        vertical-align: middle;\n",
       "    }\n",
       "\n",
       "    .dataframe tbody tr th {\n",
       "        vertical-align: top;\n",
       "    }\n",
       "\n",
       "    .dataframe thead th {\n",
       "        text-align: right;\n",
       "    }\n",
       "</style>\n",
       "<table border=\"1\" class=\"dataframe\">\n",
       "  <thead>\n",
       "    <tr style=\"text-align: right;\">\n",
       "      <th></th>\n",
       "      <th></th>\n",
       "      <th>BASE_SALARY</th>\n",
       "    </tr>\n",
       "    <tr>\n",
       "      <th>GENDER</th>\n",
       "      <th>HIRE_DATE</th>\n",
       "      <th></th>\n",
       "    </tr>\n",
       "  </thead>\n",
       "  <tbody>\n",
       "    <tr>\n",
       "      <th rowspan=\"5\" valign=\"top\">Female</th>\n",
       "      <th>1975-01-01</th>\n",
       "      <td>51600.0</td>\n",
       "    </tr>\n",
       "    <tr>\n",
       "      <th>1985-01-01</th>\n",
       "      <td>57600.0</td>\n",
       "    </tr>\n",
       "    <tr>\n",
       "      <th>1995-01-01</th>\n",
       "      <td>55500.0</td>\n",
       "    </tr>\n",
       "    <tr>\n",
       "      <th>2005-01-01</th>\n",
       "      <td>51700.0</td>\n",
       "    </tr>\n",
       "    <tr>\n",
       "      <th>2015-01-01</th>\n",
       "      <td>38600.0</td>\n",
       "    </tr>\n",
       "    <tr>\n",
       "      <th rowspan=\"6\" valign=\"top\">Male</th>\n",
       "      <th>1958-01-01</th>\n",
       "      <td>81200.0</td>\n",
       "    </tr>\n",
       "    <tr>\n",
       "      <th>1968-01-01</th>\n",
       "      <td>106500.0</td>\n",
       "    </tr>\n",
       "    <tr>\n",
       "      <th>1978-01-01</th>\n",
       "      <td>72300.0</td>\n",
       "    </tr>\n",
       "    <tr>\n",
       "      <th>1988-01-01</th>\n",
       "      <td>64600.0</td>\n",
       "    </tr>\n",
       "    <tr>\n",
       "      <th>1998-01-01</th>\n",
       "      <td>59700.0</td>\n",
       "    </tr>\n",
       "    <tr>\n",
       "      <th>2008-01-01</th>\n",
       "      <td>47200.0</td>\n",
       "    </tr>\n",
       "  </tbody>\n",
       "</table>\n",
       "</div>"
      ],
      "text/plain": [
       "                   BASE_SALARY\n",
       "GENDER HIRE_DATE              \n",
       "Female 1975-01-01      51600.0\n",
       "       1985-01-01      57600.0\n",
       "       1995-01-01      55500.0\n",
       "       2005-01-01      51700.0\n",
       "       2015-01-01      38600.0\n",
       "Male   1958-01-01      81200.0\n",
       "       1968-01-01     106500.0\n",
       "       1978-01-01      72300.0\n",
       "       1988-01-01      64600.0\n",
       "       1998-01-01      59700.0\n",
       "       2008-01-01      47200.0"
      ]
     },
     "execution_count": 349,
     "metadata": {},
     "output_type": "execute_result"
    }
   ],
   "source": [
    "(employee\n",
    " .groupby('GENDER')\n",
    " .resample('10AS')\n",
    " [['BASE_SALARY']]\n",
    " .mean()\n",
    " .round(-2)\n",
    ")"
   ]
  },
  {
   "cell_type": "markdown",
   "id": "0664bed8",
   "metadata": {},
   "source": [
    "Now, this does what we set out to do, but we run into a slight issue whenever we want\n",
    "to compare female to male salaries. Let's .unstack the gender level and see what\n",
    "happens:"
   ]
  },
  {
   "cell_type": "code",
   "execution_count": 352,
   "id": "3cb4b47e",
   "metadata": {},
   "outputs": [
    {
     "data": {
      "text/html": [
       "<div>\n",
       "<style scoped>\n",
       "    .dataframe tbody tr th:only-of-type {\n",
       "        vertical-align: middle;\n",
       "    }\n",
       "\n",
       "    .dataframe tbody tr th {\n",
       "        vertical-align: top;\n",
       "    }\n",
       "\n",
       "    .dataframe thead th {\n",
       "        text-align: right;\n",
       "    }\n",
       "</style>\n",
       "<table border=\"1\" class=\"dataframe\">\n",
       "  <thead>\n",
       "    <tr style=\"text-align: right;\">\n",
       "      <th>GENDER</th>\n",
       "      <th>Female</th>\n",
       "      <th>Male</th>\n",
       "    </tr>\n",
       "    <tr>\n",
       "      <th>HIRE_DATE</th>\n",
       "      <th></th>\n",
       "      <th></th>\n",
       "    </tr>\n",
       "  </thead>\n",
       "  <tbody>\n",
       "    <tr>\n",
       "      <th>1958-01-01</th>\n",
       "      <td>NaN</td>\n",
       "      <td>81200.0</td>\n",
       "    </tr>\n",
       "    <tr>\n",
       "      <th>1968-01-01</th>\n",
       "      <td>NaN</td>\n",
       "      <td>106500.0</td>\n",
       "    </tr>\n",
       "    <tr>\n",
       "      <th>1975-01-01</th>\n",
       "      <td>51600.0</td>\n",
       "      <td>NaN</td>\n",
       "    </tr>\n",
       "    <tr>\n",
       "      <th>1978-01-01</th>\n",
       "      <td>NaN</td>\n",
       "      <td>72300.0</td>\n",
       "    </tr>\n",
       "    <tr>\n",
       "      <th>1985-01-01</th>\n",
       "      <td>57600.0</td>\n",
       "      <td>NaN</td>\n",
       "    </tr>\n",
       "    <tr>\n",
       "      <th>1988-01-01</th>\n",
       "      <td>NaN</td>\n",
       "      <td>64600.0</td>\n",
       "    </tr>\n",
       "    <tr>\n",
       "      <th>1995-01-01</th>\n",
       "      <td>55500.0</td>\n",
       "      <td>NaN</td>\n",
       "    </tr>\n",
       "    <tr>\n",
       "      <th>1998-01-01</th>\n",
       "      <td>NaN</td>\n",
       "      <td>59700.0</td>\n",
       "    </tr>\n",
       "    <tr>\n",
       "      <th>2005-01-01</th>\n",
       "      <td>51700.0</td>\n",
       "      <td>NaN</td>\n",
       "    </tr>\n",
       "    <tr>\n",
       "      <th>2008-01-01</th>\n",
       "      <td>NaN</td>\n",
       "      <td>47200.0</td>\n",
       "    </tr>\n",
       "    <tr>\n",
       "      <th>2015-01-01</th>\n",
       "      <td>38600.0</td>\n",
       "      <td>NaN</td>\n",
       "    </tr>\n",
       "  </tbody>\n",
       "</table>\n",
       "</div>"
      ],
      "text/plain": [
       "GENDER       Female      Male\n",
       "HIRE_DATE                    \n",
       "1958-01-01      NaN   81200.0\n",
       "1968-01-01      NaN  106500.0\n",
       "1975-01-01  51600.0       NaN\n",
       "1978-01-01      NaN   72300.0\n",
       "1985-01-01  57600.0       NaN\n",
       "1988-01-01      NaN   64600.0\n",
       "1995-01-01  55500.0       NaN\n",
       "1998-01-01      NaN   59700.0\n",
       "2005-01-01  51700.0       NaN\n",
       "2008-01-01      NaN   47200.0\n",
       "2015-01-01  38600.0       NaN"
      ]
     },
     "execution_count": 352,
     "metadata": {},
     "output_type": "execute_result"
    }
   ],
   "source": [
    "(employee\n",
    " .groupby('GENDER')\n",
    " .resample('10AS')\n",
    " ['BASE_SALARY']\n",
    " .mean()\n",
    " .round(-2)\n",
    " .unstack('GENDER')\n",
    ")"
   ]
  },
  {
   "cell_type": "markdown",
   "id": "42bd6654",
   "metadata": {},
   "source": [
    "The 10-year periods for males and females do not begin on the same date. This\n",
    "happened because the data was first grouped by gender and then, within each\n",
    "gender, more groups were formed based on hire dates. Let's verify that the first hired\n",
    "male was in 1958 and the first hired female was in 1975:"
   ]
  },
  {
   "cell_type": "code",
   "execution_count": 353,
   "id": "0ff94882",
   "metadata": {},
   "outputs": [
    {
     "data": {
      "text/plain": [
       "Timestamp('1958-12-29 00:00:00')"
      ]
     },
     "execution_count": 353,
     "metadata": {},
     "output_type": "execute_result"
    }
   ],
   "source": [
    "employee[employee['GENDER'] == 'Male'].index.min()"
   ]
  },
  {
   "cell_type": "code",
   "execution_count": 355,
   "id": "9039c31a",
   "metadata": {},
   "outputs": [
    {
     "data": {
      "text/plain": [
       "Timestamp('1975-06-09 00:00:00')"
      ]
     },
     "execution_count": 355,
     "metadata": {},
     "output_type": "execute_result"
    }
   ],
   "source": [
    "employee[employee['GENDER'] == 'Female'].index.min()"
   ]
  },
  {
   "cell_type": "markdown",
   "id": "491f3a20",
   "metadata": {},
   "source": [
    "To resolve this issue, we must group the date together with the gender, and this is\n",
    "only possible with the .groupby method:"
   ]
  },
  {
   "cell_type": "code",
   "execution_count": 361,
   "id": "6232cb7c",
   "metadata": {},
   "outputs": [
    {
     "data": {
      "text/plain": [
       "GENDER  HIRE_DATE \n",
       "Female  1968-01-01         NaN\n",
       "        1978-01-01     57100.0\n",
       "        1988-01-01     57100.0\n",
       "        1998-01-01     54700.0\n",
       "        2008-01-01     47300.0\n",
       "Male    1958-01-01     81200.0\n",
       "        1968-01-01    106500.0\n",
       "        1978-01-01     72300.0\n",
       "        1988-01-01     64600.0\n",
       "        1998-01-01     59700.0\n",
       "        2008-01-01     47200.0\n",
       "Name: BASE_SALARY, dtype: float64"
      ]
     },
     "execution_count": 361,
     "metadata": {},
     "output_type": "execute_result"
    }
   ],
   "source": [
    "(employee\n",
    " .groupby(['GENDER', pd.Grouper(freq='10AS')])\n",
    " ['BASE_SALARY']\n",
    " .mean()\n",
    " .round(-2)\n",
    " #.unstack('GENDER')\n",
    ")"
   ]
  },
  {
   "cell_type": "markdown",
   "id": "821bc608",
   "metadata": {},
   "source": [
    "Now we can .unstack the gender and get our rows aligned perfectly"
   ]
  },
  {
   "cell_type": "code",
   "execution_count": 362,
   "id": "085b6831",
   "metadata": {},
   "outputs": [
    {
     "data": {
      "text/html": [
       "<div>\n",
       "<style scoped>\n",
       "    .dataframe tbody tr th:only-of-type {\n",
       "        vertical-align: middle;\n",
       "    }\n",
       "\n",
       "    .dataframe tbody tr th {\n",
       "        vertical-align: top;\n",
       "    }\n",
       "\n",
       "    .dataframe thead th {\n",
       "        text-align: right;\n",
       "    }\n",
       "</style>\n",
       "<table border=\"1\" class=\"dataframe\">\n",
       "  <thead>\n",
       "    <tr style=\"text-align: right;\">\n",
       "      <th>GENDER</th>\n",
       "      <th>Female</th>\n",
       "      <th>Male</th>\n",
       "    </tr>\n",
       "    <tr>\n",
       "      <th>HIRE_DATE</th>\n",
       "      <th></th>\n",
       "      <th></th>\n",
       "    </tr>\n",
       "  </thead>\n",
       "  <tbody>\n",
       "    <tr>\n",
       "      <th>1958-01-01</th>\n",
       "      <td>NaN</td>\n",
       "      <td>81200.0</td>\n",
       "    </tr>\n",
       "    <tr>\n",
       "      <th>1968-01-01</th>\n",
       "      <td>NaN</td>\n",
       "      <td>106500.0</td>\n",
       "    </tr>\n",
       "    <tr>\n",
       "      <th>1978-01-01</th>\n",
       "      <td>57100.0</td>\n",
       "      <td>72300.0</td>\n",
       "    </tr>\n",
       "    <tr>\n",
       "      <th>1988-01-01</th>\n",
       "      <td>57100.0</td>\n",
       "      <td>64600.0</td>\n",
       "    </tr>\n",
       "    <tr>\n",
       "      <th>1998-01-01</th>\n",
       "      <td>54700.0</td>\n",
       "      <td>59700.0</td>\n",
       "    </tr>\n",
       "    <tr>\n",
       "      <th>2008-01-01</th>\n",
       "      <td>47300.0</td>\n",
       "      <td>47200.0</td>\n",
       "    </tr>\n",
       "  </tbody>\n",
       "</table>\n",
       "</div>"
      ],
      "text/plain": [
       "GENDER       Female      Male\n",
       "HIRE_DATE                    \n",
       "1958-01-01      NaN   81200.0\n",
       "1968-01-01      NaN  106500.0\n",
       "1978-01-01  57100.0   72300.0\n",
       "1988-01-01  57100.0   64600.0\n",
       "1998-01-01  54700.0   59700.0\n",
       "2008-01-01  47300.0   47200.0"
      ]
     },
     "execution_count": 362,
     "metadata": {},
     "output_type": "execute_result"
    }
   ],
   "source": [
    "(employee\n",
    " .groupby(['GENDER', pd.Grouper(freq='10AS')])\n",
    " ['BASE_SALARY']\n",
    " .mean()\n",
    " .round(-2)\n",
    " .unstack('GENDER')\n",
    ")"
   ]
  },
  {
   "cell_type": "markdown",
   "id": "aae59dae",
   "metadata": {},
   "source": [
    "There is a completely different way to do this recipe. We can use the cut function to\n",
    "create equal-width intervals based on the year that each employee was hired and form\n",
    "groups from it:"
   ]
  },
  {
   "cell_type": "code",
   "execution_count": 368,
   "id": "498daf2b",
   "metadata": {},
   "outputs": [
    {
     "data": {
      "text/plain": [
       "<IntervalArray>\n",
       "[(1958.0, 1970.0], (1970.0, 1981.0], (1981.0, 1993.0], (1993.0, 2004.0], (2004.0, 2016.0]]\n",
       "Length: 5, dtype: interval[float64, right]"
      ]
     },
     "execution_count": 368,
     "metadata": {},
     "output_type": "execute_result"
    }
   ],
   "source": [
    "cuts = pd.cut(employee.index.year, bins=5, precision=0)\n",
    "\n",
    "cuts.categories.values"
   ]
  },
  {
   "cell_type": "code",
   "execution_count": 374,
   "id": "a6186a5d",
   "metadata": {},
   "outputs": [
    {
     "data": {
      "text/html": [
       "<div>\n",
       "<style scoped>\n",
       "    .dataframe tbody tr th:only-of-type {\n",
       "        vertical-align: middle;\n",
       "    }\n",
       "\n",
       "    .dataframe tbody tr th {\n",
       "        vertical-align: top;\n",
       "    }\n",
       "\n",
       "    .dataframe thead th {\n",
       "        text-align: right;\n",
       "    }\n",
       "</style>\n",
       "<table border=\"1\" class=\"dataframe\">\n",
       "  <thead>\n",
       "    <tr style=\"text-align: right;\">\n",
       "      <th>GENDER</th>\n",
       "      <th>Female</th>\n",
       "      <th>Male</th>\n",
       "    </tr>\n",
       "  </thead>\n",
       "  <tbody>\n",
       "    <tr>\n",
       "      <th>(1958.0, 1970.0]</th>\n",
       "      <td>NaN</td>\n",
       "      <td>85400.0</td>\n",
       "    </tr>\n",
       "    <tr>\n",
       "      <th>(1970.0, 1981.0]</th>\n",
       "      <td>54400.0</td>\n",
       "      <td>72700.0</td>\n",
       "    </tr>\n",
       "    <tr>\n",
       "      <th>(1981.0, 1993.0]</th>\n",
       "      <td>55700.0</td>\n",
       "      <td>69300.0</td>\n",
       "    </tr>\n",
       "    <tr>\n",
       "      <th>(1993.0, 2004.0]</th>\n",
       "      <td>56500.0</td>\n",
       "      <td>62300.0</td>\n",
       "    </tr>\n",
       "    <tr>\n",
       "      <th>(2004.0, 2016.0]</th>\n",
       "      <td>49100.0</td>\n",
       "      <td>49800.0</td>\n",
       "    </tr>\n",
       "  </tbody>\n",
       "</table>\n",
       "</div>"
      ],
      "text/plain": [
       "GENDER             Female     Male\n",
       "(1958.0, 1970.0]      NaN  85400.0\n",
       "(1970.0, 1981.0]  54400.0  72700.0\n",
       "(1981.0, 1993.0]  55700.0  69300.0\n",
       "(1993.0, 2004.0]  56500.0  62300.0\n",
       "(2004.0, 2016.0]  49100.0  49800.0"
      ]
     },
     "execution_count": 374,
     "metadata": {},
     "output_type": "execute_result"
    }
   ],
   "source": [
    "(employee\n",
    " .groupby([cuts, 'GENDER'])\n",
    " [\"BASE_SALARY\"]\n",
    " .mean()\n",
    " .unstack('GENDER')\n",
    " .round(-2)\n",
    ")"
   ]
  },
  {
   "cell_type": "code",
   "execution_count": null,
   "id": "36c1712c",
   "metadata": {},
   "outputs": [],
   "source": []
  }
 ],
 "metadata": {
  "kernelspec": {
   "display_name": "Python 3 (ipykernel)",
   "language": "python",
   "name": "python3"
  },
  "language_info": {
   "codemirror_mode": {
    "name": "ipython",
    "version": 3
   },
   "file_extension": ".py",
   "mimetype": "text/x-python",
   "name": "python",
   "nbconvert_exporter": "python",
   "pygments_lexer": "ipython3",
   "version": "3.9.7"
  }
 },
 "nbformat": 4,
 "nbformat_minor": 5
}
