{
 "cells": [
  {
   "cell_type": "markdown",
   "id": "3c27173b",
   "metadata": {},
   "source": [
    "When Series or DataFrames are combined, each dimension of the data automatically aligns\n",
    "on each axis first before any computation happens. This silent and automatic alignment of\n",
    "axes can confuse the uninitiated, but it gives flexibility to the power user. This chapter explores\n",
    "the Index object in-depth before showcasing a variety of recipes that take advantage of its\n",
    "automatic alignment."
   ]
  },
  {
   "cell_type": "code",
   "execution_count": 2,
   "id": "a0a6b48a",
   "metadata": {},
   "outputs": [],
   "source": [
    "import numpy as np\n",
    "import pandas as pd"
   ]
  },
  {
   "cell_type": "code",
   "execution_count": 3,
   "id": "1a71f29b",
   "metadata": {},
   "outputs": [],
   "source": [
    "pd.set_option('max_columns', 4, 'max_rows', 10)"
   ]
  },
  {
   "cell_type": "code",
   "execution_count": 3,
   "id": "768217bc",
   "metadata": {},
   "outputs": [],
   "source": [
    "college = pd.read_csv(\"C:/Users/justine.o_kobo360/Desktop/Pandas Workbook/Pandas CookBook 1.x/Data files/college.csv\",)"
   ]
  },
  {
   "cell_type": "code",
   "execution_count": 4,
   "id": "b2ccc98d",
   "metadata": {},
   "outputs": [],
   "source": [
    "columns = college.columns"
   ]
  },
  {
   "cell_type": "code",
   "execution_count": 5,
   "id": "9047024f",
   "metadata": {},
   "outputs": [
    {
     "data": {
      "text/plain": [
       "Index(['INSTNM', 'CITY', 'STABBR', 'HBCU', 'MENONLY', 'WOMENONLY', 'RELAFFIL',\n",
       "       'SATVRMID', 'SATMTMID', 'DISTANCEONLY', 'UGDS', 'UGDS_WHITE',\n",
       "       'UGDS_BLACK', 'UGDS_HISP', 'UGDS_ASIAN', 'UGDS_AIAN', 'UGDS_NHPI',\n",
       "       'UGDS_2MOR', 'UGDS_NRA', 'UGDS_UNKN', 'PPTUG_EF', 'CURROPER', 'PCTPELL',\n",
       "       'PCTFLOAN', 'UG25ABV', 'MD_EARN_WNE_P10', 'GRAD_DEBT_MDN_SUPP'],\n",
       "      dtype='object')"
      ]
     },
     "execution_count": 5,
     "metadata": {},
     "output_type": "execute_result"
    }
   ],
   "source": [
    "columns"
   ]
  },
  {
   "cell_type": "code",
   "execution_count": 6,
   "id": "1bed2d4b",
   "metadata": {},
   "outputs": [
    {
     "data": {
      "text/plain": [
       "array(['INSTNM', 'CITY', 'STABBR', 'HBCU', 'MENONLY', 'WOMENONLY',\n",
       "       'RELAFFIL', 'SATVRMID', 'SATMTMID', 'DISTANCEONLY', 'UGDS',\n",
       "       'UGDS_WHITE', 'UGDS_BLACK', 'UGDS_HISP', 'UGDS_ASIAN', 'UGDS_AIAN',\n",
       "       'UGDS_NHPI', 'UGDS_2MOR', 'UGDS_NRA', 'UGDS_UNKN', 'PPTUG_EF',\n",
       "       'CURROPER', 'PCTPELL', 'PCTFLOAN', 'UG25ABV', 'MD_EARN_WNE_P10',\n",
       "       'GRAD_DEBT_MDN_SUPP'], dtype=object)"
      ]
     },
     "execution_count": 6,
     "metadata": {},
     "output_type": "execute_result"
    }
   ],
   "source": [
    "# Use the .values attribute to access the underlying\n",
    "# NumPy array:\n",
    "columns.values"
   ]
  },
  {
   "cell_type": "code",
   "execution_count": 7,
   "id": "45820560",
   "metadata": {},
   "outputs": [
    {
     "data": {
      "text/plain": [
       "'WOMENONLY'"
      ]
     },
     "execution_count": 7,
     "metadata": {},
     "output_type": "execute_result"
    }
   ],
   "source": [
    "# Select items from the index by position with a\n",
    "# scalar, list, or slice:\n",
    "columns[5]"
   ]
  },
  {
   "cell_type": "code",
   "execution_count": 8,
   "id": "d0211701",
   "metadata": {},
   "outputs": [
    {
     "data": {
      "text/plain": [
       "Index(['CITY', 'SATMTMID', 'UGDS'], dtype='object')"
      ]
     },
     "execution_count": 8,
     "metadata": {},
     "output_type": "execute_result"
    }
   ],
   "source": [
    "\n",
    "columns[[1, 8, 10]]"
   ]
  },
  {
   "cell_type": "code",
   "execution_count": 9,
   "id": "c2fceef2",
   "metadata": {},
   "outputs": [
    {
     "data": {
      "text/plain": [
       "Index(['PPTUG_EF', 'CURROPER', 'PCTPELL'], dtype='object')"
      ]
     },
     "execution_count": 9,
     "metadata": {},
     "output_type": "execute_result"
    }
   ],
   "source": [
    "columns[-7: -4]"
   ]
  },
  {
   "cell_type": "code",
   "execution_count": 10,
   "id": "f299012d",
   "metadata": {},
   "outputs": [
    {
     "data": {
      "text/plain": [
       "('CITY', 'WOMENONLY', 0)"
      ]
     },
     "execution_count": 10,
     "metadata": {},
     "output_type": "execute_result"
    }
   ],
   "source": [
    "# Indexes share many of the same methods as Series\n",
    "# and DataFrames:\n",
    "columns.min(), columns.max(), columns.isnull().sum()"
   ]
  },
  {
   "cell_type": "code",
   "execution_count": 11,
   "id": "dac133ed",
   "metadata": {},
   "outputs": [
    {
     "data": {
      "text/plain": [
       "Index(['INSTNM_A', 'CITY_A', 'STABBR_A', 'HBCU_A', 'MENONLY_A', 'WOMENONLY_A',\n",
       "       'RELAFFIL_A', 'SATVRMID_A', 'SATMTMID_A', 'DISTANCEONLY_A', 'UGDS_A',\n",
       "       'UGDS_WHITE_A', 'UGDS_BLACK_A', 'UGDS_HISP_A', 'UGDS_ASIAN_A',\n",
       "       'UGDS_AIAN_A', 'UGDS_NHPI_A', 'UGDS_2MOR_A', 'UGDS_NRA_A',\n",
       "       'UGDS_UNKN_A', 'PPTUG_EF_A', 'CURROPER_A', 'PCTPELL_A', 'PCTFLOAN_A',\n",
       "       'UG25ABV_A', 'MD_EARN_WNE_P10_A', 'GRAD_DEBT_MDN_SUPP_A'],\n",
       "      dtype='object')"
      ]
     },
     "execution_count": 11,
     "metadata": {},
     "output_type": "execute_result"
    }
   ],
   "source": [
    "# You can use basic arithmetic and comparison \n",
    "# operators on Index objects:\n",
    "columns + \"_A\""
   ]
  },
  {
   "cell_type": "code",
   "execution_count": 12,
   "id": "65fccc9d",
   "metadata": {},
   "outputs": [
    {
     "data": {
      "text/plain": [
       "array([ True, False,  True,  True,  True,  True,  True,  True,  True,\n",
       "       False,  True,  True,  True,  True,  True,  True,  True,  True,\n",
       "        True,  True,  True, False,  True,  True,  True,  True,  True])"
      ]
     },
     "execution_count": 12,
     "metadata": {},
     "output_type": "execute_result"
    }
   ],
   "source": [
    "columns > \"G\""
   ]
  },
  {
   "cell_type": "code",
   "execution_count": 13,
   "id": "4e890aaa",
   "metadata": {},
   "outputs": [
    {
     "ename": "TypeError",
     "evalue": "Index does not support mutable operations",
     "output_type": "error",
     "traceback": [
      "\u001b[1;31m---------------------------------------------------------------------------\u001b[0m",
      "\u001b[1;31mTypeError\u001b[0m                                 Traceback (most recent call last)",
      "\u001b[1;32mC:\\Users\\JUSTIN~1.O_K\\AppData\\Local\\Temp/ipykernel_7228/1875519156.py\u001b[0m in \u001b[0;36m<module>\u001b[1;34m\u001b[0m\n\u001b[0;32m      1\u001b[0m \u001b[1;31m# Trying to change an Index value after its creation\u001b[0m\u001b[1;33m\u001b[0m\u001b[1;33m\u001b[0m\u001b[0m\n\u001b[0;32m      2\u001b[0m \u001b[1;31m# fails. Indexes are immutable objects:\u001b[0m\u001b[1;33m\u001b[0m\u001b[1;33m\u001b[0m\u001b[0m\n\u001b[1;32m----> 3\u001b[1;33m \u001b[0mcolumns\u001b[0m\u001b[1;33m[\u001b[0m\u001b[1;36m1\u001b[0m\u001b[1;33m]\u001b[0m \u001b[1;33m=\u001b[0m \u001b[1;34m\"city\"\u001b[0m\u001b[1;33m\u001b[0m\u001b[1;33m\u001b[0m\u001b[0m\n\u001b[0m",
      "\u001b[1;32m~\\anaconda31\\lib\\site-packages\\pandas\\core\\indexes\\base.py\u001b[0m in \u001b[0;36m__setitem__\u001b[1;34m(self, key, value)\u001b[0m\n\u001b[0;32m   4583\u001b[0m     \u001b[1;33m@\u001b[0m\u001b[0mfinal\u001b[0m\u001b[1;33m\u001b[0m\u001b[1;33m\u001b[0m\u001b[0m\n\u001b[0;32m   4584\u001b[0m     \u001b[1;32mdef\u001b[0m \u001b[0m__setitem__\u001b[0m\u001b[1;33m(\u001b[0m\u001b[0mself\u001b[0m\u001b[1;33m,\u001b[0m \u001b[0mkey\u001b[0m\u001b[1;33m,\u001b[0m \u001b[0mvalue\u001b[0m\u001b[1;33m)\u001b[0m\u001b[1;33m:\u001b[0m\u001b[1;33m\u001b[0m\u001b[1;33m\u001b[0m\u001b[0m\n\u001b[1;32m-> 4585\u001b[1;33m         \u001b[1;32mraise\u001b[0m \u001b[0mTypeError\u001b[0m\u001b[1;33m(\u001b[0m\u001b[1;34m\"Index does not support mutable operations\"\u001b[0m\u001b[1;33m)\u001b[0m\u001b[1;33m\u001b[0m\u001b[1;33m\u001b[0m\u001b[0m\n\u001b[0m\u001b[0;32m   4586\u001b[0m \u001b[1;33m\u001b[0m\u001b[0m\n\u001b[0;32m   4587\u001b[0m     \u001b[1;32mdef\u001b[0m \u001b[0m__getitem__\u001b[0m\u001b[1;33m(\u001b[0m\u001b[0mself\u001b[0m\u001b[1;33m,\u001b[0m \u001b[0mkey\u001b[0m\u001b[1;33m)\u001b[0m\u001b[1;33m:\u001b[0m\u001b[1;33m\u001b[0m\u001b[1;33m\u001b[0m\u001b[0m\n",
      "\u001b[1;31mTypeError\u001b[0m: Index does not support mutable operations"
     ]
    }
   ],
   "source": [
    "# Trying to change an Index value after its creation \n",
    "# fails. Indexes are immutable objects:\n",
    "columns[1] = \"city\""
   ]
  },
  {
   "cell_type": "code",
   "execution_count": 14,
   "id": "f79d8e74",
   "metadata": {},
   "outputs": [],
   "source": [
    "# Indexes support the set operations—union, \n",
    "# intersection, difference, and symmetric difference:\n",
    "c1 = columns[:4]"
   ]
  },
  {
   "cell_type": "code",
   "execution_count": 15,
   "id": "c0b7b56e",
   "metadata": {},
   "outputs": [
    {
     "data": {
      "text/plain": [
       "Index(['INSTNM', 'CITY', 'STABBR', 'HBCU'], dtype='object')"
      ]
     },
     "execution_count": 15,
     "metadata": {},
     "output_type": "execute_result"
    }
   ],
   "source": [
    "c1"
   ]
  },
  {
   "cell_type": "code",
   "execution_count": 16,
   "id": "8114e3e1",
   "metadata": {},
   "outputs": [],
   "source": [
    "c2 = columns[2:6]"
   ]
  },
  {
   "cell_type": "code",
   "execution_count": 17,
   "id": "9555e46f",
   "metadata": {},
   "outputs": [
    {
     "data": {
      "text/plain": [
       "Index(['STABBR', 'HBCU', 'MENONLY', 'WOMENONLY'], dtype='object')"
      ]
     },
     "execution_count": 17,
     "metadata": {},
     "output_type": "execute_result"
    }
   ],
   "source": [
    "c2"
   ]
  },
  {
   "cell_type": "code",
   "execution_count": 18,
   "id": "f817278d",
   "metadata": {},
   "outputs": [
    {
     "data": {
      "text/plain": [
       "Index(['CITY', 'HBCU', 'INSTNM', 'MENONLY', 'STABBR', 'WOMENONLY'], dtype='object')"
      ]
     },
     "execution_count": 18,
     "metadata": {},
     "output_type": "execute_result"
    }
   ],
   "source": [
    "c1.union(c2)  # or 'c1 | c2'"
   ]
  },
  {
   "cell_type": "code",
   "execution_count": 19,
   "id": "a8de5bfb",
   "metadata": {},
   "outputs": [
    {
     "data": {
      "text/plain": [
       "Index(['CITY', 'INSTNM', 'MENONLY', 'WOMENONLY'], dtype='object')"
      ]
     },
     "execution_count": 19,
     "metadata": {},
     "output_type": "execute_result"
    }
   ],
   "source": [
    "c1.symmetric_difference(c2)  # or 'c1 ^ c2'"
   ]
  },
  {
   "cell_type": "markdown",
   "id": "5f2b2c90",
   "metadata": {},
   "source": [
    "## Producing Cartesian products"
   ]
  },
  {
   "cell_type": "code",
   "execution_count": 20,
   "id": "2374a996",
   "metadata": {},
   "outputs": [],
   "source": [
    "# Construct two Series that have indexes that are different but contain some of the\n",
    "# same values:\n",
    "s1 = pd.Series(index=list(\"aaab\"), data=np.arange(4))"
   ]
  },
  {
   "cell_type": "code",
   "execution_count": 21,
   "id": "8043b13b",
   "metadata": {},
   "outputs": [
    {
     "data": {
      "text/plain": [
       "a    0\n",
       "a    1\n",
       "a    2\n",
       "b    3\n",
       "dtype: int32"
      ]
     },
     "execution_count": 21,
     "metadata": {},
     "output_type": "execute_result"
    }
   ],
   "source": [
    "s1"
   ]
  },
  {
   "cell_type": "code",
   "execution_count": 22,
   "id": "9ab54d70",
   "metadata": {},
   "outputs": [],
   "source": [
    "s2 = pd.Series(index=list('cababb'), data=np.arange(6))"
   ]
  },
  {
   "cell_type": "code",
   "execution_count": 23,
   "id": "3327b9a0",
   "metadata": {},
   "outputs": [
    {
     "data": {
      "text/plain": [
       "c    0\n",
       "a    1\n",
       "b    2\n",
       "a    3\n",
       "b    4\n",
       "b    5\n",
       "dtype: int32"
      ]
     },
     "execution_count": 23,
     "metadata": {},
     "output_type": "execute_result"
    }
   ],
   "source": [
    "s2"
   ]
  },
  {
   "cell_type": "code",
   "execution_count": 24,
   "id": "d0717bac",
   "metadata": {
    "scrolled": true
   },
   "outputs": [
    {
     "data": {
      "text/plain": [
       "a    1.0\n",
       "a    3.0\n",
       "a    2.0\n",
       "a    4.0\n",
       "a    3.0\n",
       "a    5.0\n",
       "b    5.0\n",
       "b    7.0\n",
       "b    8.0\n",
       "c    NaN\n",
       "dtype: float64"
      ]
     },
     "execution_count": 24,
     "metadata": {},
     "output_type": "execute_result"
    }
   ],
   "source": [
    "# Add the two Series together to produce a Cartesian\n",
    "# product. For each a index value\n",
    "# in s1, we add every a in s2:\n",
    "s1 + s2"
   ]
  },
  {
   "cell_type": "markdown",
   "id": "a519fe1e",
   "metadata": {},
   "source": [
    "The Cartesian product is not created when the indexes are unique or contain both the same\n",
    "exact elements and elements in the same order. When the index values are unique or they\n",
    "are the same and have the same order, a Cartesian product is not created, and the indexes\n",
    "instead align by their position. Notice here that each element aligned exactly by position and\n",
    "that the data type remained an integer:"
   ]
  },
  {
   "cell_type": "code",
   "execution_count": 25,
   "id": "6700ef93",
   "metadata": {},
   "outputs": [],
   "source": [
    "s1 = pd.Series(index=list('aaabb'), data=np.arange(5))\n",
    "s2 = pd.Series(index=list('bbaaa'), data=np.arange(5))"
   ]
  },
  {
   "cell_type": "code",
   "execution_count": 26,
   "id": "18d7fa86",
   "metadata": {},
   "outputs": [
    {
     "data": {
      "text/plain": [
       "a    2\n",
       "a    3\n",
       "a    4\n",
       "a    3\n",
       "a    4\n",
       "    ..\n",
       "a    6\n",
       "b    3\n",
       "b    4\n",
       "b    4\n",
       "b    5\n",
       "Length: 13, dtype: int32"
      ]
     },
     "execution_count": 26,
     "metadata": {},
     "output_type": "execute_result"
    }
   ],
   "source": [
    "s1 + s2"
   ]
  },
  {
   "cell_type": "markdown",
   "id": "383b9240",
   "metadata": {},
   "source": [
    "Be aware of this as pandas has two drastically different outcomes for this same operation.\n",
    "Another instance where this can happen is during a groupby operation. If you do a groupby\n",
    "with multiple columns and one is of the type categorical, you will get a Cartesian product\n",
    "where each outer index will have every inner index value.\n",
    "Finally, we will add two Series that have index values in a different order but do not have\n",
    "duplicate values. When we add these, we do not get a Cartesian product:"
   ]
  },
  {
   "cell_type": "code",
   "execution_count": 27,
   "id": "666fe94d",
   "metadata": {},
   "outputs": [],
   "source": [
    "s3 = pd.Series(index=list('ab'), data=np.arange(2))\n",
    "s4= pd.Series(index=list('ba'), data=np.arange(2))"
   ]
  },
  {
   "cell_type": "code",
   "execution_count": 28,
   "id": "3efd7bd6",
   "metadata": {},
   "outputs": [
    {
     "data": {
      "text/plain": [
       "a    1\n",
       "b    1\n",
       "dtype: int32"
      ]
     },
     "execution_count": 28,
     "metadata": {},
     "output_type": "execute_result"
    }
   ],
   "source": [
    "s3 + s4"
   ]
  },
  {
   "cell_type": "markdown",
   "id": "d0faad6d",
   "metadata": {},
   "source": [
    "## Exploding indexes"
   ]
  },
  {
   "cell_type": "code",
   "execution_count": 29,
   "id": "c2874811",
   "metadata": {},
   "outputs": [],
   "source": [
    "# Read in the employee data and set the index\n",
    "# to the RACE column:\n",
    "employee = pd.read_csv('C:/Users/justine.o_kobo360/Desktop/Pandas Workbook/Pandas CookBook 1.x/Data files/employee.csv', index_col='RACE')"
   ]
  },
  {
   "cell_type": "code",
   "execution_count": 30,
   "id": "65e4ccfc",
   "metadata": {},
   "outputs": [
    {
     "data": {
      "text/html": [
       "<div>\n",
       "<style scoped>\n",
       "    .dataframe tbody tr th:only-of-type {\n",
       "        vertical-align: middle;\n",
       "    }\n",
       "\n",
       "    .dataframe tbody tr th {\n",
       "        vertical-align: top;\n",
       "    }\n",
       "\n",
       "    .dataframe thead th {\n",
       "        text-align: right;\n",
       "    }\n",
       "</style>\n",
       "<table border=\"1\" class=\"dataframe\">\n",
       "  <thead>\n",
       "    <tr style=\"text-align: right;\">\n",
       "      <th></th>\n",
       "      <th>UNIQUE_ID</th>\n",
       "      <th>POSITION_TITLE</th>\n",
       "      <th>...</th>\n",
       "      <th>HIRE_DATE</th>\n",
       "      <th>JOB_DATE</th>\n",
       "    </tr>\n",
       "    <tr>\n",
       "      <th>RACE</th>\n",
       "      <th></th>\n",
       "      <th></th>\n",
       "      <th></th>\n",
       "      <th></th>\n",
       "      <th></th>\n",
       "    </tr>\n",
       "  </thead>\n",
       "  <tbody>\n",
       "    <tr>\n",
       "      <th>Hispanic/Latino</th>\n",
       "      <td>0</td>\n",
       "      <td>ASSISTANT DIRECTOR (EX LVL)</td>\n",
       "      <td>...</td>\n",
       "      <td>2006-06-12</td>\n",
       "      <td>2012-10-13</td>\n",
       "    </tr>\n",
       "    <tr>\n",
       "      <th>Hispanic/Latino</th>\n",
       "      <td>1</td>\n",
       "      <td>LIBRARY ASSISTANT</td>\n",
       "      <td>...</td>\n",
       "      <td>2000-07-19</td>\n",
       "      <td>2010-09-18</td>\n",
       "    </tr>\n",
       "    <tr>\n",
       "      <th>White</th>\n",
       "      <td>2</td>\n",
       "      <td>POLICE OFFICER</td>\n",
       "      <td>...</td>\n",
       "      <td>2015-02-03</td>\n",
       "      <td>2015-02-03</td>\n",
       "    </tr>\n",
       "    <tr>\n",
       "      <th>White</th>\n",
       "      <td>3</td>\n",
       "      <td>ENGINEER/OPERATOR</td>\n",
       "      <td>...</td>\n",
       "      <td>1982-02-08</td>\n",
       "      <td>1991-05-25</td>\n",
       "    </tr>\n",
       "    <tr>\n",
       "      <th>White</th>\n",
       "      <td>4</td>\n",
       "      <td>ELECTRICIAN</td>\n",
       "      <td>...</td>\n",
       "      <td>1989-06-19</td>\n",
       "      <td>1994-10-22</td>\n",
       "    </tr>\n",
       "  </tbody>\n",
       "</table>\n",
       "<p>5 rows × 9 columns</p>\n",
       "</div>"
      ],
      "text/plain": [
       "                 UNIQUE_ID               POSITION_TITLE  ...   HIRE_DATE  \\\n",
       "RACE                                                     ...               \n",
       "Hispanic/Latino          0  ASSISTANT DIRECTOR (EX LVL)  ...  2006-06-12   \n",
       "Hispanic/Latino          1            LIBRARY ASSISTANT  ...  2000-07-19   \n",
       "White                    2               POLICE OFFICER  ...  2015-02-03   \n",
       "White                    3            ENGINEER/OPERATOR  ...  1982-02-08   \n",
       "White                    4                  ELECTRICIAN  ...  1989-06-19   \n",
       "\n",
       "                   JOB_DATE  \n",
       "RACE                         \n",
       "Hispanic/Latino  2012-10-13  \n",
       "Hispanic/Latino  2010-09-18  \n",
       "White            2015-02-03  \n",
       "White            1991-05-25  \n",
       "White            1994-10-22  \n",
       "\n",
       "[5 rows x 9 columns]"
      ]
     },
     "execution_count": 30,
     "metadata": {},
     "output_type": "execute_result"
    }
   ],
   "source": [
    "employee.head()"
   ]
  },
  {
   "cell_type": "code",
   "execution_count": 31,
   "id": "ce1c6b68",
   "metadata": {},
   "outputs": [
    {
     "data": {
      "text/plain": [
       "True"
      ]
     },
     "execution_count": 31,
     "metadata": {},
     "output_type": "execute_result"
    }
   ],
   "source": [
    "# Select the BASE_SALARY column as two different Series. Check to see whether \n",
    "# this operation created two new objects:\n",
    "salary1 = employee[\"BASE_SALARY\"]\n",
    "salary2 = employee[\"BASE_SALARY\"]\n",
    "\n",
    "salary1 is salary2"
   ]
  },
  {
   "cell_type": "markdown",
   "id": "22245ab4",
   "metadata": {},
   "source": [
    "The salary1 and salary2 variables are referring to the same object. This means\n",
    "that any change to one will change the other. To ensure that you receive a brand new\n",
    "copy of the data, use the .copy method"
   ]
  },
  {
   "cell_type": "code",
   "execution_count": 34,
   "id": "f940a3ef",
   "metadata": {},
   "outputs": [],
   "source": [
    "salary2 = employee['BASE_SALARY'].copy()"
   ]
  },
  {
   "cell_type": "code",
   "execution_count": 35,
   "id": "34601c8f",
   "metadata": {},
   "outputs": [
    {
     "data": {
      "text/plain": [
       "False"
      ]
     },
     "execution_count": 35,
     "metadata": {},
     "output_type": "execute_result"
    }
   ],
   "source": [
    "salary1 is salary2 "
   ]
  },
  {
   "cell_type": "code",
   "execution_count": 36,
   "id": "7205fe13",
   "metadata": {},
   "outputs": [
    {
     "data": {
      "text/plain": [
       "RACE\n",
       "American Indian or Alaskan Native    78355.0\n",
       "American Indian or Alaskan Native    26125.0\n",
       "American Indian or Alaskan Native    98536.0\n",
       "American Indian or Alaskan Native        NaN\n",
       "American Indian or Alaskan Native    55461.0\n",
       "Name: BASE_SALARY, dtype: float64"
      ]
     },
     "execution_count": 36,
     "metadata": {},
     "output_type": "execute_result"
    }
   ],
   "source": [
    "# Let's change the order of the index for one of the\n",
    "# Series by sorting it:\n",
    "salary1 = salary1.sort_index()\n",
    "salary1.head()"
   ]
  },
  {
   "cell_type": "code",
   "execution_count": 37,
   "id": "5f2eea57",
   "metadata": {},
   "outputs": [
    {
     "data": {
      "text/plain": [
       "RACE\n",
       "Hispanic/Latino    121862.0\n",
       "Hispanic/Latino     26125.0\n",
       "White               45279.0\n",
       "White               63166.0\n",
       "White               56347.0\n",
       "Name: BASE_SALARY, dtype: float64"
      ]
     },
     "execution_count": 37,
     "metadata": {},
     "output_type": "execute_result"
    }
   ],
   "source": [
    "salary2.head()"
   ]
  },
  {
   "cell_type": "code",
   "execution_count": 38,
   "id": "4e24a61d",
   "metadata": {},
   "outputs": [
    {
     "data": {
      "text/plain": [
       "RACE\n",
       "American Indian or Alaskan Native    138702.0\n",
       "American Indian or Alaskan Native    156710.0\n",
       "American Indian or Alaskan Native    176891.0\n",
       "American Indian or Alaskan Native    159594.0\n",
       "American Indian or Alaskan Native    127734.0\n",
       "Name: BASE_SALARY, dtype: float64"
      ]
     },
     "execution_count": 38,
     "metadata": {},
     "output_type": "execute_result"
    }
   ],
   "source": [
    "# let's add these salary Series together\n",
    "salary_add = salary1 + salary2\n",
    "salary_add.head()"
   ]
  },
  {
   "cell_type": "markdown",
   "id": "03d3ed4c",
   "metadata": {},
   "source": [
    "The operation completed successfully. Let's create one more Series of salary1\n",
    "added to itself and then output the lengths of each Series. We just exploded the\n",
    "index from 2,000 values to more than one million:"
   ]
  },
  {
   "cell_type": "code",
   "execution_count": 39,
   "id": "86a012ce",
   "metadata": {},
   "outputs": [],
   "source": [
    "salary_add1 = salary1 + salary1"
   ]
  },
  {
   "cell_type": "code",
   "execution_count": 40,
   "id": "f4cba161",
   "metadata": {},
   "outputs": [
    {
     "data": {
      "text/plain": [
       "(2000, 2000, 1175424, 2000)"
      ]
     },
     "execution_count": 40,
     "metadata": {},
     "output_type": "execute_result"
    }
   ],
   "source": [
    "len(salary1), len(salary2), len(salary_add), len(salary_add1)"
   ]
  },
  {
   "cell_type": "markdown",
   "id": "1b0a49d2",
   "metadata": {},
   "source": [
    "We can verify the number of values of salary_add by doing a little mathematics. As a\n",
    "Cartesian product takes place between all of the same index values, we can sum the square\n",
    "of their counts. Even missing values in the index produce Cartesian products with themselves"
   ]
  },
  {
   "cell_type": "code",
   "execution_count": 41,
   "id": "ea5f8848",
   "metadata": {},
   "outputs": [],
   "source": [
    "index_vc = salary1.index.value_counts(dropna=False)"
   ]
  },
  {
   "cell_type": "code",
   "execution_count": 42,
   "id": "c4d679fb",
   "metadata": {},
   "outputs": [
    {
     "data": {
      "text/plain": [
       "Black or African American            700\n",
       "White                                665\n",
       "Hispanic/Latino                      480\n",
       "Asian/Pacific Islander               107\n",
       "NaN                                   35\n",
       "American Indian or Alaskan Native     11\n",
       "Others                                 2\n",
       "Name: RACE, dtype: int64"
      ]
     },
     "execution_count": 42,
     "metadata": {},
     "output_type": "execute_result"
    }
   ],
   "source": [
    "index_vc"
   ]
  },
  {
   "cell_type": "code",
   "execution_count": 43,
   "id": "c50b5df3",
   "metadata": {},
   "outputs": [
    {
     "data": {
      "text/plain": [
       "1175424"
      ]
     },
     "execution_count": 43,
     "metadata": {},
     "output_type": "execute_result"
    }
   ],
   "source": [
    "index_vc.pow(2).sum()"
   ]
  },
  {
   "cell_type": "markdown",
   "id": "6f0e0a88",
   "metadata": {},
   "source": [
    "## Filling values with unequal indexes"
   ]
  },
  {
   "cell_type": "markdown",
   "id": "dd4c0600",
   "metadata": {},
   "source": [
    "When two Series are added together using the plus operator and one of the index labels does\n",
    "not appear in the other, the resulting value is always missing. pandas has the .add method,\n",
    "which provides an option to fill the missing value. Note that these Series do not include\n",
    "duplicate entries, hence there is no need to worry about a Cartesian product exploding the\n",
    "number of entries.\n",
    "In this recipe, we add together multiple Series from the baseball dataset with unequal (but\n",
    "unique) indexes using the .add method with the fill_value parameter to ensure that\n",
    "there are no missing values in the result."
   ]
  },
  {
   "cell_type": "code",
   "execution_count": 44,
   "id": "75b7e843",
   "metadata": {},
   "outputs": [],
   "source": [
    "# Read in the three baseball datasets and set playerID\n",
    "# as the index:\n",
    "baseball_14 = pd.read_csv('C:/Users/justine.o_kobo360/Desktop/Pandas Workbook/Pandas CookBook 1.x/Data files/baseball14.csv', index_col='playerID')"
   ]
  },
  {
   "cell_type": "code",
   "execution_count": 45,
   "id": "ae0d104d",
   "metadata": {},
   "outputs": [],
   "source": [
    "baseball_15 = pd.read_csv('C:/Users/justine.o_kobo360/Desktop/Pandas Workbook/Pandas CookBook 1.x/Data files/baseball15.csv', index_col='playerID')"
   ]
  },
  {
   "cell_type": "code",
   "execution_count": 46,
   "id": "9cb41f09",
   "metadata": {},
   "outputs": [],
   "source": [
    "baseball_16 = pd.read_csv('C:/Users/justine.o_kobo360/Desktop/Pandas Workbook/Pandas CookBook 1.x/Data files/baseball16.csv', index_col='playerID')"
   ]
  },
  {
   "cell_type": "code",
   "execution_count": 47,
   "id": "487d60bf",
   "metadata": {},
   "outputs": [
    {
     "data": {
      "text/html": [
       "<div>\n",
       "<style scoped>\n",
       "    .dataframe tbody tr th:only-of-type {\n",
       "        vertical-align: middle;\n",
       "    }\n",
       "\n",
       "    .dataframe tbody tr th {\n",
       "        vertical-align: top;\n",
       "    }\n",
       "\n",
       "    .dataframe thead th {\n",
       "        text-align: right;\n",
       "    }\n",
       "</style>\n",
       "<table border=\"1\" class=\"dataframe\">\n",
       "  <thead>\n",
       "    <tr style=\"text-align: right;\">\n",
       "      <th></th>\n",
       "      <th>yearID</th>\n",
       "      <th>stint</th>\n",
       "      <th>...</th>\n",
       "      <th>SF</th>\n",
       "      <th>GIDP</th>\n",
       "    </tr>\n",
       "    <tr>\n",
       "      <th>playerID</th>\n",
       "      <th></th>\n",
       "      <th></th>\n",
       "      <th></th>\n",
       "      <th></th>\n",
       "      <th></th>\n",
       "    </tr>\n",
       "  </thead>\n",
       "  <tbody>\n",
       "    <tr>\n",
       "      <th>altuvjo01</th>\n",
       "      <td>2014</td>\n",
       "      <td>1</td>\n",
       "      <td>...</td>\n",
       "      <td>5.0</td>\n",
       "      <td>20.0</td>\n",
       "    </tr>\n",
       "    <tr>\n",
       "      <th>cartech02</th>\n",
       "      <td>2014</td>\n",
       "      <td>1</td>\n",
       "      <td>...</td>\n",
       "      <td>4.0</td>\n",
       "      <td>12.0</td>\n",
       "    </tr>\n",
       "    <tr>\n",
       "      <th>castrja01</th>\n",
       "      <td>2014</td>\n",
       "      <td>1</td>\n",
       "      <td>...</td>\n",
       "      <td>3.0</td>\n",
       "      <td>11.0</td>\n",
       "    </tr>\n",
       "    <tr>\n",
       "      <th>corpoca01</th>\n",
       "      <td>2014</td>\n",
       "      <td>1</td>\n",
       "      <td>...</td>\n",
       "      <td>2.0</td>\n",
       "      <td>3.0</td>\n",
       "    </tr>\n",
       "    <tr>\n",
       "      <th>dominma01</th>\n",
       "      <td>2014</td>\n",
       "      <td>1</td>\n",
       "      <td>...</td>\n",
       "      <td>7.0</td>\n",
       "      <td>23.0</td>\n",
       "    </tr>\n",
       "  </tbody>\n",
       "</table>\n",
       "<p>5 rows × 21 columns</p>\n",
       "</div>"
      ],
      "text/plain": [
       "           yearID  stint  ...   SF  GIDP\n",
       "playerID                  ...           \n",
       "altuvjo01    2014      1  ...  5.0  20.0\n",
       "cartech02    2014      1  ...  4.0  12.0\n",
       "castrja01    2014      1  ...  3.0  11.0\n",
       "corpoca01    2014      1  ...  2.0   3.0\n",
       "dominma01    2014      1  ...  7.0  23.0\n",
       "\n",
       "[5 rows x 21 columns]"
      ]
     },
     "execution_count": 47,
     "metadata": {},
     "output_type": "execute_result"
    }
   ],
   "source": [
    "baseball_14.head()"
   ]
  },
  {
   "cell_type": "code",
   "execution_count": 48,
   "id": "94598f90",
   "metadata": {},
   "outputs": [
    {
     "data": {
      "text/plain": [
       "Index(['corpoca01', 'dominma01', 'fowlede01', 'grossro01', 'guzmaje01',\n",
       "       'hoeslj01', 'krausma01', 'preslal01', 'singljo02'],\n",
       "      dtype='object', name='playerID')"
      ]
     },
     "execution_count": 48,
     "metadata": {},
     "output_type": "execute_result"
    }
   ],
   "source": [
    "# Use the .difference method on the index to discover\n",
    "# which index labels are in baseball_14 and not \n",
    "# in baseball_15, and vice versa:\n",
    "baseball_14.index.difference(baseball_15.index)"
   ]
  },
  {
   "cell_type": "code",
   "execution_count": 49,
   "id": "7006ded4",
   "metadata": {},
   "outputs": [],
   "source": [
    "# There are quite a few players unique to each index.\n",
    "# Let's find out how many hits each player has in \n",
    "# total over the three-year period. The H column \n",
    "# contains the number of hits:\n",
    "hits_14 = baseball_14['H']\n",
    "hits_15 = baseball_15['H']\n",
    "hits_16 = baseball_16['H']\n"
   ]
  },
  {
   "cell_type": "code",
   "execution_count": 50,
   "id": "dda68319",
   "metadata": {},
   "outputs": [
    {
     "data": {
      "text/plain": [
       "playerID\n",
       "altuvjo01    225\n",
       "cartech02    115\n",
       "castrja01    103\n",
       "corpoca01     40\n",
       "dominma01    121\n",
       "Name: H, dtype: int64"
      ]
     },
     "execution_count": 50,
     "metadata": {},
     "output_type": "execute_result"
    }
   ],
   "source": [
    "hits_14.head()"
   ]
  },
  {
   "cell_type": "code",
   "execution_count": 51,
   "id": "7640b521",
   "metadata": {},
   "outputs": [
    {
     "data": {
      "text/plain": [
       "playerID\n",
       "altuvjo01    425.0\n",
       "cartech02    193.0\n",
       "castrja01    174.0\n",
       "congeha01      NaN\n",
       "corpoca01      NaN\n",
       "             ...  \n",
       "singljo02      NaN\n",
       "springe01    175.0\n",
       "tuckepr01      NaN\n",
       "valbulu01      NaN\n",
       "villajo01     88.0\n",
       "Name: H, Length: 24, dtype: float64"
      ]
     },
     "execution_count": 51,
     "metadata": {},
     "output_type": "execute_result"
    }
   ],
   "source": [
    "# Let's first add together two Series using the\n",
    "# plus operator\n",
    "(hits_14 + hits_15)"
   ]
  },
  {
   "cell_type": "markdown",
   "id": "e5e350f6",
   "metadata": {},
   "source": [
    "Even though players congeha01 and corpoca01 have values for 2015, their result\n",
    "is missing. Let's use the .add method with the fill_value parameter to avoid\n",
    "missing values"
   ]
  },
  {
   "cell_type": "code",
   "execution_count": 52,
   "id": "b8321e5d",
   "metadata": {},
   "outputs": [
    {
     "data": {
      "text/plain": [
       "playerID\n",
       "altuvjo01    425.0\n",
       "cartech02    193.0\n",
       "castrja01    174.0\n",
       "congeha01     46.0\n",
       "corpoca01     40.0\n",
       "Name: H, dtype: float64"
      ]
     },
     "execution_count": 52,
     "metadata": {},
     "output_type": "execute_result"
    }
   ],
   "source": [
    "hits_14.add(hits_15, fill_value=0).head()\n",
    "\n"
   ]
  },
  {
   "cell_type": "code",
   "execution_count": 53,
   "id": "1336e974",
   "metadata": {},
   "outputs": [],
   "source": [
    "# We add hits from 2016 by chaining the add method once\n",
    "# more:\n",
    "hits_total = hits_14.add(hits_15, fill_value=0).add(hits_16, fill_value=0)"
   ]
  },
  {
   "cell_type": "code",
   "execution_count": 54,
   "id": "2286fb22",
   "metadata": {},
   "outputs": [
    {
     "data": {
      "text/plain": [
       "playerID\n",
       "altuvjo01    641.0\n",
       "bregmal01     53.0\n",
       "cartech02    193.0\n",
       "castrja01    243.0\n",
       "congeha01     46.0\n",
       "Name: H, dtype: float64"
      ]
     },
     "execution_count": 54,
     "metadata": {},
     "output_type": "execute_result"
    }
   ],
   "source": [
    "hits_total.head()"
   ]
  },
  {
   "cell_type": "code",
   "execution_count": 55,
   "id": "d184450c",
   "metadata": {},
   "outputs": [
    {
     "data": {
      "text/plain": [
       "False"
      ]
     },
     "execution_count": 55,
     "metadata": {},
     "output_type": "execute_result"
    }
   ],
   "source": [
    "# Check for missing values in the result:\n",
    "hits_total.hasnans"
   ]
  },
  {
   "cell_type": "markdown",
   "id": "e1a7729d",
   "metadata": {},
   "source": [
    "There will be occasions when each Series contains index labels that correspond to missing\n",
    "values. In this specific instance, when the two Series are added, the index label will still\n",
    "correspond to a missing value regardless of whether the fill_value parameter is used.\n",
    "To clarify this, take a look at the following example where the index label a corresponds to a\n",
    "missing value in each Series:"
   ]
  },
  {
   "cell_type": "code",
   "execution_count": 56,
   "id": "ccaaf73f",
   "metadata": {},
   "outputs": [],
   "source": [
    "s = pd.Series(index=['a', 'b', 'c', 'd'], data=[np.nan, 3, np.nan, 1])"
   ]
  },
  {
   "cell_type": "code",
   "execution_count": 57,
   "id": "ea70ba83",
   "metadata": {},
   "outputs": [
    {
     "data": {
      "text/plain": [
       "a    NaN\n",
       "b    3.0\n",
       "c    NaN\n",
       "d    1.0\n",
       "dtype: float64"
      ]
     },
     "execution_count": 57,
     "metadata": {},
     "output_type": "execute_result"
    }
   ],
   "source": [
    "s"
   ]
  },
  {
   "cell_type": "code",
   "execution_count": 58,
   "id": "e96965d6",
   "metadata": {},
   "outputs": [],
   "source": [
    "s1 = pd.Series(index=['a', 'b', 'c'], data=[np.nan, 6, 10])"
   ]
  },
  {
   "cell_type": "code",
   "execution_count": 59,
   "id": "23c09b2c",
   "metadata": {},
   "outputs": [
    {
     "data": {
      "text/plain": [
       "a     NaN\n",
       "b     6.0\n",
       "c    10.0\n",
       "dtype: float64"
      ]
     },
     "execution_count": 59,
     "metadata": {},
     "output_type": "execute_result"
    }
   ],
   "source": [
    "s1"
   ]
  },
  {
   "cell_type": "code",
   "execution_count": 60,
   "id": "e2efe995",
   "metadata": {},
   "outputs": [
    {
     "data": {
      "text/plain": [
       "a     NaN\n",
       "b     9.0\n",
       "c    15.0\n",
       "d     6.0\n",
       "dtype: float64"
      ]
     },
     "execution_count": 60,
     "metadata": {},
     "output_type": "execute_result"
    }
   ],
   "source": [
    "s1.add(s, fill_value=5)"
   ]
  },
  {
   "cell_type": "markdown",
   "id": "c8d981c0",
   "metadata": {},
   "source": [
    "This recipe shows how to add Series with only a single index together. It is also possible to\n",
    "add DataFrames together. Adding two DataFrames together will align both the index and\n",
    "columns before computation and insert missing values for non-matching indexes. Let's start\n",
    "by selecting a few of the columns from the 2014 baseball dataset:"
   ]
  },
  {
   "cell_type": "code",
   "execution_count": 61,
   "id": "2c2ed26e",
   "metadata": {},
   "outputs": [
    {
     "data": {
      "text/html": [
       "<div>\n",
       "<style scoped>\n",
       "    .dataframe tbody tr th:only-of-type {\n",
       "        vertical-align: middle;\n",
       "    }\n",
       "\n",
       "    .dataframe tbody tr th {\n",
       "        vertical-align: top;\n",
       "    }\n",
       "\n",
       "    .dataframe thead th {\n",
       "        text-align: right;\n",
       "    }\n",
       "</style>\n",
       "<table border=\"1\" class=\"dataframe\">\n",
       "  <thead>\n",
       "    <tr style=\"text-align: right;\">\n",
       "      <th></th>\n",
       "      <th>G</th>\n",
       "      <th>AB</th>\n",
       "      <th>R</th>\n",
       "      <th>H</th>\n",
       "    </tr>\n",
       "    <tr>\n",
       "      <th>playerID</th>\n",
       "      <th></th>\n",
       "      <th></th>\n",
       "      <th></th>\n",
       "      <th></th>\n",
       "    </tr>\n",
       "  </thead>\n",
       "  <tbody>\n",
       "    <tr>\n",
       "      <th>altuvjo01</th>\n",
       "      <td>158</td>\n",
       "      <td>660</td>\n",
       "      <td>85</td>\n",
       "      <td>225</td>\n",
       "    </tr>\n",
       "    <tr>\n",
       "      <th>cartech02</th>\n",
       "      <td>145</td>\n",
       "      <td>507</td>\n",
       "      <td>68</td>\n",
       "      <td>115</td>\n",
       "    </tr>\n",
       "    <tr>\n",
       "      <th>castrja01</th>\n",
       "      <td>126</td>\n",
       "      <td>465</td>\n",
       "      <td>43</td>\n",
       "      <td>103</td>\n",
       "    </tr>\n",
       "    <tr>\n",
       "      <th>corpoca01</th>\n",
       "      <td>55</td>\n",
       "      <td>170</td>\n",
       "      <td>22</td>\n",
       "      <td>40</td>\n",
       "    </tr>\n",
       "    <tr>\n",
       "      <th>dominma01</th>\n",
       "      <td>157</td>\n",
       "      <td>564</td>\n",
       "      <td>51</td>\n",
       "      <td>121</td>\n",
       "    </tr>\n",
       "  </tbody>\n",
       "</table>\n",
       "</div>"
      ],
      "text/plain": [
       "             G   AB   R    H\n",
       "playerID                    \n",
       "altuvjo01  158  660  85  225\n",
       "cartech02  145  507  68  115\n",
       "castrja01  126  465  43  103\n",
       "corpoca01   55  170  22   40\n",
       "dominma01  157  564  51  121"
      ]
     },
     "execution_count": 61,
     "metadata": {},
     "output_type": "execute_result"
    }
   ],
   "source": [
    "df_14 = baseball_14[['G', 'AB', 'R', 'H']]\n",
    "df_14.head()"
   ]
  },
  {
   "cell_type": "code",
   "execution_count": 62,
   "id": "457ea5be",
   "metadata": {},
   "outputs": [
    {
     "data": {
      "text/html": [
       "<div>\n",
       "<style scoped>\n",
       "    .dataframe tbody tr th:only-of-type {\n",
       "        vertical-align: middle;\n",
       "    }\n",
       "\n",
       "    .dataframe tbody tr th {\n",
       "        vertical-align: top;\n",
       "    }\n",
       "\n",
       "    .dataframe thead th {\n",
       "        text-align: right;\n",
       "    }\n",
       "</style>\n",
       "<table border=\"1\" class=\"dataframe\">\n",
       "  <thead>\n",
       "    <tr style=\"text-align: right;\">\n",
       "      <th></th>\n",
       "      <th>AB</th>\n",
       "      <th>R</th>\n",
       "      <th>H</th>\n",
       "      <th>HR</th>\n",
       "    </tr>\n",
       "    <tr>\n",
       "      <th>playerID</th>\n",
       "      <th></th>\n",
       "      <th></th>\n",
       "      <th></th>\n",
       "      <th></th>\n",
       "    </tr>\n",
       "  </thead>\n",
       "  <tbody>\n",
       "    <tr>\n",
       "      <th>altuvjo01</th>\n",
       "      <td>638</td>\n",
       "      <td>86</td>\n",
       "      <td>200</td>\n",
       "      <td>15</td>\n",
       "    </tr>\n",
       "    <tr>\n",
       "      <th>cartech02</th>\n",
       "      <td>391</td>\n",
       "      <td>50</td>\n",
       "      <td>78</td>\n",
       "      <td>24</td>\n",
       "    </tr>\n",
       "    <tr>\n",
       "      <th>castrja01</th>\n",
       "      <td>337</td>\n",
       "      <td>38</td>\n",
       "      <td>71</td>\n",
       "      <td>11</td>\n",
       "    </tr>\n",
       "    <tr>\n",
       "      <th>congeha01</th>\n",
       "      <td>201</td>\n",
       "      <td>25</td>\n",
       "      <td>46</td>\n",
       "      <td>11</td>\n",
       "    </tr>\n",
       "    <tr>\n",
       "      <th>correca01</th>\n",
       "      <td>387</td>\n",
       "      <td>52</td>\n",
       "      <td>108</td>\n",
       "      <td>22</td>\n",
       "    </tr>\n",
       "  </tbody>\n",
       "</table>\n",
       "</div>"
      ],
      "text/plain": [
       "            AB   R    H  HR\n",
       "playerID                   \n",
       "altuvjo01  638  86  200  15\n",
       "cartech02  391  50   78  24\n",
       "castrja01  337  38   71  11\n",
       "congeha01  201  25   46  11\n",
       "correca01  387  52  108  22"
      ]
     },
     "execution_count": 62,
     "metadata": {},
     "output_type": "execute_result"
    }
   ],
   "source": [
    "# Let's also select a few of the same and a few \n",
    "# different columns from the 2015 baseball dataset:\n",
    "\n",
    "df_15 = baseball_15[['AB', 'R', 'H', 'HR']]\n",
    "df_15.head()"
   ]
  },
  {
   "cell_type": "markdown",
   "id": "59d9d6c9",
   "metadata": {},
   "source": [
    "Adding the two DataFrames together creates missing values wherever rows or column labels\n",
    "cannot align. You can use the .style attribute and call the .highlight_null method to\n",
    "see where the missing values are:"
   ]
  },
  {
   "cell_type": "code",
   "execution_count": 63,
   "id": "e43bfa23",
   "metadata": {},
   "outputs": [
    {
     "data": {
      "text/html": [
       "<style type=\"text/css\">\n",
       "#T_c0d17_row0_col1, #T_c0d17_row0_col3, #T_c0d17_row1_col1, #T_c0d17_row1_col3, #T_c0d17_row2_col1, #T_c0d17_row2_col3, #T_c0d17_row3_col0, #T_c0d17_row3_col1, #T_c0d17_row3_col2, #T_c0d17_row3_col3, #T_c0d17_row3_col4, #T_c0d17_row4_col0, #T_c0d17_row4_col1, #T_c0d17_row4_col2, #T_c0d17_row4_col3, #T_c0d17_row4_col4, #T_c0d17_row5_col0, #T_c0d17_row5_col1, #T_c0d17_row5_col2, #T_c0d17_row5_col3, #T_c0d17_row5_col4, #T_c0d17_row6_col0, #T_c0d17_row6_col1, #T_c0d17_row6_col2, #T_c0d17_row6_col3, #T_c0d17_row6_col4, #T_c0d17_row7_col0, #T_c0d17_row7_col1, #T_c0d17_row7_col2, #T_c0d17_row7_col3, #T_c0d17_row7_col4, #T_c0d17_row8_col0, #T_c0d17_row8_col1, #T_c0d17_row8_col2, #T_c0d17_row8_col3, #T_c0d17_row8_col4, #T_c0d17_row9_col0, #T_c0d17_row9_col1, #T_c0d17_row9_col2, #T_c0d17_row9_col3, #T_c0d17_row9_col4 {\n",
       "  background-color: yellow;\n",
       "}\n",
       "</style>\n",
       "<table id=\"T_c0d17_\">\n",
       "  <thead>\n",
       "    <tr>\n",
       "      <th class=\"blank level0\" >&nbsp;</th>\n",
       "      <th class=\"col_heading level0 col0\" >AB</th>\n",
       "      <th class=\"col_heading level0 col1\" >G</th>\n",
       "      <th class=\"col_heading level0 col2\" >H</th>\n",
       "      <th class=\"col_heading level0 col3\" >HR</th>\n",
       "      <th class=\"col_heading level0 col4\" >R</th>\n",
       "    </tr>\n",
       "    <tr>\n",
       "      <th class=\"index_name level0\" >playerID</th>\n",
       "      <th class=\"blank col0\" >&nbsp;</th>\n",
       "      <th class=\"blank col1\" >&nbsp;</th>\n",
       "      <th class=\"blank col2\" >&nbsp;</th>\n",
       "      <th class=\"blank col3\" >&nbsp;</th>\n",
       "      <th class=\"blank col4\" >&nbsp;</th>\n",
       "    </tr>\n",
       "  </thead>\n",
       "  <tbody>\n",
       "    <tr>\n",
       "      <th id=\"T_c0d17_level0_row0\" class=\"row_heading level0 row0\" >altuvjo01</th>\n",
       "      <td id=\"T_c0d17_row0_col0\" class=\"data row0 col0\" >1298.000000</td>\n",
       "      <td id=\"T_c0d17_row0_col1\" class=\"data row0 col1\" >nan</td>\n",
       "      <td id=\"T_c0d17_row0_col2\" class=\"data row0 col2\" >425.000000</td>\n",
       "      <td id=\"T_c0d17_row0_col3\" class=\"data row0 col3\" >nan</td>\n",
       "      <td id=\"T_c0d17_row0_col4\" class=\"data row0 col4\" >171.000000</td>\n",
       "    </tr>\n",
       "    <tr>\n",
       "      <th id=\"T_c0d17_level0_row1\" class=\"row_heading level0 row1\" >cartech02</th>\n",
       "      <td id=\"T_c0d17_row1_col0\" class=\"data row1 col0\" >898.000000</td>\n",
       "      <td id=\"T_c0d17_row1_col1\" class=\"data row1 col1\" >nan</td>\n",
       "      <td id=\"T_c0d17_row1_col2\" class=\"data row1 col2\" >193.000000</td>\n",
       "      <td id=\"T_c0d17_row1_col3\" class=\"data row1 col3\" >nan</td>\n",
       "      <td id=\"T_c0d17_row1_col4\" class=\"data row1 col4\" >118.000000</td>\n",
       "    </tr>\n",
       "    <tr>\n",
       "      <th id=\"T_c0d17_level0_row2\" class=\"row_heading level0 row2\" >castrja01</th>\n",
       "      <td id=\"T_c0d17_row2_col0\" class=\"data row2 col0\" >802.000000</td>\n",
       "      <td id=\"T_c0d17_row2_col1\" class=\"data row2 col1\" >nan</td>\n",
       "      <td id=\"T_c0d17_row2_col2\" class=\"data row2 col2\" >174.000000</td>\n",
       "      <td id=\"T_c0d17_row2_col3\" class=\"data row2 col3\" >nan</td>\n",
       "      <td id=\"T_c0d17_row2_col4\" class=\"data row2 col4\" >81.000000</td>\n",
       "    </tr>\n",
       "    <tr>\n",
       "      <th id=\"T_c0d17_level0_row3\" class=\"row_heading level0 row3\" >congeha01</th>\n",
       "      <td id=\"T_c0d17_row3_col0\" class=\"data row3 col0\" >nan</td>\n",
       "      <td id=\"T_c0d17_row3_col1\" class=\"data row3 col1\" >nan</td>\n",
       "      <td id=\"T_c0d17_row3_col2\" class=\"data row3 col2\" >nan</td>\n",
       "      <td id=\"T_c0d17_row3_col3\" class=\"data row3 col3\" >nan</td>\n",
       "      <td id=\"T_c0d17_row3_col4\" class=\"data row3 col4\" >nan</td>\n",
       "    </tr>\n",
       "    <tr>\n",
       "      <th id=\"T_c0d17_level0_row4\" class=\"row_heading level0 row4\" >corpoca01</th>\n",
       "      <td id=\"T_c0d17_row4_col0\" class=\"data row4 col0\" >nan</td>\n",
       "      <td id=\"T_c0d17_row4_col1\" class=\"data row4 col1\" >nan</td>\n",
       "      <td id=\"T_c0d17_row4_col2\" class=\"data row4 col2\" >nan</td>\n",
       "      <td id=\"T_c0d17_row4_col3\" class=\"data row4 col3\" >nan</td>\n",
       "      <td id=\"T_c0d17_row4_col4\" class=\"data row4 col4\" >nan</td>\n",
       "    </tr>\n",
       "    <tr>\n",
       "      <th id=\"T_c0d17_level0_row5\" class=\"row_heading level0 row5\" >correca01</th>\n",
       "      <td id=\"T_c0d17_row5_col0\" class=\"data row5 col0\" >nan</td>\n",
       "      <td id=\"T_c0d17_row5_col1\" class=\"data row5 col1\" >nan</td>\n",
       "      <td id=\"T_c0d17_row5_col2\" class=\"data row5 col2\" >nan</td>\n",
       "      <td id=\"T_c0d17_row5_col3\" class=\"data row5 col3\" >nan</td>\n",
       "      <td id=\"T_c0d17_row5_col4\" class=\"data row5 col4\" >nan</td>\n",
       "    </tr>\n",
       "    <tr>\n",
       "      <th id=\"T_c0d17_level0_row6\" class=\"row_heading level0 row6\" >dominma01</th>\n",
       "      <td id=\"T_c0d17_row6_col0\" class=\"data row6 col0\" >nan</td>\n",
       "      <td id=\"T_c0d17_row6_col1\" class=\"data row6 col1\" >nan</td>\n",
       "      <td id=\"T_c0d17_row6_col2\" class=\"data row6 col2\" >nan</td>\n",
       "      <td id=\"T_c0d17_row6_col3\" class=\"data row6 col3\" >nan</td>\n",
       "      <td id=\"T_c0d17_row6_col4\" class=\"data row6 col4\" >nan</td>\n",
       "    </tr>\n",
       "    <tr>\n",
       "      <th id=\"T_c0d17_level0_row7\" class=\"row_heading level0 row7\" >fowlede01</th>\n",
       "      <td id=\"T_c0d17_row7_col0\" class=\"data row7 col0\" >nan</td>\n",
       "      <td id=\"T_c0d17_row7_col1\" class=\"data row7 col1\" >nan</td>\n",
       "      <td id=\"T_c0d17_row7_col2\" class=\"data row7 col2\" >nan</td>\n",
       "      <td id=\"T_c0d17_row7_col3\" class=\"data row7 col3\" >nan</td>\n",
       "      <td id=\"T_c0d17_row7_col4\" class=\"data row7 col4\" >nan</td>\n",
       "    </tr>\n",
       "    <tr>\n",
       "      <th id=\"T_c0d17_level0_row8\" class=\"row_heading level0 row8\" >gattiev01</th>\n",
       "      <td id=\"T_c0d17_row8_col0\" class=\"data row8 col0\" >nan</td>\n",
       "      <td id=\"T_c0d17_row8_col1\" class=\"data row8 col1\" >nan</td>\n",
       "      <td id=\"T_c0d17_row8_col2\" class=\"data row8 col2\" >nan</td>\n",
       "      <td id=\"T_c0d17_row8_col3\" class=\"data row8 col3\" >nan</td>\n",
       "      <td id=\"T_c0d17_row8_col4\" class=\"data row8 col4\" >nan</td>\n",
       "    </tr>\n",
       "    <tr>\n",
       "      <th id=\"T_c0d17_level0_row9\" class=\"row_heading level0 row9\" >gomezca01</th>\n",
       "      <td id=\"T_c0d17_row9_col0\" class=\"data row9 col0\" >nan</td>\n",
       "      <td id=\"T_c0d17_row9_col1\" class=\"data row9 col1\" >nan</td>\n",
       "      <td id=\"T_c0d17_row9_col2\" class=\"data row9 col2\" >nan</td>\n",
       "      <td id=\"T_c0d17_row9_col3\" class=\"data row9 col3\" >nan</td>\n",
       "      <td id=\"T_c0d17_row9_col4\" class=\"data row9 col4\" >nan</td>\n",
       "    </tr>\n",
       "  </tbody>\n",
       "</table>\n"
      ],
      "text/plain": [
       "<pandas.io.formats.style.Styler at 0x2c4049b5970>"
      ]
     },
     "execution_count": 63,
     "metadata": {},
     "output_type": "execute_result"
    }
   ],
   "source": [
    "(df_14 + df_15).head(10).style.highlight_null('yellow')"
   ]
  },
  {
   "cell_type": "markdown",
   "id": "b56d89b4",
   "metadata": {},
   "source": [
    "Only the rows where playerID appears in both DataFrames will be available. Similarly, the\n",
    "columns AB, H, and R are the only ones that appear in both DataFrames. Even if we use the\n",
    ".add method with the fill_value parameter specified, we still might have missing values.\n",
    "This is because some combinations of rows and columns never existed in our input data; for\n",
    "example, the intersection of playerID congeha01 and column G. That player only appeared in\n",
    "the 2015 dataset that did not have the G column. Therefore, that value was missing:"
   ]
  },
  {
   "cell_type": "code",
   "execution_count": 64,
   "id": "09e8d311",
   "metadata": {},
   "outputs": [
    {
     "data": {
      "text/html": [
       "<style type=\"text/css\">\n",
       "#T_e0c07_row3_col1, #T_e0c07_row4_col3, #T_e0c07_row5_col1, #T_e0c07_row6_col3, #T_e0c07_row7_col3, #T_e0c07_row8_col1, #T_e0c07_row9_col1 {\n",
       "  background-color: yellow;\n",
       "}\n",
       "</style>\n",
       "<table id=\"T_e0c07_\">\n",
       "  <thead>\n",
       "    <tr>\n",
       "      <th class=\"blank level0\" >&nbsp;</th>\n",
       "      <th class=\"col_heading level0 col0\" >AB</th>\n",
       "      <th class=\"col_heading level0 col1\" >G</th>\n",
       "      <th class=\"col_heading level0 col2\" >H</th>\n",
       "      <th class=\"col_heading level0 col3\" >HR</th>\n",
       "      <th class=\"col_heading level0 col4\" >R</th>\n",
       "    </tr>\n",
       "    <tr>\n",
       "      <th class=\"index_name level0\" >playerID</th>\n",
       "      <th class=\"blank col0\" >&nbsp;</th>\n",
       "      <th class=\"blank col1\" >&nbsp;</th>\n",
       "      <th class=\"blank col2\" >&nbsp;</th>\n",
       "      <th class=\"blank col3\" >&nbsp;</th>\n",
       "      <th class=\"blank col4\" >&nbsp;</th>\n",
       "    </tr>\n",
       "  </thead>\n",
       "  <tbody>\n",
       "    <tr>\n",
       "      <th id=\"T_e0c07_level0_row0\" class=\"row_heading level0 row0\" >altuvjo01</th>\n",
       "      <td id=\"T_e0c07_row0_col0\" class=\"data row0 col0\" >1298.000000</td>\n",
       "      <td id=\"T_e0c07_row0_col1\" class=\"data row0 col1\" >158.000000</td>\n",
       "      <td id=\"T_e0c07_row0_col2\" class=\"data row0 col2\" >425.000000</td>\n",
       "      <td id=\"T_e0c07_row0_col3\" class=\"data row0 col3\" >15.000000</td>\n",
       "      <td id=\"T_e0c07_row0_col4\" class=\"data row0 col4\" >171.000000</td>\n",
       "    </tr>\n",
       "    <tr>\n",
       "      <th id=\"T_e0c07_level0_row1\" class=\"row_heading level0 row1\" >cartech02</th>\n",
       "      <td id=\"T_e0c07_row1_col0\" class=\"data row1 col0\" >898.000000</td>\n",
       "      <td id=\"T_e0c07_row1_col1\" class=\"data row1 col1\" >145.000000</td>\n",
       "      <td id=\"T_e0c07_row1_col2\" class=\"data row1 col2\" >193.000000</td>\n",
       "      <td id=\"T_e0c07_row1_col3\" class=\"data row1 col3\" >24.000000</td>\n",
       "      <td id=\"T_e0c07_row1_col4\" class=\"data row1 col4\" >118.000000</td>\n",
       "    </tr>\n",
       "    <tr>\n",
       "      <th id=\"T_e0c07_level0_row2\" class=\"row_heading level0 row2\" >castrja01</th>\n",
       "      <td id=\"T_e0c07_row2_col0\" class=\"data row2 col0\" >802.000000</td>\n",
       "      <td id=\"T_e0c07_row2_col1\" class=\"data row2 col1\" >126.000000</td>\n",
       "      <td id=\"T_e0c07_row2_col2\" class=\"data row2 col2\" >174.000000</td>\n",
       "      <td id=\"T_e0c07_row2_col3\" class=\"data row2 col3\" >11.000000</td>\n",
       "      <td id=\"T_e0c07_row2_col4\" class=\"data row2 col4\" >81.000000</td>\n",
       "    </tr>\n",
       "    <tr>\n",
       "      <th id=\"T_e0c07_level0_row3\" class=\"row_heading level0 row3\" >congeha01</th>\n",
       "      <td id=\"T_e0c07_row3_col0\" class=\"data row3 col0\" >201.000000</td>\n",
       "      <td id=\"T_e0c07_row3_col1\" class=\"data row3 col1\" >nan</td>\n",
       "      <td id=\"T_e0c07_row3_col2\" class=\"data row3 col2\" >46.000000</td>\n",
       "      <td id=\"T_e0c07_row3_col3\" class=\"data row3 col3\" >11.000000</td>\n",
       "      <td id=\"T_e0c07_row3_col4\" class=\"data row3 col4\" >25.000000</td>\n",
       "    </tr>\n",
       "    <tr>\n",
       "      <th id=\"T_e0c07_level0_row4\" class=\"row_heading level0 row4\" >corpoca01</th>\n",
       "      <td id=\"T_e0c07_row4_col0\" class=\"data row4 col0\" >170.000000</td>\n",
       "      <td id=\"T_e0c07_row4_col1\" class=\"data row4 col1\" >55.000000</td>\n",
       "      <td id=\"T_e0c07_row4_col2\" class=\"data row4 col2\" >40.000000</td>\n",
       "      <td id=\"T_e0c07_row4_col3\" class=\"data row4 col3\" >nan</td>\n",
       "      <td id=\"T_e0c07_row4_col4\" class=\"data row4 col4\" >22.000000</td>\n",
       "    </tr>\n",
       "    <tr>\n",
       "      <th id=\"T_e0c07_level0_row5\" class=\"row_heading level0 row5\" >correca01</th>\n",
       "      <td id=\"T_e0c07_row5_col0\" class=\"data row5 col0\" >387.000000</td>\n",
       "      <td id=\"T_e0c07_row5_col1\" class=\"data row5 col1\" >nan</td>\n",
       "      <td id=\"T_e0c07_row5_col2\" class=\"data row5 col2\" >108.000000</td>\n",
       "      <td id=\"T_e0c07_row5_col3\" class=\"data row5 col3\" >22.000000</td>\n",
       "      <td id=\"T_e0c07_row5_col4\" class=\"data row5 col4\" >52.000000</td>\n",
       "    </tr>\n",
       "    <tr>\n",
       "      <th id=\"T_e0c07_level0_row6\" class=\"row_heading level0 row6\" >dominma01</th>\n",
       "      <td id=\"T_e0c07_row6_col0\" class=\"data row6 col0\" >564.000000</td>\n",
       "      <td id=\"T_e0c07_row6_col1\" class=\"data row6 col1\" >157.000000</td>\n",
       "      <td id=\"T_e0c07_row6_col2\" class=\"data row6 col2\" >121.000000</td>\n",
       "      <td id=\"T_e0c07_row6_col3\" class=\"data row6 col3\" >nan</td>\n",
       "      <td id=\"T_e0c07_row6_col4\" class=\"data row6 col4\" >51.000000</td>\n",
       "    </tr>\n",
       "    <tr>\n",
       "      <th id=\"T_e0c07_level0_row7\" class=\"row_heading level0 row7\" >fowlede01</th>\n",
       "      <td id=\"T_e0c07_row7_col0\" class=\"data row7 col0\" >434.000000</td>\n",
       "      <td id=\"T_e0c07_row7_col1\" class=\"data row7 col1\" >116.000000</td>\n",
       "      <td id=\"T_e0c07_row7_col2\" class=\"data row7 col2\" >120.000000</td>\n",
       "      <td id=\"T_e0c07_row7_col3\" class=\"data row7 col3\" >nan</td>\n",
       "      <td id=\"T_e0c07_row7_col4\" class=\"data row7 col4\" >61.000000</td>\n",
       "    </tr>\n",
       "    <tr>\n",
       "      <th id=\"T_e0c07_level0_row8\" class=\"row_heading level0 row8\" >gattiev01</th>\n",
       "      <td id=\"T_e0c07_row8_col0\" class=\"data row8 col0\" >566.000000</td>\n",
       "      <td id=\"T_e0c07_row8_col1\" class=\"data row8 col1\" >nan</td>\n",
       "      <td id=\"T_e0c07_row8_col2\" class=\"data row8 col2\" >139.000000</td>\n",
       "      <td id=\"T_e0c07_row8_col3\" class=\"data row8 col3\" >27.000000</td>\n",
       "      <td id=\"T_e0c07_row8_col4\" class=\"data row8 col4\" >66.000000</td>\n",
       "    </tr>\n",
       "    <tr>\n",
       "      <th id=\"T_e0c07_level0_row9\" class=\"row_heading level0 row9\" >gomezca01</th>\n",
       "      <td id=\"T_e0c07_row9_col0\" class=\"data row9 col0\" >149.000000</td>\n",
       "      <td id=\"T_e0c07_row9_col1\" class=\"data row9 col1\" >nan</td>\n",
       "      <td id=\"T_e0c07_row9_col2\" class=\"data row9 col2\" >36.000000</td>\n",
       "      <td id=\"T_e0c07_row9_col3\" class=\"data row9 col3\" >4.000000</td>\n",
       "      <td id=\"T_e0c07_row9_col4\" class=\"data row9 col4\" >19.000000</td>\n",
       "    </tr>\n",
       "  </tbody>\n",
       "</table>\n"
      ],
      "text/plain": [
       "<pandas.io.formats.style.Styler at 0x2c4080c3b80>"
      ]
     },
     "execution_count": 64,
     "metadata": {},
     "output_type": "execute_result"
    }
   ],
   "source": [
    "(\n",
    "    df_14.add(df_15, fill_value=0)\n",
    "    .head(10)\n",
    "    .style.highlight_null('yellow')\n",
    ")"
   ]
  },
  {
   "cell_type": "markdown",
   "id": "7e5fcbf2",
   "metadata": {},
   "source": [
    "### Adding columns from different DataFrames"
   ]
  },
  {
   "cell_type": "markdown",
   "id": "4ff14557",
   "metadata": {},
   "source": [
    "All DataFrames can add new columns to themselves. However, as usual, whenever\n",
    "a DataFrame is adding a new column from another DataFrame or Series, the indexes align\n",
    "first, and then the new column is created."
   ]
  },
  {
   "cell_type": "code",
   "execution_count": 65,
   "id": "6f3fa168",
   "metadata": {},
   "outputs": [],
   "source": [
    "# Import the employee data and select the DEPARTMENT\n",
    "# and BASE_SALARY columns in a new DataFrame\n",
    "employee = pd.read_csv('C:/Users/justine.o_kobo360/Desktop/Pandas Workbook/Pandas CookBook 1.x/Data files/employee.csv')"
   ]
  },
  {
   "cell_type": "code",
   "execution_count": 66,
   "id": "07a4478a",
   "metadata": {},
   "outputs": [],
   "source": [
    "dept_sal = employee[['DEPARTMENT', 'BASE_SALARY']]"
   ]
  },
  {
   "cell_type": "code",
   "execution_count": 67,
   "id": "eaf5a459",
   "metadata": {},
   "outputs": [
    {
     "data": {
      "text/html": [
       "<div>\n",
       "<style scoped>\n",
       "    .dataframe tbody tr th:only-of-type {\n",
       "        vertical-align: middle;\n",
       "    }\n",
       "\n",
       "    .dataframe tbody tr th {\n",
       "        vertical-align: top;\n",
       "    }\n",
       "\n",
       "    .dataframe thead th {\n",
       "        text-align: right;\n",
       "    }\n",
       "</style>\n",
       "<table border=\"1\" class=\"dataframe\">\n",
       "  <thead>\n",
       "    <tr style=\"text-align: right;\">\n",
       "      <th></th>\n",
       "      <th>DEPARTMENT</th>\n",
       "      <th>BASE_SALARY</th>\n",
       "    </tr>\n",
       "  </thead>\n",
       "  <tbody>\n",
       "    <tr>\n",
       "      <th>1494</th>\n",
       "      <td>Admn. &amp; Regulatory Affairs</td>\n",
       "      <td>140416.0</td>\n",
       "    </tr>\n",
       "    <tr>\n",
       "      <th>237</th>\n",
       "      <td>Admn. &amp; Regulatory Affairs</td>\n",
       "      <td>130416.0</td>\n",
       "    </tr>\n",
       "    <tr>\n",
       "      <th>1679</th>\n",
       "      <td>Admn. &amp; Regulatory Affairs</td>\n",
       "      <td>103776.0</td>\n",
       "    </tr>\n",
       "    <tr>\n",
       "      <th>988</th>\n",
       "      <td>Admn. &amp; Regulatory Affairs</td>\n",
       "      <td>72741.0</td>\n",
       "    </tr>\n",
       "    <tr>\n",
       "      <th>693</th>\n",
       "      <td>Admn. &amp; Regulatory Affairs</td>\n",
       "      <td>66825.0</td>\n",
       "    </tr>\n",
       "    <tr>\n",
       "      <th>...</th>\n",
       "      <td>...</td>\n",
       "      <td>...</td>\n",
       "    </tr>\n",
       "    <tr>\n",
       "      <th>1140</th>\n",
       "      <td>Solid Waste Management</td>\n",
       "      <td>30410.0</td>\n",
       "    </tr>\n",
       "    <tr>\n",
       "      <th>1243</th>\n",
       "      <td>Solid Waste Management</td>\n",
       "      <td>30410.0</td>\n",
       "    </tr>\n",
       "    <tr>\n",
       "      <th>387</th>\n",
       "      <td>Solid Waste Management</td>\n",
       "      <td>28829.0</td>\n",
       "    </tr>\n",
       "    <tr>\n",
       "      <th>57</th>\n",
       "      <td>Solid Waste Management</td>\n",
       "      <td>27622.0</td>\n",
       "    </tr>\n",
       "    <tr>\n",
       "      <th>536</th>\n",
       "      <td>Solid Waste Management</td>\n",
       "      <td>26499.0</td>\n",
       "    </tr>\n",
       "  </tbody>\n",
       "</table>\n",
       "<p>2000 rows × 2 columns</p>\n",
       "</div>"
      ],
      "text/plain": [
       "                      DEPARTMENT  BASE_SALARY\n",
       "1494  Admn. & Regulatory Affairs     140416.0\n",
       "237   Admn. & Regulatory Affairs     130416.0\n",
       "1679  Admn. & Regulatory Affairs     103776.0\n",
       "988   Admn. & Regulatory Affairs      72741.0\n",
       "693   Admn. & Regulatory Affairs      66825.0\n",
       "...                          ...          ...\n",
       "1140      Solid Waste Management      30410.0\n",
       "1243      Solid Waste Management      30410.0\n",
       "387       Solid Waste Management      28829.0\n",
       "57        Solid Waste Management      27622.0\n",
       "536       Solid Waste Management      26499.0\n",
       "\n",
       "[2000 rows x 2 columns]"
      ]
     },
     "execution_count": 67,
     "metadata": {},
     "output_type": "execute_result"
    }
   ],
   "source": [
    "# Sort this smaller DataFrame by salary within each\n",
    "# department:\n",
    "dept_sal.sort_values(['DEPARTMENT', 'BASE_SALARY'], ascending=[True, False])"
   ]
  },
  {
   "cell_type": "code",
   "execution_count": 68,
   "id": "315f2639",
   "metadata": {},
   "outputs": [],
   "source": [
    "# Use the .drop_duplicates method to keep the first\n",
    "# row of each DEPARTMENT:b\n",
    "max_dept_sal = dept_sal.drop_duplicates(subset='DEPARTMENT')"
   ]
  },
  {
   "cell_type": "code",
   "execution_count": 69,
   "id": "9ec6b2e2",
   "metadata": {},
   "outputs": [
    {
     "data": {
      "text/html": [
       "<div>\n",
       "<style scoped>\n",
       "    .dataframe tbody tr th:only-of-type {\n",
       "        vertical-align: middle;\n",
       "    }\n",
       "\n",
       "    .dataframe tbody tr th {\n",
       "        vertical-align: top;\n",
       "    }\n",
       "\n",
       "    .dataframe thead th {\n",
       "        text-align: right;\n",
       "    }\n",
       "</style>\n",
       "<table border=\"1\" class=\"dataframe\">\n",
       "  <thead>\n",
       "    <tr style=\"text-align: right;\">\n",
       "      <th></th>\n",
       "      <th>DEPARTMENT</th>\n",
       "      <th>BASE_SALARY</th>\n",
       "    </tr>\n",
       "  </thead>\n",
       "  <tbody>\n",
       "    <tr>\n",
       "      <th>0</th>\n",
       "      <td>Municipal Courts Department</td>\n",
       "      <td>121862.0</td>\n",
       "    </tr>\n",
       "    <tr>\n",
       "      <th>1</th>\n",
       "      <td>Library</td>\n",
       "      <td>26125.0</td>\n",
       "    </tr>\n",
       "    <tr>\n",
       "      <th>2</th>\n",
       "      <td>Houston Police Department-HPD</td>\n",
       "      <td>45279.0</td>\n",
       "    </tr>\n",
       "    <tr>\n",
       "      <th>3</th>\n",
       "      <td>Houston Fire Department (HFD)</td>\n",
       "      <td>63166.0</td>\n",
       "    </tr>\n",
       "    <tr>\n",
       "      <th>4</th>\n",
       "      <td>General Services Department</td>\n",
       "      <td>56347.0</td>\n",
       "    </tr>\n",
       "  </tbody>\n",
       "</table>\n",
       "</div>"
      ],
      "text/plain": [
       "                      DEPARTMENT  BASE_SALARY\n",
       "0    Municipal Courts Department     121862.0\n",
       "1                        Library      26125.0\n",
       "2  Houston Police Department-HPD      45279.0\n",
       "3  Houston Fire Department (HFD)      63166.0\n",
       "4    General Services Department      56347.0"
      ]
     },
     "execution_count": 69,
     "metadata": {},
     "output_type": "execute_result"
    }
   ],
   "source": [
    "max_dept_sal.head()"
   ]
  },
  {
   "cell_type": "code",
   "execution_count": 73,
   "id": "88c155e5",
   "metadata": {},
   "outputs": [
    {
     "data": {
      "text/html": [
       "<div>\n",
       "<style scoped>\n",
       "    .dataframe tbody tr th:only-of-type {\n",
       "        vertical-align: middle;\n",
       "    }\n",
       "\n",
       "    .dataframe tbody tr th {\n",
       "        vertical-align: top;\n",
       "    }\n",
       "\n",
       "    .dataframe thead th {\n",
       "        text-align: right;\n",
       "    }\n",
       "</style>\n",
       "<table border=\"1\" class=\"dataframe\">\n",
       "  <thead>\n",
       "    <tr style=\"text-align: right;\">\n",
       "      <th></th>\n",
       "      <th>BASE_SALARY</th>\n",
       "    </tr>\n",
       "    <tr>\n",
       "      <th>DEPARTMENT</th>\n",
       "      <th></th>\n",
       "    </tr>\n",
       "  </thead>\n",
       "  <tbody>\n",
       "    <tr>\n",
       "      <th>Municipal Courts Department</th>\n",
       "      <td>121862.0</td>\n",
       "    </tr>\n",
       "    <tr>\n",
       "      <th>Library</th>\n",
       "      <td>26125.0</td>\n",
       "    </tr>\n",
       "    <tr>\n",
       "      <th>Houston Police Department-HPD</th>\n",
       "      <td>45279.0</td>\n",
       "    </tr>\n",
       "    <tr>\n",
       "      <th>Houston Fire Department (HFD)</th>\n",
       "      <td>63166.0</td>\n",
       "    </tr>\n",
       "    <tr>\n",
       "      <th>General Services Department</th>\n",
       "      <td>56347.0</td>\n",
       "    </tr>\n",
       "  </tbody>\n",
       "</table>\n",
       "</div>"
      ],
      "text/plain": [
       "                               BASE_SALARY\n",
       "DEPARTMENT                                \n",
       "Municipal Courts Department       121862.0\n",
       "Library                            26125.0\n",
       "Houston Police Department-HPD      45279.0\n",
       "Houston Fire Department (HFD)      63166.0\n",
       "General Services Department        56347.0"
      ]
     },
     "execution_count": 73,
     "metadata": {},
     "output_type": "execute_result"
    }
   ],
   "source": [
    "max_dept_sal.head()"
   ]
  },
  {
   "cell_type": "code",
   "execution_count": 70,
   "id": "0b63e98e",
   "metadata": {},
   "outputs": [],
   "source": [
    "# Put the DEPARTMENT column into the index for\n",
    "# each DataFrame\n",
    "max_dept_sal = max_dept_sal.set_index(\"DEPARTMENT\")\n"
   ]
  },
  {
   "cell_type": "code",
   "execution_count": 71,
   "id": "0f63376c",
   "metadata": {},
   "outputs": [],
   "source": [
    "employee = employee.set_index(\"DEPARTMENT\")"
   ]
  },
  {
   "cell_type": "code",
   "execution_count": 74,
   "id": "70499a8a",
   "metadata": {},
   "outputs": [],
   "source": [
    "# Now that the indexes contain matching values, we \n",
    "# can add a new column to the employee DataFrame\n",
    "employee = employee.assign(\n",
    "    MAX_DEPT_SALARY=max_dept_sal['BASE_SALARY']\n",
    ")"
   ]
  },
  {
   "cell_type": "code",
   "execution_count": 75,
   "id": "aca5c479",
   "metadata": {},
   "outputs": [
    {
     "data": {
      "text/html": [
       "<div>\n",
       "<style scoped>\n",
       "    .dataframe tbody tr th:only-of-type {\n",
       "        vertical-align: middle;\n",
       "    }\n",
       "\n",
       "    .dataframe tbody tr th {\n",
       "        vertical-align: top;\n",
       "    }\n",
       "\n",
       "    .dataframe thead th {\n",
       "        text-align: right;\n",
       "    }\n",
       "</style>\n",
       "<table border=\"1\" class=\"dataframe\">\n",
       "  <thead>\n",
       "    <tr style=\"text-align: right;\">\n",
       "      <th></th>\n",
       "      <th>UNIQUE_ID</th>\n",
       "      <th>POSITION_TITLE</th>\n",
       "      <th>...</th>\n",
       "      <th>JOB_DATE</th>\n",
       "      <th>MAX_DEPT_SALARY</th>\n",
       "    </tr>\n",
       "    <tr>\n",
       "      <th>DEPARTMENT</th>\n",
       "      <th></th>\n",
       "      <th></th>\n",
       "      <th></th>\n",
       "      <th></th>\n",
       "      <th></th>\n",
       "    </tr>\n",
       "  </thead>\n",
       "  <tbody>\n",
       "    <tr>\n",
       "      <th>Municipal Courts Department</th>\n",
       "      <td>0</td>\n",
       "      <td>ASSISTANT DIRECTOR (EX LVL)</td>\n",
       "      <td>...</td>\n",
       "      <td>2012-10-13</td>\n",
       "      <td>121862.0</td>\n",
       "    </tr>\n",
       "    <tr>\n",
       "      <th>Library</th>\n",
       "      <td>1</td>\n",
       "      <td>LIBRARY ASSISTANT</td>\n",
       "      <td>...</td>\n",
       "      <td>2010-09-18</td>\n",
       "      <td>26125.0</td>\n",
       "    </tr>\n",
       "    <tr>\n",
       "      <th>Houston Police Department-HPD</th>\n",
       "      <td>2</td>\n",
       "      <td>POLICE OFFICER</td>\n",
       "      <td>...</td>\n",
       "      <td>2015-02-03</td>\n",
       "      <td>45279.0</td>\n",
       "    </tr>\n",
       "    <tr>\n",
       "      <th>Houston Fire Department (HFD)</th>\n",
       "      <td>3</td>\n",
       "      <td>ENGINEER/OPERATOR</td>\n",
       "      <td>...</td>\n",
       "      <td>1991-05-25</td>\n",
       "      <td>63166.0</td>\n",
       "    </tr>\n",
       "    <tr>\n",
       "      <th>General Services Department</th>\n",
       "      <td>4</td>\n",
       "      <td>ELECTRICIAN</td>\n",
       "      <td>...</td>\n",
       "      <td>1994-10-22</td>\n",
       "      <td>56347.0</td>\n",
       "    </tr>\n",
       "  </tbody>\n",
       "</table>\n",
       "<p>5 rows × 10 columns</p>\n",
       "</div>"
      ],
      "text/plain": [
       "                               UNIQUE_ID               POSITION_TITLE  ...  \\\n",
       "DEPARTMENT                                                             ...   \n",
       "Municipal Courts Department            0  ASSISTANT DIRECTOR (EX LVL)  ...   \n",
       "Library                                1            LIBRARY ASSISTANT  ...   \n",
       "Houston Police Department-HPD          2               POLICE OFFICER  ...   \n",
       "Houston Fire Department (HFD)          3            ENGINEER/OPERATOR  ...   \n",
       "General Services Department            4                  ELECTRICIAN  ...   \n",
       "\n",
       "                                 JOB_DATE MAX_DEPT_SALARY  \n",
       "DEPARTMENT                                                 \n",
       "Municipal Courts Department    2012-10-13        121862.0  \n",
       "Library                        2010-09-18         26125.0  \n",
       "Houston Police Department-HPD  2015-02-03         45279.0  \n",
       "Houston Fire Department (HFD)  1991-05-25         63166.0  \n",
       "General Services Department    1994-10-22         56347.0  \n",
       "\n",
       "[5 rows x 10 columns]"
      ]
     },
     "execution_count": 75,
     "metadata": {},
     "output_type": "execute_result"
    }
   ],
   "source": [
    "employee.head()"
   ]
  },
  {
   "cell_type": "code",
   "execution_count": 77,
   "id": "1a2d5d29",
   "metadata": {},
   "outputs": [
    {
     "data": {
      "text/html": [
       "<div>\n",
       "<style scoped>\n",
       "    .dataframe tbody tr th:only-of-type {\n",
       "        vertical-align: middle;\n",
       "    }\n",
       "\n",
       "    .dataframe tbody tr th {\n",
       "        vertical-align: top;\n",
       "    }\n",
       "\n",
       "    .dataframe thead th {\n",
       "        text-align: right;\n",
       "    }\n",
       "</style>\n",
       "<table border=\"1\" class=\"dataframe\">\n",
       "  <thead>\n",
       "    <tr style=\"text-align: right;\">\n",
       "      <th></th>\n",
       "      <th>UNIQUE_ID</th>\n",
       "      <th>POSITION_TITLE</th>\n",
       "      <th>...</th>\n",
       "      <th>JOB_DATE</th>\n",
       "      <th>MAX_DEPT_SALARY</th>\n",
       "    </tr>\n",
       "    <tr>\n",
       "      <th>DEPARTMENT</th>\n",
       "      <th></th>\n",
       "      <th></th>\n",
       "      <th></th>\n",
       "      <th></th>\n",
       "      <th></th>\n",
       "    </tr>\n",
       "  </thead>\n",
       "  <tbody>\n",
       "    <tr>\n",
       "      <th>Houston Police Department-HPD</th>\n",
       "      <td>5</td>\n",
       "      <td>SENIOR POLICE OFFICER</td>\n",
       "      <td>...</td>\n",
       "      <td>2005-03-26</td>\n",
       "      <td>45279.0</td>\n",
       "    </tr>\n",
       "    <tr>\n",
       "      <th>Public Works &amp; Engineering-PWE</th>\n",
       "      <td>8</td>\n",
       "      <td>DEPUTY ASSISTANT DIRECTOR (EXECUTIVE LEV</td>\n",
       "      <td>...</td>\n",
       "      <td>2013-01-05</td>\n",
       "      <td>71680.0</td>\n",
       "    </tr>\n",
       "    <tr>\n",
       "      <th>Houston Airport System (HAS)</th>\n",
       "      <td>9</td>\n",
       "      <td>AIRPORT OPERATIONS COORDINATOR</td>\n",
       "      <td>...</td>\n",
       "      <td>2016-03-14</td>\n",
       "      <td>42390.0</td>\n",
       "    </tr>\n",
       "    <tr>\n",
       "      <th>Houston Police Department-HPD</th>\n",
       "      <td>14</td>\n",
       "      <td>POLICE SERGEANT</td>\n",
       "      <td>...</td>\n",
       "      <td>2015-05-25</td>\n",
       "      <td>45279.0</td>\n",
       "    </tr>\n",
       "    <tr>\n",
       "      <th>Houston Police Department-HPD</th>\n",
       "      <td>17</td>\n",
       "      <td>POLICE SERGEANT</td>\n",
       "      <td>...</td>\n",
       "      <td>2007-03-03</td>\n",
       "      <td>45279.0</td>\n",
       "    </tr>\n",
       "    <tr>\n",
       "      <th>...</th>\n",
       "      <td>...</td>\n",
       "      <td>...</td>\n",
       "      <td>...</td>\n",
       "      <td>...</td>\n",
       "      <td>...</td>\n",
       "    </tr>\n",
       "    <tr>\n",
       "      <th>Parks &amp; Recreation</th>\n",
       "      <td>1990</td>\n",
       "      <td>BUILDING MAINTENANCE SUPERVISOR</td>\n",
       "      <td>...</td>\n",
       "      <td>2010-03-20</td>\n",
       "      <td>26125.0</td>\n",
       "    </tr>\n",
       "    <tr>\n",
       "      <th>Houston Police Department-HPD</th>\n",
       "      <td>1993</td>\n",
       "      <td>POLICE SERGEANT</td>\n",
       "      <td>...</td>\n",
       "      <td>2011-09-03</td>\n",
       "      <td>45279.0</td>\n",
       "    </tr>\n",
       "    <tr>\n",
       "      <th>Houston Police Department-HPD</th>\n",
       "      <td>1994</td>\n",
       "      <td>POLICE CAPTAIN</td>\n",
       "      <td>...</td>\n",
       "      <td>2004-07-08</td>\n",
       "      <td>45279.0</td>\n",
       "    </tr>\n",
       "    <tr>\n",
       "      <th>Houston Fire Department (HFD)</th>\n",
       "      <td>1996</td>\n",
       "      <td>COMMUNICATIONS CAPTAIN</td>\n",
       "      <td>...</td>\n",
       "      <td>2013-10-06</td>\n",
       "      <td>63166.0</td>\n",
       "    </tr>\n",
       "    <tr>\n",
       "      <th>Houston Police Department-HPD</th>\n",
       "      <td>1998</td>\n",
       "      <td>POLICE OFFICER</td>\n",
       "      <td>...</td>\n",
       "      <td>2011-07-02</td>\n",
       "      <td>45279.0</td>\n",
       "    </tr>\n",
       "  </tbody>\n",
       "</table>\n",
       "<p>882 rows × 10 columns</p>\n",
       "</div>"
      ],
      "text/plain": [
       "                                UNIQUE_ID  \\\n",
       "DEPARTMENT                                  \n",
       "Houston Police Department-HPD           5   \n",
       "Public Works & Engineering-PWE          8   \n",
       "Houston Airport System (HAS)            9   \n",
       "Houston Police Department-HPD          14   \n",
       "Houston Police Department-HPD          17   \n",
       "...                                   ...   \n",
       "Parks & Recreation                   1990   \n",
       "Houston Police Department-HPD        1993   \n",
       "Houston Police Department-HPD        1994   \n",
       "Houston Fire Department (HFD)        1996   \n",
       "Houston Police Department-HPD        1998   \n",
       "\n",
       "                                                          POSITION_TITLE  ...  \\\n",
       "DEPARTMENT                                                                ...   \n",
       "Houston Police Department-HPD                      SENIOR POLICE OFFICER  ...   \n",
       "Public Works & Engineering-PWE  DEPUTY ASSISTANT DIRECTOR (EXECUTIVE LEV  ...   \n",
       "Houston Airport System (HAS)              AIRPORT OPERATIONS COORDINATOR  ...   \n",
       "Houston Police Department-HPD                            POLICE SERGEANT  ...   \n",
       "Houston Police Department-HPD                            POLICE SERGEANT  ...   \n",
       "...                                                                  ...  ...   \n",
       "Parks & Recreation                       BUILDING MAINTENANCE SUPERVISOR  ...   \n",
       "Houston Police Department-HPD                            POLICE SERGEANT  ...   \n",
       "Houston Police Department-HPD                             POLICE CAPTAIN  ...   \n",
       "Houston Fire Department (HFD)                     COMMUNICATIONS CAPTAIN  ...   \n",
       "Houston Police Department-HPD                             POLICE OFFICER  ...   \n",
       "\n",
       "                                  JOB_DATE MAX_DEPT_SALARY  \n",
       "DEPARTMENT                                                  \n",
       "Houston Police Department-HPD   2005-03-26         45279.0  \n",
       "Public Works & Engineering-PWE  2013-01-05         71680.0  \n",
       "Houston Airport System (HAS)    2016-03-14         42390.0  \n",
       "Houston Police Department-HPD   2015-05-25         45279.0  \n",
       "Houston Police Department-HPD   2007-03-03         45279.0  \n",
       "...                                    ...             ...  \n",
       "Parks & Recreation              2010-03-20         26125.0  \n",
       "Houston Police Department-HPD   2011-09-03         45279.0  \n",
       "Houston Police Department-HPD   2004-07-08         45279.0  \n",
       "Houston Fire Department (HFD)   2013-10-06         63166.0  \n",
       "Houston Police Department-HPD   2011-07-02         45279.0  \n",
       "\n",
       "[882 rows x 10 columns]"
      ]
     },
     "execution_count": 77,
     "metadata": {},
     "output_type": "execute_result"
    }
   ],
   "source": [
    "# We can validate our results with the query method to\n",
    "# check whether there exist any rows where BASE_SALARY \n",
    "# is greater than MAX_DEPT_SALARY:\n",
    "employee.query(\"BASE_SALARY > MAX_DEPT_SALARY\")"
   ]
  },
  {
   "cell_type": "code",
   "execution_count": 78,
   "id": "daf292f8",
   "metadata": {},
   "outputs": [],
   "source": [
    "# refractor our code into a chain \n",
    "employee = pd.read_csv('C:/Users/justine.o_kobo360/Desktop/Pandas Workbook/Pandas CookBook 1.x/Data files/employee.csv')"
   ]
  },
  {
   "cell_type": "code",
   "execution_count": 79,
   "id": "73200e43",
   "metadata": {
    "scrolled": false
   },
   "outputs": [
    {
     "name": "stderr",
     "output_type": "stream",
     "text": [
      "C:\\Users\\JUSTIN~1.O_K\\AppData\\Local\\Temp/ipykernel_7228/2361085149.py:2: FutureWarning: In a future version of pandas all arguments of DataFrame.sort_index will be keyword-only\n",
      "  employee[['DEPARTMENT', 'BASE_SALARY']]\n"
     ]
    },
    {
     "ename": "ValueError",
     "evalue": "No axis named DEPARTMENT for object type DataFrame",
     "output_type": "error",
     "traceback": [
      "\u001b[1;31m---------------------------------------------------------------------------\u001b[0m",
      "\u001b[1;31mKeyError\u001b[0m                                  Traceback (most recent call last)",
      "\u001b[1;32m~\\anaconda31\\lib\\site-packages\\pandas\\core\\generic.py\u001b[0m in \u001b[0;36m_get_axis_number\u001b[1;34m(cls, axis)\u001b[0m\n\u001b[0;32m    545\u001b[0m         \u001b[1;32mtry\u001b[0m\u001b[1;33m:\u001b[0m\u001b[1;33m\u001b[0m\u001b[1;33m\u001b[0m\u001b[0m\n\u001b[1;32m--> 546\u001b[1;33m             \u001b[1;32mreturn\u001b[0m \u001b[0mcls\u001b[0m\u001b[1;33m.\u001b[0m\u001b[0m_AXIS_TO_AXIS_NUMBER\u001b[0m\u001b[1;33m[\u001b[0m\u001b[0maxis\u001b[0m\u001b[1;33m]\u001b[0m\u001b[1;33m\u001b[0m\u001b[1;33m\u001b[0m\u001b[0m\n\u001b[0m\u001b[0;32m    547\u001b[0m         \u001b[1;32mexcept\u001b[0m \u001b[0mKeyError\u001b[0m\u001b[1;33m:\u001b[0m\u001b[1;33m\u001b[0m\u001b[1;33m\u001b[0m\u001b[0m\n",
      "\u001b[1;31mKeyError\u001b[0m: 'DEPARTMENT'",
      "\nDuring handling of the above exception, another exception occurred:\n",
      "\u001b[1;31mValueError\u001b[0m                                Traceback (most recent call last)",
      "\u001b[1;32mC:\\Users\\JUSTIN~1.O_K\\AppData\\Local\\Temp/ipykernel_7228/2361085149.py\u001b[0m in \u001b[0;36m<module>\u001b[1;34m\u001b[0m\n\u001b[0;32m      1\u001b[0m max_dept_sal = (\n\u001b[1;32m----> 2\u001b[1;33m     \u001b[0memployee\u001b[0m\u001b[1;33m[\u001b[0m\u001b[1;33m[\u001b[0m\u001b[1;34m'DEPARTMENT'\u001b[0m\u001b[1;33m,\u001b[0m \u001b[1;34m'BASE_SALARY'\u001b[0m\u001b[1;33m]\u001b[0m\u001b[1;33m]\u001b[0m\u001b[1;33m\u001b[0m\u001b[1;33m\u001b[0m\u001b[0m\n\u001b[0m\u001b[0;32m      3\u001b[0m     .sort_values(\n\u001b[0;32m      4\u001b[0m         \u001b[1;33m[\u001b[0m\u001b[1;34m'DEPARTMENT'\u001b[0m\u001b[1;33m,\u001b[0m \u001b[1;34m'BASE_SALARY'\u001b[0m\u001b[1;33m]\u001b[0m\u001b[1;33m,\u001b[0m \u001b[0mascending\u001b[0m\u001b[1;33m=\u001b[0m\u001b[1;33m[\u001b[0m\u001b[1;32mTrue\u001b[0m\u001b[1;33m,\u001b[0m \u001b[1;32mFalse\u001b[0m\u001b[1;33m]\u001b[0m\u001b[1;33m\u001b[0m\u001b[1;33m\u001b[0m\u001b[0m\n\u001b[0;32m      5\u001b[0m     )\n",
      "\u001b[1;32m~\\anaconda31\\lib\\site-packages\\pandas\\util\\_decorators.py\u001b[0m in \u001b[0;36mwrapper\u001b[1;34m(*args, **kwargs)\u001b[0m\n\u001b[0;32m    309\u001b[0m                     \u001b[0mstacklevel\u001b[0m\u001b[1;33m=\u001b[0m\u001b[0mstacklevel\u001b[0m\u001b[1;33m,\u001b[0m\u001b[1;33m\u001b[0m\u001b[1;33m\u001b[0m\u001b[0m\n\u001b[0;32m    310\u001b[0m                 )\n\u001b[1;32m--> 311\u001b[1;33m             \u001b[1;32mreturn\u001b[0m \u001b[0mfunc\u001b[0m\u001b[1;33m(\u001b[0m\u001b[1;33m*\u001b[0m\u001b[0margs\u001b[0m\u001b[1;33m,\u001b[0m \u001b[1;33m**\u001b[0m\u001b[0mkwargs\u001b[0m\u001b[1;33m)\u001b[0m\u001b[1;33m\u001b[0m\u001b[1;33m\u001b[0m\u001b[0m\n\u001b[0m\u001b[0;32m    312\u001b[0m \u001b[1;33m\u001b[0m\u001b[0m\n\u001b[0;32m    313\u001b[0m         \u001b[1;32mreturn\u001b[0m \u001b[0mwrapper\u001b[0m\u001b[1;33m\u001b[0m\u001b[1;33m\u001b[0m\u001b[0m\n",
      "\u001b[1;32m~\\anaconda31\\lib\\site-packages\\pandas\\core\\frame.py\u001b[0m in \u001b[0;36msort_index\u001b[1;34m(self, axis, level, ascending, inplace, kind, na_position, sort_remaining, ignore_index, key)\u001b[0m\n\u001b[0;32m   6391\u001b[0m         \u001b[0md\u001b[0m  \u001b[1;36m4\u001b[0m\u001b[1;33m\u001b[0m\u001b[1;33m\u001b[0m\u001b[0m\n\u001b[0;32m   6392\u001b[0m         \"\"\"\n\u001b[1;32m-> 6393\u001b[1;33m         return super().sort_index(\n\u001b[0m\u001b[0;32m   6394\u001b[0m             \u001b[0maxis\u001b[0m\u001b[1;33m,\u001b[0m\u001b[1;33m\u001b[0m\u001b[1;33m\u001b[0m\u001b[0m\n\u001b[0;32m   6395\u001b[0m             \u001b[0mlevel\u001b[0m\u001b[1;33m,\u001b[0m\u001b[1;33m\u001b[0m\u001b[1;33m\u001b[0m\u001b[0m\n",
      "\u001b[1;32m~\\anaconda31\\lib\\site-packages\\pandas\\core\\generic.py\u001b[0m in \u001b[0;36msort_index\u001b[1;34m(self, axis, level, ascending, inplace, kind, na_position, sort_remaining, ignore_index, key)\u001b[0m\n\u001b[0;32m   4537\u001b[0m \u001b[1;33m\u001b[0m\u001b[0m\n\u001b[0;32m   4538\u001b[0m         \u001b[0minplace\u001b[0m \u001b[1;33m=\u001b[0m \u001b[0mvalidate_bool_kwarg\u001b[0m\u001b[1;33m(\u001b[0m\u001b[0minplace\u001b[0m\u001b[1;33m,\u001b[0m \u001b[1;34m\"inplace\"\u001b[0m\u001b[1;33m)\u001b[0m\u001b[1;33m\u001b[0m\u001b[1;33m\u001b[0m\u001b[0m\n\u001b[1;32m-> 4539\u001b[1;33m         \u001b[0maxis\u001b[0m \u001b[1;33m=\u001b[0m \u001b[0mself\u001b[0m\u001b[1;33m.\u001b[0m\u001b[0m_get_axis_number\u001b[0m\u001b[1;33m(\u001b[0m\u001b[0maxis\u001b[0m\u001b[1;33m)\u001b[0m\u001b[1;33m\u001b[0m\u001b[1;33m\u001b[0m\u001b[0m\n\u001b[0m\u001b[0;32m   4540\u001b[0m         \u001b[0mascending\u001b[0m \u001b[1;33m=\u001b[0m \u001b[0mvalidate_ascending\u001b[0m\u001b[1;33m(\u001b[0m\u001b[0mascending\u001b[0m\u001b[1;33m)\u001b[0m\u001b[1;33m\u001b[0m\u001b[1;33m\u001b[0m\u001b[0m\n\u001b[0;32m   4541\u001b[0m \u001b[1;33m\u001b[0m\u001b[0m\n",
      "\u001b[1;32m~\\anaconda31\\lib\\site-packages\\pandas\\core\\generic.py\u001b[0m in \u001b[0;36m_get_axis_number\u001b[1;34m(cls, axis)\u001b[0m\n\u001b[0;32m    546\u001b[0m             \u001b[1;32mreturn\u001b[0m \u001b[0mcls\u001b[0m\u001b[1;33m.\u001b[0m\u001b[0m_AXIS_TO_AXIS_NUMBER\u001b[0m\u001b[1;33m[\u001b[0m\u001b[0maxis\u001b[0m\u001b[1;33m]\u001b[0m\u001b[1;33m\u001b[0m\u001b[1;33m\u001b[0m\u001b[0m\n\u001b[0;32m    547\u001b[0m         \u001b[1;32mexcept\u001b[0m \u001b[0mKeyError\u001b[0m\u001b[1;33m:\u001b[0m\u001b[1;33m\u001b[0m\u001b[1;33m\u001b[0m\u001b[0m\n\u001b[1;32m--> 548\u001b[1;33m             \u001b[1;32mraise\u001b[0m \u001b[0mValueError\u001b[0m\u001b[1;33m(\u001b[0m\u001b[1;34mf\"No axis named {axis} for object type {cls.__name__}\"\u001b[0m\u001b[1;33m)\u001b[0m\u001b[1;33m\u001b[0m\u001b[1;33m\u001b[0m\u001b[0m\n\u001b[0m\u001b[0;32m    549\u001b[0m \u001b[1;33m\u001b[0m\u001b[0m\n\u001b[0;32m    550\u001b[0m     \u001b[1;33m@\u001b[0m\u001b[0mfinal\u001b[0m\u001b[1;33m\u001b[0m\u001b[1;33m\u001b[0m\u001b[0m\n",
      "\u001b[1;31mValueError\u001b[0m: No axis named DEPARTMENT for object type DataFrame"
     ]
    }
   ],
   "source": [
    "max_dept_sal = (\n",
    "    employee[['DEPARTMENT', 'BASE_SALARY']]\n",
    "    .sort_values(\n",
    "        ['DEPARTMENT', 'BASE_SALARY'], ascending=[True, False]\n",
    "    )\n",
    "    .drop_duplicates(subset='DEPARTMENT')\n",
    "    .sort_index('DEPARTMENT')\n",
    ")"
   ]
  },
  {
   "cell_type": "code",
   "execution_count": 84,
   "id": "50518012",
   "metadata": {},
   "outputs": [
    {
     "data": {
      "text/html": [
       "<div>\n",
       "<style scoped>\n",
       "    .dataframe tbody tr th:only-of-type {\n",
       "        vertical-align: middle;\n",
       "    }\n",
       "\n",
       "    .dataframe tbody tr th {\n",
       "        vertical-align: top;\n",
       "    }\n",
       "\n",
       "    .dataframe thead th {\n",
       "        text-align: right;\n",
       "    }\n",
       "</style>\n",
       "<table border=\"1\" class=\"dataframe\">\n",
       "  <thead>\n",
       "    <tr style=\"text-align: right;\">\n",
       "      <th></th>\n",
       "      <th>UNIQUE_ID</th>\n",
       "      <th>POSITION_TITLE</th>\n",
       "      <th>...</th>\n",
       "      <th>JOB_DATE</th>\n",
       "      <th>MAX_DEPT_SALARY</th>\n",
       "    </tr>\n",
       "    <tr>\n",
       "      <th>DEPARTMENT</th>\n",
       "      <th></th>\n",
       "      <th></th>\n",
       "      <th></th>\n",
       "      <th></th>\n",
       "      <th></th>\n",
       "    </tr>\n",
       "  </thead>\n",
       "  <tbody>\n",
       "    <tr>\n",
       "      <th>Municipal Courts Department</th>\n",
       "      <td>0</td>\n",
       "      <td>ASSISTANT DIRECTOR (EX LVL)</td>\n",
       "      <td>...</td>\n",
       "      <td>2012-10-13</td>\n",
       "      <td>121862.0</td>\n",
       "    </tr>\n",
       "    <tr>\n",
       "      <th>Library</th>\n",
       "      <td>1</td>\n",
       "      <td>LIBRARY ASSISTANT</td>\n",
       "      <td>...</td>\n",
       "      <td>2010-09-18</td>\n",
       "      <td>26125.0</td>\n",
       "    </tr>\n",
       "    <tr>\n",
       "      <th>Houston Police Department-HPD</th>\n",
       "      <td>2</td>\n",
       "      <td>POLICE OFFICER</td>\n",
       "      <td>...</td>\n",
       "      <td>2015-02-03</td>\n",
       "      <td>45279.0</td>\n",
       "    </tr>\n",
       "    <tr>\n",
       "      <th>Houston Fire Department (HFD)</th>\n",
       "      <td>3</td>\n",
       "      <td>ENGINEER/OPERATOR</td>\n",
       "      <td>...</td>\n",
       "      <td>1991-05-25</td>\n",
       "      <td>63166.0</td>\n",
       "    </tr>\n",
       "    <tr>\n",
       "      <th>General Services Department</th>\n",
       "      <td>4</td>\n",
       "      <td>ELECTRICIAN</td>\n",
       "      <td>...</td>\n",
       "      <td>1994-10-22</td>\n",
       "      <td>56347.0</td>\n",
       "    </tr>\n",
       "    <tr>\n",
       "      <th>...</th>\n",
       "      <td>...</td>\n",
       "      <td>...</td>\n",
       "      <td>...</td>\n",
       "      <td>...</td>\n",
       "      <td>...</td>\n",
       "    </tr>\n",
       "    <tr>\n",
       "      <th>Houston Police Department-HPD</th>\n",
       "      <td>1995</td>\n",
       "      <td>POLICE OFFICER</td>\n",
       "      <td>...</td>\n",
       "      <td>2015-06-09</td>\n",
       "      <td>45279.0</td>\n",
       "    </tr>\n",
       "    <tr>\n",
       "      <th>Houston Fire Department (HFD)</th>\n",
       "      <td>1996</td>\n",
       "      <td>COMMUNICATIONS CAPTAIN</td>\n",
       "      <td>...</td>\n",
       "      <td>2013-10-06</td>\n",
       "      <td>63166.0</td>\n",
       "    </tr>\n",
       "    <tr>\n",
       "      <th>Houston Police Department-HPD</th>\n",
       "      <td>1997</td>\n",
       "      <td>POLICE OFFICER</td>\n",
       "      <td>...</td>\n",
       "      <td>2015-10-13</td>\n",
       "      <td>45279.0</td>\n",
       "    </tr>\n",
       "    <tr>\n",
       "      <th>Houston Police Department-HPD</th>\n",
       "      <td>1998</td>\n",
       "      <td>POLICE OFFICER</td>\n",
       "      <td>...</td>\n",
       "      <td>2011-07-02</td>\n",
       "      <td>45279.0</td>\n",
       "    </tr>\n",
       "    <tr>\n",
       "      <th>Houston Fire Department (HFD)</th>\n",
       "      <td>1999</td>\n",
       "      <td>FIRE FIGHTER</td>\n",
       "      <td>...</td>\n",
       "      <td>2010-07-12</td>\n",
       "      <td>63166.0</td>\n",
       "    </tr>\n",
       "  </tbody>\n",
       "</table>\n",
       "<p>2000 rows × 10 columns</p>\n",
       "</div>"
      ],
      "text/plain": [
       "                               UNIQUE_ID               POSITION_TITLE  ...  \\\n",
       "DEPARTMENT                                                             ...   \n",
       "Municipal Courts Department            0  ASSISTANT DIRECTOR (EX LVL)  ...   \n",
       "Library                                1            LIBRARY ASSISTANT  ...   \n",
       "Houston Police Department-HPD          2               POLICE OFFICER  ...   \n",
       "Houston Fire Department (HFD)          3            ENGINEER/OPERATOR  ...   \n",
       "General Services Department            4                  ELECTRICIAN  ...   \n",
       "...                                  ...                          ...  ...   \n",
       "Houston Police Department-HPD       1995               POLICE OFFICER  ...   \n",
       "Houston Fire Department (HFD)       1996       COMMUNICATIONS CAPTAIN  ...   \n",
       "Houston Police Department-HPD       1997               POLICE OFFICER  ...   \n",
       "Houston Police Department-HPD       1998               POLICE OFFICER  ...   \n",
       "Houston Fire Department (HFD)       1999                 FIRE FIGHTER  ...   \n",
       "\n",
       "                                 JOB_DATE MAX_DEPT_SALARY  \n",
       "DEPARTMENT                                                 \n",
       "Municipal Courts Department    2012-10-13        121862.0  \n",
       "Library                        2010-09-18         26125.0  \n",
       "Houston Police Department-HPD  2015-02-03         45279.0  \n",
       "Houston Fire Department (HFD)  1991-05-25         63166.0  \n",
       "General Services Department    1994-10-22         56347.0  \n",
       "...                                   ...             ...  \n",
       "Houston Police Department-HPD  2015-06-09         45279.0  \n",
       "Houston Fire Department (HFD)  2013-10-06         63166.0  \n",
       "Houston Police Department-HPD  2015-10-13         45279.0  \n",
       "Houston Police Department-HPD  2011-07-02         45279.0  \n",
       "Houston Fire Department (HFD)  2010-07-12         63166.0  \n",
       "\n",
       "[2000 rows x 10 columns]"
      ]
     },
     "execution_count": 84,
     "metadata": {},
     "output_type": "execute_result"
    }
   ],
   "source": [
    "(\n",
    "    employee\n",
    "    .set_index('DEPARTMENT')\n",
    "    .assign(\n",
    "        MAX_DEPT_SALARY=max_dept_sal['BASE_SALARY']\n",
    "    )\n",
    ")"
   ]
  },
  {
   "cell_type": "code",
   "execution_count": 80,
   "id": "ec1812db",
   "metadata": {},
   "outputs": [],
   "source": [
    "random_salary = dept_sal.sample(n=10, random_state=42).set_index('DEPARTMENT')"
   ]
  },
  {
   "cell_type": "code",
   "execution_count": 81,
   "id": "7f528095",
   "metadata": {},
   "outputs": [
    {
     "data": {
      "text/html": [
       "<div>\n",
       "<style scoped>\n",
       "    .dataframe tbody tr th:only-of-type {\n",
       "        vertical-align: middle;\n",
       "    }\n",
       "\n",
       "    .dataframe tbody tr th {\n",
       "        vertical-align: top;\n",
       "    }\n",
       "\n",
       "    .dataframe thead th {\n",
       "        text-align: right;\n",
       "    }\n",
       "</style>\n",
       "<table border=\"1\" class=\"dataframe\">\n",
       "  <thead>\n",
       "    <tr style=\"text-align: right;\">\n",
       "      <th></th>\n",
       "      <th>BASE_SALARY</th>\n",
       "    </tr>\n",
       "    <tr>\n",
       "      <th>DEPARTMENT</th>\n",
       "      <th></th>\n",
       "    </tr>\n",
       "  </thead>\n",
       "  <tbody>\n",
       "    <tr>\n",
       "      <th>Houston Police Department-HPD</th>\n",
       "      <td>NaN</td>\n",
       "    </tr>\n",
       "    <tr>\n",
       "      <th>Houston Police Department-HPD</th>\n",
       "      <td>66614.0</td>\n",
       "    </tr>\n",
       "    <tr>\n",
       "      <th>Housing and Community Devp.</th>\n",
       "      <td>NaN</td>\n",
       "    </tr>\n",
       "    <tr>\n",
       "      <th>Houston Police Department-HPD</th>\n",
       "      <td>NaN</td>\n",
       "    </tr>\n",
       "    <tr>\n",
       "      <th>Public Works &amp; Engineering-PWE</th>\n",
       "      <td>32635.0</td>\n",
       "    </tr>\n",
       "    <tr>\n",
       "      <th>Public Works &amp; Engineering-PWE</th>\n",
       "      <td>51584.0</td>\n",
       "    </tr>\n",
       "    <tr>\n",
       "      <th>Houston Fire Department (HFD)</th>\n",
       "      <td>43528.0</td>\n",
       "    </tr>\n",
       "    <tr>\n",
       "      <th>Houston Fire Department (HFD)</th>\n",
       "      <td>28024.0</td>\n",
       "    </tr>\n",
       "    <tr>\n",
       "      <th>Houston Airport System (HAS)</th>\n",
       "      <td>43826.0</td>\n",
       "    </tr>\n",
       "    <tr>\n",
       "      <th>Houston Police Department-HPD</th>\n",
       "      <td>66614.0</td>\n",
       "    </tr>\n",
       "  </tbody>\n",
       "</table>\n",
       "</div>"
      ],
      "text/plain": [
       "                                BASE_SALARY\n",
       "DEPARTMENT                                 \n",
       "Houston Police Department-HPD           NaN\n",
       "Houston Police Department-HPD       66614.0\n",
       "Housing and Community Devp.             NaN\n",
       "Houston Police Department-HPD           NaN\n",
       "Public Works & Engineering-PWE      32635.0\n",
       "Public Works & Engineering-PWE      51584.0\n",
       "Houston Fire Department (HFD)       43528.0\n",
       "Houston Fire Department (HFD)       28024.0\n",
       "Houston Airport System (HAS)        43826.0\n",
       "Houston Police Department-HPD       66614.0"
      ]
     },
     "execution_count": 81,
     "metadata": {},
     "output_type": "execute_result"
    }
   ],
   "source": [
    "random_salary"
   ]
  },
  {
   "cell_type": "markdown",
   "id": "799fa201",
   "metadata": {},
   "source": [
    "Notice how there are several repeated departments in the index. When we attempt to create\n",
    "a new column, an error is raised alerting us that there are duplicates. At least one index label\n",
    "in the employee DataFrame is joining with two or more index labels from random_salary"
   ]
  },
  {
   "cell_type": "code",
   "execution_count": 85,
   "id": "c184cd4b",
   "metadata": {},
   "outputs": [
    {
     "ename": "ValueError",
     "evalue": "cannot reindex from a duplicate axis",
     "output_type": "error",
     "traceback": [
      "\u001b[1;31m---------------------------------------------------------------------------\u001b[0m",
      "\u001b[1;31mValueError\u001b[0m                                Traceback (most recent call last)",
      "\u001b[1;32mC:\\Users\\JUSTIN~1.O_K\\AppData\\Local\\Temp/ipykernel_7228/3772192977.py\u001b[0m in \u001b[0;36m<module>\u001b[1;34m\u001b[0m\n\u001b[1;32m----> 1\u001b[1;33m \u001b[0memployee\u001b[0m\u001b[1;33m[\u001b[0m\u001b[1;34m'RANDOM_SALARY'\u001b[0m\u001b[1;33m]\u001b[0m \u001b[1;33m=\u001b[0m \u001b[0mrandom_salary\u001b[0m\u001b[1;33m[\u001b[0m\u001b[1;34m\"BASE_SALARY\"\u001b[0m\u001b[1;33m]\u001b[0m\u001b[1;33m\u001b[0m\u001b[1;33m\u001b[0m\u001b[0m\n\u001b[0m",
      "\u001b[1;32m~\\anaconda31\\lib\\site-packages\\pandas\\core\\frame.py\u001b[0m in \u001b[0;36m__setitem__\u001b[1;34m(self, key, value)\u001b[0m\n\u001b[0;32m   3610\u001b[0m         \u001b[1;32melse\u001b[0m\u001b[1;33m:\u001b[0m\u001b[1;33m\u001b[0m\u001b[1;33m\u001b[0m\u001b[0m\n\u001b[0;32m   3611\u001b[0m             \u001b[1;31m# set column\u001b[0m\u001b[1;33m\u001b[0m\u001b[1;33m\u001b[0m\u001b[0m\n\u001b[1;32m-> 3612\u001b[1;33m             \u001b[0mself\u001b[0m\u001b[1;33m.\u001b[0m\u001b[0m_set_item\u001b[0m\u001b[1;33m(\u001b[0m\u001b[0mkey\u001b[0m\u001b[1;33m,\u001b[0m \u001b[0mvalue\u001b[0m\u001b[1;33m)\u001b[0m\u001b[1;33m\u001b[0m\u001b[1;33m\u001b[0m\u001b[0m\n\u001b[0m\u001b[0;32m   3613\u001b[0m \u001b[1;33m\u001b[0m\u001b[0m\n\u001b[0;32m   3614\u001b[0m     \u001b[1;32mdef\u001b[0m \u001b[0m_setitem_slice\u001b[0m\u001b[1;33m(\u001b[0m\u001b[0mself\u001b[0m\u001b[1;33m,\u001b[0m \u001b[0mkey\u001b[0m\u001b[1;33m:\u001b[0m \u001b[0mslice\u001b[0m\u001b[1;33m,\u001b[0m \u001b[0mvalue\u001b[0m\u001b[1;33m)\u001b[0m\u001b[1;33m:\u001b[0m\u001b[1;33m\u001b[0m\u001b[1;33m\u001b[0m\u001b[0m\n",
      "\u001b[1;32m~\\anaconda31\\lib\\site-packages\\pandas\\core\\frame.py\u001b[0m in \u001b[0;36m_set_item\u001b[1;34m(self, key, value)\u001b[0m\n\u001b[0;32m   3782\u001b[0m         \u001b[0mensure\u001b[0m \u001b[0mhomogeneity\u001b[0m\u001b[1;33m.\u001b[0m\u001b[1;33m\u001b[0m\u001b[1;33m\u001b[0m\u001b[0m\n\u001b[0;32m   3783\u001b[0m         \"\"\"\n\u001b[1;32m-> 3784\u001b[1;33m         \u001b[0mvalue\u001b[0m \u001b[1;33m=\u001b[0m \u001b[0mself\u001b[0m\u001b[1;33m.\u001b[0m\u001b[0m_sanitize_column\u001b[0m\u001b[1;33m(\u001b[0m\u001b[0mvalue\u001b[0m\u001b[1;33m)\u001b[0m\u001b[1;33m\u001b[0m\u001b[1;33m\u001b[0m\u001b[0m\n\u001b[0m\u001b[0;32m   3785\u001b[0m \u001b[1;33m\u001b[0m\u001b[0m\n\u001b[0;32m   3786\u001b[0m         if (\n",
      "\u001b[1;32m~\\anaconda31\\lib\\site-packages\\pandas\\core\\frame.py\u001b[0m in \u001b[0;36m_sanitize_column\u001b[1;34m(self, value)\u001b[0m\n\u001b[0;32m   4504\u001b[0m         \u001b[1;31m# We should never get here with DataFrame value\u001b[0m\u001b[1;33m\u001b[0m\u001b[1;33m\u001b[0m\u001b[0m\n\u001b[0;32m   4505\u001b[0m         \u001b[1;32mif\u001b[0m \u001b[0misinstance\u001b[0m\u001b[1;33m(\u001b[0m\u001b[0mvalue\u001b[0m\u001b[1;33m,\u001b[0m \u001b[0mSeries\u001b[0m\u001b[1;33m)\u001b[0m\u001b[1;33m:\u001b[0m\u001b[1;33m\u001b[0m\u001b[1;33m\u001b[0m\u001b[0m\n\u001b[1;32m-> 4506\u001b[1;33m             \u001b[1;32mreturn\u001b[0m \u001b[0m_reindex_for_setitem\u001b[0m\u001b[1;33m(\u001b[0m\u001b[0mvalue\u001b[0m\u001b[1;33m,\u001b[0m \u001b[0mself\u001b[0m\u001b[1;33m.\u001b[0m\u001b[0mindex\u001b[0m\u001b[1;33m)\u001b[0m\u001b[1;33m\u001b[0m\u001b[1;33m\u001b[0m\u001b[0m\n\u001b[0m\u001b[0;32m   4507\u001b[0m \u001b[1;33m\u001b[0m\u001b[0m\n\u001b[0;32m   4508\u001b[0m         \u001b[1;32mif\u001b[0m \u001b[0mis_list_like\u001b[0m\u001b[1;33m(\u001b[0m\u001b[0mvalue\u001b[0m\u001b[1;33m)\u001b[0m\u001b[1;33m:\u001b[0m\u001b[1;33m\u001b[0m\u001b[1;33m\u001b[0m\u001b[0m\n",
      "\u001b[1;32m~\\anaconda31\\lib\\site-packages\\pandas\\core\\frame.py\u001b[0m in \u001b[0;36m_reindex_for_setitem\u001b[1;34m(value, index)\u001b[0m\n\u001b[0;32m  10778\u001b[0m         \u001b[1;32mif\u001b[0m \u001b[1;32mnot\u001b[0m \u001b[0mvalue\u001b[0m\u001b[1;33m.\u001b[0m\u001b[0mindex\u001b[0m\u001b[1;33m.\u001b[0m\u001b[0mis_unique\u001b[0m\u001b[1;33m:\u001b[0m\u001b[1;33m\u001b[0m\u001b[1;33m\u001b[0m\u001b[0m\n\u001b[0;32m  10779\u001b[0m             \u001b[1;31m# duplicate axis\u001b[0m\u001b[1;33m\u001b[0m\u001b[1;33m\u001b[0m\u001b[0m\n\u001b[1;32m> 10780\u001b[1;33m             \u001b[1;32mraise\u001b[0m \u001b[0merr\u001b[0m\u001b[1;33m\u001b[0m\u001b[1;33m\u001b[0m\u001b[0m\n\u001b[0m\u001b[0;32m  10781\u001b[0m \u001b[1;33m\u001b[0m\u001b[0m\n\u001b[0;32m  10782\u001b[0m         raise TypeError(\n",
      "\u001b[1;32m~\\anaconda31\\lib\\site-packages\\pandas\\core\\frame.py\u001b[0m in \u001b[0;36m_reindex_for_setitem\u001b[1;34m(value, index)\u001b[0m\n\u001b[0;32m  10773\u001b[0m     \u001b[1;31m# GH#4107\u001b[0m\u001b[1;33m\u001b[0m\u001b[1;33m\u001b[0m\u001b[0m\n\u001b[0;32m  10774\u001b[0m     \u001b[1;32mtry\u001b[0m\u001b[1;33m:\u001b[0m\u001b[1;33m\u001b[0m\u001b[1;33m\u001b[0m\u001b[0m\n\u001b[1;32m> 10775\u001b[1;33m         \u001b[0mreindexed_value\u001b[0m \u001b[1;33m=\u001b[0m \u001b[0mvalue\u001b[0m\u001b[1;33m.\u001b[0m\u001b[0mreindex\u001b[0m\u001b[1;33m(\u001b[0m\u001b[0mindex\u001b[0m\u001b[1;33m)\u001b[0m\u001b[1;33m.\u001b[0m\u001b[0m_values\u001b[0m\u001b[1;33m\u001b[0m\u001b[1;33m\u001b[0m\u001b[0m\n\u001b[0m\u001b[0;32m  10776\u001b[0m     \u001b[1;32mexcept\u001b[0m \u001b[0mValueError\u001b[0m \u001b[1;32mas\u001b[0m \u001b[0merr\u001b[0m\u001b[1;33m:\u001b[0m\u001b[1;33m\u001b[0m\u001b[1;33m\u001b[0m\u001b[0m\n\u001b[0;32m  10777\u001b[0m         \u001b[1;31m# raised in MultiIndex.from_tuples, see test_insert_error_msmgs\u001b[0m\u001b[1;33m\u001b[0m\u001b[1;33m\u001b[0m\u001b[0m\n",
      "\u001b[1;32m~\\anaconda31\\lib\\site-packages\\pandas\\core\\series.py\u001b[0m in \u001b[0;36mreindex\u001b[1;34m(self, index, **kwargs)\u001b[0m\n\u001b[0;32m   4578\u001b[0m     )\n\u001b[0;32m   4579\u001b[0m     \u001b[1;32mdef\u001b[0m \u001b[0mreindex\u001b[0m\u001b[1;33m(\u001b[0m\u001b[0mself\u001b[0m\u001b[1;33m,\u001b[0m \u001b[0mindex\u001b[0m\u001b[1;33m=\u001b[0m\u001b[1;32mNone\u001b[0m\u001b[1;33m,\u001b[0m \u001b[1;33m**\u001b[0m\u001b[0mkwargs\u001b[0m\u001b[1;33m)\u001b[0m\u001b[1;33m:\u001b[0m\u001b[1;33m\u001b[0m\u001b[1;33m\u001b[0m\u001b[0m\n\u001b[1;32m-> 4580\u001b[1;33m         \u001b[1;32mreturn\u001b[0m \u001b[0msuper\u001b[0m\u001b[1;33m(\u001b[0m\u001b[1;33m)\u001b[0m\u001b[1;33m.\u001b[0m\u001b[0mreindex\u001b[0m\u001b[1;33m(\u001b[0m\u001b[0mindex\u001b[0m\u001b[1;33m=\u001b[0m\u001b[0mindex\u001b[0m\u001b[1;33m,\u001b[0m \u001b[1;33m**\u001b[0m\u001b[0mkwargs\u001b[0m\u001b[1;33m)\u001b[0m\u001b[1;33m\u001b[0m\u001b[1;33m\u001b[0m\u001b[0m\n\u001b[0m\u001b[0;32m   4581\u001b[0m \u001b[1;33m\u001b[0m\u001b[0m\n\u001b[0;32m   4582\u001b[0m     \u001b[1;33m@\u001b[0m\u001b[0mdeprecate_nonkeyword_arguments\u001b[0m\u001b[1;33m(\u001b[0m\u001b[0mversion\u001b[0m\u001b[1;33m=\u001b[0m\u001b[1;32mNone\u001b[0m\u001b[1;33m,\u001b[0m \u001b[0mallowed_args\u001b[0m\u001b[1;33m=\u001b[0m\u001b[1;33m[\u001b[0m\u001b[1;34m\"self\"\u001b[0m\u001b[1;33m,\u001b[0m \u001b[1;34m\"labels\"\u001b[0m\u001b[1;33m]\u001b[0m\u001b[1;33m)\u001b[0m\u001b[1;33m\u001b[0m\u001b[1;33m\u001b[0m\u001b[0m\n",
      "\u001b[1;32m~\\anaconda31\\lib\\site-packages\\pandas\\core\\generic.py\u001b[0m in \u001b[0;36mreindex\u001b[1;34m(self, *args, **kwargs)\u001b[0m\n\u001b[0;32m   4816\u001b[0m \u001b[1;33m\u001b[0m\u001b[0m\n\u001b[0;32m   4817\u001b[0m         \u001b[1;31m# perform the reindex on the axes\u001b[0m\u001b[1;33m\u001b[0m\u001b[1;33m\u001b[0m\u001b[0m\n\u001b[1;32m-> 4818\u001b[1;33m         return self._reindex_axes(\n\u001b[0m\u001b[0;32m   4819\u001b[0m             \u001b[0maxes\u001b[0m\u001b[1;33m,\u001b[0m \u001b[0mlevel\u001b[0m\u001b[1;33m,\u001b[0m \u001b[0mlimit\u001b[0m\u001b[1;33m,\u001b[0m \u001b[0mtolerance\u001b[0m\u001b[1;33m,\u001b[0m \u001b[0mmethod\u001b[0m\u001b[1;33m,\u001b[0m \u001b[0mfill_value\u001b[0m\u001b[1;33m,\u001b[0m \u001b[0mcopy\u001b[0m\u001b[1;33m\u001b[0m\u001b[1;33m\u001b[0m\u001b[0m\n\u001b[0;32m   4820\u001b[0m         ).__finalize__(self, method=\"reindex\")\n",
      "\u001b[1;32m~\\anaconda31\\lib\\site-packages\\pandas\\core\\generic.py\u001b[0m in \u001b[0;36m_reindex_axes\u001b[1;34m(self, axes, level, limit, tolerance, method, fill_value, copy)\u001b[0m\n\u001b[0;32m   4837\u001b[0m \u001b[1;33m\u001b[0m\u001b[0m\n\u001b[0;32m   4838\u001b[0m             \u001b[0maxis\u001b[0m \u001b[1;33m=\u001b[0m \u001b[0mself\u001b[0m\u001b[1;33m.\u001b[0m\u001b[0m_get_axis_number\u001b[0m\u001b[1;33m(\u001b[0m\u001b[0ma\u001b[0m\u001b[1;33m)\u001b[0m\u001b[1;33m\u001b[0m\u001b[1;33m\u001b[0m\u001b[0m\n\u001b[1;32m-> 4839\u001b[1;33m             obj = obj._reindex_with_indexers(\n\u001b[0m\u001b[0;32m   4840\u001b[0m                 \u001b[1;33m{\u001b[0m\u001b[0maxis\u001b[0m\u001b[1;33m:\u001b[0m \u001b[1;33m[\u001b[0m\u001b[0mnew_index\u001b[0m\u001b[1;33m,\u001b[0m \u001b[0mindexer\u001b[0m\u001b[1;33m]\u001b[0m\u001b[1;33m}\u001b[0m\u001b[1;33m,\u001b[0m\u001b[1;33m\u001b[0m\u001b[1;33m\u001b[0m\u001b[0m\n\u001b[0;32m   4841\u001b[0m                 \u001b[0mfill_value\u001b[0m\u001b[1;33m=\u001b[0m\u001b[0mfill_value\u001b[0m\u001b[1;33m,\u001b[0m\u001b[1;33m\u001b[0m\u001b[1;33m\u001b[0m\u001b[0m\n",
      "\u001b[1;32m~\\anaconda31\\lib\\site-packages\\pandas\\core\\generic.py\u001b[0m in \u001b[0;36m_reindex_with_indexers\u001b[1;34m(self, reindexers, fill_value, copy, allow_dups)\u001b[0m\n\u001b[0;32m   4881\u001b[0m \u001b[1;33m\u001b[0m\u001b[0m\n\u001b[0;32m   4882\u001b[0m             \u001b[1;31m# TODO: speed up on homogeneous DataFrame objects\u001b[0m\u001b[1;33m\u001b[0m\u001b[1;33m\u001b[0m\u001b[0m\n\u001b[1;32m-> 4883\u001b[1;33m             new_data = new_data.reindex_indexer(\n\u001b[0m\u001b[0;32m   4884\u001b[0m                 \u001b[0mindex\u001b[0m\u001b[1;33m,\u001b[0m\u001b[1;33m\u001b[0m\u001b[1;33m\u001b[0m\u001b[0m\n\u001b[0;32m   4885\u001b[0m                 \u001b[0mindexer\u001b[0m\u001b[1;33m,\u001b[0m\u001b[1;33m\u001b[0m\u001b[1;33m\u001b[0m\u001b[0m\n",
      "\u001b[1;32m~\\anaconda31\\lib\\site-packages\\pandas\\core\\internals\\managers.py\u001b[0m in \u001b[0;36mreindex_indexer\u001b[1;34m(self, new_axis, indexer, axis, fill_value, allow_dups, copy, consolidate, only_slice)\u001b[0m\n\u001b[0;32m    668\u001b[0m         \u001b[1;31m# some axes don't allow reindexing with dups\u001b[0m\u001b[1;33m\u001b[0m\u001b[1;33m\u001b[0m\u001b[0m\n\u001b[0;32m    669\u001b[0m         \u001b[1;32mif\u001b[0m \u001b[1;32mnot\u001b[0m \u001b[0mallow_dups\u001b[0m\u001b[1;33m:\u001b[0m\u001b[1;33m\u001b[0m\u001b[1;33m\u001b[0m\u001b[0m\n\u001b[1;32m--> 670\u001b[1;33m             \u001b[0mself\u001b[0m\u001b[1;33m.\u001b[0m\u001b[0maxes\u001b[0m\u001b[1;33m[\u001b[0m\u001b[0maxis\u001b[0m\u001b[1;33m]\u001b[0m\u001b[1;33m.\u001b[0m\u001b[0m_validate_can_reindex\u001b[0m\u001b[1;33m(\u001b[0m\u001b[0mindexer\u001b[0m\u001b[1;33m)\u001b[0m\u001b[1;33m\u001b[0m\u001b[1;33m\u001b[0m\u001b[0m\n\u001b[0m\u001b[0;32m    671\u001b[0m \u001b[1;33m\u001b[0m\u001b[0m\n\u001b[0;32m    672\u001b[0m         \u001b[1;32mif\u001b[0m \u001b[0maxis\u001b[0m \u001b[1;33m>=\u001b[0m \u001b[0mself\u001b[0m\u001b[1;33m.\u001b[0m\u001b[0mndim\u001b[0m\u001b[1;33m:\u001b[0m\u001b[1;33m\u001b[0m\u001b[1;33m\u001b[0m\u001b[0m\n",
      "\u001b[1;32m~\\anaconda31\\lib\\site-packages\\pandas\\core\\indexes\\base.py\u001b[0m in \u001b[0;36m_validate_can_reindex\u001b[1;34m(self, indexer)\u001b[0m\n\u001b[0;32m   3783\u001b[0m         \u001b[1;31m# trying to reindex on an axis with duplicates\u001b[0m\u001b[1;33m\u001b[0m\u001b[1;33m\u001b[0m\u001b[0m\n\u001b[0;32m   3784\u001b[0m         \u001b[1;32mif\u001b[0m \u001b[1;32mnot\u001b[0m \u001b[0mself\u001b[0m\u001b[1;33m.\u001b[0m\u001b[0m_index_as_unique\u001b[0m \u001b[1;32mand\u001b[0m \u001b[0mlen\u001b[0m\u001b[1;33m(\u001b[0m\u001b[0mindexer\u001b[0m\u001b[1;33m)\u001b[0m\u001b[1;33m:\u001b[0m\u001b[1;33m\u001b[0m\u001b[1;33m\u001b[0m\u001b[0m\n\u001b[1;32m-> 3785\u001b[1;33m             \u001b[1;32mraise\u001b[0m \u001b[0mValueError\u001b[0m\u001b[1;33m(\u001b[0m\u001b[1;34m\"cannot reindex from a duplicate axis\"\u001b[0m\u001b[1;33m)\u001b[0m\u001b[1;33m\u001b[0m\u001b[1;33m\u001b[0m\u001b[0m\n\u001b[0m\u001b[0;32m   3786\u001b[0m \u001b[1;33m\u001b[0m\u001b[0m\n\u001b[0;32m   3787\u001b[0m     def reindex(\n",
      "\u001b[1;31mValueError\u001b[0m: cannot reindex from a duplicate axis"
     ]
    }
   ],
   "source": [
    "employee['RANDOM_SALARY'] = random_salary[\"BASE_SALARY\"]"
   ]
  },
  {
   "cell_type": "markdown",
   "id": "00f7d1a9",
   "metadata": {},
   "source": [
    "During alignment, if there is nothing for the DataFrame index to align to, the resulting value\n",
    "will be missing. Let's create an example where this happens. We will use only the first three\n",
    "rows of the max_dept_sal Series to create a new column:"
   ]
  },
  {
   "cell_type": "code",
   "execution_count": 87,
   "id": "ec4eae89",
   "metadata": {},
   "outputs": [
    {
     "data": {
      "text/plain": [
       "NaN         1298\n",
       "45279.0      638\n",
       "26125.0       36\n",
       "121862.0      28\n",
       "Name: MAX_SALARY2, dtype: int64"
      ]
     },
     "execution_count": 87,
     "metadata": {},
     "output_type": "execute_result"
    }
   ],
   "source": [
    "(\n",
    "    employee\n",
    "    .set_index('DEPARTMENT')\n",
    "    .assign(\n",
    "        MAX_SALARY2=max_dept_sal['BASE_SALARY'].head(3)\n",
    "    )\n",
    "    .MAX_SALARY2\n",
    "    .value_counts(dropna=False)\n",
    ")"
   ]
  },
  {
   "cell_type": "markdown",
   "id": "e4539dfc",
   "metadata": {},
   "source": [
    "My preference is to use the following code rather than the code in step 7. This code uses the\n",
    ".groupby method combined with the .transform method, which is discussed in a later\n",
    "chapter. This code reads much cleaner to me. It is shorter and does not mess with reassigning\n",
    "the index:"
   ]
  },
  {
   "cell_type": "code",
   "execution_count": 88,
   "id": "e6794677",
   "metadata": {},
   "outputs": [],
   "source": [
    "max_sal = (\n",
    "    employee\n",
    "    .groupby('DEPARTMENT')\n",
    "    .BASE_SALARY\n",
    "    .transform(\"max\")\n",
    ")"
   ]
  },
  {
   "cell_type": "code",
   "execution_count": 89,
   "id": "980ae369",
   "metadata": {},
   "outputs": [
    {
     "data": {
      "text/plain": [
       "0       121862.0\n",
       "1       107763.0\n",
       "2       199596.0\n",
       "3       210588.0\n",
       "4        89194.0\n",
       "          ...   \n",
       "1995    199596.0\n",
       "1996    210588.0\n",
       "1997    199596.0\n",
       "1998    199596.0\n",
       "1999    210588.0\n",
       "Name: BASE_SALARY, Length: 2000, dtype: float64"
      ]
     },
     "execution_count": 89,
     "metadata": {},
     "output_type": "execute_result"
    }
   ],
   "source": [
    "max_sal"
   ]
  },
  {
   "cell_type": "code",
   "execution_count": 90,
   "id": "fbabeef8",
   "metadata": {},
   "outputs": [
    {
     "data": {
      "text/html": [
       "<div>\n",
       "<style scoped>\n",
       "    .dataframe tbody tr th:only-of-type {\n",
       "        vertical-align: middle;\n",
       "    }\n",
       "\n",
       "    .dataframe tbody tr th {\n",
       "        vertical-align: top;\n",
       "    }\n",
       "\n",
       "    .dataframe thead th {\n",
       "        text-align: right;\n",
       "    }\n",
       "</style>\n",
       "<table border=\"1\" class=\"dataframe\">\n",
       "  <thead>\n",
       "    <tr style=\"text-align: right;\">\n",
       "      <th></th>\n",
       "      <th>UNIQUE_ID</th>\n",
       "      <th>POSITION_TITLE</th>\n",
       "      <th>...</th>\n",
       "      <th>JOB_DATE</th>\n",
       "      <th>MAX_DEPT_SALARY</th>\n",
       "    </tr>\n",
       "  </thead>\n",
       "  <tbody>\n",
       "    <tr>\n",
       "      <th>0</th>\n",
       "      <td>0</td>\n",
       "      <td>ASSISTANT DIRECTOR (EX LVL)</td>\n",
       "      <td>...</td>\n",
       "      <td>2012-10-13</td>\n",
       "      <td>121862.0</td>\n",
       "    </tr>\n",
       "    <tr>\n",
       "      <th>1</th>\n",
       "      <td>1</td>\n",
       "      <td>LIBRARY ASSISTANT</td>\n",
       "      <td>...</td>\n",
       "      <td>2010-09-18</td>\n",
       "      <td>107763.0</td>\n",
       "    </tr>\n",
       "    <tr>\n",
       "      <th>2</th>\n",
       "      <td>2</td>\n",
       "      <td>POLICE OFFICER</td>\n",
       "      <td>...</td>\n",
       "      <td>2015-02-03</td>\n",
       "      <td>199596.0</td>\n",
       "    </tr>\n",
       "    <tr>\n",
       "      <th>3</th>\n",
       "      <td>3</td>\n",
       "      <td>ENGINEER/OPERATOR</td>\n",
       "      <td>...</td>\n",
       "      <td>1991-05-25</td>\n",
       "      <td>210588.0</td>\n",
       "    </tr>\n",
       "    <tr>\n",
       "      <th>4</th>\n",
       "      <td>4</td>\n",
       "      <td>ELECTRICIAN</td>\n",
       "      <td>...</td>\n",
       "      <td>1994-10-22</td>\n",
       "      <td>89194.0</td>\n",
       "    </tr>\n",
       "    <tr>\n",
       "      <th>...</th>\n",
       "      <td>...</td>\n",
       "      <td>...</td>\n",
       "      <td>...</td>\n",
       "      <td>...</td>\n",
       "      <td>...</td>\n",
       "    </tr>\n",
       "    <tr>\n",
       "      <th>1995</th>\n",
       "      <td>1995</td>\n",
       "      <td>POLICE OFFICER</td>\n",
       "      <td>...</td>\n",
       "      <td>2015-06-09</td>\n",
       "      <td>199596.0</td>\n",
       "    </tr>\n",
       "    <tr>\n",
       "      <th>1996</th>\n",
       "      <td>1996</td>\n",
       "      <td>COMMUNICATIONS CAPTAIN</td>\n",
       "      <td>...</td>\n",
       "      <td>2013-10-06</td>\n",
       "      <td>210588.0</td>\n",
       "    </tr>\n",
       "    <tr>\n",
       "      <th>1997</th>\n",
       "      <td>1997</td>\n",
       "      <td>POLICE OFFICER</td>\n",
       "      <td>...</td>\n",
       "      <td>2015-10-13</td>\n",
       "      <td>199596.0</td>\n",
       "    </tr>\n",
       "    <tr>\n",
       "      <th>1998</th>\n",
       "      <td>1998</td>\n",
       "      <td>POLICE OFFICER</td>\n",
       "      <td>...</td>\n",
       "      <td>2011-07-02</td>\n",
       "      <td>199596.0</td>\n",
       "    </tr>\n",
       "    <tr>\n",
       "      <th>1999</th>\n",
       "      <td>1999</td>\n",
       "      <td>FIRE FIGHTER</td>\n",
       "      <td>...</td>\n",
       "      <td>2010-07-12</td>\n",
       "      <td>210588.0</td>\n",
       "    </tr>\n",
       "  </tbody>\n",
       "</table>\n",
       "<p>2000 rows × 11 columns</p>\n",
       "</div>"
      ],
      "text/plain": [
       "      UNIQUE_ID               POSITION_TITLE  ...    JOB_DATE  MAX_DEPT_SALARY\n",
       "0             0  ASSISTANT DIRECTOR (EX LVL)  ...  2012-10-13         121862.0\n",
       "1             1            LIBRARY ASSISTANT  ...  2010-09-18         107763.0\n",
       "2             2               POLICE OFFICER  ...  2015-02-03         199596.0\n",
       "3             3            ENGINEER/OPERATOR  ...  1991-05-25         210588.0\n",
       "4             4                  ELECTRICIAN  ...  1994-10-22          89194.0\n",
       "...         ...                          ...  ...         ...              ...\n",
       "1995       1995               POLICE OFFICER  ...  2015-06-09         199596.0\n",
       "1996       1996       COMMUNICATIONS CAPTAIN  ...  2013-10-06         210588.0\n",
       "1997       1997               POLICE OFFICER  ...  2015-10-13         199596.0\n",
       "1998       1998               POLICE OFFICER  ...  2011-07-02         199596.0\n",
       "1999       1999                 FIRE FIGHTER  ...  2010-07-12         210588.0\n",
       "\n",
       "[2000 rows x 11 columns]"
      ]
     },
     "execution_count": 90,
     "metadata": {},
     "output_type": "execute_result"
    }
   ],
   "source": [
    "(employee.assign(MAX_DEPT_SALARY=max_sal))"
   ]
  },
  {
   "cell_type": "markdown",
   "id": "3ae6bbcf",
   "metadata": {},
   "source": [
    "This works because .transform preserves the original index. If you did a .groupby that\n",
    "creates a new index, you can use the .merge method to combine the data. We just need to\n",
    "tell it to merge on DEPARTMENT for the left side and the index for the right side:"
   ]
  },
  {
   "cell_type": "code",
   "execution_count": 92,
   "id": "7ef0a91d",
   "metadata": {},
   "outputs": [],
   "source": [
    "max_sal = (\n",
    "    employee\n",
    "    .groupby('DEPARTMENT')\n",
    "    .BASE_SALARY\n",
    "    .max()\n",
    ")"
   ]
  },
  {
   "cell_type": "code",
   "execution_count": 93,
   "id": "1bd60bc1",
   "metadata": {},
   "outputs": [
    {
     "data": {
      "text/html": [
       "<div>\n",
       "<style scoped>\n",
       "    .dataframe tbody tr th:only-of-type {\n",
       "        vertical-align: middle;\n",
       "    }\n",
       "\n",
       "    .dataframe tbody tr th {\n",
       "        vertical-align: top;\n",
       "    }\n",
       "\n",
       "    .dataframe thead th {\n",
       "        text-align: right;\n",
       "    }\n",
       "</style>\n",
       "<table border=\"1\" class=\"dataframe\">\n",
       "  <thead>\n",
       "    <tr style=\"text-align: right;\">\n",
       "      <th></th>\n",
       "      <th>UNIQUE_ID</th>\n",
       "      <th>POSITION_TITLE</th>\n",
       "      <th>...</th>\n",
       "      <th>JOB_DATE</th>\n",
       "      <th>MAX_DEPT_SALARY</th>\n",
       "    </tr>\n",
       "  </thead>\n",
       "  <tbody>\n",
       "    <tr>\n",
       "      <th>0</th>\n",
       "      <td>0</td>\n",
       "      <td>ASSISTANT DIRECTOR (EX LVL)</td>\n",
       "      <td>...</td>\n",
       "      <td>2012-10-13</td>\n",
       "      <td>121862.0</td>\n",
       "    </tr>\n",
       "    <tr>\n",
       "      <th>1</th>\n",
       "      <td>1</td>\n",
       "      <td>LIBRARY ASSISTANT</td>\n",
       "      <td>...</td>\n",
       "      <td>2010-09-18</td>\n",
       "      <td>107763.0</td>\n",
       "    </tr>\n",
       "    <tr>\n",
       "      <th>2</th>\n",
       "      <td>2</td>\n",
       "      <td>POLICE OFFICER</td>\n",
       "      <td>...</td>\n",
       "      <td>2015-02-03</td>\n",
       "      <td>199596.0</td>\n",
       "    </tr>\n",
       "    <tr>\n",
       "      <th>3</th>\n",
       "      <td>3</td>\n",
       "      <td>ENGINEER/OPERATOR</td>\n",
       "      <td>...</td>\n",
       "      <td>1991-05-25</td>\n",
       "      <td>210588.0</td>\n",
       "    </tr>\n",
       "    <tr>\n",
       "      <th>4</th>\n",
       "      <td>4</td>\n",
       "      <td>ELECTRICIAN</td>\n",
       "      <td>...</td>\n",
       "      <td>1994-10-22</td>\n",
       "      <td>89194.0</td>\n",
       "    </tr>\n",
       "    <tr>\n",
       "      <th>...</th>\n",
       "      <td>...</td>\n",
       "      <td>...</td>\n",
       "      <td>...</td>\n",
       "      <td>...</td>\n",
       "      <td>...</td>\n",
       "    </tr>\n",
       "    <tr>\n",
       "      <th>1995</th>\n",
       "      <td>1995</td>\n",
       "      <td>POLICE OFFICER</td>\n",
       "      <td>...</td>\n",
       "      <td>2015-06-09</td>\n",
       "      <td>199596.0</td>\n",
       "    </tr>\n",
       "    <tr>\n",
       "      <th>1996</th>\n",
       "      <td>1996</td>\n",
       "      <td>COMMUNICATIONS CAPTAIN</td>\n",
       "      <td>...</td>\n",
       "      <td>2013-10-06</td>\n",
       "      <td>210588.0</td>\n",
       "    </tr>\n",
       "    <tr>\n",
       "      <th>1997</th>\n",
       "      <td>1997</td>\n",
       "      <td>POLICE OFFICER</td>\n",
       "      <td>...</td>\n",
       "      <td>2015-10-13</td>\n",
       "      <td>199596.0</td>\n",
       "    </tr>\n",
       "    <tr>\n",
       "      <th>1998</th>\n",
       "      <td>1998</td>\n",
       "      <td>POLICE OFFICER</td>\n",
       "      <td>...</td>\n",
       "      <td>2011-07-02</td>\n",
       "      <td>199596.0</td>\n",
       "    </tr>\n",
       "    <tr>\n",
       "      <th>1999</th>\n",
       "      <td>1999</td>\n",
       "      <td>FIRE FIGHTER</td>\n",
       "      <td>...</td>\n",
       "      <td>2010-07-12</td>\n",
       "      <td>210588.0</td>\n",
       "    </tr>\n",
       "  </tbody>\n",
       "</table>\n",
       "<p>2000 rows × 11 columns</p>\n",
       "</div>"
      ],
      "text/plain": [
       "      UNIQUE_ID               POSITION_TITLE  ...    JOB_DATE  MAX_DEPT_SALARY\n",
       "0             0  ASSISTANT DIRECTOR (EX LVL)  ...  2012-10-13         121862.0\n",
       "1             1            LIBRARY ASSISTANT  ...  2010-09-18         107763.0\n",
       "2             2               POLICE OFFICER  ...  2015-02-03         199596.0\n",
       "3             3            ENGINEER/OPERATOR  ...  1991-05-25         210588.0\n",
       "4             4                  ELECTRICIAN  ...  1994-10-22          89194.0\n",
       "...         ...                          ...  ...         ...              ...\n",
       "1995       1995               POLICE OFFICER  ...  2015-06-09         199596.0\n",
       "1996       1996       COMMUNICATIONS CAPTAIN  ...  2013-10-06         210588.0\n",
       "1997       1997               POLICE OFFICER  ...  2015-10-13         199596.0\n",
       "1998       1998               POLICE OFFICER  ...  2011-07-02         199596.0\n",
       "1999       1999                 FIRE FIGHTER  ...  2010-07-12         210588.0\n",
       "\n",
       "[2000 rows x 11 columns]"
      ]
     },
     "execution_count": 93,
     "metadata": {},
     "output_type": "execute_result"
    }
   ],
   "source": [
    "(\n",
    "    employee.merge(\n",
    "        max_sal.rename(\"MAX_DEPT_SALARY\"), \n",
    "        how='left', \n",
    "        left_on=\"DEPARTMENT\",\n",
    "        right_index=True\n",
    "    )\n",
    ")"
   ]
  },
  {
   "cell_type": "markdown",
   "id": "bbf2a535",
   "metadata": {},
   "source": [
    "### Highlighting the maximum value from each column"
   ]
  },
  {
   "cell_type": "code",
   "execution_count": 94,
   "id": "bfb4cfe7",
   "metadata": {},
   "outputs": [],
   "source": [
    "college = pd.read_csv('C:/Users/justine.o_kobo360/Desktop/Pandas Workbook/Pandas CookBook 1.x/Data files/college.csv', index_col='INSTNM')"
   ]
  },
  {
   "cell_type": "code",
   "execution_count": 95,
   "id": "a9eebeb9",
   "metadata": {},
   "outputs": [
    {
     "data": {
      "text/plain": [
       "CITY                   object\n",
       "STABBR                 object\n",
       "HBCU                  float64\n",
       "MENONLY               float64\n",
       "WOMENONLY             float64\n",
       "                       ...   \n",
       "PCTPELL               float64\n",
       "PCTFLOAN              float64\n",
       "UG25ABV               float64\n",
       "MD_EARN_WNE_P10        object\n",
       "GRAD_DEBT_MDN_SUPP     object\n",
       "Length: 26, dtype: object"
      ]
     },
     "execution_count": 95,
     "metadata": {},
     "output_type": "execute_result"
    }
   ],
   "source": [
    "college.dtypes"
   ]
  },
  {
   "cell_type": "markdown",
   "id": "5551a8e2",
   "metadata": {},
   "source": [
    "All the other columns besides CITY and STABBR appear to be numeric. Examining\n",
    "the data types from the preceding step reveals unexpectedly that the MD_EARN_WNE_\n",
    "P10 and GRAD_DEBT_MDN_SUPP columns are of the object type and not numeric.\n",
    "To help get a better idea of what kinds of values are in these columns, let's examine\n",
    "a sample from them:"
   ]
  },
  {
   "cell_type": "code",
   "execution_count": 96,
   "id": "f184fe17",
   "metadata": {},
   "outputs": [
    {
     "data": {
      "text/plain": [
       "INSTNM\n",
       "Career Point College                                            20700\n",
       "Ner Israel Rabbinical College                       PrivacySuppressed\n",
       "Reflections Academy of Beauty                                     NaN\n",
       "Capital Area Technical College                                  26400\n",
       "West Virginia University Institute of Technology                43400\n",
       "Mid-State Technical College                                     32000\n",
       "Strayer University-Huntsville Campus                            49200\n",
       "National Aviation Academy of Tampa Bay                          45000\n",
       "University of California-Santa Cruz                             43000\n",
       "Lexington Theological Seminary                                    NaN\n",
       "Name: MD_EARN_WNE_P10, dtype: object"
      ]
     },
     "execution_count": 96,
     "metadata": {},
     "output_type": "execute_result"
    }
   ],
   "source": [
    "college.MD_EARN_WNE_P10.sample(10, random_state=42)"
   ]
  },
  {
   "cell_type": "code",
   "execution_count": 97,
   "id": "dbbf0b80",
   "metadata": {},
   "outputs": [
    {
     "data": {
      "text/plain": [
       "INSTNM\n",
       "Career Point College                                            14977\n",
       "Ner Israel Rabbinical College                       PrivacySuppressed\n",
       "Reflections Academy of Beauty                       PrivacySuppressed\n",
       "Capital Area Technical College                      PrivacySuppressed\n",
       "West Virginia University Institute of Technology                23969\n",
       "Mid-State Technical College                                      8025\n",
       "Strayer University-Huntsville Campus                          36173.5\n",
       "National Aviation Academy of Tampa Bay                          22778\n",
       "University of California-Santa Cruz                             19884\n",
       "Lexington Theological Seminary                      PrivacySuppressed\n",
       "Name: GRAD_DEBT_MDN_SUPP, dtype: object"
      ]
     },
     "execution_count": 97,
     "metadata": {},
     "output_type": "execute_result"
    }
   ],
   "source": [
    "college.GRAD_DEBT_MDN_SUPP.sample(10, random_state=42)"
   ]
  },
  {
   "cell_type": "markdown",
   "id": "28a3073a",
   "metadata": {},
   "source": [
    "These values are strings, but we would like them to be numeric. I like to use the\n",
    ".value_counts method in this case to see whether it reveals any characters that\n",
    "forced the column to be non-numeric:"
   ]
  },
  {
   "cell_type": "code",
   "execution_count": 101,
   "id": "91c6c8bc",
   "metadata": {},
   "outputs": [
    {
     "data": {
      "text/plain": [
       "PrivacySuppressed    822\n",
       "38800                151\n",
       "21500                 97\n",
       "49200                 78\n",
       "27400                 46\n",
       "                    ... \n",
       "84000                  1\n",
       "66900                  1\n",
       "52800                  1\n",
       "67800                  1\n",
       "186500                 1\n",
       "Name: MD_EARN_WNE_P10, Length: 598, dtype: int64"
      ]
     },
     "execution_count": 101,
     "metadata": {},
     "output_type": "execute_result"
    }
   ],
   "source": [
    "college.MD_EARN_WNE_P10.value_counts()"
   ]
  },
  {
   "cell_type": "code",
   "execution_count": 102,
   "id": "3fb49ff0",
   "metadata": {},
   "outputs": [
    {
     "data": {
      "text/plain": [
       "{float, str}"
      ]
     },
     "execution_count": 102,
     "metadata": {},
     "output_type": "execute_result"
    }
   ],
   "source": [
    "set(college.MD_EARN_WNE_P10.apply(type))"
   ]
  },
  {
   "cell_type": "markdown",
   "id": "5cf48874",
   "metadata": {},
   "source": [
    "The culprit appears to be that some schools have privacy concerns about these two\n",
    "columns of data. To force these columns to be numeric, use the pandas function to_\n",
    "numeric. If we use the errors='coerce' parameter, it will convert those values\n",
    "to NaN:"
   ]
  },
  {
   "cell_type": "code",
   "execution_count": 103,
   "id": "9f9b2ec6",
   "metadata": {},
   "outputs": [],
   "source": [
    "cols = ['MD_EARN_WNE_P10', 'GRAD_DEBT_MDN_SUPP']"
   ]
  },
  {
   "cell_type": "code",
   "execution_count": 104,
   "id": "206a4b42",
   "metadata": {},
   "outputs": [],
   "source": [
    "for col in cols:\n",
    "    college[col] = pd.to_numeric(\n",
    "        college[col], errors='coerce'\n",
    "    )"
   ]
  },
  {
   "cell_type": "code",
   "execution_count": 106,
   "id": "bce5f5e3",
   "metadata": {},
   "outputs": [
    {
     "data": {
      "text/plain": [
       "MD_EARN_WNE_P10       float64\n",
       "GRAD_DEBT_MDN_SUPP    float64\n",
       "dtype: object"
      ]
     },
     "execution_count": 106,
     "metadata": {},
     "output_type": "execute_result"
    }
   ],
   "source": [
    "college.dtypes.loc[cols]"
   ]
  },
  {
   "cell_type": "markdown",
   "id": "e5f087a0",
   "metadata": {},
   "source": [
    "Use the .select_dtypes method to filter for only numeric columns. This will\n",
    "exclude STABBR and CITY columns, where a maximum value doesn't make sense\n",
    "with this problem:"
   ]
  },
  {
   "cell_type": "code",
   "execution_count": 108,
   "id": "0ae93b42",
   "metadata": {},
   "outputs": [],
   "source": [
    "college_n = college.select_dtypes(np.number)"
   ]
  },
  {
   "cell_type": "code",
   "execution_count": 109,
   "id": "80da2c2c",
   "metadata": {},
   "outputs": [
    {
     "data": {
      "text/html": [
       "<div>\n",
       "<style scoped>\n",
       "    .dataframe tbody tr th:only-of-type {\n",
       "        vertical-align: middle;\n",
       "    }\n",
       "\n",
       "    .dataframe tbody tr th {\n",
       "        vertical-align: top;\n",
       "    }\n",
       "\n",
       "    .dataframe thead th {\n",
       "        text-align: right;\n",
       "    }\n",
       "</style>\n",
       "<table border=\"1\" class=\"dataframe\">\n",
       "  <thead>\n",
       "    <tr style=\"text-align: right;\">\n",
       "      <th></th>\n",
       "      <th>HBCU</th>\n",
       "      <th>MENONLY</th>\n",
       "      <th>...</th>\n",
       "      <th>MD_EARN_WNE_P10</th>\n",
       "      <th>GRAD_DEBT_MDN_SUPP</th>\n",
       "    </tr>\n",
       "    <tr>\n",
       "      <th>INSTNM</th>\n",
       "      <th></th>\n",
       "      <th></th>\n",
       "      <th></th>\n",
       "      <th></th>\n",
       "      <th></th>\n",
       "    </tr>\n",
       "  </thead>\n",
       "  <tbody>\n",
       "    <tr>\n",
       "      <th>Alabama A &amp; M University</th>\n",
       "      <td>1.0</td>\n",
       "      <td>0.0</td>\n",
       "      <td>...</td>\n",
       "      <td>30300.0</td>\n",
       "      <td>33888.0</td>\n",
       "    </tr>\n",
       "    <tr>\n",
       "      <th>University of Alabama at Birmingham</th>\n",
       "      <td>0.0</td>\n",
       "      <td>0.0</td>\n",
       "      <td>...</td>\n",
       "      <td>39700.0</td>\n",
       "      <td>21941.5</td>\n",
       "    </tr>\n",
       "    <tr>\n",
       "      <th>Amridge University</th>\n",
       "      <td>0.0</td>\n",
       "      <td>0.0</td>\n",
       "      <td>...</td>\n",
       "      <td>40100.0</td>\n",
       "      <td>23370.0</td>\n",
       "    </tr>\n",
       "    <tr>\n",
       "      <th>University of Alabama in Huntsville</th>\n",
       "      <td>0.0</td>\n",
       "      <td>0.0</td>\n",
       "      <td>...</td>\n",
       "      <td>45500.0</td>\n",
       "      <td>24097.0</td>\n",
       "    </tr>\n",
       "    <tr>\n",
       "      <th>Alabama State University</th>\n",
       "      <td>1.0</td>\n",
       "      <td>0.0</td>\n",
       "      <td>...</td>\n",
       "      <td>26600.0</td>\n",
       "      <td>33118.5</td>\n",
       "    </tr>\n",
       "  </tbody>\n",
       "</table>\n",
       "<p>5 rows × 24 columns</p>\n",
       "</div>"
      ],
      "text/plain": [
       "                                     HBCU  MENONLY  ...  MD_EARN_WNE_P10  \\\n",
       "INSTNM                                              ...                    \n",
       "Alabama A & M University              1.0      0.0  ...          30300.0   \n",
       "University of Alabama at Birmingham   0.0      0.0  ...          39700.0   \n",
       "Amridge University                    0.0      0.0  ...          40100.0   \n",
       "University of Alabama in Huntsville   0.0      0.0  ...          45500.0   \n",
       "Alabama State University              1.0      0.0  ...          26600.0   \n",
       "\n",
       "                                     GRAD_DEBT_MDN_SUPP  \n",
       "INSTNM                                                   \n",
       "Alabama A & M University                        33888.0  \n",
       "University of Alabama at Birmingham             21941.5  \n",
       "Amridge University                              23370.0  \n",
       "University of Alabama in Huntsville             24097.0  \n",
       "Alabama State University                        33118.5  \n",
       "\n",
       "[5 rows x 24 columns]"
      ]
     },
     "execution_count": 109,
     "metadata": {},
     "output_type": "execute_result"
    }
   ],
   "source": [
    "college_n.head()"
   ]
  },
  {
   "cell_type": "markdown",
   "id": "99c9c693",
   "metadata": {},
   "source": [
    "Several columns have binary only (0 or 1) values that will not provide useful\n",
    "information for maximum values. To find these columns, we can create a Boolean\n",
    "Series and find all the columns that have two unique values with the .nunique\n",
    "method:"
   ]
  },
  {
   "cell_type": "code",
   "execution_count": 110,
   "id": "65412b90",
   "metadata": {},
   "outputs": [],
   "source": [
    "binary_only = college_n.nunique() == 2"
   ]
  },
  {
   "cell_type": "code",
   "execution_count": 111,
   "id": "7f06e0f0",
   "metadata": {},
   "outputs": [
    {
     "data": {
      "text/plain": [
       "HBCU          True\n",
       "MENONLY       True\n",
       "WOMENONLY     True\n",
       "RELAFFIL      True\n",
       "SATVRMID     False\n",
       "dtype: bool"
      ]
     },
     "execution_count": 111,
     "metadata": {},
     "output_type": "execute_result"
    }
   ],
   "source": [
    "binary_only.head()"
   ]
  },
  {
   "cell_type": "code",
   "execution_count": 114,
   "id": "e4405f37",
   "metadata": {},
   "outputs": [],
   "source": [
    "# Use the Boolean array to create \n",
    "# a list of binary columns\n",
    "binary_cols = binary_only[binary_only].index"
   ]
  },
  {
   "cell_type": "code",
   "execution_count": 115,
   "id": "a1cc4a61",
   "metadata": {},
   "outputs": [
    {
     "data": {
      "text/plain": [
       "Index(['HBCU', 'MENONLY', 'WOMENONLY', 'RELAFFIL', 'DISTANCEONLY', 'CURROPER'], dtype='object')"
      ]
     },
     "execution_count": 115,
     "metadata": {},
     "output_type": "execute_result"
    }
   ],
   "source": [
    "binary_cols"
   ]
  },
  {
   "cell_type": "code",
   "execution_count": 116,
   "id": "bb2be1ad",
   "metadata": {},
   "outputs": [],
   "source": [
    "# Since we are looking for the maximum values, we can\n",
    "# drop the binary columns using the .drop method:\n",
    "college_n2 = college_n.drop(columns=binary_cols)"
   ]
  },
  {
   "cell_type": "code",
   "execution_count": 117,
   "id": "5a4c547c",
   "metadata": {},
   "outputs": [
    {
     "data": {
      "text/html": [
       "<div>\n",
       "<style scoped>\n",
       "    .dataframe tbody tr th:only-of-type {\n",
       "        vertical-align: middle;\n",
       "    }\n",
       "\n",
       "    .dataframe tbody tr th {\n",
       "        vertical-align: top;\n",
       "    }\n",
       "\n",
       "    .dataframe thead th {\n",
       "        text-align: right;\n",
       "    }\n",
       "</style>\n",
       "<table border=\"1\" class=\"dataframe\">\n",
       "  <thead>\n",
       "    <tr style=\"text-align: right;\">\n",
       "      <th></th>\n",
       "      <th>SATVRMID</th>\n",
       "      <th>SATMTMID</th>\n",
       "      <th>...</th>\n",
       "      <th>MD_EARN_WNE_P10</th>\n",
       "      <th>GRAD_DEBT_MDN_SUPP</th>\n",
       "    </tr>\n",
       "    <tr>\n",
       "      <th>INSTNM</th>\n",
       "      <th></th>\n",
       "      <th></th>\n",
       "      <th></th>\n",
       "      <th></th>\n",
       "      <th></th>\n",
       "    </tr>\n",
       "  </thead>\n",
       "  <tbody>\n",
       "    <tr>\n",
       "      <th>Alabama A &amp; M University</th>\n",
       "      <td>424.0</td>\n",
       "      <td>420.0</td>\n",
       "      <td>...</td>\n",
       "      <td>30300.0</td>\n",
       "      <td>33888.0</td>\n",
       "    </tr>\n",
       "    <tr>\n",
       "      <th>University of Alabama at Birmingham</th>\n",
       "      <td>570.0</td>\n",
       "      <td>565.0</td>\n",
       "      <td>...</td>\n",
       "      <td>39700.0</td>\n",
       "      <td>21941.5</td>\n",
       "    </tr>\n",
       "    <tr>\n",
       "      <th>Amridge University</th>\n",
       "      <td>NaN</td>\n",
       "      <td>NaN</td>\n",
       "      <td>...</td>\n",
       "      <td>40100.0</td>\n",
       "      <td>23370.0</td>\n",
       "    </tr>\n",
       "    <tr>\n",
       "      <th>University of Alabama in Huntsville</th>\n",
       "      <td>595.0</td>\n",
       "      <td>590.0</td>\n",
       "      <td>...</td>\n",
       "      <td>45500.0</td>\n",
       "      <td>24097.0</td>\n",
       "    </tr>\n",
       "    <tr>\n",
       "      <th>Alabama State University</th>\n",
       "      <td>425.0</td>\n",
       "      <td>430.0</td>\n",
       "      <td>...</td>\n",
       "      <td>26600.0</td>\n",
       "      <td>33118.5</td>\n",
       "    </tr>\n",
       "  </tbody>\n",
       "</table>\n",
       "<p>5 rows × 18 columns</p>\n",
       "</div>"
      ],
      "text/plain": [
       "                                     SATVRMID  SATMTMID  ...  MD_EARN_WNE_P10  \\\n",
       "INSTNM                                                   ...                    \n",
       "Alabama A & M University                424.0     420.0  ...          30300.0   \n",
       "University of Alabama at Birmingham     570.0     565.0  ...          39700.0   \n",
       "Amridge University                        NaN       NaN  ...          40100.0   \n",
       "University of Alabama in Huntsville     595.0     590.0  ...          45500.0   \n",
       "Alabama State University                425.0     430.0  ...          26600.0   \n",
       "\n",
       "                                     GRAD_DEBT_MDN_SUPP  \n",
       "INSTNM                                                   \n",
       "Alabama A & M University                        33888.0  \n",
       "University of Alabama at Birmingham             21941.5  \n",
       "Amridge University                              23370.0  \n",
       "University of Alabama in Huntsville             24097.0  \n",
       "Alabama State University                        33118.5  \n",
       "\n",
       "[5 rows x 18 columns]"
      ]
     },
     "execution_count": 117,
     "metadata": {},
     "output_type": "execute_result"
    }
   ],
   "source": [
    "college_n2.head()"
   ]
  },
  {
   "cell_type": "code",
   "execution_count": 118,
   "id": "673d656e",
   "metadata": {},
   "outputs": [],
   "source": [
    "# Now we can use the .idxmax method to find the index\n",
    "# label of the maximum value for each column:\n",
    "max_cols = college_n2.idxmax()"
   ]
  },
  {
   "cell_type": "code",
   "execution_count": 119,
   "id": "081bae75",
   "metadata": {},
   "outputs": [
    {
     "data": {
      "text/plain": [
       "SATVRMID                      California Institute of Technology\n",
       "SATMTMID                      California Institute of Technology\n",
       "UGDS                               University of Phoenix-Arizona\n",
       "UGDS_WHITE                Mr Leon's School of Hair Design-Moscow\n",
       "UGDS_BLACK                    Velvatex College of Beauty Culture\n",
       "                                         ...                    \n",
       "PCTPELL                                 MTI Business College Inc\n",
       "PCTFLOAN                                  ABC Beauty College Inc\n",
       "UG25ABV                           Dongguk University-Los Angeles\n",
       "MD_EARN_WNE_P10                     Medical College of Wisconsin\n",
       "GRAD_DEBT_MDN_SUPP    Southwest University of Visual Arts-Tucson\n",
       "Length: 18, dtype: object"
      ]
     },
     "execution_count": 119,
     "metadata": {},
     "output_type": "execute_result"
    }
   ],
   "source": [
    "max_cols"
   ]
  },
  {
   "cell_type": "code",
   "execution_count": 120,
   "id": "e1ed6090",
   "metadata": {},
   "outputs": [],
   "source": [
    "# Call the .unique method on the max_cols Series. \n",
    "# This returns an ndarray of the index values in\n",
    "# college_n2 that has the maximum values:\n",
    "unique_max_cols = max_cols.unique()"
   ]
  },
  {
   "cell_type": "code",
   "execution_count": 121,
   "id": "8caac5d7",
   "metadata": {},
   "outputs": [
    {
     "data": {
      "text/plain": [
       "array(['California Institute of Technology',\n",
       "       'University of Phoenix-Arizona',\n",
       "       \"Mr Leon's School of Hair Design-Moscow\",\n",
       "       'Velvatex College of Beauty Culture',\n",
       "       'Thunderbird School of Global Management',\n",
       "       'Cosmopolitan Beauty and Tech School',\n",
       "       'Haskell Indian Nations University', 'Palau Community College',\n",
       "       'LIU Brentwood',\n",
       "       'California University of Management and Sciences',\n",
       "       'Le Cordon Bleu College of Culinary Arts-San Francisco',\n",
       "       'MTI Business College Inc', 'ABC Beauty College Inc',\n",
       "       'Dongguk University-Los Angeles', 'Medical College of Wisconsin',\n",
       "       'Southwest University of Visual Arts-Tucson'], dtype=object)"
      ]
     },
     "execution_count": 121,
     "metadata": {},
     "output_type": "execute_result"
    }
   ],
   "source": [
    "unique_max_cols"
   ]
  },
  {
   "cell_type": "markdown",
   "id": "09a86455",
   "metadata": {},
   "source": [
    "Use the values of max_cols to select only those rows that have schools with a\n",
    "maximum value and then use the .style attribute to highlight these values:"
   ]
  },
  {
   "cell_type": "code",
   "execution_count": 123,
   "id": "49e4f317",
   "metadata": {},
   "outputs": [
    {
     "data": {
      "text/html": [
       "<style type=\"text/css\">\n",
       "#T_a6719_row0_col0, #T_a6719_row0_col1, #T_a6719_row1_col2, #T_a6719_row2_col3, #T_a6719_row3_col4, #T_a6719_row4_col5, #T_a6719_row4_col12, #T_a6719_row5_col6, #T_a6719_row6_col7, #T_a6719_row7_col8, #T_a6719_row8_col9, #T_a6719_row9_col10, #T_a6719_row10_col11, #T_a6719_row11_col13, #T_a6719_row11_col14, #T_a6719_row12_col14, #T_a6719_row13_col15, #T_a6719_row14_col16, #T_a6719_row15_col17 {\n",
       "  background-color: yellow;\n",
       "}\n",
       "</style>\n",
       "<table id=\"T_a6719_\">\n",
       "  <thead>\n",
       "    <tr>\n",
       "      <th class=\"blank level0\" >&nbsp;</th>\n",
       "      <th class=\"col_heading level0 col0\" >SATVRMID</th>\n",
       "      <th class=\"col_heading level0 col1\" >SATMTMID</th>\n",
       "      <th class=\"col_heading level0 col2\" >UGDS</th>\n",
       "      <th class=\"col_heading level0 col3\" >UGDS_WHITE</th>\n",
       "      <th class=\"col_heading level0 col4\" >UGDS_BLACK</th>\n",
       "      <th class=\"col_heading level0 col5\" >UGDS_HISP</th>\n",
       "      <th class=\"col_heading level0 col6\" >UGDS_ASIAN</th>\n",
       "      <th class=\"col_heading level0 col7\" >UGDS_AIAN</th>\n",
       "      <th class=\"col_heading level0 col8\" >UGDS_NHPI</th>\n",
       "      <th class=\"col_heading level0 col9\" >UGDS_2MOR</th>\n",
       "      <th class=\"col_heading level0 col10\" >UGDS_NRA</th>\n",
       "      <th class=\"col_heading level0 col11\" >UGDS_UNKN</th>\n",
       "      <th class=\"col_heading level0 col12\" >PPTUG_EF</th>\n",
       "      <th class=\"col_heading level0 col13\" >PCTPELL</th>\n",
       "      <th class=\"col_heading level0 col14\" >PCTFLOAN</th>\n",
       "      <th class=\"col_heading level0 col15\" >UG25ABV</th>\n",
       "      <th class=\"col_heading level0 col16\" >MD_EARN_WNE_P10</th>\n",
       "      <th class=\"col_heading level0 col17\" >GRAD_DEBT_MDN_SUPP</th>\n",
       "    </tr>\n",
       "    <tr>\n",
       "      <th class=\"index_name level0\" >INSTNM</th>\n",
       "      <th class=\"blank col0\" >&nbsp;</th>\n",
       "      <th class=\"blank col1\" >&nbsp;</th>\n",
       "      <th class=\"blank col2\" >&nbsp;</th>\n",
       "      <th class=\"blank col3\" >&nbsp;</th>\n",
       "      <th class=\"blank col4\" >&nbsp;</th>\n",
       "      <th class=\"blank col5\" >&nbsp;</th>\n",
       "      <th class=\"blank col6\" >&nbsp;</th>\n",
       "      <th class=\"blank col7\" >&nbsp;</th>\n",
       "      <th class=\"blank col8\" >&nbsp;</th>\n",
       "      <th class=\"blank col9\" >&nbsp;</th>\n",
       "      <th class=\"blank col10\" >&nbsp;</th>\n",
       "      <th class=\"blank col11\" >&nbsp;</th>\n",
       "      <th class=\"blank col12\" >&nbsp;</th>\n",
       "      <th class=\"blank col13\" >&nbsp;</th>\n",
       "      <th class=\"blank col14\" >&nbsp;</th>\n",
       "      <th class=\"blank col15\" >&nbsp;</th>\n",
       "      <th class=\"blank col16\" >&nbsp;</th>\n",
       "      <th class=\"blank col17\" >&nbsp;</th>\n",
       "    </tr>\n",
       "  </thead>\n",
       "  <tbody>\n",
       "    <tr>\n",
       "      <th id=\"T_a6719_level0_row0\" class=\"row_heading level0 row0\" >California Institute of Technology</th>\n",
       "      <td id=\"T_a6719_row0_col0\" class=\"data row0 col0\" >765.000000</td>\n",
       "      <td id=\"T_a6719_row0_col1\" class=\"data row0 col1\" >785.000000</td>\n",
       "      <td id=\"T_a6719_row0_col2\" class=\"data row0 col2\" >983.000000</td>\n",
       "      <td id=\"T_a6719_row0_col3\" class=\"data row0 col3\" >0.278700</td>\n",
       "      <td id=\"T_a6719_row0_col4\" class=\"data row0 col4\" >0.015300</td>\n",
       "      <td id=\"T_a6719_row0_col5\" class=\"data row0 col5\" >0.122100</td>\n",
       "      <td id=\"T_a6719_row0_col6\" class=\"data row0 col6\" >0.438500</td>\n",
       "      <td id=\"T_a6719_row0_col7\" class=\"data row0 col7\" >0.001000</td>\n",
       "      <td id=\"T_a6719_row0_col8\" class=\"data row0 col8\" >0.000000</td>\n",
       "      <td id=\"T_a6719_row0_col9\" class=\"data row0 col9\" >0.057000</td>\n",
       "      <td id=\"T_a6719_row0_col10\" class=\"data row0 col10\" >0.087500</td>\n",
       "      <td id=\"T_a6719_row0_col11\" class=\"data row0 col11\" >0.000000</td>\n",
       "      <td id=\"T_a6719_row0_col12\" class=\"data row0 col12\" >0.000000</td>\n",
       "      <td id=\"T_a6719_row0_col13\" class=\"data row0 col13\" >0.112600</td>\n",
       "      <td id=\"T_a6719_row0_col14\" class=\"data row0 col14\" >0.230300</td>\n",
       "      <td id=\"T_a6719_row0_col15\" class=\"data row0 col15\" >0.008200</td>\n",
       "      <td id=\"T_a6719_row0_col16\" class=\"data row0 col16\" >77800.000000</td>\n",
       "      <td id=\"T_a6719_row0_col17\" class=\"data row0 col17\" >11812.500000</td>\n",
       "    </tr>\n",
       "    <tr>\n",
       "      <th id=\"T_a6719_level0_row1\" class=\"row_heading level0 row1\" >University of Phoenix-Arizona</th>\n",
       "      <td id=\"T_a6719_row1_col0\" class=\"data row1 col0\" >nan</td>\n",
       "      <td id=\"T_a6719_row1_col1\" class=\"data row1 col1\" >nan</td>\n",
       "      <td id=\"T_a6719_row1_col2\" class=\"data row1 col2\" >151558.000000</td>\n",
       "      <td id=\"T_a6719_row1_col3\" class=\"data row1 col3\" >0.309800</td>\n",
       "      <td id=\"T_a6719_row1_col4\" class=\"data row1 col4\" >0.155500</td>\n",
       "      <td id=\"T_a6719_row1_col5\" class=\"data row1 col5\" >0.076000</td>\n",
       "      <td id=\"T_a6719_row1_col6\" class=\"data row1 col6\" >0.008200</td>\n",
       "      <td id=\"T_a6719_row1_col7\" class=\"data row1 col7\" >0.004200</td>\n",
       "      <td id=\"T_a6719_row1_col8\" class=\"data row1 col8\" >0.005000</td>\n",
       "      <td id=\"T_a6719_row1_col9\" class=\"data row1 col9\" >0.113100</td>\n",
       "      <td id=\"T_a6719_row1_col10\" class=\"data row1 col10\" >0.013100</td>\n",
       "      <td id=\"T_a6719_row1_col11\" class=\"data row1 col11\" >0.315200</td>\n",
       "      <td id=\"T_a6719_row1_col12\" class=\"data row1 col12\" >0.000000</td>\n",
       "      <td id=\"T_a6719_row1_col13\" class=\"data row1 col13\" >0.600900</td>\n",
       "      <td id=\"T_a6719_row1_col14\" class=\"data row1 col14\" >0.592000</td>\n",
       "      <td id=\"T_a6719_row1_col15\" class=\"data row1 col15\" >nan</td>\n",
       "      <td id=\"T_a6719_row1_col16\" class=\"data row1 col16\" >nan</td>\n",
       "      <td id=\"T_a6719_row1_col17\" class=\"data row1 col17\" >33000.000000</td>\n",
       "    </tr>\n",
       "    <tr>\n",
       "      <th id=\"T_a6719_level0_row2\" class=\"row_heading level0 row2\" >Mr Leon's School of Hair Design-Moscow</th>\n",
       "      <td id=\"T_a6719_row2_col0\" class=\"data row2 col0\" >nan</td>\n",
       "      <td id=\"T_a6719_row2_col1\" class=\"data row2 col1\" >nan</td>\n",
       "      <td id=\"T_a6719_row2_col2\" class=\"data row2 col2\" >16.000000</td>\n",
       "      <td id=\"T_a6719_row2_col3\" class=\"data row2 col3\" >1.000000</td>\n",
       "      <td id=\"T_a6719_row2_col4\" class=\"data row2 col4\" >0.000000</td>\n",
       "      <td id=\"T_a6719_row2_col5\" class=\"data row2 col5\" >0.000000</td>\n",
       "      <td id=\"T_a6719_row2_col6\" class=\"data row2 col6\" >0.000000</td>\n",
       "      <td id=\"T_a6719_row2_col7\" class=\"data row2 col7\" >0.000000</td>\n",
       "      <td id=\"T_a6719_row2_col8\" class=\"data row2 col8\" >0.000000</td>\n",
       "      <td id=\"T_a6719_row2_col9\" class=\"data row2 col9\" >0.000000</td>\n",
       "      <td id=\"T_a6719_row2_col10\" class=\"data row2 col10\" >0.000000</td>\n",
       "      <td id=\"T_a6719_row2_col11\" class=\"data row2 col11\" >0.000000</td>\n",
       "      <td id=\"T_a6719_row2_col12\" class=\"data row2 col12\" >0.000000</td>\n",
       "      <td id=\"T_a6719_row2_col13\" class=\"data row2 col13\" >0.625000</td>\n",
       "      <td id=\"T_a6719_row2_col14\" class=\"data row2 col14\" >0.625000</td>\n",
       "      <td id=\"T_a6719_row2_col15\" class=\"data row2 col15\" >0.200000</td>\n",
       "      <td id=\"T_a6719_row2_col16\" class=\"data row2 col16\" >nan</td>\n",
       "      <td id=\"T_a6719_row2_col17\" class=\"data row2 col17\" >15710.000000</td>\n",
       "    </tr>\n",
       "    <tr>\n",
       "      <th id=\"T_a6719_level0_row3\" class=\"row_heading level0 row3\" >Velvatex College of Beauty Culture</th>\n",
       "      <td id=\"T_a6719_row3_col0\" class=\"data row3 col0\" >nan</td>\n",
       "      <td id=\"T_a6719_row3_col1\" class=\"data row3 col1\" >nan</td>\n",
       "      <td id=\"T_a6719_row3_col2\" class=\"data row3 col2\" >25.000000</td>\n",
       "      <td id=\"T_a6719_row3_col3\" class=\"data row3 col3\" >0.000000</td>\n",
       "      <td id=\"T_a6719_row3_col4\" class=\"data row3 col4\" >1.000000</td>\n",
       "      <td id=\"T_a6719_row3_col5\" class=\"data row3 col5\" >0.000000</td>\n",
       "      <td id=\"T_a6719_row3_col6\" class=\"data row3 col6\" >0.000000</td>\n",
       "      <td id=\"T_a6719_row3_col7\" class=\"data row3 col7\" >0.000000</td>\n",
       "      <td id=\"T_a6719_row3_col8\" class=\"data row3 col8\" >0.000000</td>\n",
       "      <td id=\"T_a6719_row3_col9\" class=\"data row3 col9\" >0.000000</td>\n",
       "      <td id=\"T_a6719_row3_col10\" class=\"data row3 col10\" >0.000000</td>\n",
       "      <td id=\"T_a6719_row3_col11\" class=\"data row3 col11\" >0.000000</td>\n",
       "      <td id=\"T_a6719_row3_col12\" class=\"data row3 col12\" >0.200000</td>\n",
       "      <td id=\"T_a6719_row3_col13\" class=\"data row3 col13\" >0.769200</td>\n",
       "      <td id=\"T_a6719_row3_col14\" class=\"data row3 col14\" >0.000000</td>\n",
       "      <td id=\"T_a6719_row3_col15\" class=\"data row3 col15\" >0.520000</td>\n",
       "      <td id=\"T_a6719_row3_col16\" class=\"data row3 col16\" >nan</td>\n",
       "      <td id=\"T_a6719_row3_col17\" class=\"data row3 col17\" >nan</td>\n",
       "    </tr>\n",
       "    <tr>\n",
       "      <th id=\"T_a6719_level0_row4\" class=\"row_heading level0 row4\" >Thunderbird School of Global Management</th>\n",
       "      <td id=\"T_a6719_row4_col0\" class=\"data row4 col0\" >nan</td>\n",
       "      <td id=\"T_a6719_row4_col1\" class=\"data row4 col1\" >nan</td>\n",
       "      <td id=\"T_a6719_row4_col2\" class=\"data row4 col2\" >1.000000</td>\n",
       "      <td id=\"T_a6719_row4_col3\" class=\"data row4 col3\" >0.000000</td>\n",
       "      <td id=\"T_a6719_row4_col4\" class=\"data row4 col4\" >0.000000</td>\n",
       "      <td id=\"T_a6719_row4_col5\" class=\"data row4 col5\" >1.000000</td>\n",
       "      <td id=\"T_a6719_row4_col6\" class=\"data row4 col6\" >0.000000</td>\n",
       "      <td id=\"T_a6719_row4_col7\" class=\"data row4 col7\" >0.000000</td>\n",
       "      <td id=\"T_a6719_row4_col8\" class=\"data row4 col8\" >0.000000</td>\n",
       "      <td id=\"T_a6719_row4_col9\" class=\"data row4 col9\" >0.000000</td>\n",
       "      <td id=\"T_a6719_row4_col10\" class=\"data row4 col10\" >0.000000</td>\n",
       "      <td id=\"T_a6719_row4_col11\" class=\"data row4 col11\" >0.000000</td>\n",
       "      <td id=\"T_a6719_row4_col12\" class=\"data row4 col12\" >1.000000</td>\n",
       "      <td id=\"T_a6719_row4_col13\" class=\"data row4 col13\" >0.000000</td>\n",
       "      <td id=\"T_a6719_row4_col14\" class=\"data row4 col14\" >0.000000</td>\n",
       "      <td id=\"T_a6719_row4_col15\" class=\"data row4 col15\" >0.000000</td>\n",
       "      <td id=\"T_a6719_row4_col16\" class=\"data row4 col16\" >118900.000000</td>\n",
       "      <td id=\"T_a6719_row4_col17\" class=\"data row4 col17\" >nan</td>\n",
       "    </tr>\n",
       "    <tr>\n",
       "      <th id=\"T_a6719_level0_row5\" class=\"row_heading level0 row5\" >Cosmopolitan Beauty and Tech School</th>\n",
       "      <td id=\"T_a6719_row5_col0\" class=\"data row5 col0\" >nan</td>\n",
       "      <td id=\"T_a6719_row5_col1\" class=\"data row5 col1\" >nan</td>\n",
       "      <td id=\"T_a6719_row5_col2\" class=\"data row5 col2\" >110.000000</td>\n",
       "      <td id=\"T_a6719_row5_col3\" class=\"data row5 col3\" >0.009100</td>\n",
       "      <td id=\"T_a6719_row5_col4\" class=\"data row5 col4\" >0.000000</td>\n",
       "      <td id=\"T_a6719_row5_col5\" class=\"data row5 col5\" >0.018200</td>\n",
       "      <td id=\"T_a6719_row5_col6\" class=\"data row5 col6\" >0.972700</td>\n",
       "      <td id=\"T_a6719_row5_col7\" class=\"data row5 col7\" >0.000000</td>\n",
       "      <td id=\"T_a6719_row5_col8\" class=\"data row5 col8\" >0.000000</td>\n",
       "      <td id=\"T_a6719_row5_col9\" class=\"data row5 col9\" >0.000000</td>\n",
       "      <td id=\"T_a6719_row5_col10\" class=\"data row5 col10\" >0.000000</td>\n",
       "      <td id=\"T_a6719_row5_col11\" class=\"data row5 col11\" >0.000000</td>\n",
       "      <td id=\"T_a6719_row5_col12\" class=\"data row5 col12\" >0.318200</td>\n",
       "      <td id=\"T_a6719_row5_col13\" class=\"data row5 col13\" >0.776100</td>\n",
       "      <td id=\"T_a6719_row5_col14\" class=\"data row5 col14\" >0.124400</td>\n",
       "      <td id=\"T_a6719_row5_col15\" class=\"data row5 col15\" >0.954500</td>\n",
       "      <td id=\"T_a6719_row5_col16\" class=\"data row5 col16\" >nan</td>\n",
       "      <td id=\"T_a6719_row5_col17\" class=\"data row5 col17\" >nan</td>\n",
       "    </tr>\n",
       "    <tr>\n",
       "      <th id=\"T_a6719_level0_row6\" class=\"row_heading level0 row6\" >Haskell Indian Nations University</th>\n",
       "      <td id=\"T_a6719_row6_col0\" class=\"data row6 col0\" >430.000000</td>\n",
       "      <td id=\"T_a6719_row6_col1\" class=\"data row6 col1\" >440.000000</td>\n",
       "      <td id=\"T_a6719_row6_col2\" class=\"data row6 col2\" >805.000000</td>\n",
       "      <td id=\"T_a6719_row6_col3\" class=\"data row6 col3\" >0.000000</td>\n",
       "      <td id=\"T_a6719_row6_col4\" class=\"data row6 col4\" >0.000000</td>\n",
       "      <td id=\"T_a6719_row6_col5\" class=\"data row6 col5\" >0.000000</td>\n",
       "      <td id=\"T_a6719_row6_col6\" class=\"data row6 col6\" >0.000000</td>\n",
       "      <td id=\"T_a6719_row6_col7\" class=\"data row6 col7\" >1.000000</td>\n",
       "      <td id=\"T_a6719_row6_col8\" class=\"data row6 col8\" >0.000000</td>\n",
       "      <td id=\"T_a6719_row6_col9\" class=\"data row6 col9\" >0.000000</td>\n",
       "      <td id=\"T_a6719_row6_col10\" class=\"data row6 col10\" >0.000000</td>\n",
       "      <td id=\"T_a6719_row6_col11\" class=\"data row6 col11\" >0.000000</td>\n",
       "      <td id=\"T_a6719_row6_col12\" class=\"data row6 col12\" >0.022400</td>\n",
       "      <td id=\"T_a6719_row6_col13\" class=\"data row6 col13\" >0.839600</td>\n",
       "      <td id=\"T_a6719_row6_col14\" class=\"data row6 col14\" >0.000000</td>\n",
       "      <td id=\"T_a6719_row6_col15\" class=\"data row6 col15\" >0.208900</td>\n",
       "      <td id=\"T_a6719_row6_col16\" class=\"data row6 col16\" >22800.000000</td>\n",
       "      <td id=\"T_a6719_row6_col17\" class=\"data row6 col17\" >nan</td>\n",
       "    </tr>\n",
       "    <tr>\n",
       "      <th id=\"T_a6719_level0_row7\" class=\"row_heading level0 row7\" >Palau Community College</th>\n",
       "      <td id=\"T_a6719_row7_col0\" class=\"data row7 col0\" >nan</td>\n",
       "      <td id=\"T_a6719_row7_col1\" class=\"data row7 col1\" >nan</td>\n",
       "      <td id=\"T_a6719_row7_col2\" class=\"data row7 col2\" >602.000000</td>\n",
       "      <td id=\"T_a6719_row7_col3\" class=\"data row7 col3\" >0.000000</td>\n",
       "      <td id=\"T_a6719_row7_col4\" class=\"data row7 col4\" >0.001700</td>\n",
       "      <td id=\"T_a6719_row7_col5\" class=\"data row7 col5\" >0.000000</td>\n",
       "      <td id=\"T_a6719_row7_col6\" class=\"data row7 col6\" >0.000000</td>\n",
       "      <td id=\"T_a6719_row7_col7\" class=\"data row7 col7\" >0.000000</td>\n",
       "      <td id=\"T_a6719_row7_col8\" class=\"data row7 col8\" >0.998300</td>\n",
       "      <td id=\"T_a6719_row7_col9\" class=\"data row7 col9\" >0.000000</td>\n",
       "      <td id=\"T_a6719_row7_col10\" class=\"data row7 col10\" >0.000000</td>\n",
       "      <td id=\"T_a6719_row7_col11\" class=\"data row7 col11\" >0.000000</td>\n",
       "      <td id=\"T_a6719_row7_col12\" class=\"data row7 col12\" >0.388700</td>\n",
       "      <td id=\"T_a6719_row7_col13\" class=\"data row7 col13\" >0.856000</td>\n",
       "      <td id=\"T_a6719_row7_col14\" class=\"data row7 col14\" >0.000000</td>\n",
       "      <td id=\"T_a6719_row7_col15\" class=\"data row7 col15\" >0.261600</td>\n",
       "      <td id=\"T_a6719_row7_col16\" class=\"data row7 col16\" >24700.000000</td>\n",
       "      <td id=\"T_a6719_row7_col17\" class=\"data row7 col17\" >nan</td>\n",
       "    </tr>\n",
       "    <tr>\n",
       "      <th id=\"T_a6719_level0_row8\" class=\"row_heading level0 row8\" >LIU Brentwood</th>\n",
       "      <td id=\"T_a6719_row8_col0\" class=\"data row8 col0\" >nan</td>\n",
       "      <td id=\"T_a6719_row8_col1\" class=\"data row8 col1\" >nan</td>\n",
       "      <td id=\"T_a6719_row8_col2\" class=\"data row8 col2\" >15.000000</td>\n",
       "      <td id=\"T_a6719_row8_col3\" class=\"data row8 col3\" >0.000000</td>\n",
       "      <td id=\"T_a6719_row8_col4\" class=\"data row8 col4\" >0.133300</td>\n",
       "      <td id=\"T_a6719_row8_col5\" class=\"data row8 col5\" >0.266700</td>\n",
       "      <td id=\"T_a6719_row8_col6\" class=\"data row8 col6\" >0.000000</td>\n",
       "      <td id=\"T_a6719_row8_col7\" class=\"data row8 col7\" >0.000000</td>\n",
       "      <td id=\"T_a6719_row8_col8\" class=\"data row8 col8\" >0.000000</td>\n",
       "      <td id=\"T_a6719_row8_col9\" class=\"data row8 col9\" >0.533300</td>\n",
       "      <td id=\"T_a6719_row8_col10\" class=\"data row8 col10\" >0.000000</td>\n",
       "      <td id=\"T_a6719_row8_col11\" class=\"data row8 col11\" >0.066700</td>\n",
       "      <td id=\"T_a6719_row8_col12\" class=\"data row8 col12\" >0.400000</td>\n",
       "      <td id=\"T_a6719_row8_col13\" class=\"data row8 col13\" >0.565200</td>\n",
       "      <td id=\"T_a6719_row8_col14\" class=\"data row8 col14\" >0.782600</td>\n",
       "      <td id=\"T_a6719_row8_col15\" class=\"data row8 col15\" >0.782600</td>\n",
       "      <td id=\"T_a6719_row8_col16\" class=\"data row8 col16\" >44600.000000</td>\n",
       "      <td id=\"T_a6719_row8_col17\" class=\"data row8 col17\" >25499.000000</td>\n",
       "    </tr>\n",
       "    <tr>\n",
       "      <th id=\"T_a6719_level0_row9\" class=\"row_heading level0 row9\" >California University of Management and Sciences</th>\n",
       "      <td id=\"T_a6719_row9_col0\" class=\"data row9 col0\" >nan</td>\n",
       "      <td id=\"T_a6719_row9_col1\" class=\"data row9 col1\" >nan</td>\n",
       "      <td id=\"T_a6719_row9_col2\" class=\"data row9 col2\" >98.000000</td>\n",
       "      <td id=\"T_a6719_row9_col3\" class=\"data row9 col3\" >0.010200</td>\n",
       "      <td id=\"T_a6719_row9_col4\" class=\"data row9 col4\" >0.020400</td>\n",
       "      <td id=\"T_a6719_row9_col5\" class=\"data row9 col5\" >0.000000</td>\n",
       "      <td id=\"T_a6719_row9_col6\" class=\"data row9 col6\" >0.040800</td>\n",
       "      <td id=\"T_a6719_row9_col7\" class=\"data row9 col7\" >0.000000</td>\n",
       "      <td id=\"T_a6719_row9_col8\" class=\"data row9 col8\" >0.000000</td>\n",
       "      <td id=\"T_a6719_row9_col9\" class=\"data row9 col9\" >0.000000</td>\n",
       "      <td id=\"T_a6719_row9_col10\" class=\"data row9 col10\" >0.928600</td>\n",
       "      <td id=\"T_a6719_row9_col11\" class=\"data row9 col11\" >0.000000</td>\n",
       "      <td id=\"T_a6719_row9_col12\" class=\"data row9 col12\" >0.000000</td>\n",
       "      <td id=\"T_a6719_row9_col13\" class=\"data row9 col13\" >0.092600</td>\n",
       "      <td id=\"T_a6719_row9_col14\" class=\"data row9 col14\" >0.055600</td>\n",
       "      <td id=\"T_a6719_row9_col15\" class=\"data row9 col15\" >0.685200</td>\n",
       "      <td id=\"T_a6719_row9_col16\" class=\"data row9 col16\" >nan</td>\n",
       "      <td id=\"T_a6719_row9_col17\" class=\"data row9 col17\" >nan</td>\n",
       "    </tr>\n",
       "    <tr>\n",
       "      <th id=\"T_a6719_level0_row10\" class=\"row_heading level0 row10\" >Le Cordon Bleu College of Culinary Arts-San Francisco</th>\n",
       "      <td id=\"T_a6719_row10_col0\" class=\"data row10 col0\" >nan</td>\n",
       "      <td id=\"T_a6719_row10_col1\" class=\"data row10 col1\" >nan</td>\n",
       "      <td id=\"T_a6719_row10_col2\" class=\"data row10 col2\" >442.000000</td>\n",
       "      <td id=\"T_a6719_row10_col3\" class=\"data row10 col3\" >0.031700</td>\n",
       "      <td id=\"T_a6719_row10_col4\" class=\"data row10 col4\" >0.009000</td>\n",
       "      <td id=\"T_a6719_row10_col5\" class=\"data row10 col5\" >0.011300</td>\n",
       "      <td id=\"T_a6719_row10_col6\" class=\"data row10 col6\" >0.027100</td>\n",
       "      <td id=\"T_a6719_row10_col7\" class=\"data row10 col7\" >0.004500</td>\n",
       "      <td id=\"T_a6719_row10_col8\" class=\"data row10 col8\" >0.002300</td>\n",
       "      <td id=\"T_a6719_row10_col9\" class=\"data row10 col9\" >0.011300</td>\n",
       "      <td id=\"T_a6719_row10_col10\" class=\"data row10 col10\" >0.000000</td>\n",
       "      <td id=\"T_a6719_row10_col11\" class=\"data row10 col11\" >0.902700</td>\n",
       "      <td id=\"T_a6719_row10_col12\" class=\"data row10 col12\" >0.000000</td>\n",
       "      <td id=\"T_a6719_row10_col13\" class=\"data row10 col13\" >0.372200</td>\n",
       "      <td id=\"T_a6719_row10_col14\" class=\"data row10 col14\" >0.535800</td>\n",
       "      <td id=\"T_a6719_row10_col15\" class=\"data row10 col15\" >0.544000</td>\n",
       "      <td id=\"T_a6719_row10_col16\" class=\"data row10 col16\" >34000.000000</td>\n",
       "      <td id=\"T_a6719_row10_col17\" class=\"data row10 col17\" >12931.000000</td>\n",
       "    </tr>\n",
       "    <tr>\n",
       "      <th id=\"T_a6719_level0_row11\" class=\"row_heading level0 row11\" >MTI Business College Inc</th>\n",
       "      <td id=\"T_a6719_row11_col0\" class=\"data row11 col0\" >nan</td>\n",
       "      <td id=\"T_a6719_row11_col1\" class=\"data row11 col1\" >nan</td>\n",
       "      <td id=\"T_a6719_row11_col2\" class=\"data row11 col2\" >146.000000</td>\n",
       "      <td id=\"T_a6719_row11_col3\" class=\"data row11 col3\" >0.239700</td>\n",
       "      <td id=\"T_a6719_row11_col4\" class=\"data row11 col4\" >0.513700</td>\n",
       "      <td id=\"T_a6719_row11_col5\" class=\"data row11 col5\" >0.143800</td>\n",
       "      <td id=\"T_a6719_row11_col6\" class=\"data row11 col6\" >0.047900</td>\n",
       "      <td id=\"T_a6719_row11_col7\" class=\"data row11 col7\" >0.034200</td>\n",
       "      <td id=\"T_a6719_row11_col8\" class=\"data row11 col8\" >0.020500</td>\n",
       "      <td id=\"T_a6719_row11_col9\" class=\"data row11 col9\" >0.000000</td>\n",
       "      <td id=\"T_a6719_row11_col10\" class=\"data row11 col10\" >0.000000</td>\n",
       "      <td id=\"T_a6719_row11_col11\" class=\"data row11 col11\" >0.000000</td>\n",
       "      <td id=\"T_a6719_row11_col12\" class=\"data row11 col12\" >0.000000</td>\n",
       "      <td id=\"T_a6719_row11_col13\" class=\"data row11 col13\" >1.000000</td>\n",
       "      <td id=\"T_a6719_row11_col14\" class=\"data row11 col14\" >1.000000</td>\n",
       "      <td id=\"T_a6719_row11_col15\" class=\"data row11 col15\" >0.398600</td>\n",
       "      <td id=\"T_a6719_row11_col16\" class=\"data row11 col16\" >23000.000000</td>\n",
       "      <td id=\"T_a6719_row11_col17\" class=\"data row11 col17\" >9500.000000</td>\n",
       "    </tr>\n",
       "    <tr>\n",
       "      <th id=\"T_a6719_level0_row12\" class=\"row_heading level0 row12\" >ABC Beauty College Inc</th>\n",
       "      <td id=\"T_a6719_row12_col0\" class=\"data row12 col0\" >nan</td>\n",
       "      <td id=\"T_a6719_row12_col1\" class=\"data row12 col1\" >nan</td>\n",
       "      <td id=\"T_a6719_row12_col2\" class=\"data row12 col2\" >38.000000</td>\n",
       "      <td id=\"T_a6719_row12_col3\" class=\"data row12 col3\" >0.289500</td>\n",
       "      <td id=\"T_a6719_row12_col4\" class=\"data row12 col4\" >0.657900</td>\n",
       "      <td id=\"T_a6719_row12_col5\" class=\"data row12 col5\" >0.052600</td>\n",
       "      <td id=\"T_a6719_row12_col6\" class=\"data row12 col6\" >0.000000</td>\n",
       "      <td id=\"T_a6719_row12_col7\" class=\"data row12 col7\" >0.000000</td>\n",
       "      <td id=\"T_a6719_row12_col8\" class=\"data row12 col8\" >0.000000</td>\n",
       "      <td id=\"T_a6719_row12_col9\" class=\"data row12 col9\" >0.000000</td>\n",
       "      <td id=\"T_a6719_row12_col10\" class=\"data row12 col10\" >0.000000</td>\n",
       "      <td id=\"T_a6719_row12_col11\" class=\"data row12 col11\" >0.000000</td>\n",
       "      <td id=\"T_a6719_row12_col12\" class=\"data row12 col12\" >0.210500</td>\n",
       "      <td id=\"T_a6719_row12_col13\" class=\"data row12 col13\" >0.981500</td>\n",
       "      <td id=\"T_a6719_row12_col14\" class=\"data row12 col14\" >1.000000</td>\n",
       "      <td id=\"T_a6719_row12_col15\" class=\"data row12 col15\" >0.468800</td>\n",
       "      <td id=\"T_a6719_row12_col16\" class=\"data row12 col16\" >nan</td>\n",
       "      <td id=\"T_a6719_row12_col17\" class=\"data row12 col17\" >16500.000000</td>\n",
       "    </tr>\n",
       "    <tr>\n",
       "      <th id=\"T_a6719_level0_row13\" class=\"row_heading level0 row13\" >Dongguk University-Los Angeles</th>\n",
       "      <td id=\"T_a6719_row13_col0\" class=\"data row13 col0\" >nan</td>\n",
       "      <td id=\"T_a6719_row13_col1\" class=\"data row13 col1\" >nan</td>\n",
       "      <td id=\"T_a6719_row13_col2\" class=\"data row13 col2\" >20.000000</td>\n",
       "      <td id=\"T_a6719_row13_col3\" class=\"data row13 col3\" >0.350000</td>\n",
       "      <td id=\"T_a6719_row13_col4\" class=\"data row13 col4\" >0.000000</td>\n",
       "      <td id=\"T_a6719_row13_col5\" class=\"data row13 col5\" >0.150000</td>\n",
       "      <td id=\"T_a6719_row13_col6\" class=\"data row13 col6\" >0.500000</td>\n",
       "      <td id=\"T_a6719_row13_col7\" class=\"data row13 col7\" >0.000000</td>\n",
       "      <td id=\"T_a6719_row13_col8\" class=\"data row13 col8\" >0.000000</td>\n",
       "      <td id=\"T_a6719_row13_col9\" class=\"data row13 col9\" >0.000000</td>\n",
       "      <td id=\"T_a6719_row13_col10\" class=\"data row13 col10\" >0.000000</td>\n",
       "      <td id=\"T_a6719_row13_col11\" class=\"data row13 col11\" >0.000000</td>\n",
       "      <td id=\"T_a6719_row13_col12\" class=\"data row13 col12\" >nan</td>\n",
       "      <td id=\"T_a6719_row13_col13\" class=\"data row13 col13\" >nan</td>\n",
       "      <td id=\"T_a6719_row13_col14\" class=\"data row13 col14\" >nan</td>\n",
       "      <td id=\"T_a6719_row13_col15\" class=\"data row13 col15\" >1.000000</td>\n",
       "      <td id=\"T_a6719_row13_col16\" class=\"data row13 col16\" >nan</td>\n",
       "      <td id=\"T_a6719_row13_col17\" class=\"data row13 col17\" >nan</td>\n",
       "    </tr>\n",
       "    <tr>\n",
       "      <th id=\"T_a6719_level0_row14\" class=\"row_heading level0 row14\" >Medical College of Wisconsin</th>\n",
       "      <td id=\"T_a6719_row14_col0\" class=\"data row14 col0\" >nan</td>\n",
       "      <td id=\"T_a6719_row14_col1\" class=\"data row14 col1\" >nan</td>\n",
       "      <td id=\"T_a6719_row14_col2\" class=\"data row14 col2\" >nan</td>\n",
       "      <td id=\"T_a6719_row14_col3\" class=\"data row14 col3\" >nan</td>\n",
       "      <td id=\"T_a6719_row14_col4\" class=\"data row14 col4\" >nan</td>\n",
       "      <td id=\"T_a6719_row14_col5\" class=\"data row14 col5\" >nan</td>\n",
       "      <td id=\"T_a6719_row14_col6\" class=\"data row14 col6\" >nan</td>\n",
       "      <td id=\"T_a6719_row14_col7\" class=\"data row14 col7\" >nan</td>\n",
       "      <td id=\"T_a6719_row14_col8\" class=\"data row14 col8\" >nan</td>\n",
       "      <td id=\"T_a6719_row14_col9\" class=\"data row14 col9\" >nan</td>\n",
       "      <td id=\"T_a6719_row14_col10\" class=\"data row14 col10\" >nan</td>\n",
       "      <td id=\"T_a6719_row14_col11\" class=\"data row14 col11\" >nan</td>\n",
       "      <td id=\"T_a6719_row14_col12\" class=\"data row14 col12\" >nan</td>\n",
       "      <td id=\"T_a6719_row14_col13\" class=\"data row14 col13\" >nan</td>\n",
       "      <td id=\"T_a6719_row14_col14\" class=\"data row14 col14\" >nan</td>\n",
       "      <td id=\"T_a6719_row14_col15\" class=\"data row14 col15\" >nan</td>\n",
       "      <td id=\"T_a6719_row14_col16\" class=\"data row14 col16\" >233100.000000</td>\n",
       "      <td id=\"T_a6719_row14_col17\" class=\"data row14 col17\" >nan</td>\n",
       "    </tr>\n",
       "    <tr>\n",
       "      <th id=\"T_a6719_level0_row15\" class=\"row_heading level0 row15\" >Southwest University of Visual Arts-Tucson</th>\n",
       "      <td id=\"T_a6719_row15_col0\" class=\"data row15 col0\" >nan</td>\n",
       "      <td id=\"T_a6719_row15_col1\" class=\"data row15 col1\" >nan</td>\n",
       "      <td id=\"T_a6719_row15_col2\" class=\"data row15 col2\" >161.000000</td>\n",
       "      <td id=\"T_a6719_row15_col3\" class=\"data row15 col3\" >0.453400</td>\n",
       "      <td id=\"T_a6719_row15_col4\" class=\"data row15 col4\" >0.043500</td>\n",
       "      <td id=\"T_a6719_row15_col5\" class=\"data row15 col5\" >0.316800</td>\n",
       "      <td id=\"T_a6719_row15_col6\" class=\"data row15 col6\" >0.006200</td>\n",
       "      <td id=\"T_a6719_row15_col7\" class=\"data row15 col7\" >0.031100</td>\n",
       "      <td id=\"T_a6719_row15_col8\" class=\"data row15 col8\" >0.000000</td>\n",
       "      <td id=\"T_a6719_row15_col9\" class=\"data row15 col9\" >0.000000</td>\n",
       "      <td id=\"T_a6719_row15_col10\" class=\"data row15 col10\" >0.000000</td>\n",
       "      <td id=\"T_a6719_row15_col11\" class=\"data row15 col11\" >0.149100</td>\n",
       "      <td id=\"T_a6719_row15_col12\" class=\"data row15 col12\" >0.279500</td>\n",
       "      <td id=\"T_a6719_row15_col13\" class=\"data row15 col13\" >0.446900</td>\n",
       "      <td id=\"T_a6719_row15_col14\" class=\"data row15 col14\" >0.429200</td>\n",
       "      <td id=\"T_a6719_row15_col15\" class=\"data row15 col15\" >0.865700</td>\n",
       "      <td id=\"T_a6719_row15_col16\" class=\"data row15 col16\" >27200.000000</td>\n",
       "      <td id=\"T_a6719_row15_col17\" class=\"data row15 col17\" >49750.000000</td>\n",
       "    </tr>\n",
       "  </tbody>\n",
       "</table>\n"
      ],
      "text/plain": [
       "<pandas.io.formats.style.Styler at 0x2c40c9ff6d0>"
      ]
     },
     "execution_count": 123,
     "metadata": {},
     "output_type": "execute_result"
    }
   ],
   "source": [
    "college_n2.loc[unique_max_cols].style.highlight_max()"
   ]
  },
  {
   "cell_type": "code",
   "execution_count": 124,
   "id": "d0bb3fee",
   "metadata": {},
   "outputs": [],
   "source": [
    "# Refractor the code to make it easier to read:\n",
    "def remove_binary_cols(df):\n",
    "    binary_only = df.nunique() == 2\n",
    "    unique = max_cols.unique()\n",
    "    return df.drop(columns=cols)\n",
    "\n",
    "def select_row_with_max_cols(df):\n",
    "    max_cols = df.idxmax()\n",
    "    unique = max_cols.unique()\n",
    "    return df.loc[unique]\n",
    "\n"
   ]
  },
  {
   "cell_type": "code",
   "execution_count": 132,
   "id": "c4890fa5",
   "metadata": {},
   "outputs": [
    {
     "data": {
      "text/html": [
       "<div>\n",
       "<style scoped>\n",
       "    .dataframe tbody tr th:only-of-type {\n",
       "        vertical-align: middle;\n",
       "    }\n",
       "\n",
       "    .dataframe tbody tr th {\n",
       "        vertical-align: top;\n",
       "    }\n",
       "\n",
       "    .dataframe thead th {\n",
       "        text-align: right;\n",
       "    }\n",
       "</style>\n",
       "<table border=\"1\" class=\"dataframe\">\n",
       "  <thead>\n",
       "    <tr style=\"text-align: right;\">\n",
       "      <th></th>\n",
       "      <th>HBCU</th>\n",
       "      <th>MENONLY</th>\n",
       "      <th>...</th>\n",
       "      <th>PCTFLOAN</th>\n",
       "      <th>UG25ABV</th>\n",
       "    </tr>\n",
       "    <tr>\n",
       "      <th>INSTNM</th>\n",
       "      <th></th>\n",
       "      <th></th>\n",
       "      <th></th>\n",
       "      <th></th>\n",
       "      <th></th>\n",
       "    </tr>\n",
       "  </thead>\n",
       "  <tbody>\n",
       "    <tr>\n",
       "      <th>Alabama A &amp; M University</th>\n",
       "      <td>1.0</td>\n",
       "      <td>0.0</td>\n",
       "      <td>...</td>\n",
       "      <td>0.8284</td>\n",
       "      <td>0.1049</td>\n",
       "    </tr>\n",
       "    <tr>\n",
       "      <th>Yeshiva Ohr Elchonon Chabad West Coast Talmudical Seminary</th>\n",
       "      <td>0.0</td>\n",
       "      <td>1.0</td>\n",
       "      <td>...</td>\n",
       "      <td>0.0000</td>\n",
       "      <td>0.0000</td>\n",
       "    </tr>\n",
       "    <tr>\n",
       "      <th>Judson College</th>\n",
       "      <td>0.0</td>\n",
       "      <td>0.0</td>\n",
       "      <td>...</td>\n",
       "      <td>0.7205</td>\n",
       "      <td>0.2622</td>\n",
       "    </tr>\n",
       "    <tr>\n",
       "      <th>Amridge University</th>\n",
       "      <td>0.0</td>\n",
       "      <td>0.0</td>\n",
       "      <td>...</td>\n",
       "      <td>0.7795</td>\n",
       "      <td>0.8540</td>\n",
       "    </tr>\n",
       "    <tr>\n",
       "      <th>California Institute of Technology</th>\n",
       "      <td>0.0</td>\n",
       "      <td>0.0</td>\n",
       "      <td>...</td>\n",
       "      <td>0.2303</td>\n",
       "      <td>0.0082</td>\n",
       "    </tr>\n",
       "    <tr>\n",
       "      <th>...</th>\n",
       "      <td>...</td>\n",
       "      <td>...</td>\n",
       "      <td>...</td>\n",
       "      <td>...</td>\n",
       "      <td>...</td>\n",
       "    </tr>\n",
       "    <tr>\n",
       "      <th>California University of Management and Sciences</th>\n",
       "      <td>0.0</td>\n",
       "      <td>0.0</td>\n",
       "      <td>...</td>\n",
       "      <td>0.0556</td>\n",
       "      <td>0.6852</td>\n",
       "    </tr>\n",
       "    <tr>\n",
       "      <th>Le Cordon Bleu College of Culinary Arts-San Francisco</th>\n",
       "      <td>0.0</td>\n",
       "      <td>0.0</td>\n",
       "      <td>...</td>\n",
       "      <td>0.5358</td>\n",
       "      <td>0.5440</td>\n",
       "    </tr>\n",
       "    <tr>\n",
       "      <th>MTI Business College Inc</th>\n",
       "      <td>0.0</td>\n",
       "      <td>0.0</td>\n",
       "      <td>...</td>\n",
       "      <td>1.0000</td>\n",
       "      <td>0.3986</td>\n",
       "    </tr>\n",
       "    <tr>\n",
       "      <th>ABC Beauty College Inc</th>\n",
       "      <td>0.0</td>\n",
       "      <td>0.0</td>\n",
       "      <td>...</td>\n",
       "      <td>1.0000</td>\n",
       "      <td>0.4688</td>\n",
       "    </tr>\n",
       "    <tr>\n",
       "      <th>Dongguk University-Los Angeles</th>\n",
       "      <td>0.0</td>\n",
       "      <td>0.0</td>\n",
       "      <td>...</td>\n",
       "      <td>NaN</td>\n",
       "      <td>1.0000</td>\n",
       "    </tr>\n",
       "  </tbody>\n",
       "</table>\n",
       "<p>18 rows × 22 columns</p>\n",
       "</div>"
      ],
      "text/plain": [
       "                                                    HBCU  MENONLY  ...  \\\n",
       "INSTNM                                                             ...   \n",
       "Alabama A & M University                             1.0      0.0  ...   \n",
       "Yeshiva Ohr Elchonon Chabad West Coast Talmudic...   0.0      1.0  ...   \n",
       "Judson College                                       0.0      0.0  ...   \n",
       "Amridge University                                   0.0      0.0  ...   \n",
       "California Institute of Technology                   0.0      0.0  ...   \n",
       "...                                                  ...      ...  ...   \n",
       "California University of Management and Sciences     0.0      0.0  ...   \n",
       "Le Cordon Bleu College of Culinary Arts-San Fra...   0.0      0.0  ...   \n",
       "MTI Business College Inc                             0.0      0.0  ...   \n",
       "ABC Beauty College Inc                               0.0      0.0  ...   \n",
       "Dongguk University-Los Angeles                       0.0      0.0  ...   \n",
       "\n",
       "                                                    PCTFLOAN  UG25ABV  \n",
       "INSTNM                                                                 \n",
       "Alabama A & M University                              0.8284   0.1049  \n",
       "Yeshiva Ohr Elchonon Chabad West Coast Talmudic...    0.0000   0.0000  \n",
       "Judson College                                        0.7205   0.2622  \n",
       "Amridge University                                    0.7795   0.8540  \n",
       "California Institute of Technology                    0.2303   0.0082  \n",
       "...                                                      ...      ...  \n",
       "California University of Management and Sciences      0.0556   0.6852  \n",
       "Le Cordon Bleu College of Culinary Arts-San Fra...    0.5358   0.5440  \n",
       "MTI Business College Inc                              1.0000   0.3986  \n",
       "ABC Beauty College Inc                                1.0000   0.4688  \n",
       "Dongguk University-Los Angeles                           NaN   1.0000  \n",
       "\n",
       "[18 rows x 22 columns]"
      ]
     },
     "execution_count": 132,
     "metadata": {},
     "output_type": "execute_result"
    }
   ],
   "source": [
    "(\n",
    "    college\n",
    "    .assign(\n",
    "        MD_EARN_WNE_P10=pd.to_numeric(\n",
    "            college.MD_EARN_WNE_P10, errors='coerce'\n",
    "        ), \n",
    "        GRAD_DEBT_MDN_SUPP=pd.to_numeric(\n",
    "            college.GRAD_DEBT_MDN_SUPP, errors='coerce'\n",
    "        ),\n",
    "    )\n",
    "        .select_dtypes(np.number)\n",
    "        .pipe(remove_binary_cols)\n",
    "        .pipe(select_row_with_max_cols)\n",
    "    \n",
    ")"
   ]
  },
  {
   "cell_type": "markdown",
   "id": "fee25b01",
   "metadata": {},
   "source": [
    "By default, the .highlight_max method highlights the maximum value of each column.\n",
    "We can use the axis parameter to highlight the maximum value of each row instead. Here,\n",
    "we select just the race percentage columns of the college dataset and highlight the race with\n",
    "the highest percentage for each school:"
   ]
  },
  {
   "cell_type": "code",
   "execution_count": 133,
   "id": "0cf1aa6d",
   "metadata": {},
   "outputs": [],
   "source": [
    "college_ugds = college.filter(like='UGDS_').head()"
   ]
  },
  {
   "cell_type": "code",
   "execution_count": 135,
   "id": "f35804a4",
   "metadata": {},
   "outputs": [
    {
     "data": {
      "text/html": [
       "<style type=\"text/css\">\n",
       "#T_a143c_row0_col1, #T_a143c_row1_col0, #T_a143c_row2_col1, #T_a143c_row3_col0, #T_a143c_row4_col1 {\n",
       "  background-color: yellow;\n",
       "}\n",
       "</style>\n",
       "<table id=\"T_a143c_\">\n",
       "  <thead>\n",
       "    <tr>\n",
       "      <th class=\"blank level0\" >&nbsp;</th>\n",
       "      <th class=\"col_heading level0 col0\" >UGDS_WHITE</th>\n",
       "      <th class=\"col_heading level0 col1\" >UGDS_BLACK</th>\n",
       "      <th class=\"col_heading level0 col2\" >UGDS_HISP</th>\n",
       "      <th class=\"col_heading level0 col3\" >UGDS_ASIAN</th>\n",
       "      <th class=\"col_heading level0 col4\" >UGDS_AIAN</th>\n",
       "      <th class=\"col_heading level0 col5\" >UGDS_NHPI</th>\n",
       "      <th class=\"col_heading level0 col6\" >UGDS_2MOR</th>\n",
       "      <th class=\"col_heading level0 col7\" >UGDS_NRA</th>\n",
       "      <th class=\"col_heading level0 col8\" >UGDS_UNKN</th>\n",
       "    </tr>\n",
       "    <tr>\n",
       "      <th class=\"index_name level0\" >INSTNM</th>\n",
       "      <th class=\"blank col0\" >&nbsp;</th>\n",
       "      <th class=\"blank col1\" >&nbsp;</th>\n",
       "      <th class=\"blank col2\" >&nbsp;</th>\n",
       "      <th class=\"blank col3\" >&nbsp;</th>\n",
       "      <th class=\"blank col4\" >&nbsp;</th>\n",
       "      <th class=\"blank col5\" >&nbsp;</th>\n",
       "      <th class=\"blank col6\" >&nbsp;</th>\n",
       "      <th class=\"blank col7\" >&nbsp;</th>\n",
       "      <th class=\"blank col8\" >&nbsp;</th>\n",
       "    </tr>\n",
       "  </thead>\n",
       "  <tbody>\n",
       "    <tr>\n",
       "      <th id=\"T_a143c_level0_row0\" class=\"row_heading level0 row0\" >Alabama A & M University</th>\n",
       "      <td id=\"T_a143c_row0_col0\" class=\"data row0 col0\" >0.033300</td>\n",
       "      <td id=\"T_a143c_row0_col1\" class=\"data row0 col1\" >0.935300</td>\n",
       "      <td id=\"T_a143c_row0_col2\" class=\"data row0 col2\" >0.005500</td>\n",
       "      <td id=\"T_a143c_row0_col3\" class=\"data row0 col3\" >0.001900</td>\n",
       "      <td id=\"T_a143c_row0_col4\" class=\"data row0 col4\" >0.002400</td>\n",
       "      <td id=\"T_a143c_row0_col5\" class=\"data row0 col5\" >0.001900</td>\n",
       "      <td id=\"T_a143c_row0_col6\" class=\"data row0 col6\" >0.000000</td>\n",
       "      <td id=\"T_a143c_row0_col7\" class=\"data row0 col7\" >0.005900</td>\n",
       "      <td id=\"T_a143c_row0_col8\" class=\"data row0 col8\" >0.013800</td>\n",
       "    </tr>\n",
       "    <tr>\n",
       "      <th id=\"T_a143c_level0_row1\" class=\"row_heading level0 row1\" >University of Alabama at Birmingham</th>\n",
       "      <td id=\"T_a143c_row1_col0\" class=\"data row1 col0\" >0.592200</td>\n",
       "      <td id=\"T_a143c_row1_col1\" class=\"data row1 col1\" >0.260000</td>\n",
       "      <td id=\"T_a143c_row1_col2\" class=\"data row1 col2\" >0.028300</td>\n",
       "      <td id=\"T_a143c_row1_col3\" class=\"data row1 col3\" >0.051800</td>\n",
       "      <td id=\"T_a143c_row1_col4\" class=\"data row1 col4\" >0.002200</td>\n",
       "      <td id=\"T_a143c_row1_col5\" class=\"data row1 col5\" >0.000700</td>\n",
       "      <td id=\"T_a143c_row1_col6\" class=\"data row1 col6\" >0.036800</td>\n",
       "      <td id=\"T_a143c_row1_col7\" class=\"data row1 col7\" >0.017900</td>\n",
       "      <td id=\"T_a143c_row1_col8\" class=\"data row1 col8\" >0.010000</td>\n",
       "    </tr>\n",
       "    <tr>\n",
       "      <th id=\"T_a143c_level0_row2\" class=\"row_heading level0 row2\" >Amridge University</th>\n",
       "      <td id=\"T_a143c_row2_col0\" class=\"data row2 col0\" >0.299000</td>\n",
       "      <td id=\"T_a143c_row2_col1\" class=\"data row2 col1\" >0.419200</td>\n",
       "      <td id=\"T_a143c_row2_col2\" class=\"data row2 col2\" >0.006900</td>\n",
       "      <td id=\"T_a143c_row2_col3\" class=\"data row2 col3\" >0.003400</td>\n",
       "      <td id=\"T_a143c_row2_col4\" class=\"data row2 col4\" >0.000000</td>\n",
       "      <td id=\"T_a143c_row2_col5\" class=\"data row2 col5\" >0.000000</td>\n",
       "      <td id=\"T_a143c_row2_col6\" class=\"data row2 col6\" >0.000000</td>\n",
       "      <td id=\"T_a143c_row2_col7\" class=\"data row2 col7\" >0.000000</td>\n",
       "      <td id=\"T_a143c_row2_col8\" class=\"data row2 col8\" >0.271500</td>\n",
       "    </tr>\n",
       "    <tr>\n",
       "      <th id=\"T_a143c_level0_row3\" class=\"row_heading level0 row3\" >University of Alabama in Huntsville</th>\n",
       "      <td id=\"T_a143c_row3_col0\" class=\"data row3 col0\" >0.698800</td>\n",
       "      <td id=\"T_a143c_row3_col1\" class=\"data row3 col1\" >0.125500</td>\n",
       "      <td id=\"T_a143c_row3_col2\" class=\"data row3 col2\" >0.038200</td>\n",
       "      <td id=\"T_a143c_row3_col3\" class=\"data row3 col3\" >0.037600</td>\n",
       "      <td id=\"T_a143c_row3_col4\" class=\"data row3 col4\" >0.014300</td>\n",
       "      <td id=\"T_a143c_row3_col5\" class=\"data row3 col5\" >0.000200</td>\n",
       "      <td id=\"T_a143c_row3_col6\" class=\"data row3 col6\" >0.017200</td>\n",
       "      <td id=\"T_a143c_row3_col7\" class=\"data row3 col7\" >0.033200</td>\n",
       "      <td id=\"T_a143c_row3_col8\" class=\"data row3 col8\" >0.035000</td>\n",
       "    </tr>\n",
       "    <tr>\n",
       "      <th id=\"T_a143c_level0_row4\" class=\"row_heading level0 row4\" >Alabama State University</th>\n",
       "      <td id=\"T_a143c_row4_col0\" class=\"data row4 col0\" >0.015800</td>\n",
       "      <td id=\"T_a143c_row4_col1\" class=\"data row4 col1\" >0.920800</td>\n",
       "      <td id=\"T_a143c_row4_col2\" class=\"data row4 col2\" >0.012100</td>\n",
       "      <td id=\"T_a143c_row4_col3\" class=\"data row4 col3\" >0.001900</td>\n",
       "      <td id=\"T_a143c_row4_col4\" class=\"data row4 col4\" >0.001000</td>\n",
       "      <td id=\"T_a143c_row4_col5\" class=\"data row4 col5\" >0.000600</td>\n",
       "      <td id=\"T_a143c_row4_col6\" class=\"data row4 col6\" >0.009800</td>\n",
       "      <td id=\"T_a143c_row4_col7\" class=\"data row4 col7\" >0.024300</td>\n",
       "      <td id=\"T_a143c_row4_col8\" class=\"data row4 col8\" >0.013700</td>\n",
       "    </tr>\n",
       "  </tbody>\n",
       "</table>\n"
      ],
      "text/plain": [
       "<pandas.io.formats.style.Styler at 0x2c40d2bdbe0>"
      ]
     },
     "execution_count": 135,
     "metadata": {},
     "output_type": "execute_result"
    }
   ],
   "source": [
    "college_ugds.style.highlight_max(axis='columns')"
   ]
  },
  {
   "cell_type": "markdown",
   "id": "8fef3d43",
   "metadata": {},
   "source": [
    "## Replicating idxmax with method chaining"
   ]
  },
  {
   "cell_type": "markdown",
   "id": "1eb30e15",
   "metadata": {},
   "source": [
    "A good exercise is to attempt an implementation of a built-in DataFrame method on your own.\n",
    "This type of replication can give you a deeper understanding of other pandas methods that\n",
    "you normally wouldn't have come across. .idxmax is a challenging method to replicate using\n",
    "only the methods covered thus far in the book.\n",
    "This recipe slowly chains together basic methods to eventually find all the row index values\n",
    "that contain a maximum column value."
   ]
  },
  {
   "cell_type": "code",
   "execution_count": 136,
   "id": "f0fa69a3",
   "metadata": {},
   "outputs": [],
   "source": [
    "# Load in the college dataset and execute the same\n",
    "# operations as the previous recipe to get only the\n",
    "# numeric columns that are of interest\n",
    "\n",
    "def remove_binary_cols(df):\n",
    "    binary_only = df.nunique() == 2\n",
    "    cols = binary_only[binary_only].index.to_list()\n",
    "    return df.drop(columns=cols)"
   ]
  },
  {
   "cell_type": "code",
   "execution_count": 137,
   "id": "ebbf3a80",
   "metadata": {},
   "outputs": [],
   "source": [
    "college_n = (\n",
    "    college\n",
    "    .assign(\n",
    "        MD_EARN_WNE_P10=pd.to_numeric(\n",
    "            college.MD_EARN_WNE_P10, errors='coerce'\n",
    "        ),\n",
    "        GRAD_DEBT_MDN_SUPP=pd.to_numeric(\n",
    "            college.GRAD_DEBT_MDN_SUPP, errors='coerce'\n",
    "        )\n",
    "    )\n",
    "    .select_dtypes(np.number)\n",
    "    .pipe(remove_binary_cols)\n",
    ")"
   ]
  },
  {
   "cell_type": "code",
   "execution_count": 138,
   "id": "5394d767",
   "metadata": {},
   "outputs": [
    {
     "data": {
      "text/plain": [
       "SATVRMID         765.0\n",
       "SATMTMID         785.0\n",
       "UGDS          151558.0\n",
       "UGDS_WHITE         1.0\n",
       "UGDS_BLACK         1.0\n",
       "dtype: float64"
      ]
     },
     "execution_count": 138,
     "metadata": {},
     "output_type": "execute_result"
    }
   ],
   "source": [
    "# find the maximum of each column with the .max method\n",
    "college_n.max().head()"
   ]
  },
  {
   "cell_type": "markdown",
   "id": "6b14c2a4",
   "metadata": {},
   "source": [
    "Use the .eq DataFrame method to test each value against the column .max method.\n",
    "By default, the .eq method aligns the columns of the column DataFrame with the\n",
    "labels of the passed Series index:"
   ]
  },
  {
   "cell_type": "code",
   "execution_count": 139,
   "id": "178a1259",
   "metadata": {},
   "outputs": [
    {
     "data": {
      "text/html": [
       "<div>\n",
       "<style scoped>\n",
       "    .dataframe tbody tr th:only-of-type {\n",
       "        vertical-align: middle;\n",
       "    }\n",
       "\n",
       "    .dataframe tbody tr th {\n",
       "        vertical-align: top;\n",
       "    }\n",
       "\n",
       "    .dataframe thead th {\n",
       "        text-align: right;\n",
       "    }\n",
       "</style>\n",
       "<table border=\"1\" class=\"dataframe\">\n",
       "  <thead>\n",
       "    <tr style=\"text-align: right;\">\n",
       "      <th></th>\n",
       "      <th>SATVRMID</th>\n",
       "      <th>SATMTMID</th>\n",
       "      <th>...</th>\n",
       "      <th>MD_EARN_WNE_P10</th>\n",
       "      <th>GRAD_DEBT_MDN_SUPP</th>\n",
       "    </tr>\n",
       "    <tr>\n",
       "      <th>INSTNM</th>\n",
       "      <th></th>\n",
       "      <th></th>\n",
       "      <th></th>\n",
       "      <th></th>\n",
       "      <th></th>\n",
       "    </tr>\n",
       "  </thead>\n",
       "  <tbody>\n",
       "    <tr>\n",
       "      <th>Alabama A &amp; M University</th>\n",
       "      <td>False</td>\n",
       "      <td>False</td>\n",
       "      <td>...</td>\n",
       "      <td>False</td>\n",
       "      <td>False</td>\n",
       "    </tr>\n",
       "    <tr>\n",
       "      <th>University of Alabama at Birmingham</th>\n",
       "      <td>False</td>\n",
       "      <td>False</td>\n",
       "      <td>...</td>\n",
       "      <td>False</td>\n",
       "      <td>False</td>\n",
       "    </tr>\n",
       "    <tr>\n",
       "      <th>Amridge University</th>\n",
       "      <td>False</td>\n",
       "      <td>False</td>\n",
       "      <td>...</td>\n",
       "      <td>False</td>\n",
       "      <td>False</td>\n",
       "    </tr>\n",
       "    <tr>\n",
       "      <th>University of Alabama in Huntsville</th>\n",
       "      <td>False</td>\n",
       "      <td>False</td>\n",
       "      <td>...</td>\n",
       "      <td>False</td>\n",
       "      <td>False</td>\n",
       "    </tr>\n",
       "    <tr>\n",
       "      <th>Alabama State University</th>\n",
       "      <td>False</td>\n",
       "      <td>False</td>\n",
       "      <td>...</td>\n",
       "      <td>False</td>\n",
       "      <td>False</td>\n",
       "    </tr>\n",
       "  </tbody>\n",
       "</table>\n",
       "<p>5 rows × 18 columns</p>\n",
       "</div>"
      ],
      "text/plain": [
       "                                     SATVRMID  SATMTMID  ...  MD_EARN_WNE_P10  \\\n",
       "INSTNM                                                   ...                    \n",
       "Alabama A & M University                False     False  ...            False   \n",
       "University of Alabama at Birmingham     False     False  ...            False   \n",
       "Amridge University                      False     False  ...            False   \n",
       "University of Alabama in Huntsville     False     False  ...            False   \n",
       "Alabama State University                False     False  ...            False   \n",
       "\n",
       "                                     GRAD_DEBT_MDN_SUPP  \n",
       "INSTNM                                                   \n",
       "Alabama A & M University                          False  \n",
       "University of Alabama at Birmingham               False  \n",
       "Amridge University                                False  \n",
       "University of Alabama in Huntsville               False  \n",
       "Alabama State University                          False  \n",
       "\n",
       "[5 rows x 18 columns]"
      ]
     },
     "execution_count": 139,
     "metadata": {},
     "output_type": "execute_result"
    }
   ],
   "source": [
    "college_n.eq(college_n.max()).head()"
   ]
  },
  {
   "cell_type": "markdown",
   "id": "714467f3",
   "metadata": {},
   "source": [
    "All the rows in this DataFrame that have at least one True value must contain\n",
    "a column maximum. Let's use the .any method to find all such rows that have\n",
    "at least one True value:"
   ]
  },
  {
   "cell_type": "code",
   "execution_count": 140,
   "id": "51c8646e",
   "metadata": {},
   "outputs": [],
   "source": [
    "has_row_max = (\n",
    "    college_n\n",
    "    .eq(college_n.max())\n",
    "    .any(axis='columns')\n",
    ")"
   ]
  },
  {
   "cell_type": "code",
   "execution_count": 141,
   "id": "e5b6b47c",
   "metadata": {},
   "outputs": [
    {
     "data": {
      "text/plain": [
       "INSTNM\n",
       "Alabama A & M University                                  False\n",
       "University of Alabama at Birmingham                       False\n",
       "Amridge University                                        False\n",
       "University of Alabama in Huntsville                       False\n",
       "Alabama State University                                  False\n",
       "                                                          ...  \n",
       "SAE Institute of Technology  San Francisco                False\n",
       "Rasmussen College - Overland Park                         False\n",
       "National Personal Training Institute of Cleveland         False\n",
       "Bay Area Medical Academy - San Jose Satellite Location    False\n",
       "Excel Learning Center-San Antonio South                   False\n",
       "Length: 7535, dtype: bool"
      ]
     },
     "execution_count": 141,
     "metadata": {},
     "output_type": "execute_result"
    }
   ],
   "source": [
    "has_row_max"
   ]
  },
  {
   "cell_type": "code",
   "execution_count": 142,
   "id": "b1e41504",
   "metadata": {},
   "outputs": [
    {
     "data": {
      "text/plain": [
       "(7535, 18)"
      ]
     },
     "execution_count": 142,
     "metadata": {},
     "output_type": "execute_result"
    }
   ],
   "source": [
    "# There are only 18 columns, which means that there \n",
    "# should only be at most 18 True values in has_row_max.\n",
    "# Let's find out how many there are:\n",
    "college_n.shape"
   ]
  },
  {
   "cell_type": "code",
   "execution_count": 143,
   "id": "9b9ccd71",
   "metadata": {},
   "outputs": [
    {
     "data": {
      "text/plain": [
       "401"
      ]
     },
     "execution_count": 143,
     "metadata": {},
     "output_type": "execute_result"
    }
   ],
   "source": [
    "has_row_max.sum()"
   ]
  },
  {
   "cell_type": "markdown",
   "id": "3aa1ab9e",
   "metadata": {},
   "source": [
    "This was a bit unexpected, but it turns out that there are columns with many rows\n",
    "that equal the maximum value. This is common with many of the percentage columns\n",
    "that have a maximum of 1. .idxmax returns the first occurrence of the maximum\n",
    "value. Let's back up a bit, remove the .any method, and look at the output from\n",
    "step 3. Let's run the .cumsum method instead to accumulate all the True values:"
   ]
  },
  {
   "cell_type": "code",
   "execution_count": 144,
   "id": "6aaf264b",
   "metadata": {},
   "outputs": [
    {
     "data": {
      "text/html": [
       "<div>\n",
       "<style scoped>\n",
       "    .dataframe tbody tr th:only-of-type {\n",
       "        vertical-align: middle;\n",
       "    }\n",
       "\n",
       "    .dataframe tbody tr th {\n",
       "        vertical-align: top;\n",
       "    }\n",
       "\n",
       "    .dataframe thead th {\n",
       "        text-align: right;\n",
       "    }\n",
       "</style>\n",
       "<table border=\"1\" class=\"dataframe\">\n",
       "  <thead>\n",
       "    <tr style=\"text-align: right;\">\n",
       "      <th></th>\n",
       "      <th>SATVRMID</th>\n",
       "      <th>SATMTMID</th>\n",
       "      <th>...</th>\n",
       "      <th>MD_EARN_WNE_P10</th>\n",
       "      <th>GRAD_DEBT_MDN_SUPP</th>\n",
       "    </tr>\n",
       "    <tr>\n",
       "      <th>INSTNM</th>\n",
       "      <th></th>\n",
       "      <th></th>\n",
       "      <th></th>\n",
       "      <th></th>\n",
       "      <th></th>\n",
       "    </tr>\n",
       "  </thead>\n",
       "  <tbody>\n",
       "    <tr>\n",
       "      <th>Alabama A &amp; M University</th>\n",
       "      <td>0</td>\n",
       "      <td>0</td>\n",
       "      <td>...</td>\n",
       "      <td>0</td>\n",
       "      <td>0</td>\n",
       "    </tr>\n",
       "    <tr>\n",
       "      <th>University of Alabama at Birmingham</th>\n",
       "      <td>0</td>\n",
       "      <td>0</td>\n",
       "      <td>...</td>\n",
       "      <td>0</td>\n",
       "      <td>0</td>\n",
       "    </tr>\n",
       "    <tr>\n",
       "      <th>Amridge University</th>\n",
       "      <td>0</td>\n",
       "      <td>0</td>\n",
       "      <td>...</td>\n",
       "      <td>0</td>\n",
       "      <td>0</td>\n",
       "    </tr>\n",
       "    <tr>\n",
       "      <th>University of Alabama in Huntsville</th>\n",
       "      <td>0</td>\n",
       "      <td>0</td>\n",
       "      <td>...</td>\n",
       "      <td>0</td>\n",
       "      <td>0</td>\n",
       "    </tr>\n",
       "    <tr>\n",
       "      <th>Alabama State University</th>\n",
       "      <td>0</td>\n",
       "      <td>0</td>\n",
       "      <td>...</td>\n",
       "      <td>0</td>\n",
       "      <td>0</td>\n",
       "    </tr>\n",
       "    <tr>\n",
       "      <th>...</th>\n",
       "      <td>...</td>\n",
       "      <td>...</td>\n",
       "      <td>...</td>\n",
       "      <td>...</td>\n",
       "      <td>...</td>\n",
       "    </tr>\n",
       "    <tr>\n",
       "      <th>SAE Institute of Technology  San Francisco</th>\n",
       "      <td>1</td>\n",
       "      <td>1</td>\n",
       "      <td>...</td>\n",
       "      <td>1</td>\n",
       "      <td>2</td>\n",
       "    </tr>\n",
       "    <tr>\n",
       "      <th>Rasmussen College - Overland Park</th>\n",
       "      <td>1</td>\n",
       "      <td>1</td>\n",
       "      <td>...</td>\n",
       "      <td>1</td>\n",
       "      <td>2</td>\n",
       "    </tr>\n",
       "    <tr>\n",
       "      <th>National Personal Training Institute of Cleveland</th>\n",
       "      <td>1</td>\n",
       "      <td>1</td>\n",
       "      <td>...</td>\n",
       "      <td>1</td>\n",
       "      <td>2</td>\n",
       "    </tr>\n",
       "    <tr>\n",
       "      <th>Bay Area Medical Academy - San Jose Satellite Location</th>\n",
       "      <td>1</td>\n",
       "      <td>1</td>\n",
       "      <td>...</td>\n",
       "      <td>1</td>\n",
       "      <td>2</td>\n",
       "    </tr>\n",
       "    <tr>\n",
       "      <th>Excel Learning Center-San Antonio South</th>\n",
       "      <td>1</td>\n",
       "      <td>1</td>\n",
       "      <td>...</td>\n",
       "      <td>1</td>\n",
       "      <td>2</td>\n",
       "    </tr>\n",
       "  </tbody>\n",
       "</table>\n",
       "<p>7535 rows × 18 columns</p>\n",
       "</div>"
      ],
      "text/plain": [
       "                                                    SATVRMID  SATMTMID  ...  \\\n",
       "INSTNM                                                                  ...   \n",
       "Alabama A & M University                                   0         0  ...   \n",
       "University of Alabama at Birmingham                        0         0  ...   \n",
       "Amridge University                                         0         0  ...   \n",
       "University of Alabama in Huntsville                        0         0  ...   \n",
       "Alabama State University                                   0         0  ...   \n",
       "...                                                      ...       ...  ...   \n",
       "SAE Institute of Technology  San Francisco                 1         1  ...   \n",
       "Rasmussen College - Overland Park                          1         1  ...   \n",
       "National Personal Training Institute of Cleveland          1         1  ...   \n",
       "Bay Area Medical Academy - San Jose Satellite L...         1         1  ...   \n",
       "Excel Learning Center-San Antonio South                    1         1  ...   \n",
       "\n",
       "                                                    MD_EARN_WNE_P10  \\\n",
       "INSTNM                                                                \n",
       "Alabama A & M University                                          0   \n",
       "University of Alabama at Birmingham                               0   \n",
       "Amridge University                                                0   \n",
       "University of Alabama in Huntsville                               0   \n",
       "Alabama State University                                          0   \n",
       "...                                                             ...   \n",
       "SAE Institute of Technology  San Francisco                        1   \n",
       "Rasmussen College - Overland Park                                 1   \n",
       "National Personal Training Institute of Cleveland                 1   \n",
       "Bay Area Medical Academy - San Jose Satellite L...                1   \n",
       "Excel Learning Center-San Antonio South                           1   \n",
       "\n",
       "                                                    GRAD_DEBT_MDN_SUPP  \n",
       "INSTNM                                                                  \n",
       "Alabama A & M University                                             0  \n",
       "University of Alabama at Birmingham                                  0  \n",
       "Amridge University                                                   0  \n",
       "University of Alabama in Huntsville                                  0  \n",
       "Alabama State University                                             0  \n",
       "...                                                                ...  \n",
       "SAE Institute of Technology  San Francisco                           2  \n",
       "Rasmussen College - Overland Park                                    2  \n",
       "National Personal Training Institute of Cleveland                    2  \n",
       "Bay Area Medical Academy - San Jose Satellite L...                   2  \n",
       "Excel Learning Center-San Antonio South                              2  \n",
       "\n",
       "[7535 rows x 18 columns]"
      ]
     },
     "execution_count": 144,
     "metadata": {},
     "output_type": "execute_result"
    }
   ],
   "source": [
    "college_n.eq(college_n.max()).cumsum()"
   ]
  },
  {
   "cell_type": "markdown",
   "id": "f4fa3089",
   "metadata": {},
   "source": [
    "Some columns have one unique maximum, like SATVRMID and SATMTMID, while\n",
    "others like UGDS_WHITE have many. 109 schools have 100% of their undergraduates\n",
    "as White. If we chain the .cumsum method one more time, the value 1 would only\n",
    "appear once in each column and it would be the first occurrence of the maximum:"
   ]
  },
  {
   "cell_type": "code",
   "execution_count": 145,
   "id": "83624fbb",
   "metadata": {},
   "outputs": [
    {
     "data": {
      "text/html": [
       "<div>\n",
       "<style scoped>\n",
       "    .dataframe tbody tr th:only-of-type {\n",
       "        vertical-align: middle;\n",
       "    }\n",
       "\n",
       "    .dataframe tbody tr th {\n",
       "        vertical-align: top;\n",
       "    }\n",
       "\n",
       "    .dataframe thead th {\n",
       "        text-align: right;\n",
       "    }\n",
       "</style>\n",
       "<table border=\"1\" class=\"dataframe\">\n",
       "  <thead>\n",
       "    <tr style=\"text-align: right;\">\n",
       "      <th></th>\n",
       "      <th>SATVRMID</th>\n",
       "      <th>SATMTMID</th>\n",
       "      <th>...</th>\n",
       "      <th>MD_EARN_WNE_P10</th>\n",
       "      <th>GRAD_DEBT_MDN_SUPP</th>\n",
       "    </tr>\n",
       "    <tr>\n",
       "      <th>INSTNM</th>\n",
       "      <th></th>\n",
       "      <th></th>\n",
       "      <th></th>\n",
       "      <th></th>\n",
       "      <th></th>\n",
       "    </tr>\n",
       "  </thead>\n",
       "  <tbody>\n",
       "    <tr>\n",
       "      <th>Alabama A &amp; M University</th>\n",
       "      <td>0</td>\n",
       "      <td>0</td>\n",
       "      <td>...</td>\n",
       "      <td>0</td>\n",
       "      <td>0</td>\n",
       "    </tr>\n",
       "    <tr>\n",
       "      <th>University of Alabama at Birmingham</th>\n",
       "      <td>0</td>\n",
       "      <td>0</td>\n",
       "      <td>...</td>\n",
       "      <td>0</td>\n",
       "      <td>0</td>\n",
       "    </tr>\n",
       "    <tr>\n",
       "      <th>Amridge University</th>\n",
       "      <td>0</td>\n",
       "      <td>0</td>\n",
       "      <td>...</td>\n",
       "      <td>0</td>\n",
       "      <td>0</td>\n",
       "    </tr>\n",
       "    <tr>\n",
       "      <th>University of Alabama in Huntsville</th>\n",
       "      <td>0</td>\n",
       "      <td>0</td>\n",
       "      <td>...</td>\n",
       "      <td>0</td>\n",
       "      <td>0</td>\n",
       "    </tr>\n",
       "    <tr>\n",
       "      <th>Alabama State University</th>\n",
       "      <td>0</td>\n",
       "      <td>0</td>\n",
       "      <td>...</td>\n",
       "      <td>0</td>\n",
       "      <td>0</td>\n",
       "    </tr>\n",
       "    <tr>\n",
       "      <th>...</th>\n",
       "      <td>...</td>\n",
       "      <td>...</td>\n",
       "      <td>...</td>\n",
       "      <td>...</td>\n",
       "      <td>...</td>\n",
       "    </tr>\n",
       "    <tr>\n",
       "      <th>SAE Institute of Technology  San Francisco</th>\n",
       "      <td>7305</td>\n",
       "      <td>7305</td>\n",
       "      <td>...</td>\n",
       "      <td>3445</td>\n",
       "      <td>10266</td>\n",
       "    </tr>\n",
       "    <tr>\n",
       "      <th>Rasmussen College - Overland Park</th>\n",
       "      <td>7306</td>\n",
       "      <td>7306</td>\n",
       "      <td>...</td>\n",
       "      <td>3446</td>\n",
       "      <td>10268</td>\n",
       "    </tr>\n",
       "    <tr>\n",
       "      <th>National Personal Training Institute of Cleveland</th>\n",
       "      <td>7307</td>\n",
       "      <td>7307</td>\n",
       "      <td>...</td>\n",
       "      <td>3447</td>\n",
       "      <td>10270</td>\n",
       "    </tr>\n",
       "    <tr>\n",
       "      <th>Bay Area Medical Academy - San Jose Satellite Location</th>\n",
       "      <td>7308</td>\n",
       "      <td>7308</td>\n",
       "      <td>...</td>\n",
       "      <td>3448</td>\n",
       "      <td>10272</td>\n",
       "    </tr>\n",
       "    <tr>\n",
       "      <th>Excel Learning Center-San Antonio South</th>\n",
       "      <td>7309</td>\n",
       "      <td>7309</td>\n",
       "      <td>...</td>\n",
       "      <td>3449</td>\n",
       "      <td>10274</td>\n",
       "    </tr>\n",
       "  </tbody>\n",
       "</table>\n",
       "<p>7535 rows × 18 columns</p>\n",
       "</div>"
      ],
      "text/plain": [
       "                                                    SATVRMID  SATMTMID  ...  \\\n",
       "INSTNM                                                                  ...   \n",
       "Alabama A & M University                                   0         0  ...   \n",
       "University of Alabama at Birmingham                        0         0  ...   \n",
       "Amridge University                                         0         0  ...   \n",
       "University of Alabama in Huntsville                        0         0  ...   \n",
       "Alabama State University                                   0         0  ...   \n",
       "...                                                      ...       ...  ...   \n",
       "SAE Institute of Technology  San Francisco              7305      7305  ...   \n",
       "Rasmussen College - Overland Park                       7306      7306  ...   \n",
       "National Personal Training Institute of Cleveland       7307      7307  ...   \n",
       "Bay Area Medical Academy - San Jose Satellite L...      7308      7308  ...   \n",
       "Excel Learning Center-San Antonio South                 7309      7309  ...   \n",
       "\n",
       "                                                    MD_EARN_WNE_P10  \\\n",
       "INSTNM                                                                \n",
       "Alabama A & M University                                          0   \n",
       "University of Alabama at Birmingham                               0   \n",
       "Amridge University                                                0   \n",
       "University of Alabama in Huntsville                               0   \n",
       "Alabama State University                                          0   \n",
       "...                                                             ...   \n",
       "SAE Institute of Technology  San Francisco                     3445   \n",
       "Rasmussen College - Overland Park                              3446   \n",
       "National Personal Training Institute of Cleveland              3447   \n",
       "Bay Area Medical Academy - San Jose Satellite L...             3448   \n",
       "Excel Learning Center-San Antonio South                        3449   \n",
       "\n",
       "                                                    GRAD_DEBT_MDN_SUPP  \n",
       "INSTNM                                                                  \n",
       "Alabama A & M University                                             0  \n",
       "University of Alabama at Birmingham                                  0  \n",
       "Amridge University                                                   0  \n",
       "University of Alabama in Huntsville                                  0  \n",
       "Alabama State University                                             0  \n",
       "...                                                                ...  \n",
       "SAE Institute of Technology  San Francisco                       10266  \n",
       "Rasmussen College - Overland Park                                10268  \n",
       "National Personal Training Institute of Cleveland                10270  \n",
       "Bay Area Medical Academy - San Jose Satellite L...               10272  \n",
       "Excel Learning Center-San Antonio South                          10274  \n",
       "\n",
       "[7535 rows x 18 columns]"
      ]
     },
     "execution_count": 145,
     "metadata": {},
     "output_type": "execute_result"
    }
   ],
   "source": [
    "college_n.eq(college_n.max()).cumsum().cumsum()"
   ]
  },
  {
   "cell_type": "code",
   "execution_count": 146,
   "id": "578474e7",
   "metadata": {},
   "outputs": [],
   "source": [
    "# We can now test the equality of each value against 1 \n",
    "# with the .eq method and then use the .any method to\n",
    "# find rows that have at least one True value:\n",
    "\n",
    "has_row_max2 = (\n",
    "    college_n.eq(college_n.max())\n",
    "    .cumsum()\n",
    "    .cumsum()\n",
    "    .eq(1)\n",
    "    .any(axis='columns')\n",
    ")"
   ]
  },
  {
   "cell_type": "code",
   "execution_count": 148,
   "id": "0d43312d",
   "metadata": {},
   "outputs": [
    {
     "data": {
      "text/plain": [
       "INSTNM\n",
       "Alabama A & M University               False\n",
       "University of Alabama at Birmingham    False\n",
       "Amridge University                     False\n",
       "University of Alabama in Huntsville    False\n",
       "Alabama State University               False\n",
       "dtype: bool"
      ]
     },
     "execution_count": 148,
     "metadata": {},
     "output_type": "execute_result"
    }
   ],
   "source": [
    "has_row_max2.head()"
   ]
  },
  {
   "cell_type": "code",
   "execution_count": 149,
   "id": "d2e4a81c",
   "metadata": {},
   "outputs": [
    {
     "data": {
      "text/plain": [
       "16"
      ]
     },
     "execution_count": 149,
     "metadata": {},
     "output_type": "execute_result"
    }
   ],
   "source": [
    "# Check that has_row_max2 has no more True values\n",
    "# than the number of columns:\n",
    "has_row_max2.sum()"
   ]
  },
  {
   "cell_type": "code",
   "execution_count": 150,
   "id": "9f7a5787",
   "metadata": {},
   "outputs": [],
   "source": [
    "# We need all the institutions where has_row_max2 is \n",
    "# True. We can use Boolean indexing on the Series itself\n",
    "idxmax_cols = has_row_max2[has_row_max2].index"
   ]
  },
  {
   "cell_type": "code",
   "execution_count": 151,
   "id": "1af07dbe",
   "metadata": {},
   "outputs": [
    {
     "data": {
      "text/plain": [
       "Index(['Thunderbird School of Global Management',\n",
       "       'Southwest University of Visual Arts-Tucson', 'ABC Beauty College Inc',\n",
       "       'Velvatex College of Beauty Culture',\n",
       "       'California Institute of Technology',\n",
       "       'Le Cordon Bleu College of Culinary Arts-San Francisco',\n",
       "       'MTI Business College Inc', 'Dongguk University-Los Angeles',\n",
       "       'Mr Leon's School of Hair Design-Moscow',\n",
       "       'Haskell Indian Nations University', 'LIU Brentwood',\n",
       "       'Medical College of Wisconsin', 'Palau Community College',\n",
       "       'California University of Management and Sciences',\n",
       "       'Cosmopolitan Beauty and Tech School', 'University of Phoenix-Arizona'],\n",
       "      dtype='object', name='INSTNM')"
      ]
     },
     "execution_count": 151,
     "metadata": {},
     "output_type": "execute_result"
    }
   ],
   "source": [
    "idxmax_cols"
   ]
  },
  {
   "cell_type": "markdown",
   "id": "df12a9a4",
   "metadata": {},
   "source": [
    "All 16 of these institutions are the index of the first maximum occurrence for at least\n",
    "one of the columns. We can check whether they are the same as the ones found with\n",
    "the .idxmax method:"
   ]
  },
  {
   "cell_type": "code",
   "execution_count": 152,
   "id": "1f33d554",
   "metadata": {},
   "outputs": [
    {
     "data": {
      "text/plain": [
       "True"
      ]
     },
     "execution_count": 152,
     "metadata": {},
     "output_type": "execute_result"
    }
   ],
   "source": [
    "set(college_n.idxmax().unique()) == set(idxmax_cols)"
   ]
  },
  {
   "cell_type": "markdown",
   "id": "f8c8bac0",
   "metadata": {},
   "source": [
    "## Finding the most common maximum of columns"
   ]
  },
  {
   "cell_type": "code",
   "execution_count": 4,
   "id": "712443ef",
   "metadata": {},
   "outputs": [],
   "source": [
    "# Read in the college dataset and select just those\n",
    "# columns with undergraduate race \n",
    "# percentage information:\n",
    "college = pd.read_csv('C:/Users/justine.o_kobo360/Desktop/Pandas Workbook/Pandas CookBook 1.x/Data files/college.csv', index_col='INSTNM')"
   ]
  },
  {
   "cell_type": "code",
   "execution_count": 5,
   "id": "d1452de4",
   "metadata": {},
   "outputs": [],
   "source": [
    "college_ugds = college.filter(like=\"UGDS_\")"
   ]
  },
  {
   "cell_type": "code",
   "execution_count": 6,
   "id": "253c7b99",
   "metadata": {},
   "outputs": [
    {
     "data": {
      "text/html": [
       "<div>\n",
       "<style scoped>\n",
       "    .dataframe tbody tr th:only-of-type {\n",
       "        vertical-align: middle;\n",
       "    }\n",
       "\n",
       "    .dataframe tbody tr th {\n",
       "        vertical-align: top;\n",
       "    }\n",
       "\n",
       "    .dataframe thead th {\n",
       "        text-align: right;\n",
       "    }\n",
       "</style>\n",
       "<table border=\"1\" class=\"dataframe\">\n",
       "  <thead>\n",
       "    <tr style=\"text-align: right;\">\n",
       "      <th></th>\n",
       "      <th>UGDS_WHITE</th>\n",
       "      <th>UGDS_BLACK</th>\n",
       "      <th>...</th>\n",
       "      <th>UGDS_NRA</th>\n",
       "      <th>UGDS_UNKN</th>\n",
       "    </tr>\n",
       "    <tr>\n",
       "      <th>INSTNM</th>\n",
       "      <th></th>\n",
       "      <th></th>\n",
       "      <th></th>\n",
       "      <th></th>\n",
       "      <th></th>\n",
       "    </tr>\n",
       "  </thead>\n",
       "  <tbody>\n",
       "    <tr>\n",
       "      <th>Alabama A &amp; M University</th>\n",
       "      <td>0.0333</td>\n",
       "      <td>0.9353</td>\n",
       "      <td>...</td>\n",
       "      <td>0.0059</td>\n",
       "      <td>0.0138</td>\n",
       "    </tr>\n",
       "    <tr>\n",
       "      <th>University of Alabama at Birmingham</th>\n",
       "      <td>0.5922</td>\n",
       "      <td>0.2600</td>\n",
       "      <td>...</td>\n",
       "      <td>0.0179</td>\n",
       "      <td>0.0100</td>\n",
       "    </tr>\n",
       "    <tr>\n",
       "      <th>Amridge University</th>\n",
       "      <td>0.2990</td>\n",
       "      <td>0.4192</td>\n",
       "      <td>...</td>\n",
       "      <td>0.0000</td>\n",
       "      <td>0.2715</td>\n",
       "    </tr>\n",
       "    <tr>\n",
       "      <th>University of Alabama in Huntsville</th>\n",
       "      <td>0.6988</td>\n",
       "      <td>0.1255</td>\n",
       "      <td>...</td>\n",
       "      <td>0.0332</td>\n",
       "      <td>0.0350</td>\n",
       "    </tr>\n",
       "    <tr>\n",
       "      <th>Alabama State University</th>\n",
       "      <td>0.0158</td>\n",
       "      <td>0.9208</td>\n",
       "      <td>...</td>\n",
       "      <td>0.0243</td>\n",
       "      <td>0.0137</td>\n",
       "    </tr>\n",
       "  </tbody>\n",
       "</table>\n",
       "<p>5 rows × 9 columns</p>\n",
       "</div>"
      ],
      "text/plain": [
       "                                     UGDS_WHITE  UGDS_BLACK  ...  UGDS_NRA  \\\n",
       "INSTNM                                                       ...             \n",
       "Alabama A & M University                 0.0333      0.9353  ...    0.0059   \n",
       "University of Alabama at Birmingham      0.5922      0.2600  ...    0.0179   \n",
       "Amridge University                       0.2990      0.4192  ...    0.0000   \n",
       "University of Alabama in Huntsville      0.6988      0.1255  ...    0.0332   \n",
       "Alabama State University                 0.0158      0.9208  ...    0.0243   \n",
       "\n",
       "                                     UGDS_UNKN  \n",
       "INSTNM                                          \n",
       "Alabama A & M University                0.0138  \n",
       "University of Alabama at Birmingham     0.0100  \n",
       "Amridge University                      0.2715  \n",
       "University of Alabama in Huntsville     0.0350  \n",
       "Alabama State University                0.0137  \n",
       "\n",
       "[5 rows x 9 columns]"
      ]
     },
     "execution_count": 6,
     "metadata": {},
     "output_type": "execute_result"
    }
   ],
   "source": [
    "college_ugds.head()"
   ]
  },
  {
   "cell_type": "code",
   "execution_count": 7,
   "id": "46cddf4a",
   "metadata": {},
   "outputs": [],
   "source": [
    "# Use the .idxmax method applied against the column\n",
    "# axis to get the college name with the highest race\n",
    "# percentage for each row:\n",
    "highest_percentage_race = college_ugds.idxmax(\n",
    "    axis='columns'\n",
    ")"
   ]
  },
  {
   "cell_type": "code",
   "execution_count": 8,
   "id": "56b06d9f",
   "metadata": {},
   "outputs": [
    {
     "data": {
      "text/plain": [
       "INSTNM\n",
       "Alabama A & M University               UGDS_BLACK\n",
       "University of Alabama at Birmingham    UGDS_WHITE\n",
       "Amridge University                     UGDS_BLACK\n",
       "University of Alabama in Huntsville    UGDS_WHITE\n",
       "Alabama State University               UGDS_BLACK\n",
       "dtype: object"
      ]
     },
     "execution_count": 8,
     "metadata": {},
     "output_type": "execute_result"
    }
   ],
   "source": [
    "highest_percentage_race.head()"
   ]
  },
  {
   "cell_type": "code",
   "execution_count": 9,
   "id": "c0c76489",
   "metadata": {},
   "outputs": [
    {
     "data": {
      "text/plain": [
       "UGDS_WHITE    0.670352\n",
       "UGDS_BLACK    0.151586\n",
       "UGDS_HISP     0.129473\n",
       "UGDS_UNKN     0.023422\n",
       "UGDS_ASIAN    0.012074\n",
       "UGDS_AIAN     0.006110\n",
       "UGDS_NRA      0.004073\n",
       "UGDS_NHPI     0.001746\n",
       "UGDS_2MOR     0.001164\n",
       "dtype: float64"
      ]
     },
     "execution_count": 9,
     "metadata": {},
     "output_type": "execute_result"
    }
   ],
   "source": [
    "# Use the .value_counts method to return the\n",
    "# distribution of maximum occurrences.\n",
    "# Add the normalize=True parameter so that it sums \n",
    "# to 1:\n",
    "highest_percentage_race.value_counts(normalize=True)"
   ]
  },
  {
   "cell_type": "code",
   "execution_count": 10,
   "id": "9efb1603",
   "metadata": {},
   "outputs": [
    {
     "data": {
      "text/plain": [
       "UGDS_WHITE    0.661228\n",
       "UGDS_HISP     0.230326\n",
       "UGDS_UNKN     0.071977\n",
       "UGDS_NRA      0.018234\n",
       "UGDS_ASIAN    0.009597\n",
       "UGDS_2MOR     0.006718\n",
       "UGDS_AIAN     0.000960\n",
       "UGDS_NHPI     0.000960\n",
       "dtype: float64"
      ]
     },
     "execution_count": 10,
     "metadata": {},
     "output_type": "execute_result"
    }
   ],
   "source": [
    "(\n",
    "    college_ugds\n",
    "    [highest_percentage_race == 'UGDS_BLACK']\n",
    "    .drop(columns=\"UGDS_BLACK\")\n",
    "    .idxmax(axis='columns')\n",
    "    .value_counts(normalize=True)\n",
    ")"
   ]
  },
  {
   "cell_type": "code",
   "execution_count": null,
   "id": "5f8a978b",
   "metadata": {},
   "outputs": [],
   "source": []
  }
 ],
 "metadata": {
  "kernelspec": {
   "display_name": "Python 3 (ipykernel)",
   "language": "python",
   "name": "python3"
  },
  "language_info": {
   "codemirror_mode": {
    "name": "ipython",
    "version": 3
   },
   "file_extension": ".py",
   "mimetype": "text/x-python",
   "name": "python",
   "nbconvert_exporter": "python",
   "pygments_lexer": "ipython3",
   "version": "3.9.7"
  }
 },
 "nbformat": 4,
 "nbformat_minor": 5
}
