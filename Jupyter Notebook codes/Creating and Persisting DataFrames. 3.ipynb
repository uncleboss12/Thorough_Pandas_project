{
 "cells": [
  {
   "cell_type": "markdown",
   "id": "9d886d9e",
   "metadata": {},
   "source": [
    "## Creating DataFrames from Scratch"
   ]
  },
  {
   "cell_type": "code",
   "execution_count": 2,
   "id": "a0cf461e",
   "metadata": {},
   "outputs": [],
   "source": [
    "import numpy as np \n",
    "import pandas as pd "
   ]
  },
  {
   "cell_type": "code",
   "execution_count": 13,
   "id": "6130e387",
   "metadata": {},
   "outputs": [],
   "source": [
    "fname = [\"Paul\", \"John\", \"Richard\", \"George\"]\n",
    "lname = [\"McCartney\", \"Lennon\", \"Starkey\", \"Harrison\"]\n",
    "birth = [1942, 1940, 1940, 1943]"
   ]
  },
  {
   "cell_type": "code",
   "execution_count": 15,
   "id": "a5077f1b",
   "metadata": {},
   "outputs": [],
   "source": [
    "people = {'first': fname, \"last\": lname, \"birth\": birth}"
   ]
  },
  {
   "cell_type": "code",
   "execution_count": 17,
   "id": "5d356972",
   "metadata": {},
   "outputs": [],
   "source": [
    "beatles = pd.DataFrame(people)"
   ]
  },
  {
   "cell_type": "code",
   "execution_count": 18,
   "id": "eb093167",
   "metadata": {},
   "outputs": [
    {
     "data": {
      "text/html": [
       "<div>\n",
       "<style scoped>\n",
       "    .dataframe tbody tr th:only-of-type {\n",
       "        vertical-align: middle;\n",
       "    }\n",
       "\n",
       "    .dataframe tbody tr th {\n",
       "        vertical-align: top;\n",
       "    }\n",
       "\n",
       "    .dataframe thead th {\n",
       "        text-align: right;\n",
       "    }\n",
       "</style>\n",
       "<table border=\"1\" class=\"dataframe\">\n",
       "  <thead>\n",
       "    <tr style=\"text-align: right;\">\n",
       "      <th></th>\n",
       "      <th>first</th>\n",
       "      <th>last</th>\n",
       "      <th>birth</th>\n",
       "    </tr>\n",
       "  </thead>\n",
       "  <tbody>\n",
       "    <tr>\n",
       "      <th>0</th>\n",
       "      <td>Paul</td>\n",
       "      <td>McCartney</td>\n",
       "      <td>1942</td>\n",
       "    </tr>\n",
       "    <tr>\n",
       "      <th>1</th>\n",
       "      <td>John</td>\n",
       "      <td>Lennon</td>\n",
       "      <td>1940</td>\n",
       "    </tr>\n",
       "    <tr>\n",
       "      <th>2</th>\n",
       "      <td>Richard</td>\n",
       "      <td>Starkey</td>\n",
       "      <td>1940</td>\n",
       "    </tr>\n",
       "    <tr>\n",
       "      <th>3</th>\n",
       "      <td>George</td>\n",
       "      <td>Harrison</td>\n",
       "      <td>1943</td>\n",
       "    </tr>\n",
       "  </tbody>\n",
       "</table>\n",
       "</div>"
      ],
      "text/plain": [
       "     first       last  birth\n",
       "0     Paul  McCartney   1942\n",
       "1     John     Lennon   1940\n",
       "2  Richard    Starkey   1940\n",
       "3   George   Harrison   1943"
      ]
     },
     "execution_count": 18,
     "metadata": {},
     "output_type": "execute_result"
    }
   ],
   "source": [
    "beatles "
   ]
  },
  {
   "cell_type": "code",
   "execution_count": 19,
   "id": "790e78e0",
   "metadata": {},
   "outputs": [
    {
     "data": {
      "text/html": [
       "<div>\n",
       "<style scoped>\n",
       "    .dataframe tbody tr th:only-of-type {\n",
       "        vertical-align: middle;\n",
       "    }\n",
       "\n",
       "    .dataframe tbody tr th {\n",
       "        vertical-align: top;\n",
       "    }\n",
       "\n",
       "    .dataframe thead th {\n",
       "        text-align: right;\n",
       "    }\n",
       "</style>\n",
       "<table border=\"1\" class=\"dataframe\">\n",
       "  <thead>\n",
       "    <tr style=\"text-align: right;\">\n",
       "      <th></th>\n",
       "      <th>first</th>\n",
       "      <th>last</th>\n",
       "      <th>birth</th>\n",
       "    </tr>\n",
       "  </thead>\n",
       "  <tbody>\n",
       "    <tr>\n",
       "      <th>0</th>\n",
       "      <td>Paul</td>\n",
       "      <td>McCartney</td>\n",
       "      <td>1942</td>\n",
       "    </tr>\n",
       "    <tr>\n",
       "      <th>1</th>\n",
       "      <td>John</td>\n",
       "      <td>Lennon</td>\n",
       "      <td>1940</td>\n",
       "    </tr>\n",
       "    <tr>\n",
       "      <th>2</th>\n",
       "      <td>Richard</td>\n",
       "      <td>Starkey</td>\n",
       "      <td>1940</td>\n",
       "    </tr>\n",
       "    <tr>\n",
       "      <th>3</th>\n",
       "      <td>George</td>\n",
       "      <td>Harrison</td>\n",
       "      <td>1943</td>\n",
       "    </tr>\n",
       "  </tbody>\n",
       "</table>\n",
       "</div>"
      ],
      "text/plain": [
       "     first       last  birth\n",
       "0     Paul  McCartney   1942\n",
       "1     John     Lennon   1940\n",
       "2  Richard    Starkey   1940\n",
       "3   George   Harrison   1943"
      ]
     },
     "execution_count": 19,
     "metadata": {},
     "output_type": "execute_result"
    }
   ],
   "source": [
    "pd.DataFrame([\n",
    "    \n",
    "\n",
    "    {\n",
    "        \"first\": \"Paul\",\n",
    "        \"last\" : \"McCartney\",\n",
    "        \"birth\": 1942,\n",
    "    },\n",
    "    \n",
    "    {\n",
    "        \"first\": \"John\",\n",
    "        \"last\" : \"Lennon\",\n",
    "        \"birth\": 1940,\n",
    "    },\n",
    "    \n",
    "    {\n",
    "        \"first\": \"Richard\",\n",
    "        \"last\" : \"Starkey\",\n",
    "        \"birth\": 1940,\n",
    "    },\n",
    "    \n",
    "    {\n",
    "        \"first\": \"George\",\n",
    "        \"last\" : \"Harrison\",\n",
    "        \"birth\": 1943,\n",
    "    },\n",
    "    \n",
    "]\n",
    "    \n",
    "    \n",
    ")"
   ]
  },
  {
   "cell_type": "code",
   "execution_count": 20,
   "id": "f432d6ba",
   "metadata": {},
   "outputs": [
    {
     "data": {
      "text/html": [
       "<div>\n",
       "<style scoped>\n",
       "    .dataframe tbody tr th:only-of-type {\n",
       "        vertical-align: middle;\n",
       "    }\n",
       "\n",
       "    .dataframe tbody tr th {\n",
       "        vertical-align: top;\n",
       "    }\n",
       "\n",
       "    .dataframe thead th {\n",
       "        text-align: right;\n",
       "    }\n",
       "</style>\n",
       "<table border=\"1\" class=\"dataframe\">\n",
       "  <thead>\n",
       "    <tr style=\"text-align: right;\">\n",
       "      <th></th>\n",
       "      <th>last</th>\n",
       "      <th>first</th>\n",
       "      <th>birth</th>\n",
       "    </tr>\n",
       "  </thead>\n",
       "  <tbody>\n",
       "    <tr>\n",
       "      <th>0</th>\n",
       "      <td>McCartney</td>\n",
       "      <td>Paul</td>\n",
       "      <td>1942</td>\n",
       "    </tr>\n",
       "    <tr>\n",
       "      <th>1</th>\n",
       "      <td>Lennon</td>\n",
       "      <td>John</td>\n",
       "      <td>1940</td>\n",
       "    </tr>\n",
       "    <tr>\n",
       "      <th>2</th>\n",
       "      <td>Starkey</td>\n",
       "      <td>Richard</td>\n",
       "      <td>1940</td>\n",
       "    </tr>\n",
       "    <tr>\n",
       "      <th>3</th>\n",
       "      <td>Harrison</td>\n",
       "      <td>George</td>\n",
       "      <td>1943</td>\n",
       "    </tr>\n",
       "  </tbody>\n",
       "</table>\n",
       "</div>"
      ],
      "text/plain": [
       "        last    first  birth\n",
       "0  McCartney     Paul   1942\n",
       "1     Lennon     John   1940\n",
       "2    Starkey  Richard   1940\n",
       "3   Harrison   George   1943"
      ]
     },
     "execution_count": 20,
     "metadata": {},
     "output_type": "execute_result"
    }
   ],
   "source": [
    "pd.DataFrame([\n",
    "    \n",
    "\n",
    "    {\n",
    "        \"first\": \"Paul\",\n",
    "        \"last\" : \"McCartney\",\n",
    "        \"birth\": 1942,\n",
    "    },\n",
    "    \n",
    "    {\n",
    "        \"first\": \"John\",\n",
    "        \"last\" : \"Lennon\",\n",
    "        \"birth\": 1940,\n",
    "    },\n",
    "    \n",
    "    {\n",
    "        \"first\": \"Richard\",\n",
    "        \"last\" : \"Starkey\",\n",
    "        \"birth\": 1940,\n",
    "    },\n",
    "    \n",
    "    {\n",
    "        \"first\": \"George\",\n",
    "        \"last\" : \"Harrison\",\n",
    "        \"birth\": 1943,\n",
    "    },\n",
    "    \n",
    "], \n",
    "    columns=[\"last\", \"first\", \"birth\"]\n",
    "    \n",
    "    \n",
    ")"
   ]
  },
  {
   "cell_type": "markdown",
   "id": "81851930",
   "metadata": {},
   "source": [
    "## Writing CSV"
   ]
  },
  {
   "cell_type": "code",
   "execution_count": 26,
   "id": "5213fe3c",
   "metadata": {},
   "outputs": [
    {
     "data": {
      "text/html": [
       "<div>\n",
       "<style scoped>\n",
       "    .dataframe tbody tr th:only-of-type {\n",
       "        vertical-align: middle;\n",
       "    }\n",
       "\n",
       "    .dataframe tbody tr th {\n",
       "        vertical-align: top;\n",
       "    }\n",
       "\n",
       "    .dataframe thead th {\n",
       "        text-align: right;\n",
       "    }\n",
       "</style>\n",
       "<table border=\"1\" class=\"dataframe\">\n",
       "  <thead>\n",
       "    <tr style=\"text-align: right;\">\n",
       "      <th></th>\n",
       "      <th>first</th>\n",
       "      <th>last</th>\n",
       "      <th>birth</th>\n",
       "    </tr>\n",
       "  </thead>\n",
       "  <tbody>\n",
       "    <tr>\n",
       "      <th>0</th>\n",
       "      <td>Paul</td>\n",
       "      <td>McCartney</td>\n",
       "      <td>1942</td>\n",
       "    </tr>\n",
       "    <tr>\n",
       "      <th>1</th>\n",
       "      <td>John</td>\n",
       "      <td>Lennon</td>\n",
       "      <td>1940</td>\n",
       "    </tr>\n",
       "    <tr>\n",
       "      <th>2</th>\n",
       "      <td>Richard</td>\n",
       "      <td>Starkey</td>\n",
       "      <td>1940</td>\n",
       "    </tr>\n",
       "    <tr>\n",
       "      <th>3</th>\n",
       "      <td>George</td>\n",
       "      <td>Harrison</td>\n",
       "      <td>1943</td>\n",
       "    </tr>\n",
       "  </tbody>\n",
       "</table>\n",
       "</div>"
      ],
      "text/plain": [
       "     first       last  birth\n",
       "0     Paul  McCartney   1942\n",
       "1     John     Lennon   1940\n",
       "2  Richard    Starkey   1940\n",
       "3   George   Harrison   1943"
      ]
     },
     "execution_count": 26,
     "metadata": {},
     "output_type": "execute_result"
    }
   ],
   "source": [
    "# Write the DataFrame to a CSV file:\n",
    "beatles"
   ]
  },
  {
   "cell_type": "code",
   "execution_count": 23,
   "id": "66d45208",
   "metadata": {},
   "outputs": [],
   "source": [
    "from io import StringIO"
   ]
  },
  {
   "cell_type": "code",
   "execution_count": 24,
   "id": "2d4e44fc",
   "metadata": {},
   "outputs": [],
   "source": [
    "fout = StringIO()\n",
    "beatles.to_csv(fout)  # use a filename instead of fout"
   ]
  },
  {
   "cell_type": "code",
   "execution_count": 25,
   "id": "8d2ca196",
   "metadata": {},
   "outputs": [
    {
     "name": "stdout",
     "output_type": "stream",
     "text": [
      ",first,last,birth\r\n",
      "0,Paul,McCartney,1942\r\n",
      "1,John,Lennon,1940\r\n",
      "2,Richard,Starkey,1940\r\n",
      "3,George,Harrison,1943\r\n",
      "\n"
     ]
    }
   ],
   "source": [
    "# look at the file contents:\n",
    "print(fout.getvalue())"
   ]
  },
  {
   "cell_type": "raw",
   "id": "4d2962f0",
   "metadata": {},
   "source": [
    "The .to_csv method has a few options. You will notice that it included the index in the output but did not give the index a column name. If you were to read this CSV file into a DataFrame using the read_csv function, it would not use this as the index by default. Instead, you will get a column named Unnamed: 0 in addition to an index. These columns are redundant:\n"
   ]
  },
  {
   "cell_type": "code",
   "execution_count": 31,
   "id": "b39d870c",
   "metadata": {},
   "outputs": [
    {
     "data": {
      "text/html": [
       "<div>\n",
       "<style scoped>\n",
       "    .dataframe tbody tr th:only-of-type {\n",
       "        vertical-align: middle;\n",
       "    }\n",
       "\n",
       "    .dataframe tbody tr th {\n",
       "        vertical-align: top;\n",
       "    }\n",
       "\n",
       "    .dataframe thead th {\n",
       "        text-align: right;\n",
       "    }\n",
       "</style>\n",
       "<table border=\"1\" class=\"dataframe\">\n",
       "  <thead>\n",
       "    <tr style=\"text-align: right;\">\n",
       "      <th></th>\n",
       "      <th>Unnamed: 0</th>\n",
       "      <th>first</th>\n",
       "      <th>last</th>\n",
       "      <th>birth</th>\n",
       "    </tr>\n",
       "  </thead>\n",
       "  <tbody>\n",
       "    <tr>\n",
       "      <th>0</th>\n",
       "      <td>0</td>\n",
       "      <td>Paul</td>\n",
       "      <td>McCartney</td>\n",
       "      <td>1942</td>\n",
       "    </tr>\n",
       "    <tr>\n",
       "      <th>1</th>\n",
       "      <td>1</td>\n",
       "      <td>John</td>\n",
       "      <td>Lennon</td>\n",
       "      <td>1940</td>\n",
       "    </tr>\n",
       "    <tr>\n",
       "      <th>2</th>\n",
       "      <td>2</td>\n",
       "      <td>Richard</td>\n",
       "      <td>Starkey</td>\n",
       "      <td>1940</td>\n",
       "    </tr>\n",
       "    <tr>\n",
       "      <th>3</th>\n",
       "      <td>3</td>\n",
       "      <td>George</td>\n",
       "      <td>Harrison</td>\n",
       "      <td>1943</td>\n",
       "    </tr>\n",
       "  </tbody>\n",
       "</table>\n",
       "</div>"
      ],
      "text/plain": [
       "   Unnamed: 0    first       last  birth\n",
       "0           0     Paul  McCartney   1942\n",
       "1           1     John     Lennon   1940\n",
       "2           2  Richard    Starkey   1940\n",
       "3           3   George   Harrison   1943"
      ]
     },
     "execution_count": 31,
     "metadata": {},
     "output_type": "execute_result"
    }
   ],
   "source": [
    "_ = fout.seek(0)\n",
    "pd.read_csv(fout)"
   ]
  },
  {
   "cell_type": "code",
   "execution_count": 32,
   "id": "6da73155",
   "metadata": {},
   "outputs": [
    {
     "data": {
      "text/html": [
       "<div>\n",
       "<style scoped>\n",
       "    .dataframe tbody tr th:only-of-type {\n",
       "        vertical-align: middle;\n",
       "    }\n",
       "\n",
       "    .dataframe tbody tr th {\n",
       "        vertical-align: top;\n",
       "    }\n",
       "\n",
       "    .dataframe thead th {\n",
       "        text-align: right;\n",
       "    }\n",
       "</style>\n",
       "<table border=\"1\" class=\"dataframe\">\n",
       "  <thead>\n",
       "    <tr style=\"text-align: right;\">\n",
       "      <th></th>\n",
       "      <th>first</th>\n",
       "      <th>last</th>\n",
       "      <th>birth</th>\n",
       "    </tr>\n",
       "  </thead>\n",
       "  <tbody>\n",
       "    <tr>\n",
       "      <th>0</th>\n",
       "      <td>Paul</td>\n",
       "      <td>McCartney</td>\n",
       "      <td>1942</td>\n",
       "    </tr>\n",
       "    <tr>\n",
       "      <th>1</th>\n",
       "      <td>John</td>\n",
       "      <td>Lennon</td>\n",
       "      <td>1940</td>\n",
       "    </tr>\n",
       "    <tr>\n",
       "      <th>2</th>\n",
       "      <td>Richard</td>\n",
       "      <td>Starkey</td>\n",
       "      <td>1940</td>\n",
       "    </tr>\n",
       "    <tr>\n",
       "      <th>3</th>\n",
       "      <td>George</td>\n",
       "      <td>Harrison</td>\n",
       "      <td>1943</td>\n",
       "    </tr>\n",
       "  </tbody>\n",
       "</table>\n",
       "</div>"
      ],
      "text/plain": [
       "     first       last  birth\n",
       "0     Paul  McCartney   1942\n",
       "1     John     Lennon   1940\n",
       "2  Richard    Starkey   1940\n",
       "3   George   Harrison   1943"
      ]
     },
     "execution_count": 32,
     "metadata": {},
     "output_type": "execute_result"
    }
   ],
   "source": [
    "# The read_csv function has an index_col parameter \n",
    "# that you can use to specify the location of the index:\n",
    "_ = fout.seek(0)\n",
    "pd.read_csv(fout, index_col=0)"
   ]
  },
  {
   "cell_type": "code",
   "execution_count": 33,
   "id": "aa238f29",
   "metadata": {},
   "outputs": [
    {
     "data": {
      "text/html": [
       "<div>\n",
       "<style scoped>\n",
       "    .dataframe tbody tr th:only-of-type {\n",
       "        vertical-align: middle;\n",
       "    }\n",
       "\n",
       "    .dataframe tbody tr th {\n",
       "        vertical-align: top;\n",
       "    }\n",
       "\n",
       "    .dataframe thead th {\n",
       "        text-align: right;\n",
       "    }\n",
       "</style>\n",
       "<table border=\"1\" class=\"dataframe\">\n",
       "  <thead>\n",
       "    <tr style=\"text-align: right;\">\n",
       "      <th></th>\n",
       "      <th>first</th>\n",
       "      <th>last</th>\n",
       "      <th>birth</th>\n",
       "    </tr>\n",
       "  </thead>\n",
       "  <tbody>\n",
       "    <tr>\n",
       "      <th>0</th>\n",
       "      <td>Paul</td>\n",
       "      <td>McCartney</td>\n",
       "      <td>1942</td>\n",
       "    </tr>\n",
       "    <tr>\n",
       "      <th>1</th>\n",
       "      <td>John</td>\n",
       "      <td>Lennon</td>\n",
       "      <td>1940</td>\n",
       "    </tr>\n",
       "    <tr>\n",
       "      <th>2</th>\n",
       "      <td>Richard</td>\n",
       "      <td>Starkey</td>\n",
       "      <td>1940</td>\n",
       "    </tr>\n",
       "    <tr>\n",
       "      <th>3</th>\n",
       "      <td>George</td>\n",
       "      <td>Harrison</td>\n",
       "      <td>1943</td>\n",
       "    </tr>\n",
       "  </tbody>\n",
       "</table>\n",
       "</div>"
      ],
      "text/plain": [
       "     first       last  birth\n",
       "0     Paul  McCartney   1942\n",
       "1     John     Lennon   1940\n",
       "2  Richard    Starkey   1940\n",
       "3   George   Harrison   1943"
      ]
     },
     "execution_count": 33,
     "metadata": {},
     "output_type": "execute_result"
    }
   ],
   "source": [
    "_ = fout.seek(1)\n",
    "pd.read_csv(fout)"
   ]
  },
  {
   "cell_type": "code",
   "execution_count": 34,
   "id": "4096841e",
   "metadata": {},
   "outputs": [],
   "source": [
    "# Alternatively, if we didn't want to include the \n",
    "# index when writing the CSV file, we can set the\n",
    "# index parameter to False:\n",
    "\n",
    "fout = StringIO()\n",
    "beatles.to_csv(fout, index=False)"
   ]
  },
  {
   "cell_type": "code",
   "execution_count": 35,
   "id": "3b51acf5",
   "metadata": {},
   "outputs": [
    {
     "name": "stdout",
     "output_type": "stream",
     "text": [
      "first,last,birth\r\n",
      "Paul,McCartney,1942\r\n",
      "John,Lennon,1940\r\n",
      "Richard,Starkey,1940\r\n",
      "George,Harrison,1943\r\n",
      "\n"
     ]
    }
   ],
   "source": [
    "print(fout.getvalue())"
   ]
  },
  {
   "cell_type": "markdown",
   "id": "543d47a9",
   "metadata": {},
   "source": [
    "## Reading Large CSV files"
   ]
  },
  {
   "cell_type": "code",
   "execution_count": 41,
   "id": "be08246a",
   "metadata": {},
   "outputs": [],
   "source": [
    "pd.set_option(\"max_columns\", 8, \"max_rows\", 10)"
   ]
  },
  {
   "cell_type": "code",
   "execution_count": 50,
   "id": "efd0b41a",
   "metadata": {},
   "outputs": [],
   "source": [
    "# Determine how much memory the whole file will take\n",
    "# up. We will use the nrows parameter of read_csv\n",
    "# to limit how much data we load to a small sample\n",
    "diamonds = pd.read_csv('C:/Users/justine.o_kobo360/Desktop/Pandas Workbook/Pandas CookBook 1.x/Data files/diamonds.csv', nrows=1000 )"
   ]
  },
  {
   "cell_type": "code",
   "execution_count": 51,
   "id": "df2ca707",
   "metadata": {},
   "outputs": [
    {
     "data": {
      "text/html": [
       "<div>\n",
       "<style scoped>\n",
       "    .dataframe tbody tr th:only-of-type {\n",
       "        vertical-align: middle;\n",
       "    }\n",
       "\n",
       "    .dataframe tbody tr th {\n",
       "        vertical-align: top;\n",
       "    }\n",
       "\n",
       "    .dataframe thead th {\n",
       "        text-align: right;\n",
       "    }\n",
       "</style>\n",
       "<table border=\"1\" class=\"dataframe\">\n",
       "  <thead>\n",
       "    <tr style=\"text-align: right;\">\n",
       "      <th></th>\n",
       "      <th>carat</th>\n",
       "      <th>cut</th>\n",
       "      <th>color</th>\n",
       "      <th>clarity</th>\n",
       "      <th>...</th>\n",
       "      <th>price</th>\n",
       "      <th>x</th>\n",
       "      <th>y</th>\n",
       "      <th>z</th>\n",
       "    </tr>\n",
       "  </thead>\n",
       "  <tbody>\n",
       "    <tr>\n",
       "      <th>0</th>\n",
       "      <td>0.23</td>\n",
       "      <td>Ideal</td>\n",
       "      <td>E</td>\n",
       "      <td>SI2</td>\n",
       "      <td>...</td>\n",
       "      <td>326</td>\n",
       "      <td>3.95</td>\n",
       "      <td>3.98</td>\n",
       "      <td>2.43</td>\n",
       "    </tr>\n",
       "    <tr>\n",
       "      <th>1</th>\n",
       "      <td>0.21</td>\n",
       "      <td>Premium</td>\n",
       "      <td>E</td>\n",
       "      <td>SI1</td>\n",
       "      <td>...</td>\n",
       "      <td>326</td>\n",
       "      <td>3.89</td>\n",
       "      <td>3.84</td>\n",
       "      <td>2.31</td>\n",
       "    </tr>\n",
       "    <tr>\n",
       "      <th>2</th>\n",
       "      <td>0.23</td>\n",
       "      <td>Good</td>\n",
       "      <td>E</td>\n",
       "      <td>VS1</td>\n",
       "      <td>...</td>\n",
       "      <td>327</td>\n",
       "      <td>4.05</td>\n",
       "      <td>4.07</td>\n",
       "      <td>2.31</td>\n",
       "    </tr>\n",
       "    <tr>\n",
       "      <th>3</th>\n",
       "      <td>0.29</td>\n",
       "      <td>Premium</td>\n",
       "      <td>I</td>\n",
       "      <td>VS2</td>\n",
       "      <td>...</td>\n",
       "      <td>334</td>\n",
       "      <td>4.20</td>\n",
       "      <td>4.23</td>\n",
       "      <td>2.63</td>\n",
       "    </tr>\n",
       "    <tr>\n",
       "      <th>4</th>\n",
       "      <td>0.31</td>\n",
       "      <td>Good</td>\n",
       "      <td>J</td>\n",
       "      <td>SI2</td>\n",
       "      <td>...</td>\n",
       "      <td>335</td>\n",
       "      <td>4.34</td>\n",
       "      <td>4.35</td>\n",
       "      <td>2.75</td>\n",
       "    </tr>\n",
       "    <tr>\n",
       "      <th>...</th>\n",
       "      <td>...</td>\n",
       "      <td>...</td>\n",
       "      <td>...</td>\n",
       "      <td>...</td>\n",
       "      <td>...</td>\n",
       "      <td>...</td>\n",
       "      <td>...</td>\n",
       "      <td>...</td>\n",
       "      <td>...</td>\n",
       "    </tr>\n",
       "    <tr>\n",
       "      <th>995</th>\n",
       "      <td>0.54</td>\n",
       "      <td>Ideal</td>\n",
       "      <td>D</td>\n",
       "      <td>VVS2</td>\n",
       "      <td>...</td>\n",
       "      <td>2897</td>\n",
       "      <td>5.30</td>\n",
       "      <td>5.34</td>\n",
       "      <td>3.26</td>\n",
       "    </tr>\n",
       "    <tr>\n",
       "      <th>996</th>\n",
       "      <td>0.72</td>\n",
       "      <td>Ideal</td>\n",
       "      <td>E</td>\n",
       "      <td>SI1</td>\n",
       "      <td>...</td>\n",
       "      <td>2897</td>\n",
       "      <td>5.69</td>\n",
       "      <td>5.74</td>\n",
       "      <td>3.57</td>\n",
       "    </tr>\n",
       "    <tr>\n",
       "      <th>997</th>\n",
       "      <td>0.72</td>\n",
       "      <td>Good</td>\n",
       "      <td>F</td>\n",
       "      <td>VS1</td>\n",
       "      <td>...</td>\n",
       "      <td>2897</td>\n",
       "      <td>5.82</td>\n",
       "      <td>5.89</td>\n",
       "      <td>3.48</td>\n",
       "    </tr>\n",
       "    <tr>\n",
       "      <th>998</th>\n",
       "      <td>0.74</td>\n",
       "      <td>Premium</td>\n",
       "      <td>D</td>\n",
       "      <td>VS2</td>\n",
       "      <td>...</td>\n",
       "      <td>2897</td>\n",
       "      <td>5.81</td>\n",
       "      <td>5.77</td>\n",
       "      <td>3.58</td>\n",
       "    </tr>\n",
       "    <tr>\n",
       "      <th>999</th>\n",
       "      <td>1.12</td>\n",
       "      <td>Premium</td>\n",
       "      <td>J</td>\n",
       "      <td>SI2</td>\n",
       "      <td>...</td>\n",
       "      <td>2898</td>\n",
       "      <td>6.68</td>\n",
       "      <td>6.61</td>\n",
       "      <td>4.03</td>\n",
       "    </tr>\n",
       "  </tbody>\n",
       "</table>\n",
       "<p>1000 rows × 10 columns</p>\n",
       "</div>"
      ],
      "text/plain": [
       "     carat      cut color clarity  ...  price     x     y     z\n",
       "0     0.23    Ideal     E     SI2  ...    326  3.95  3.98  2.43\n",
       "1     0.21  Premium     E     SI1  ...    326  3.89  3.84  2.31\n",
       "2     0.23     Good     E     VS1  ...    327  4.05  4.07  2.31\n",
       "3     0.29  Premium     I     VS2  ...    334  4.20  4.23  2.63\n",
       "4     0.31     Good     J     SI2  ...    335  4.34  4.35  2.75\n",
       "..     ...      ...   ...     ...  ...    ...   ...   ...   ...\n",
       "995   0.54    Ideal     D    VVS2  ...   2897  5.30  5.34  3.26\n",
       "996   0.72    Ideal     E     SI1  ...   2897  5.69  5.74  3.57\n",
       "997   0.72     Good     F     VS1  ...   2897  5.82  5.89  3.48\n",
       "998   0.74  Premium     D     VS2  ...   2897  5.81  5.77  3.58\n",
       "999   1.12  Premium     J     SI2  ...   2898  6.68  6.61  4.03\n",
       "\n",
       "[1000 rows x 10 columns]"
      ]
     },
     "execution_count": 51,
     "metadata": {},
     "output_type": "execute_result"
    }
   ],
   "source": [
    "diamonds\n"
   ]
  },
  {
   "cell_type": "code",
   "execution_count": 52,
   "id": "19801db6",
   "metadata": {},
   "outputs": [
    {
     "name": "stdout",
     "output_type": "stream",
     "text": [
      "<class 'pandas.core.frame.DataFrame'>\n",
      "RangeIndex: 1000 entries, 0 to 999\n",
      "Data columns (total 10 columns):\n",
      " #   Column   Non-Null Count  Dtype  \n",
      "---  ------   --------------  -----  \n",
      " 0   carat    1000 non-null   float64\n",
      " 1   cut      1000 non-null   object \n",
      " 2   color    1000 non-null   object \n",
      " 3   clarity  1000 non-null   object \n",
      " 4   depth    1000 non-null   float64\n",
      " 5   table    1000 non-null   float64\n",
      " 6   price    1000 non-null   int64  \n",
      " 7   x        1000 non-null   float64\n",
      " 8   y        1000 non-null   float64\n",
      " 9   z        1000 non-null   float64\n",
      "dtypes: float64(6), int64(1), object(3)\n",
      "memory usage: 78.2+ KB\n"
     ]
    }
   ],
   "source": [
    "# Use the .info method to see how much memory the \n",
    "# sample of data uses:\n",
    "diamonds.info()"
   ]
  },
  {
   "cell_type": "code",
   "execution_count": 48,
   "id": "04fb0228",
   "metadata": {},
   "outputs": [],
   "source": [
    "# Use the dtype parameter to read_csv to tell it to\n",
    "# use the correct (or smaller) numeric types:\n",
    "diamonds2 = pd.read_csv('C:/Users/justine.o_kobo360/Desktop/Pandas Workbook/Pandas CookBook 1.x/Data files/diamonds.csv', nrows=1000, dtype={\n",
    "    \"carat\": np.float32,\n",
    "    \"depth\": np.float32,\n",
    "    \"table\": np.float32,\n",
    "    \"x\": np.float32,\n",
    "    \"y\": np.float32,\n",
    "    \"z\": np.float32,\n",
    "    \"price\": np.int16,\n",
    "} )"
   ]
  },
  {
   "cell_type": "code",
   "execution_count": 49,
   "id": "a87b00f6",
   "metadata": {},
   "outputs": [
    {
     "name": "stdout",
     "output_type": "stream",
     "text": [
      "<class 'pandas.core.frame.DataFrame'>\n",
      "RangeIndex: 1000 entries, 0 to 999\n",
      "Data columns (total 10 columns):\n",
      " #   Column   Non-Null Count  Dtype  \n",
      "---  ------   --------------  -----  \n",
      " 0   carat    1000 non-null   float32\n",
      " 1   cut      1000 non-null   object \n",
      " 2   color    1000 non-null   object \n",
      " 3   clarity  1000 non-null   object \n",
      " 4   depth    1000 non-null   float32\n",
      " 5   table    1000 non-null   float32\n",
      " 6   price    1000 non-null   int16  \n",
      " 7   x        1000 non-null   float32\n",
      " 8   y        1000 non-null   float32\n",
      " 9   z        1000 non-null   float32\n",
      "dtypes: float32(6), int16(1), object(3)\n",
      "memory usage: 49.0+ KB\n"
     ]
    }
   ],
   "source": [
    "diamonds2.info()"
   ]
  },
  {
   "cell_type": "code",
   "execution_count": 53,
   "id": "3b4ca879",
   "metadata": {},
   "outputs": [
    {
     "data": {
      "text/html": [
       "<div>\n",
       "<style scoped>\n",
       "    .dataframe tbody tr th:only-of-type {\n",
       "        vertical-align: middle;\n",
       "    }\n",
       "\n",
       "    .dataframe tbody tr th {\n",
       "        vertical-align: top;\n",
       "    }\n",
       "\n",
       "    .dataframe thead th {\n",
       "        text-align: right;\n",
       "    }\n",
       "</style>\n",
       "<table border=\"1\" class=\"dataframe\">\n",
       "  <thead>\n",
       "    <tr style=\"text-align: right;\">\n",
       "      <th></th>\n",
       "      <th>carat</th>\n",
       "      <th>depth</th>\n",
       "      <th>table</th>\n",
       "      <th>price</th>\n",
       "      <th>x</th>\n",
       "      <th>y</th>\n",
       "      <th>z</th>\n",
       "    </tr>\n",
       "  </thead>\n",
       "  <tbody>\n",
       "    <tr>\n",
       "      <th>count</th>\n",
       "      <td>1000.000000</td>\n",
       "      <td>1000.000000</td>\n",
       "      <td>1000.000000</td>\n",
       "      <td>1000.00000</td>\n",
       "      <td>1000.000000</td>\n",
       "      <td>1000.000000</td>\n",
       "      <td>1000.000000</td>\n",
       "    </tr>\n",
       "    <tr>\n",
       "      <th>mean</th>\n",
       "      <td>0.689280</td>\n",
       "      <td>61.722800</td>\n",
       "      <td>57.734700</td>\n",
       "      <td>2476.54000</td>\n",
       "      <td>5.605940</td>\n",
       "      <td>5.599180</td>\n",
       "      <td>3.457530</td>\n",
       "    </tr>\n",
       "    <tr>\n",
       "      <th>std</th>\n",
       "      <td>0.195291</td>\n",
       "      <td>1.758879</td>\n",
       "      <td>2.467946</td>\n",
       "      <td>839.57562</td>\n",
       "      <td>0.625173</td>\n",
       "      <td>0.611974</td>\n",
       "      <td>0.389819</td>\n",
       "    </tr>\n",
       "    <tr>\n",
       "      <th>min</th>\n",
       "      <td>0.200000</td>\n",
       "      <td>53.000000</td>\n",
       "      <td>52.000000</td>\n",
       "      <td>326.00000</td>\n",
       "      <td>3.790000</td>\n",
       "      <td>3.750000</td>\n",
       "      <td>2.270000</td>\n",
       "    </tr>\n",
       "    <tr>\n",
       "      <th>25%</th>\n",
       "      <td>0.700000</td>\n",
       "      <td>60.900000</td>\n",
       "      <td>56.000000</td>\n",
       "      <td>2777.00000</td>\n",
       "      <td>5.640000</td>\n",
       "      <td>5.630000</td>\n",
       "      <td>3.450000</td>\n",
       "    </tr>\n",
       "    <tr>\n",
       "      <th>50%</th>\n",
       "      <td>0.710000</td>\n",
       "      <td>61.800000</td>\n",
       "      <td>57.000000</td>\n",
       "      <td>2818.00000</td>\n",
       "      <td>5.770000</td>\n",
       "      <td>5.760000</td>\n",
       "      <td>3.550000</td>\n",
       "    </tr>\n",
       "    <tr>\n",
       "      <th>75%</th>\n",
       "      <td>0.790000</td>\n",
       "      <td>62.600000</td>\n",
       "      <td>59.000000</td>\n",
       "      <td>2856.00000</td>\n",
       "      <td>5.920000</td>\n",
       "      <td>5.910000</td>\n",
       "      <td>3.640000</td>\n",
       "    </tr>\n",
       "    <tr>\n",
       "      <th>max</th>\n",
       "      <td>1.270000</td>\n",
       "      <td>69.500000</td>\n",
       "      <td>70.000000</td>\n",
       "      <td>2898.00000</td>\n",
       "      <td>7.120000</td>\n",
       "      <td>7.050000</td>\n",
       "      <td>4.330000</td>\n",
       "    </tr>\n",
       "  </tbody>\n",
       "</table>\n",
       "</div>"
      ],
      "text/plain": [
       "             carat        depth        table       price            x  \\\n",
       "count  1000.000000  1000.000000  1000.000000  1000.00000  1000.000000   \n",
       "mean      0.689280    61.722800    57.734700  2476.54000     5.605940   \n",
       "std       0.195291     1.758879     2.467946   839.57562     0.625173   \n",
       "min       0.200000    53.000000    52.000000   326.00000     3.790000   \n",
       "25%       0.700000    60.900000    56.000000  2777.00000     5.640000   \n",
       "50%       0.710000    61.800000    57.000000  2818.00000     5.770000   \n",
       "75%       0.790000    62.600000    59.000000  2856.00000     5.920000   \n",
       "max       1.270000    69.500000    70.000000  2898.00000     7.120000   \n",
       "\n",
       "                 y            z  \n",
       "count  1000.000000  1000.000000  \n",
       "mean      5.599180     3.457530  \n",
       "std       0.611974     0.389819  \n",
       "min       3.750000     2.270000  \n",
       "25%       5.630000     3.450000  \n",
       "50%       5.760000     3.550000  \n",
       "75%       5.910000     3.640000  \n",
       "max       7.050000     4.330000  "
      ]
     },
     "execution_count": 53,
     "metadata": {},
     "output_type": "execute_result"
    }
   ],
   "source": [
    "# Make sure that summary statistics are similar\n",
    "# with our new dataset to the original\n",
    "diamonds.describe()"
   ]
  },
  {
   "cell_type": "code",
   "execution_count": 54,
   "id": "3e8ae57c",
   "metadata": {},
   "outputs": [
    {
     "data": {
      "text/html": [
       "<div>\n",
       "<style scoped>\n",
       "    .dataframe tbody tr th:only-of-type {\n",
       "        vertical-align: middle;\n",
       "    }\n",
       "\n",
       "    .dataframe tbody tr th {\n",
       "        vertical-align: top;\n",
       "    }\n",
       "\n",
       "    .dataframe thead th {\n",
       "        text-align: right;\n",
       "    }\n",
       "</style>\n",
       "<table border=\"1\" class=\"dataframe\">\n",
       "  <thead>\n",
       "    <tr style=\"text-align: right;\">\n",
       "      <th></th>\n",
       "      <th>carat</th>\n",
       "      <th>depth</th>\n",
       "      <th>table</th>\n",
       "      <th>price</th>\n",
       "      <th>x</th>\n",
       "      <th>y</th>\n",
       "      <th>z</th>\n",
       "    </tr>\n",
       "  </thead>\n",
       "  <tbody>\n",
       "    <tr>\n",
       "      <th>count</th>\n",
       "      <td>1000.000000</td>\n",
       "      <td>1000.000000</td>\n",
       "      <td>1000.000000</td>\n",
       "      <td>1000.00000</td>\n",
       "      <td>1000.000000</td>\n",
       "      <td>1000.000000</td>\n",
       "      <td>1000.000000</td>\n",
       "    </tr>\n",
       "    <tr>\n",
       "      <th>mean</th>\n",
       "      <td>0.689281</td>\n",
       "      <td>61.722824</td>\n",
       "      <td>57.734699</td>\n",
       "      <td>2476.54000</td>\n",
       "      <td>5.605941</td>\n",
       "      <td>5.599180</td>\n",
       "      <td>3.457533</td>\n",
       "    </tr>\n",
       "    <tr>\n",
       "      <th>std</th>\n",
       "      <td>0.195291</td>\n",
       "      <td>1.758878</td>\n",
       "      <td>2.467944</td>\n",
       "      <td>839.57562</td>\n",
       "      <td>0.625173</td>\n",
       "      <td>0.611972</td>\n",
       "      <td>0.389819</td>\n",
       "    </tr>\n",
       "    <tr>\n",
       "      <th>min</th>\n",
       "      <td>0.200000</td>\n",
       "      <td>53.000000</td>\n",
       "      <td>52.000000</td>\n",
       "      <td>326.00000</td>\n",
       "      <td>3.790000</td>\n",
       "      <td>3.750000</td>\n",
       "      <td>2.270000</td>\n",
       "    </tr>\n",
       "    <tr>\n",
       "      <th>25%</th>\n",
       "      <td>0.700000</td>\n",
       "      <td>60.900002</td>\n",
       "      <td>56.000000</td>\n",
       "      <td>2777.00000</td>\n",
       "      <td>5.640000</td>\n",
       "      <td>5.630000</td>\n",
       "      <td>3.450000</td>\n",
       "    </tr>\n",
       "    <tr>\n",
       "      <th>50%</th>\n",
       "      <td>0.710000</td>\n",
       "      <td>61.799999</td>\n",
       "      <td>57.000000</td>\n",
       "      <td>2818.00000</td>\n",
       "      <td>5.770000</td>\n",
       "      <td>5.760000</td>\n",
       "      <td>3.550000</td>\n",
       "    </tr>\n",
       "    <tr>\n",
       "      <th>75%</th>\n",
       "      <td>0.790000</td>\n",
       "      <td>62.599998</td>\n",
       "      <td>59.000000</td>\n",
       "      <td>2856.00000</td>\n",
       "      <td>5.920000</td>\n",
       "      <td>5.910000</td>\n",
       "      <td>3.640000</td>\n",
       "    </tr>\n",
       "    <tr>\n",
       "      <th>max</th>\n",
       "      <td>1.270000</td>\n",
       "      <td>69.500000</td>\n",
       "      <td>70.000000</td>\n",
       "      <td>2898.00000</td>\n",
       "      <td>7.120000</td>\n",
       "      <td>7.050000</td>\n",
       "      <td>4.330000</td>\n",
       "    </tr>\n",
       "  </tbody>\n",
       "</table>\n",
       "</div>"
      ],
      "text/plain": [
       "             carat        depth        table       price            x  \\\n",
       "count  1000.000000  1000.000000  1000.000000  1000.00000  1000.000000   \n",
       "mean      0.689281    61.722824    57.734699  2476.54000     5.605941   \n",
       "std       0.195291     1.758878     2.467944   839.57562     0.625173   \n",
       "min       0.200000    53.000000    52.000000   326.00000     3.790000   \n",
       "25%       0.700000    60.900002    56.000000  2777.00000     5.640000   \n",
       "50%       0.710000    61.799999    57.000000  2818.00000     5.770000   \n",
       "75%       0.790000    62.599998    59.000000  2856.00000     5.920000   \n",
       "max       1.270000    69.500000    70.000000  2898.00000     7.120000   \n",
       "\n",
       "                 y            z  \n",
       "count  1000.000000  1000.000000  \n",
       "mean      5.599180     3.457533  \n",
       "std       0.611972     0.389819  \n",
       "min       3.750000     2.270000  \n",
       "25%       5.630000     3.450000  \n",
       "50%       5.760000     3.550000  \n",
       "75%       5.910000     3.640000  \n",
       "max       7.050000     4.330000  "
      ]
     },
     "execution_count": 54,
     "metadata": {},
     "output_type": "execute_result"
    }
   ],
   "source": [
    "diamonds2.describe()"
   ]
  },
  {
   "cell_type": "code",
   "execution_count": 55,
   "id": "48064429",
   "metadata": {},
   "outputs": [
    {
     "data": {
      "text/plain": [
       "Ideal        333\n",
       "Premium      290\n",
       "Very Good    226\n",
       "Good          89\n",
       "Fair          62\n",
       "Name: cut, dtype: int64"
      ]
     },
     "execution_count": 55,
     "metadata": {},
     "output_type": "execute_result"
    }
   ],
   "source": [
    "# Use the dtype parameter to use change object types\n",
    "# to categoricals. First, inspect the .value_counts\n",
    "# method of the object columns. If they are low \n",
    "# cardinality, you can convert them to categorical\n",
    "# columns to save even more memory\n",
    "diamonds2.cut.value_counts()"
   ]
  },
  {
   "cell_type": "code",
   "execution_count": 56,
   "id": "538fbdb5",
   "metadata": {},
   "outputs": [
    {
     "data": {
      "text/plain": [
       "E    240\n",
       "F    226\n",
       "G    139\n",
       "D    129\n",
       "H    125\n",
       "I     95\n",
       "J     46\n",
       "Name: color, dtype: int64"
      ]
     },
     "execution_count": 56,
     "metadata": {},
     "output_type": "execute_result"
    }
   ],
   "source": [
    "diamonds2.color.value_counts()"
   ]
  },
  {
   "cell_type": "code",
   "execution_count": 57,
   "id": "0bbdd409",
   "metadata": {},
   "outputs": [
    {
     "data": {
      "text/plain": [
       "SI1     306\n",
       "VS2     218\n",
       "VS1     159\n",
       "SI2     154\n",
       "VVS2     62\n",
       "VVS1     58\n",
       "I1       29\n",
       "IF       14\n",
       "Name: clarity, dtype: int64"
      ]
     },
     "execution_count": 57,
     "metadata": {},
     "output_type": "execute_result"
    }
   ],
   "source": [
    "diamonds2.clarity.value_counts()"
   ]
  },
  {
   "cell_type": "code",
   "execution_count": 58,
   "id": "0dafd66b",
   "metadata": {},
   "outputs": [],
   "source": [
    "# Because these are of low cardinality, we can\n",
    "# convert them to categoricals and use\n",
    "# around 37% of the original size\n",
    "diamonds3 = pd.read_csv('C:/Users/justine.o_kobo360/Desktop/Pandas Workbook/Pandas CookBook 1.x/Data files/diamonds.csv', nrows=1000, dtype={\n",
    "    \"carat\": np.float32,\n",
    "    \"depth\": np.float32,\n",
    "    \"table\": np.float32,\n",
    "    \"x\": np.float32,\n",
    "    \"y\": np.float32,\n",
    "    \"z\": np.float32,\n",
    "    \"price\": np.int16,\n",
    "    \"cut\": \"category\",\n",
    "    \"color\": \"category\",\n",
    "    \"clarity\": \"category\",\n",
    "},\n",
    ") "
   ]
  },
  {
   "cell_type": "code",
   "execution_count": 59,
   "id": "0562d9d4",
   "metadata": {},
   "outputs": [
    {
     "name": "stdout",
     "output_type": "stream",
     "text": [
      "<class 'pandas.core.frame.DataFrame'>\n",
      "RangeIndex: 1000 entries, 0 to 999\n",
      "Data columns (total 10 columns):\n",
      " #   Column   Non-Null Count  Dtype   \n",
      "---  ------   --------------  -----   \n",
      " 0   carat    1000 non-null   float32 \n",
      " 1   cut      1000 non-null   category\n",
      " 2   color    1000 non-null   category\n",
      " 3   clarity  1000 non-null   category\n",
      " 4   depth    1000 non-null   float32 \n",
      " 5   table    1000 non-null   float32 \n",
      " 6   price    1000 non-null   int16   \n",
      " 7   x        1000 non-null   float32 \n",
      " 8   y        1000 non-null   float32 \n",
      " 9   z        1000 non-null   float32 \n",
      "dtypes: category(3), float32(6), int16(1)\n",
      "memory usage: 29.4 KB\n"
     ]
    }
   ],
   "source": [
    "diamonds3.info()"
   ]
  },
  {
   "cell_type": "code",
   "execution_count": 60,
   "id": "9be99240",
   "metadata": {},
   "outputs": [],
   "source": [
    "# If there are columns that we know we can ignore,\n",
    "# we can use the usecols parameter to specify the \n",
    "# columns we want to load. Here, we will ignore \n",
    "# columns x, y, and z:\n",
    "cols = [\n",
    "    \n",
    "    \"carat\",\n",
    "    \"cut\",\n",
    "    \"color\",\n",
    "    \"clarity\",\n",
    "    \"depth\",\n",
    "    \"table\",\n",
    "    \"price\",\n",
    "    \n",
    "]"
   ]
  },
  {
   "cell_type": "code",
   "execution_count": 61,
   "id": "519fae21",
   "metadata": {},
   "outputs": [],
   "source": [
    "diamonds4 = pd.read_csv('C:/Users/justine.o_kobo360/Desktop/Pandas Workbook/Pandas CookBook 1.x/Data files/diamonds.csv', nrows=1000, dtype={\n",
    "    \"carat\": np.float32,\n",
    "    \"depth\": np.float32,\n",
    "    \"table\": np.float32,\n",
    "    \"x\": np.float32,\n",
    "    \"y\": np.float32,\n",
    "    \"z\": np.float32,\n",
    "    \"price\": np.int16,\n",
    "    \"cut\": \"category\",\n",
    "    \"color\": \"category\",\n",
    "    \"clarity\": \"category\"},\n",
    "                       usecols=cols,\n",
    "                       )"
   ]
  },
  {
   "cell_type": "code",
   "execution_count": 62,
   "id": "c95cc923",
   "metadata": {},
   "outputs": [
    {
     "name": "stdout",
     "output_type": "stream",
     "text": [
      "<class 'pandas.core.frame.DataFrame'>\n",
      "RangeIndex: 1000 entries, 0 to 999\n",
      "Data columns (total 7 columns):\n",
      " #   Column   Non-Null Count  Dtype   \n",
      "---  ------   --------------  -----   \n",
      " 0   carat    1000 non-null   float32 \n",
      " 1   cut      1000 non-null   category\n",
      " 2   color    1000 non-null   category\n",
      " 3   clarity  1000 non-null   category\n",
      " 4   depth    1000 non-null   float32 \n",
      " 5   table    1000 non-null   float32 \n",
      " 6   price    1000 non-null   int16   \n",
      "dtypes: category(3), float32(3), int16(1)\n",
      "memory usage: 17.6 KB\n"
     ]
    }
   ],
   "source": [
    "diamonds4.info()"
   ]
  },
  {
   "cell_type": "code",
   "execution_count": 63,
   "id": "d7dece07",
   "metadata": {},
   "outputs": [],
   "source": [
    "# If the preceding steps are not sufficient to\n",
    "# create a small enough DataFrame, you might still \n",
    "# be in luck. If you can process chunks of the data\n",
    "# at a time and do not need all of it in memory,\n",
    "# you can use the chunksize parameter"
   ]
  },
  {
   "cell_type": "code",
   "execution_count": 64,
   "id": "a3aeedca",
   "metadata": {},
   "outputs": [],
   "source": [
    "cols = [\n",
    "    \n",
    "    \"carat\",\n",
    "    \"cut\",\n",
    "    \"color\",\n",
    "    \"clarity\",\n",
    "    \"depth\",\n",
    "    \"table\",\n",
    "    \"price\",\n",
    "    \n",
    "]"
   ]
  },
  {
   "cell_type": "code",
   "execution_count": 65,
   "id": "f85e605f",
   "metadata": {},
   "outputs": [],
   "source": [
    "diamonds_iter =  pd.read_csv('C:/Users/justine.o_kobo360/Desktop/Pandas Workbook/Pandas CookBook 1.x/Data files/diamonds.csv', nrows=1000, dtype={\n",
    "    \"carat\": np.float32,\n",
    "    \"depth\": np.float32,\n",
    "    \"table\": np.float32,\n",
    "    \"x\": np.float32,\n",
    "    \"y\": np.float32,\n",
    "    \"z\": np.float32,\n",
    "    \"price\": np.int16,\n",
    "    \"cut\": \"category\",\n",
    "    \"color\": \"category\",\n",
    "    \"clarity\": \"category\"},\n",
    "                       usecols=cols,\n",
    "                             chunksize=200,\n",
    "                       )"
   ]
  },
  {
   "cell_type": "code",
   "execution_count": 66,
   "id": "d770ca67",
   "metadata": {},
   "outputs": [],
   "source": [
    "def process(df):\n",
    "    return f\"processed {df.size} items\"\n",
    "\n",
    "for chunk in diamonds_iter:\n",
    "    process(chunk)"
   ]
  },
  {
   "cell_type": "code",
   "execution_count": 71,
   "id": "f1ce53dd",
   "metadata": {},
   "outputs": [
    {
     "data": {
      "text/plain": [
       "iinfo(min=-128, max=127, dtype=int8)"
      ]
     },
     "execution_count": 71,
     "metadata": {},
     "output_type": "execute_result"
    }
   ],
   "source": [
    "# If we use int8 for the price, we will lose\n",
    "# information. You can use the NumPy iinfo function\n",
    "# to list limits for NumPy integer types:\n",
    "\n",
    "np.iinfo(np.int8)"
   ]
  },
  {
   "cell_type": "code",
   "execution_count": 72,
   "id": "7440fbd7",
   "metadata": {},
   "outputs": [
    {
     "data": {
      "text/plain": [
       "finfo(resolution=0.001, min=-6.55040e+04, max=6.55040e+04, dtype=float16)"
      ]
     },
     "execution_count": 72,
     "metadata": {},
     "output_type": "execute_result"
    }
   ],
   "source": [
    "# you can use the finfo function for information \n",
    "# about floating-point numbers:\n",
    "np.finfo(np.float16)"
   ]
  },
  {
   "cell_type": "code",
   "execution_count": 73,
   "id": "66e7982c",
   "metadata": {},
   "outputs": [
    {
     "data": {
      "text/plain": [
       "8128"
      ]
     },
     "execution_count": 73,
     "metadata": {},
     "output_type": "execute_result"
    }
   ],
   "source": [
    "# You can also ask a DataFrame or Series how many\n",
    "# bytes it is using with the .memory_usage method. \n",
    "# Note that this also includes the memory\n",
    "# requirements of the index. Also, you need to pass\n",
    "# deep=True to get the usage of Series with \n",
    "# object types:\n",
    "diamonds.price.memory_usage()"
   ]
  },
  {
   "cell_type": "code",
   "execution_count": 74,
   "id": "9bfa5971",
   "metadata": {},
   "outputs": [
    {
     "data": {
      "text/plain": [
       "8000"
      ]
     },
     "execution_count": 74,
     "metadata": {},
     "output_type": "execute_result"
    }
   ],
   "source": [
    "diamonds.price.memory_usage(index=False)"
   ]
  },
  {
   "cell_type": "code",
   "execution_count": 75,
   "id": "a4ce10d4",
   "metadata": {},
   "outputs": [
    {
     "data": {
      "text/plain": [
       "8128"
      ]
     },
     "execution_count": 75,
     "metadata": {},
     "output_type": "execute_result"
    }
   ],
   "source": [
    "diamonds.cut.memory_usage()"
   ]
  },
  {
   "cell_type": "code",
   "execution_count": 76,
   "id": "99fb1abe",
   "metadata": {},
   "outputs": [
    {
     "data": {
      "text/plain": [
       "63461"
      ]
     },
     "execution_count": 76,
     "metadata": {},
     "output_type": "execute_result"
    }
   ],
   "source": [
    "diamonds.cut.memory_usage(deep=True)"
   ]
  },
  {
   "cell_type": "code",
   "execution_count": 78,
   "id": "5357d6aa",
   "metadata": {},
   "outputs": [],
   "source": [
    "# Once you have your data in a format you like, you\n",
    "# can save it in a binary format that tracks\n",
    "# types, such as the Feather format \n",
    "# (pandas leverages the pyarrow library to do this). This\n",
    "# format is meant to enable in-memory transfer of \n",
    "# structured data between languages and\n",
    "# optimized so that data can be used as is without \n",
    "# internal conversion. Reading from this format is\n",
    "# much quicker and easy once you have the types\n",
    "# defined:\n",
    "diamonds4.to_feather(\"d.arr\")"
   ]
  },
  {
   "cell_type": "code",
   "execution_count": 79,
   "id": "e372da07",
   "metadata": {},
   "outputs": [],
   "source": [
    "diamonds5 = pd.read_feather(\"d.arr\")"
   ]
  },
  {
   "cell_type": "code",
   "execution_count": 81,
   "id": "96066487",
   "metadata": {},
   "outputs": [],
   "source": [
    "# Another binary option is the Parquet format.\n",
    "# Whereas Feather optimizes the binary data for\n",
    "# the in-memory structure, Parquet optimizes for \n",
    "# the on-disk format. Parquet is used by many\n",
    "# big data products. The pandas library has\n",
    "# support for Parquet as well.\n",
    "\n",
    "diamonds4.to_parquet(\"C:/Users/justine.o_kobo360/Desktop/Pandas Workbook/Pandas CookBook 1.x/d.pqt\")"
   ]
  },
  {
   "cell_type": "code",
   "execution_count": 82,
   "id": "1bdca4eb",
   "metadata": {},
   "outputs": [],
   "source": [
    "#Right now there is some conversion required for\n",
    "# pandas to load data from both Parquet and\n",
    "# Feather. But both are quicker than CSV and\n",
    "# persist types."
   ]
  },
  {
   "cell_type": "markdown",
   "id": "032e6d16",
   "metadata": {},
   "source": [
    "## Use Excel files"
   ]
  },
  {
   "cell_type": "code",
   "execution_count": 84,
   "id": "89e2191b",
   "metadata": {},
   "outputs": [
    {
     "name": "stderr",
     "output_type": "stream",
     "text": [
      "C:\\Users\\JUSTIN~1.O_K\\AppData\\Local\\Temp/ipykernel_17264/1280406658.py:4: FutureWarning: As the xlwt package is no longer maintained, the xlwt engine will be removed in a future version of pandas. This is the only engine in pandas that supports writing in the xls format. Install openpyxl and write to an xlsx file instead. You can set the option io.excel.xls.writer to 'xlwt' to silence this warning. While this option is deprecated and will also raise a warning, it can be globally set and the warning suppressed.\n",
      "  beatles.to_excel(\"beat.xls\")\n"
     ]
    }
   ],
   "source": [
    "# Create an Excel file using the .to_excel method.\n",
    "# You can write either xls files or xlsx files:\n",
    "\n",
    "beatles.to_excel(\"beat.xls\")"
   ]
  },
  {
   "cell_type": "code",
   "execution_count": 85,
   "id": "d4f75e28",
   "metadata": {},
   "outputs": [],
   "source": [
    "beatles.to_excel(\"beat.xlsx\")"
   ]
  },
  {
   "cell_type": "code",
   "execution_count": 87,
   "id": "f0ad6dbe",
   "metadata": {},
   "outputs": [],
   "source": [
    "# Read the Excel with the read_excel function:\n",
    "beat2 = pd.read_excel(\"C:/Users/justine.o_kobo360/Desktop/Pandas Workbook/Pandas CookBook 1.x/Jupyter Notebook codes/beat.xls\")"
   ]
  },
  {
   "cell_type": "code",
   "execution_count": 88,
   "id": "5301dec0",
   "metadata": {},
   "outputs": [
    {
     "data": {
      "text/html": [
       "<div>\n",
       "<style scoped>\n",
       "    .dataframe tbody tr th:only-of-type {\n",
       "        vertical-align: middle;\n",
       "    }\n",
       "\n",
       "    .dataframe tbody tr th {\n",
       "        vertical-align: top;\n",
       "    }\n",
       "\n",
       "    .dataframe thead th {\n",
       "        text-align: right;\n",
       "    }\n",
       "</style>\n",
       "<table border=\"1\" class=\"dataframe\">\n",
       "  <thead>\n",
       "    <tr style=\"text-align: right;\">\n",
       "      <th></th>\n",
       "      <th>Unnamed: 0</th>\n",
       "      <th>first</th>\n",
       "      <th>last</th>\n",
       "      <th>birth</th>\n",
       "    </tr>\n",
       "  </thead>\n",
       "  <tbody>\n",
       "    <tr>\n",
       "      <th>0</th>\n",
       "      <td>0</td>\n",
       "      <td>Paul</td>\n",
       "      <td>McCartney</td>\n",
       "      <td>1942</td>\n",
       "    </tr>\n",
       "    <tr>\n",
       "      <th>1</th>\n",
       "      <td>1</td>\n",
       "      <td>John</td>\n",
       "      <td>Lennon</td>\n",
       "      <td>1940</td>\n",
       "    </tr>\n",
       "    <tr>\n",
       "      <th>2</th>\n",
       "      <td>2</td>\n",
       "      <td>Richard</td>\n",
       "      <td>Starkey</td>\n",
       "      <td>1940</td>\n",
       "    </tr>\n",
       "    <tr>\n",
       "      <th>3</th>\n",
       "      <td>3</td>\n",
       "      <td>George</td>\n",
       "      <td>Harrison</td>\n",
       "      <td>1943</td>\n",
       "    </tr>\n",
       "  </tbody>\n",
       "</table>\n",
       "</div>"
      ],
      "text/plain": [
       "   Unnamed: 0    first       last  birth\n",
       "0           0     Paul  McCartney   1942\n",
       "1           1     John     Lennon   1940\n",
       "2           2  Richard    Starkey   1940\n",
       "3           3   George   Harrison   1943"
      ]
     },
     "execution_count": 88,
     "metadata": {},
     "output_type": "execute_result"
    }
   ],
   "source": [
    "beat2"
   ]
  },
  {
   "cell_type": "code",
   "execution_count": 89,
   "id": "3f5f235c",
   "metadata": {},
   "outputs": [],
   "source": [
    "# Because this file had an index column included,\n",
    "# you can specify that with the index_col parameter:\n",
    "beat2 = pd.read_excel(\"C:/Users/justine.o_kobo360/Desktop/Pandas Workbook/Pandas CookBook 1.x/Jupyter Notebook codes/beat.xls\", index_col=0)"
   ]
  },
  {
   "cell_type": "code",
   "execution_count": 90,
   "id": "c91d3d59",
   "metadata": {},
   "outputs": [
    {
     "data": {
      "text/html": [
       "<div>\n",
       "<style scoped>\n",
       "    .dataframe tbody tr th:only-of-type {\n",
       "        vertical-align: middle;\n",
       "    }\n",
       "\n",
       "    .dataframe tbody tr th {\n",
       "        vertical-align: top;\n",
       "    }\n",
       "\n",
       "    .dataframe thead th {\n",
       "        text-align: right;\n",
       "    }\n",
       "</style>\n",
       "<table border=\"1\" class=\"dataframe\">\n",
       "  <thead>\n",
       "    <tr style=\"text-align: right;\">\n",
       "      <th></th>\n",
       "      <th>first</th>\n",
       "      <th>last</th>\n",
       "      <th>birth</th>\n",
       "    </tr>\n",
       "  </thead>\n",
       "  <tbody>\n",
       "    <tr>\n",
       "      <th>0</th>\n",
       "      <td>Paul</td>\n",
       "      <td>McCartney</td>\n",
       "      <td>1942</td>\n",
       "    </tr>\n",
       "    <tr>\n",
       "      <th>1</th>\n",
       "      <td>John</td>\n",
       "      <td>Lennon</td>\n",
       "      <td>1940</td>\n",
       "    </tr>\n",
       "    <tr>\n",
       "      <th>2</th>\n",
       "      <td>Richard</td>\n",
       "      <td>Starkey</td>\n",
       "      <td>1940</td>\n",
       "    </tr>\n",
       "    <tr>\n",
       "      <th>3</th>\n",
       "      <td>George</td>\n",
       "      <td>Harrison</td>\n",
       "      <td>1943</td>\n",
       "    </tr>\n",
       "  </tbody>\n",
       "</table>\n",
       "</div>"
      ],
      "text/plain": [
       "     first       last  birth\n",
       "0     Paul  McCartney   1942\n",
       "1     John     Lennon   1940\n",
       "2  Richard    Starkey   1940\n",
       "3   George   Harrison   1943"
      ]
     },
     "execution_count": 90,
     "metadata": {},
     "output_type": "execute_result"
    }
   ],
   "source": [
    "beat2"
   ]
  },
  {
   "cell_type": "code",
   "execution_count": 91,
   "id": "c1ebc257",
   "metadata": {},
   "outputs": [
    {
     "data": {
      "text/plain": [
       "first    object\n",
       "last     object\n",
       "birth     int64\n",
       "dtype: object"
      ]
     },
     "execution_count": 91,
     "metadata": {},
     "output_type": "execute_result"
    }
   ],
   "source": [
    "# inspect data types of the file to check that\n",
    "# Excel preserved the types:\n",
    "beat2.dtypes"
   ]
  },
  {
   "cell_type": "code",
   "execution_count": 92,
   "id": "d8d4e282",
   "metadata": {},
   "outputs": [],
   "source": [
    "# We can use pandas to write to a sheet of a\n",
    "# spreadsheet. You can pass a sheet_name\n",
    "# parameter to the .to_excel method to tell it the name of the sheet to create:\n",
    "xl_writer = pd.ExcelWriter(\"beat.xlsx\")"
   ]
  },
  {
   "cell_type": "code",
   "execution_count": 93,
   "id": "6b5e1d41",
   "metadata": {},
   "outputs": [],
   "source": [
    "beatles.to_excel(xl_writer, sheet_name=\"All\")"
   ]
  },
  {
   "cell_type": "code",
   "execution_count": 94,
   "id": "e5d0e8bb",
   "metadata": {},
   "outputs": [],
   "source": [
    "beatles[beatles.birth < 1941].to_excel(\n",
    "    xl_writer, sheet_name=\"1940\"\n",
    ")"
   ]
  },
  {
   "cell_type": "code",
   "execution_count": 95,
   "id": "1456a391",
   "metadata": {},
   "outputs": [],
   "source": [
    "xl_writer.save()\n",
    "# This file will have two sheets, one labeled All\n",
    "# that has the whole DataFrame, and another\n",
    "# labeled 1940 that is filtered to births before \n",
    "# 1941."
   ]
  },
  {
   "cell_type": "markdown",
   "id": "f6e42b69",
   "metadata": {},
   "source": [
    "## Working with ZIP files "
   ]
  },
  {
   "cell_type": "code",
   "execution_count": 7,
   "id": "5350392b",
   "metadata": {},
   "outputs": [],
   "source": [
    "pd.set_option(\"max_columns\", 5, \"max_rows\", 10)"
   ]
  },
  {
   "cell_type": "code",
   "execution_count": 8,
   "id": "e1ea5e20",
   "metadata": {},
   "outputs": [
    {
     "name": "stderr",
     "output_type": "stream",
     "text": [
      "C:\\Users\\justine.o_kobo360\\anaconda31\\lib\\site-packages\\IPython\\core\\interactiveshell.py:3444: DtypeWarning: Columns (70,71,72,73,74,76,79) have mixed types.Specify dtype option on import or set low_memory=False.\n",
      "  exec(code_obj, self.user_global_ns, self.user_ns)\n"
     ]
    }
   ],
   "source": [
    "# If the CSV file is the only file in the ZIP file,\n",
    "# you can just call the read_csv function on it:\n",
    "\n",
    "auto = pd.read_csv(\"C:/Users/justine.o_kobo360/Desktop/Pandas Workbook/Pandas CookBook 1.x/Data files/vehicles.csv.zip\")"
   ]
  },
  {
   "cell_type": "code",
   "execution_count": 9,
   "id": "2954b947",
   "metadata": {},
   "outputs": [
    {
     "data": {
      "text/html": [
       "<div>\n",
       "<style scoped>\n",
       "    .dataframe tbody tr th:only-of-type {\n",
       "        vertical-align: middle;\n",
       "    }\n",
       "\n",
       "    .dataframe tbody tr th {\n",
       "        vertical-align: top;\n",
       "    }\n",
       "\n",
       "    .dataframe thead th {\n",
       "        text-align: right;\n",
       "    }\n",
       "</style>\n",
       "<table border=\"1\" class=\"dataframe\">\n",
       "  <thead>\n",
       "    <tr style=\"text-align: right;\">\n",
       "      <th></th>\n",
       "      <th>barrels08</th>\n",
       "      <th>barrelsA08</th>\n",
       "      <th>...</th>\n",
       "      <th>phevHwy</th>\n",
       "      <th>phevComb</th>\n",
       "    </tr>\n",
       "  </thead>\n",
       "  <tbody>\n",
       "    <tr>\n",
       "      <th>0</th>\n",
       "      <td>14.167143</td>\n",
       "      <td>0.0</td>\n",
       "      <td>...</td>\n",
       "      <td>0</td>\n",
       "      <td>0</td>\n",
       "    </tr>\n",
       "    <tr>\n",
       "      <th>1</th>\n",
       "      <td>27.046364</td>\n",
       "      <td>0.0</td>\n",
       "      <td>...</td>\n",
       "      <td>0</td>\n",
       "      <td>0</td>\n",
       "    </tr>\n",
       "    <tr>\n",
       "      <th>2</th>\n",
       "      <td>11.018889</td>\n",
       "      <td>0.0</td>\n",
       "      <td>...</td>\n",
       "      <td>0</td>\n",
       "      <td>0</td>\n",
       "    </tr>\n",
       "    <tr>\n",
       "      <th>3</th>\n",
       "      <td>27.046364</td>\n",
       "      <td>0.0</td>\n",
       "      <td>...</td>\n",
       "      <td>0</td>\n",
       "      <td>0</td>\n",
       "    </tr>\n",
       "    <tr>\n",
       "      <th>4</th>\n",
       "      <td>15.658421</td>\n",
       "      <td>0.0</td>\n",
       "      <td>...</td>\n",
       "      <td>0</td>\n",
       "      <td>0</td>\n",
       "    </tr>\n",
       "    <tr>\n",
       "      <th>...</th>\n",
       "      <td>...</td>\n",
       "      <td>...</td>\n",
       "      <td>...</td>\n",
       "      <td>...</td>\n",
       "      <td>...</td>\n",
       "    </tr>\n",
       "    <tr>\n",
       "      <th>44755</th>\n",
       "      <td>13.523182</td>\n",
       "      <td>0.0</td>\n",
       "      <td>...</td>\n",
       "      <td>0</td>\n",
       "      <td>0</td>\n",
       "    </tr>\n",
       "    <tr>\n",
       "      <th>44756</th>\n",
       "      <td>12.935217</td>\n",
       "      <td>0.0</td>\n",
       "      <td>...</td>\n",
       "      <td>0</td>\n",
       "      <td>0</td>\n",
       "    </tr>\n",
       "    <tr>\n",
       "      <th>44757</th>\n",
       "      <td>14.167143</td>\n",
       "      <td>0.0</td>\n",
       "      <td>...</td>\n",
       "      <td>0</td>\n",
       "      <td>0</td>\n",
       "    </tr>\n",
       "    <tr>\n",
       "      <th>44758</th>\n",
       "      <td>14.167143</td>\n",
       "      <td>0.0</td>\n",
       "      <td>...</td>\n",
       "      <td>0</td>\n",
       "      <td>0</td>\n",
       "    </tr>\n",
       "    <tr>\n",
       "      <th>44759</th>\n",
       "      <td>16.528333</td>\n",
       "      <td>0.0</td>\n",
       "      <td>...</td>\n",
       "      <td>0</td>\n",
       "      <td>0</td>\n",
       "    </tr>\n",
       "  </tbody>\n",
       "</table>\n",
       "<p>44760 rows × 83 columns</p>\n",
       "</div>"
      ],
      "text/plain": [
       "       barrels08  barrelsA08  ...  phevHwy  phevComb\n",
       "0      14.167143         0.0  ...        0         0\n",
       "1      27.046364         0.0  ...        0         0\n",
       "2      11.018889         0.0  ...        0         0\n",
       "3      27.046364         0.0  ...        0         0\n",
       "4      15.658421         0.0  ...        0         0\n",
       "...          ...         ...  ...      ...       ...\n",
       "44755  13.523182         0.0  ...        0         0\n",
       "44756  12.935217         0.0  ...        0         0\n",
       "44757  14.167143         0.0  ...        0         0\n",
       "44758  14.167143         0.0  ...        0         0\n",
       "44759  16.528333         0.0  ...        0         0\n",
       "\n",
       "[44760 rows x 83 columns]"
      ]
     },
     "execution_count": 9,
     "metadata": {},
     "output_type": "execute_result"
    }
   ],
   "source": [
    "auto"
   ]
  },
  {
   "cell_type": "code",
   "execution_count": 11,
   "id": "a61f41b5",
   "metadata": {},
   "outputs": [
    {
     "data": {
      "text/plain": [
       "dtype('O')"
      ]
     },
     "execution_count": 11,
     "metadata": {},
     "output_type": "execute_result"
    }
   ],
   "source": [
    "auto.modifiedOn.dtype"
   ]
  },
  {
   "cell_type": "raw",
   "id": "13e10659",
   "metadata": {},
   "source": [
    "One thing to be aware of is that if you have date columns in the CSV file, they will be left as strings. You have two options to convert them. You can use the parse_dates parameter from read_csv and convert them when loading the file. Alternatively, you can use the more powerful to_datetime function after loading:"
   ]
  },
  {
   "cell_type": "code",
   "execution_count": 12,
   "id": "a71d0892",
   "metadata": {},
   "outputs": [
    {
     "data": {
      "text/plain": [
       "0        Tue Jan 01 00:00:00 EST 2013\n",
       "1        Tue Jan 01 00:00:00 EST 2013\n",
       "2        Tue Jan 01 00:00:00 EST 2013\n",
       "3        Tue Jan 01 00:00:00 EST 2013\n",
       "4        Tue Jan 01 00:00:00 EST 2013\n",
       "                     ...             \n",
       "44755    Tue Jan 01 00:00:00 EST 2013\n",
       "44756    Tue Jan 01 00:00:00 EST 2013\n",
       "44757    Tue Jan 01 00:00:00 EST 2013\n",
       "44758    Tue Jan 01 00:00:00 EST 2013\n",
       "44759    Tue Jan 01 00:00:00 EST 2013\n",
       "Name: modifiedOn, Length: 44760, dtype: object"
      ]
     },
     "execution_count": 12,
     "metadata": {},
     "output_type": "execute_result"
    }
   ],
   "source": [
    "auto.modifiedOn"
   ]
  },
  {
   "cell_type": "code",
   "execution_count": 13,
   "id": "562de9cd",
   "metadata": {},
   "outputs": [
    {
     "name": "stderr",
     "output_type": "stream",
     "text": [
      "C:\\Users\\justine.o_kobo360\\anaconda31\\lib\\site-packages\\dateutil\\parser\\_parser.py:1207: UnknownTimezoneWarning: tzname EST identified but not understood.  Pass `tzinfos` argument in order to correctly return a timezone-aware datetime.  In a future version, this will raise an exception.\n",
      "  warnings.warn(\"tzname {tzname} identified but not understood.  \"\n",
      "C:\\Users\\justine.o_kobo360\\anaconda31\\lib\\site-packages\\dateutil\\parser\\_parser.py:1207: UnknownTimezoneWarning: tzname EDT identified but not understood.  Pass `tzinfos` argument in order to correctly return a timezone-aware datetime.  In a future version, this will raise an exception.\n",
      "  warnings.warn(\"tzname {tzname} identified but not understood.  \"\n"
     ]
    },
    {
     "data": {
      "text/plain": [
       "0       2013-01-01\n",
       "1       2013-01-01\n",
       "2       2013-01-01\n",
       "3       2013-01-01\n",
       "4       2013-01-01\n",
       "           ...    \n",
       "44755   2013-01-01\n",
       "44756   2013-01-01\n",
       "44757   2013-01-01\n",
       "44758   2013-01-01\n",
       "44759   2013-01-01\n",
       "Name: modifiedOn, Length: 44760, dtype: datetime64[ns]"
      ]
     },
     "execution_count": 13,
     "metadata": {},
     "output_type": "execute_result"
    }
   ],
   "source": [
    "pd.to_datetime(auto.modifiedOn)"
   ]
  },
  {
   "cell_type": "code",
   "execution_count": 14,
   "id": "b599dfe1",
   "metadata": {},
   "outputs": [
    {
     "name": "stderr",
     "output_type": "stream",
     "text": [
      "C:\\Users\\justine.o_kobo360\\anaconda31\\lib\\site-packages\\IPython\\core\\interactiveshell.py:3444: DtypeWarning: Columns (70,71,72,73,74,76,79) have mixed types.Specify dtype option on import or set low_memory=False.\n",
      "  exec(code_obj, self.user_global_ns, self.user_ns)\n",
      "C:\\Users\\justine.o_kobo360\\anaconda31\\lib\\site-packages\\dateutil\\parser\\_parser.py:1207: UnknownTimezoneWarning: tzname EST identified but not understood.  Pass `tzinfos` argument in order to correctly return a timezone-aware datetime.  In a future version, this will raise an exception.\n",
      "  warnings.warn(\"tzname {tzname} identified but not understood.  \"\n",
      "C:\\Users\\justine.o_kobo360\\anaconda31\\lib\\site-packages\\dateutil\\parser\\_parser.py:1207: UnknownTimezoneWarning: tzname EDT identified but not understood.  Pass `tzinfos` argument in order to correctly return a timezone-aware datetime.  In a future version, this will raise an exception.\n",
      "  warnings.warn(\"tzname {tzname} identified but not understood.  \"\n"
     ]
    }
   ],
   "source": [
    "autos = pd.read_csv(\"C:/Users/justine.o_kobo360/Desktop/Pandas Workbook/Pandas CookBook 1.x/Data files/vehicles.csv.zip\", parse_dates=[\"modifiedOn\"])"
   ]
  },
  {
   "cell_type": "code",
   "execution_count": 15,
   "id": "5a147625",
   "metadata": {},
   "outputs": [
    {
     "data": {
      "text/plain": [
       "0       2013-01-01\n",
       "1       2013-01-01\n",
       "2       2013-01-01\n",
       "3       2013-01-01\n",
       "4       2013-01-01\n",
       "           ...    \n",
       "44755   2013-01-01\n",
       "44756   2013-01-01\n",
       "44757   2013-01-01\n",
       "44758   2013-01-01\n",
       "44759   2013-01-01\n",
       "Name: modifiedOn, Length: 44760, dtype: datetime64[ns]"
      ]
     },
     "execution_count": 15,
     "metadata": {},
     "output_type": "execute_result"
    }
   ],
   "source": [
    "autos.modifiedOn"
   ]
  },
  {
   "cell_type": "markdown",
   "id": "30d80fd5",
   "metadata": {},
   "source": [
    "If the ZIP file has many files it in, reading a CSV file from it is a little more involved.\n",
    "The read_csv function does not have the ability to specify a file inside a ZIP file.\n",
    "Instead, we will use the zipfile module from the Python standard library."
   ]
  },
  {
   "cell_type": "code",
   "execution_count": 16,
   "id": "4bbe64eb",
   "metadata": {},
   "outputs": [
    {
     "name": "stdout",
     "output_type": "stream",
     "text": [
      "kaggle_survey_2020_responses.csv\n"
     ]
    },
    {
     "ename": "KeyError",
     "evalue": "\"There is no item named 'multipleChoiceResponses.csv' in the archive\"",
     "output_type": "error",
     "traceback": [
      "\u001b[1;31m---------------------------------------------------------------------------\u001b[0m",
      "\u001b[1;31mKeyError\u001b[0m                                  Traceback (most recent call last)",
      "\u001b[1;32mC:\\Users\\JUSTIN~1.O_K\\AppData\\Local\\Temp/ipykernel_23800/1626806283.py\u001b[0m in \u001b[0;36m<module>\u001b[1;34m\u001b[0m\n\u001b[0;32m      6\u001b[0m     \u001b[0mprint\u001b[0m\u001b[1;33m(\u001b[0m\u001b[1;34m\"\\n\"\u001b[0m\u001b[1;33m.\u001b[0m\u001b[0mjoin\u001b[0m\u001b[1;33m(\u001b[0m\u001b[0mz\u001b[0m\u001b[1;33m.\u001b[0m\u001b[0mnamelist\u001b[0m\u001b[1;33m(\u001b[0m\u001b[1;33m)\u001b[0m\u001b[1;33m)\u001b[0m\u001b[1;33m)\u001b[0m\u001b[1;33m\u001b[0m\u001b[1;33m\u001b[0m\u001b[0m\n\u001b[0;32m      7\u001b[0m     kag = pd.read_csv(\n\u001b[1;32m----> 8\u001b[1;33m         \u001b[0mz\u001b[0m\u001b[1;33m.\u001b[0m\u001b[0mopen\u001b[0m\u001b[1;33m(\u001b[0m\u001b[1;34m\"multipleChoiceResponses.csv\"\u001b[0m\u001b[1;33m)\u001b[0m\u001b[1;33m\u001b[0m\u001b[1;33m\u001b[0m\u001b[0m\n\u001b[0m\u001b[0;32m      9\u001b[0m     )\n\u001b[0;32m     10\u001b[0m     \u001b[0mkag_questions\u001b[0m \u001b[1;33m=\u001b[0m \u001b[0mkag\u001b[0m\u001b[1;33m.\u001b[0m\u001b[0miloc\u001b[0m\u001b[1;33m[\u001b[0m\u001b[1;36m0\u001b[0m\u001b[1;33m]\u001b[0m\u001b[1;33m\u001b[0m\u001b[1;33m\u001b[0m\u001b[0m\n",
      "\u001b[1;32m~\\anaconda31\\lib\\zipfile.py\u001b[0m in \u001b[0;36mopen\u001b[1;34m(self, name, mode, pwd, force_zip64)\u001b[0m\n\u001b[0;32m   1500\u001b[0m         \u001b[1;32melse\u001b[0m\u001b[1;33m:\u001b[0m\u001b[1;33m\u001b[0m\u001b[1;33m\u001b[0m\u001b[0m\n\u001b[0;32m   1501\u001b[0m             \u001b[1;31m# Get info object for name\u001b[0m\u001b[1;33m\u001b[0m\u001b[1;33m\u001b[0m\u001b[0m\n\u001b[1;32m-> 1502\u001b[1;33m             \u001b[0mzinfo\u001b[0m \u001b[1;33m=\u001b[0m \u001b[0mself\u001b[0m\u001b[1;33m.\u001b[0m\u001b[0mgetinfo\u001b[0m\u001b[1;33m(\u001b[0m\u001b[0mname\u001b[0m\u001b[1;33m)\u001b[0m\u001b[1;33m\u001b[0m\u001b[1;33m\u001b[0m\u001b[0m\n\u001b[0m\u001b[0;32m   1503\u001b[0m \u001b[1;33m\u001b[0m\u001b[0m\n\u001b[0;32m   1504\u001b[0m         \u001b[1;32mif\u001b[0m \u001b[0mmode\u001b[0m \u001b[1;33m==\u001b[0m \u001b[1;34m'w'\u001b[0m\u001b[1;33m:\u001b[0m\u001b[1;33m\u001b[0m\u001b[1;33m\u001b[0m\u001b[0m\n",
      "\u001b[1;32m~\\anaconda31\\lib\\zipfile.py\u001b[0m in \u001b[0;36mgetinfo\u001b[1;34m(self, name)\u001b[0m\n\u001b[0;32m   1427\u001b[0m         \u001b[0minfo\u001b[0m \u001b[1;33m=\u001b[0m \u001b[0mself\u001b[0m\u001b[1;33m.\u001b[0m\u001b[0mNameToInfo\u001b[0m\u001b[1;33m.\u001b[0m\u001b[0mget\u001b[0m\u001b[1;33m(\u001b[0m\u001b[0mname\u001b[0m\u001b[1;33m)\u001b[0m\u001b[1;33m\u001b[0m\u001b[1;33m\u001b[0m\u001b[0m\n\u001b[0;32m   1428\u001b[0m         \u001b[1;32mif\u001b[0m \u001b[0minfo\u001b[0m \u001b[1;32mis\u001b[0m \u001b[1;32mNone\u001b[0m\u001b[1;33m:\u001b[0m\u001b[1;33m\u001b[0m\u001b[1;33m\u001b[0m\u001b[0m\n\u001b[1;32m-> 1429\u001b[1;33m             raise KeyError(\n\u001b[0m\u001b[0;32m   1430\u001b[0m                 'There is no item named %r in the archive' % name)\n\u001b[0;32m   1431\u001b[0m \u001b[1;33m\u001b[0m\u001b[0m\n",
      "\u001b[1;31mKeyError\u001b[0m: \"There is no item named 'multipleChoiceResponses.csv' in the archive\""
     ]
    }
   ],
   "source": [
    "import zipfile\n",
    "\n",
    "with zipfile.ZipFile(\n",
    "    \"C:/Users/justine.o_kobo360/Desktop/Pandas Workbook/Pandas CookBook 1.x/Data files/kaggle_survey_2020_responses.csv.zip\"\n",
    ") as z:\n",
    "    print(\"\\n\".join(z.namelist()))\n",
    "    kag = pd.read_csv(\n",
    "        z.open(\"multipleChoiceResponses.csv\")\n",
    "    )\n",
    "    kag_questions = kag.iloc[0]\n",
    "    survey = kag.ilococ[1]\n",
    "\n",
    "multipleChoiceResponses.csv\n",
    "freeFormResponses.csv\n",
    "SurveySchema.csv"
   ]
  },
  {
   "cell_type": "markdown",
   "id": "005bc330",
   "metadata": {},
   "source": [
    "## Working with Databases"
   ]
  },
  {
   "cell_type": "code",
   "execution_count": 17,
   "id": "ddc5e2a8",
   "metadata": {},
   "outputs": [],
   "source": [
    "import sqlite3"
   ]
  },
  {
   "cell_type": "code",
   "execution_count": 18,
   "id": "cdddf006",
   "metadata": {},
   "outputs": [],
   "source": [
    "con = sqlite3.connect(\"C:/Users/justine.o_kobo360/Desktop/Pandas Workbook/Pandas CookBook 1.x/Data files/beat.db\")"
   ]
  },
  {
   "cell_type": "code",
   "execution_count": 19,
   "id": "65c1651b",
   "metadata": {},
   "outputs": [],
   "source": [
    "with con:\n",
    "    cur = con.cursor()\n",
    "    cur.execute(\"\"\"DROP TABLE Band\"\"\")\n",
    "    cur.execute(\n",
    "        \"\"\"CREATE TABLE Band(id INTEGER PRIMARY KEY,\n",
    "        fname TEXT, lname TEXT, birthyear INT)\"\"\"\n",
    "    )\n",
    "    cur.execute(\n",
    "        \"\"\"INSERT INTO Band VALUES(\n",
    "        0, 'Paul', 'McCartney', 1942\n",
    "        )\"\"\"\n",
    "    )\n",
    "    cur.execute(\n",
    "        \"\"\"INSERT INTO Band VALUES(\n",
    "        1, 'John', 'Lennon', 1940\n",
    "        )\"\"\"\n",
    "    )\n",
    "    \n",
    "    _ = con.commit()"
   ]
  },
  {
   "cell_type": "code",
   "execution_count": 26,
   "id": "80b3fa7c",
   "metadata": {},
   "outputs": [],
   "source": [
    "# Read the table from the database into a DataFrame.\n",
    "# Note that if we are reading a table, we need to\n",
    "# use a SQLAlchemy connection. SQLAlchemy is a\n",
    "# library that abstracts databases for us:\n",
    "import sqlalchemy as sa\n",
    "\n",
    "engine = sa.create_engine(\n",
    "    \"sqlite:///C:/Users/justine.o_kobo360/Desktop/Pandas Workbook/Pandas CookBook 1.x/Data files/beat.db\", echo=True\n",
    ")"
   ]
  },
  {
   "cell_type": "code",
   "execution_count": 27,
   "id": "afb5d8ec",
   "metadata": {},
   "outputs": [],
   "source": [
    "sa_connection = engine.connect()"
   ]
  },
  {
   "cell_type": "code",
   "execution_count": 28,
   "id": "718752f4",
   "metadata": {},
   "outputs": [
    {
     "name": "stdout",
     "output_type": "stream",
     "text": [
      "2022-03-06 08:07:22,516 INFO sqlalchemy.engine.Engine PRAGMA main.table_info(\"Band\")\n",
      "2022-03-06 08:07:22,519 INFO sqlalchemy.engine.Engine [raw sql] ()\n",
      "2022-03-06 08:07:22,522 INFO sqlalchemy.engine.Engine SELECT name FROM sqlite_master WHERE type='table' ORDER BY name\n",
      "2022-03-06 08:07:22,523 INFO sqlalchemy.engine.Engine [raw sql] ()\n",
      "2022-03-06 08:07:22,527 INFO sqlalchemy.engine.Engine PRAGMA main.table_xinfo(\"Band\")\n",
      "2022-03-06 08:07:22,528 INFO sqlalchemy.engine.Engine [raw sql] ()\n",
      "2022-03-06 08:07:22,533 INFO sqlalchemy.engine.Engine SELECT sql FROM  (SELECT * FROM sqlite_master UNION ALL   SELECT * FROM sqlite_temp_master) WHERE name = ? AND type = 'table'\n",
      "2022-03-06 08:07:22,533 INFO sqlalchemy.engine.Engine [raw sql] ('Band',)\n",
      "2022-03-06 08:07:22,537 INFO sqlalchemy.engine.Engine PRAGMA main.foreign_key_list(\"Band\")\n",
      "2022-03-06 08:07:22,538 INFO sqlalchemy.engine.Engine [raw sql] ()\n",
      "2022-03-06 08:07:22,540 INFO sqlalchemy.engine.Engine PRAGMA temp.foreign_key_list(\"Band\")\n",
      "2022-03-06 08:07:22,541 INFO sqlalchemy.engine.Engine [raw sql] ()\n",
      "2022-03-06 08:07:22,542 INFO sqlalchemy.engine.Engine SELECT sql FROM  (SELECT * FROM sqlite_master UNION ALL   SELECT * FROM sqlite_temp_master) WHERE name = ? AND type = 'table'\n",
      "2022-03-06 08:07:22,544 INFO sqlalchemy.engine.Engine [raw sql] ('Band',)\n",
      "2022-03-06 08:07:22,550 INFO sqlalchemy.engine.Engine PRAGMA main.index_list(\"Band\")\n",
      "2022-03-06 08:07:22,551 INFO sqlalchemy.engine.Engine [raw sql] ()\n",
      "2022-03-06 08:07:22,552 INFO sqlalchemy.engine.Engine PRAGMA temp.index_list(\"Band\")\n",
      "2022-03-06 08:07:22,553 INFO sqlalchemy.engine.Engine [raw sql] ()\n",
      "2022-03-06 08:07:22,554 INFO sqlalchemy.engine.Engine PRAGMA main.index_list(\"Band\")\n",
      "2022-03-06 08:07:22,556 INFO sqlalchemy.engine.Engine [raw sql] ()\n",
      "2022-03-06 08:07:22,559 INFO sqlalchemy.engine.Engine PRAGMA temp.index_list(\"Band\")\n",
      "2022-03-06 08:07:22,560 INFO sqlalchemy.engine.Engine [raw sql] ()\n",
      "2022-03-06 08:07:22,561 INFO sqlalchemy.engine.Engine SELECT sql FROM  (SELECT * FROM sqlite_master UNION ALL   SELECT * FROM sqlite_temp_master) WHERE name = ? AND type = 'table'\n",
      "2022-03-06 08:07:22,562 INFO sqlalchemy.engine.Engine [raw sql] ('Band',)\n",
      "2022-03-06 08:07:22,568 INFO sqlalchemy.engine.Engine SELECT \"Band\".id, \"Band\".fname, \"Band\".lname, \"Band\".birthyear \n",
      "FROM \"Band\"\n",
      "2022-03-06 08:07:22,568 INFO sqlalchemy.engine.Engine [generated in 0.00093s] ()\n"
     ]
    }
   ],
   "source": [
    "beat = pd.read_sql(\n",
    "    \"Band\", sa_connection, index_col='id'\n",
    ")"
   ]
  },
  {
   "cell_type": "code",
   "execution_count": 29,
   "id": "404c219d",
   "metadata": {},
   "outputs": [
    {
     "data": {
      "text/html": [
       "<div>\n",
       "<style scoped>\n",
       "    .dataframe tbody tr th:only-of-type {\n",
       "        vertical-align: middle;\n",
       "    }\n",
       "\n",
       "    .dataframe tbody tr th {\n",
       "        vertical-align: top;\n",
       "    }\n",
       "\n",
       "    .dataframe thead th {\n",
       "        text-align: right;\n",
       "    }\n",
       "</style>\n",
       "<table border=\"1\" class=\"dataframe\">\n",
       "  <thead>\n",
       "    <tr style=\"text-align: right;\">\n",
       "      <th></th>\n",
       "      <th>fname</th>\n",
       "      <th>lname</th>\n",
       "      <th>birthyear</th>\n",
       "    </tr>\n",
       "    <tr>\n",
       "      <th>id</th>\n",
       "      <th></th>\n",
       "      <th></th>\n",
       "      <th></th>\n",
       "    </tr>\n",
       "  </thead>\n",
       "  <tbody>\n",
       "    <tr>\n",
       "      <th>0</th>\n",
       "      <td>Paul</td>\n",
       "      <td>McCartney</td>\n",
       "      <td>1942</td>\n",
       "    </tr>\n",
       "    <tr>\n",
       "      <th>1</th>\n",
       "      <td>John</td>\n",
       "      <td>Lennon</td>\n",
       "      <td>1940</td>\n",
       "    </tr>\n",
       "  </tbody>\n",
       "</table>\n",
       "</div>"
      ],
      "text/plain": [
       "   fname      lname  birthyear\n",
       "id                            \n",
       "0   Paul  McCartney       1942\n",
       "1   John     Lennon       1940"
      ]
     },
     "execution_count": 29,
     "metadata": {},
     "output_type": "execute_result"
    }
   ],
   "source": [
    "beat"
   ]
  },
  {
   "cell_type": "markdown",
   "id": "bf187d7a",
   "metadata": {},
   "source": [
    "## Reading JSON"
   ]
  },
  {
   "cell_type": "raw",
   "id": "41895151",
   "metadata": {},
   "source": [
    "JavaScript Object Notation (JSON) is a common format used for transferring data over the internet. Contrary to the name, it does not require JavaScript to read or create. The Python standard library ships with the json library that will encode and decode from JSON"
   ]
  },
  {
   "cell_type": "code",
   "execution_count": 39,
   "id": "a2181fac",
   "metadata": {},
   "outputs": [],
   "source": [
    "people = {\"first\": [\"Paul\", \"John\", \"Richard\", \"George\"], \"last\": [\"McCartney\",\n",
    "\"Lennon\", \"Starkey\", \"Harrison\"], \"birth\": [1942, 1940, 1940, 1943]}"
   ]
  },
  {
   "cell_type": "code",
   "execution_count": 30,
   "id": "6525fe4d",
   "metadata": {},
   "outputs": [],
   "source": [
    "import json"
   ]
  },
  {
   "cell_type": "code",
   "execution_count": 40,
   "id": "f08b36d4",
   "metadata": {},
   "outputs": [
    {
     "data": {
      "text/plain": [
       "'{\"first\": [\"Paul\", \"John\", \"Richard\", \"George\"], \"last\": [\"McCartney\", \"Lennon\", \"Starkey\", \"Harrison\"], \"birth\": [1942, 1940, 1940, 1943]}'"
      ]
     },
     "execution_count": 40,
     "metadata": {},
     "output_type": "execute_result"
    }
   ],
   "source": [
    "encoded = json.dumps(people)\n",
    "encoded"
   ]
  },
  {
   "cell_type": "code",
   "execution_count": 41,
   "id": "e8d36bce",
   "metadata": {},
   "outputs": [
    {
     "data": {
      "text/plain": [
       "{'first': ['Paul', 'John', 'Richard', 'George'],\n",
       " 'last': ['McCartney', 'Lennon', 'Starkey', 'Harrison'],\n",
       " 'birth': [1942, 1940, 1940, 1943]}"
      ]
     },
     "execution_count": 41,
     "metadata": {},
     "output_type": "execute_result"
    }
   ],
   "source": [
    "json.loads(encoded)"
   ]
  },
  {
   "cell_type": "code",
   "execution_count": 42,
   "id": "5c9ab5ee",
   "metadata": {},
   "outputs": [],
   "source": [
    "beatles = pd.read_json(encoded)"
   ]
  },
  {
   "cell_type": "code",
   "execution_count": 43,
   "id": "b8e78525",
   "metadata": {},
   "outputs": [
    {
     "data": {
      "text/html": [
       "<div>\n",
       "<style scoped>\n",
       "    .dataframe tbody tr th:only-of-type {\n",
       "        vertical-align: middle;\n",
       "    }\n",
       "\n",
       "    .dataframe tbody tr th {\n",
       "        vertical-align: top;\n",
       "    }\n",
       "\n",
       "    .dataframe thead th {\n",
       "        text-align: right;\n",
       "    }\n",
       "</style>\n",
       "<table border=\"1\" class=\"dataframe\">\n",
       "  <thead>\n",
       "    <tr style=\"text-align: right;\">\n",
       "      <th></th>\n",
       "      <th>first</th>\n",
       "      <th>last</th>\n",
       "      <th>birth</th>\n",
       "    </tr>\n",
       "  </thead>\n",
       "  <tbody>\n",
       "    <tr>\n",
       "      <th>0</th>\n",
       "      <td>Paul</td>\n",
       "      <td>McCartney</td>\n",
       "      <td>1942</td>\n",
       "    </tr>\n",
       "    <tr>\n",
       "      <th>1</th>\n",
       "      <td>John</td>\n",
       "      <td>Lennon</td>\n",
       "      <td>1940</td>\n",
       "    </tr>\n",
       "    <tr>\n",
       "      <th>2</th>\n",
       "      <td>Richard</td>\n",
       "      <td>Starkey</td>\n",
       "      <td>1940</td>\n",
       "    </tr>\n",
       "    <tr>\n",
       "      <th>3</th>\n",
       "      <td>George</td>\n",
       "      <td>Harrison</td>\n",
       "      <td>1943</td>\n",
       "    </tr>\n",
       "  </tbody>\n",
       "</table>\n",
       "</div>"
      ],
      "text/plain": [
       "     first       last  birth\n",
       "0     Paul  McCartney   1942\n",
       "1     John     Lennon   1940\n",
       "2  Richard    Starkey   1940\n",
       "3   George   Harrison   1943"
      ]
     },
     "execution_count": 43,
     "metadata": {},
     "output_type": "execute_result"
    }
   ],
   "source": [
    "beatles "
   ]
  },
  {
   "cell_type": "code",
   "execution_count": 44,
   "id": "6c5bcf54",
   "metadata": {},
   "outputs": [],
   "source": [
    "# Following are examples of these styles. The columns\n",
    "# style was the example shown previously:\n",
    "\n",
    "records = beatles.to_json(orient=\"records\")"
   ]
  },
  {
   "cell_type": "code",
   "execution_count": 45,
   "id": "da73b5d9",
   "metadata": {},
   "outputs": [
    {
     "data": {
      "text/plain": [
       "'[{\"first\":\"Paul\",\"last\":\"McCartney\",\"birth\":1942},{\"first\":\"John\",\"last\":\"Lennon\",\"birth\":1940},{\"first\":\"Richard\",\"last\":\"Starkey\",\"birth\":1940},{\"first\":\"George\",\"last\":\"Harrison\",\"birth\":1943}]'"
      ]
     },
     "execution_count": 45,
     "metadata": {},
     "output_type": "execute_result"
    }
   ],
   "source": [
    "records"
   ]
  },
  {
   "cell_type": "code",
   "execution_count": 48,
   "id": "e5fe6bb1",
   "metadata": {},
   "outputs": [
    {
     "data": {
      "text/html": [
       "<div>\n",
       "<style scoped>\n",
       "    .dataframe tbody tr th:only-of-type {\n",
       "        vertical-align: middle;\n",
       "    }\n",
       "\n",
       "    .dataframe tbody tr th {\n",
       "        vertical-align: top;\n",
       "    }\n",
       "\n",
       "    .dataframe thead th {\n",
       "        text-align: right;\n",
       "    }\n",
       "</style>\n",
       "<table border=\"1\" class=\"dataframe\">\n",
       "  <thead>\n",
       "    <tr style=\"text-align: right;\">\n",
       "      <th></th>\n",
       "      <th>first</th>\n",
       "      <th>last</th>\n",
       "      <th>birth</th>\n",
       "    </tr>\n",
       "  </thead>\n",
       "  <tbody>\n",
       "    <tr>\n",
       "      <th>0</th>\n",
       "      <td>Paul</td>\n",
       "      <td>McCartney</td>\n",
       "      <td>1942</td>\n",
       "    </tr>\n",
       "    <tr>\n",
       "      <th>1</th>\n",
       "      <td>John</td>\n",
       "      <td>Lennon</td>\n",
       "      <td>1940</td>\n",
       "    </tr>\n",
       "    <tr>\n",
       "      <th>2</th>\n",
       "      <td>Richard</td>\n",
       "      <td>Starkey</td>\n",
       "      <td>1940</td>\n",
       "    </tr>\n",
       "    <tr>\n",
       "      <th>3</th>\n",
       "      <td>George</td>\n",
       "      <td>Harrison</td>\n",
       "      <td>1943</td>\n",
       "    </tr>\n",
       "  </tbody>\n",
       "</table>\n",
       "</div>"
      ],
      "text/plain": [
       "     first       last  birth\n",
       "0     Paul  McCartney   1942\n",
       "1     John     Lennon   1940\n",
       "2  Richard    Starkey   1940\n",
       "3   George   Harrison   1943"
      ]
     },
     "execution_count": 48,
     "metadata": {},
     "output_type": "execute_result"
    }
   ],
   "source": [
    "pd.read_json(records, orient=\"records\")"
   ]
  },
  {
   "cell_type": "code",
   "execution_count": 49,
   "id": "40929795",
   "metadata": {},
   "outputs": [],
   "source": [
    "split = beatles.to_json(orient=\"split\")"
   ]
  },
  {
   "cell_type": "code",
   "execution_count": 50,
   "id": "8bfc16b8",
   "metadata": {},
   "outputs": [
    {
     "data": {
      "text/plain": [
       "'{\"columns\":[\"first\",\"last\",\"birth\"],\"index\":[0,1,2,3],\"data\":[[\"Paul\",\"McCartney\",1942],[\"John\",\"Lennon\",1940],[\"Richard\",\"Starkey\",1940],[\"George\",\"Harrison\",1943]]}'"
      ]
     },
     "execution_count": 50,
     "metadata": {},
     "output_type": "execute_result"
    }
   ],
   "source": [
    "split"
   ]
  },
  {
   "cell_type": "code",
   "execution_count": 52,
   "id": "82767636",
   "metadata": {},
   "outputs": [
    {
     "data": {
      "text/html": [
       "<div>\n",
       "<style scoped>\n",
       "    .dataframe tbody tr th:only-of-type {\n",
       "        vertical-align: middle;\n",
       "    }\n",
       "\n",
       "    .dataframe tbody tr th {\n",
       "        vertical-align: top;\n",
       "    }\n",
       "\n",
       "    .dataframe thead th {\n",
       "        text-align: right;\n",
       "    }\n",
       "</style>\n",
       "<table border=\"1\" class=\"dataframe\">\n",
       "  <thead>\n",
       "    <tr style=\"text-align: right;\">\n",
       "      <th></th>\n",
       "      <th>first</th>\n",
       "      <th>last</th>\n",
       "      <th>birth</th>\n",
       "    </tr>\n",
       "  </thead>\n",
       "  <tbody>\n",
       "    <tr>\n",
       "      <th>0</th>\n",
       "      <td>Paul</td>\n",
       "      <td>McCartney</td>\n",
       "      <td>1942</td>\n",
       "    </tr>\n",
       "    <tr>\n",
       "      <th>1</th>\n",
       "      <td>John</td>\n",
       "      <td>Lennon</td>\n",
       "      <td>1940</td>\n",
       "    </tr>\n",
       "    <tr>\n",
       "      <th>2</th>\n",
       "      <td>Richard</td>\n",
       "      <td>Starkey</td>\n",
       "      <td>1940</td>\n",
       "    </tr>\n",
       "    <tr>\n",
       "      <th>3</th>\n",
       "      <td>George</td>\n",
       "      <td>Harrison</td>\n",
       "      <td>1943</td>\n",
       "    </tr>\n",
       "  </tbody>\n",
       "</table>\n",
       "</div>"
      ],
      "text/plain": [
       "     first       last  birth\n",
       "0     Paul  McCartney   1942\n",
       "1     John     Lennon   1940\n",
       "2  Richard    Starkey   1940\n",
       "3   George   Harrison   1943"
      ]
     },
     "execution_count": 52,
     "metadata": {},
     "output_type": "execute_result"
    }
   ],
   "source": [
    "pd.read_json(split, orient=\"split\")"
   ]
  },
  {
   "cell_type": "code",
   "execution_count": 53,
   "id": "1ab19c61",
   "metadata": {},
   "outputs": [],
   "source": [
    "index = beatles.to_json(orient=\"index\")"
   ]
  },
  {
   "cell_type": "code",
   "execution_count": 54,
   "id": "2f3d2bc8",
   "metadata": {},
   "outputs": [
    {
     "data": {
      "text/plain": [
       "'{\"0\":{\"first\":\"Paul\",\"last\":\"McCartney\",\"birth\":1942},\"1\":{\"first\":\"John\",\"last\":\"Lennon\",\"birth\":1940},\"2\":{\"first\":\"Richard\",\"last\":\"Starkey\",\"birth\":1940},\"3\":{\"first\":\"George\",\"last\":\"Harrison\",\"birth\":1943}}'"
      ]
     },
     "execution_count": 54,
     "metadata": {},
     "output_type": "execute_result"
    }
   ],
   "source": [
    "index"
   ]
  },
  {
   "cell_type": "code",
   "execution_count": 56,
   "id": "61c29ac7",
   "metadata": {},
   "outputs": [
    {
     "data": {
      "text/html": [
       "<div>\n",
       "<style scoped>\n",
       "    .dataframe tbody tr th:only-of-type {\n",
       "        vertical-align: middle;\n",
       "    }\n",
       "\n",
       "    .dataframe tbody tr th {\n",
       "        vertical-align: top;\n",
       "    }\n",
       "\n",
       "    .dataframe thead th {\n",
       "        text-align: right;\n",
       "    }\n",
       "</style>\n",
       "<table border=\"1\" class=\"dataframe\">\n",
       "  <thead>\n",
       "    <tr style=\"text-align: right;\">\n",
       "      <th></th>\n",
       "      <th>first</th>\n",
       "      <th>last</th>\n",
       "      <th>birth</th>\n",
       "    </tr>\n",
       "  </thead>\n",
       "  <tbody>\n",
       "    <tr>\n",
       "      <th>0</th>\n",
       "      <td>Paul</td>\n",
       "      <td>McCartney</td>\n",
       "      <td>1942</td>\n",
       "    </tr>\n",
       "    <tr>\n",
       "      <th>1</th>\n",
       "      <td>John</td>\n",
       "      <td>Lennon</td>\n",
       "      <td>1940</td>\n",
       "    </tr>\n",
       "    <tr>\n",
       "      <th>2</th>\n",
       "      <td>Richard</td>\n",
       "      <td>Starkey</td>\n",
       "      <td>1940</td>\n",
       "    </tr>\n",
       "    <tr>\n",
       "      <th>3</th>\n",
       "      <td>George</td>\n",
       "      <td>Harrison</td>\n",
       "      <td>1943</td>\n",
       "    </tr>\n",
       "  </tbody>\n",
       "</table>\n",
       "</div>"
      ],
      "text/plain": [
       "     first       last  birth\n",
       "0     Paul  McCartney   1942\n",
       "1     John     Lennon   1940\n",
       "2  Richard    Starkey   1940\n",
       "3   George   Harrison   1943"
      ]
     },
     "execution_count": 56,
     "metadata": {},
     "output_type": "execute_result"
    }
   ],
   "source": [
    "pd.read_json(index, orient=\"index\")"
   ]
  },
  {
   "cell_type": "code",
   "execution_count": 57,
   "id": "7376b658",
   "metadata": {},
   "outputs": [],
   "source": [
    "values = beatles.to_json(orient=\"values\")"
   ]
  },
  {
   "cell_type": "code",
   "execution_count": 58,
   "id": "a16da3dd",
   "metadata": {},
   "outputs": [
    {
     "data": {
      "text/plain": [
       "'[[\"Paul\",\"McCartney\",1942],[\"John\",\"Lennon\",1940],[\"Richard\",\"Starkey\",1940],[\"George\",\"Harrison\",1943]]'"
      ]
     },
     "execution_count": 58,
     "metadata": {},
     "output_type": "execute_result"
    }
   ],
   "source": [
    "values"
   ]
  },
  {
   "cell_type": "code",
   "execution_count": 59,
   "id": "03d7a00e",
   "metadata": {},
   "outputs": [
    {
     "data": {
      "text/plain": [
       "'[[\"Paul\",\"McCartney\",1942],[\"John\",\"Lennon\",1940],[\"Richard\",\"Starkey\",1940],[\"George\",\"Harrison\",1943]]'"
      ]
     },
     "execution_count": 59,
     "metadata": {},
     "output_type": "execute_result"
    }
   ],
   "source": [
    "values"
   ]
  },
  {
   "cell_type": "code",
   "execution_count": 60,
   "id": "0862f2ed",
   "metadata": {},
   "outputs": [
    {
     "data": {
      "text/html": [
       "<div>\n",
       "<style scoped>\n",
       "    .dataframe tbody tr th:only-of-type {\n",
       "        vertical-align: middle;\n",
       "    }\n",
       "\n",
       "    .dataframe tbody tr th {\n",
       "        vertical-align: top;\n",
       "    }\n",
       "\n",
       "    .dataframe thead th {\n",
       "        text-align: right;\n",
       "    }\n",
       "</style>\n",
       "<table border=\"1\" class=\"dataframe\">\n",
       "  <thead>\n",
       "    <tr style=\"text-align: right;\">\n",
       "      <th></th>\n",
       "      <th>0</th>\n",
       "      <th>1</th>\n",
       "      <th>2</th>\n",
       "    </tr>\n",
       "  </thead>\n",
       "  <tbody>\n",
       "    <tr>\n",
       "      <th>0</th>\n",
       "      <td>Paul</td>\n",
       "      <td>McCartney</td>\n",
       "      <td>1942</td>\n",
       "    </tr>\n",
       "    <tr>\n",
       "      <th>1</th>\n",
       "      <td>John</td>\n",
       "      <td>Lennon</td>\n",
       "      <td>1940</td>\n",
       "    </tr>\n",
       "    <tr>\n",
       "      <th>2</th>\n",
       "      <td>Richard</td>\n",
       "      <td>Starkey</td>\n",
       "      <td>1940</td>\n",
       "    </tr>\n",
       "    <tr>\n",
       "      <th>3</th>\n",
       "      <td>George</td>\n",
       "      <td>Harrison</td>\n",
       "      <td>1943</td>\n",
       "    </tr>\n",
       "  </tbody>\n",
       "</table>\n",
       "</div>"
      ],
      "text/plain": [
       "         0          1     2\n",
       "0     Paul  McCartney  1942\n",
       "1     John     Lennon  1940\n",
       "2  Richard    Starkey  1940\n",
       "3   George   Harrison  1943"
      ]
     },
     "execution_count": 60,
     "metadata": {},
     "output_type": "execute_result"
    }
   ],
   "source": [
    "pd.read_json(values, orient=\"values\")"
   ]
  },
  {
   "cell_type": "code",
   "execution_count": 63,
   "id": "ca7744a6",
   "metadata": {},
   "outputs": [
    {
     "data": {
      "text/html": [
       "<div>\n",
       "<style scoped>\n",
       "    .dataframe tbody tr th:only-of-type {\n",
       "        vertical-align: middle;\n",
       "    }\n",
       "\n",
       "    .dataframe tbody tr th {\n",
       "        vertical-align: top;\n",
       "    }\n",
       "\n",
       "    .dataframe thead th {\n",
       "        text-align: right;\n",
       "    }\n",
       "</style>\n",
       "<table border=\"1\" class=\"dataframe\">\n",
       "  <thead>\n",
       "    <tr style=\"text-align: right;\">\n",
       "      <th></th>\n",
       "      <th>first</th>\n",
       "      <th>last</th>\n",
       "      <th>birth</th>\n",
       "    </tr>\n",
       "  </thead>\n",
       "  <tbody>\n",
       "    <tr>\n",
       "      <th>0</th>\n",
       "      <td>Paul</td>\n",
       "      <td>McCartney</td>\n",
       "      <td>1942</td>\n",
       "    </tr>\n",
       "    <tr>\n",
       "      <th>1</th>\n",
       "      <td>John</td>\n",
       "      <td>Lennon</td>\n",
       "      <td>1940</td>\n",
       "    </tr>\n",
       "    <tr>\n",
       "      <th>2</th>\n",
       "      <td>Richard</td>\n",
       "      <td>Starkey</td>\n",
       "      <td>1940</td>\n",
       "    </tr>\n",
       "    <tr>\n",
       "      <th>3</th>\n",
       "      <td>George</td>\n",
       "      <td>Harrison</td>\n",
       "      <td>1943</td>\n",
       "    </tr>\n",
       "  </tbody>\n",
       "</table>\n",
       "</div>"
      ],
      "text/plain": [
       "     first       last  birth\n",
       "0     Paul  McCartney   1942\n",
       "1     John     Lennon   1940\n",
       "2  Richard    Starkey   1940\n",
       "3   George   Harrison   1943"
      ]
     },
     "execution_count": 63,
     "metadata": {},
     "output_type": "execute_result"
    }
   ],
   "source": [
    "pd.read_json(values, orient=\"values\").rename(columns=dict(enumerate([\"first\", \"last\", \"birth\"])))"
   ]
  },
  {
   "cell_type": "code",
   "execution_count": 64,
   "id": "fe56530f",
   "metadata": {},
   "outputs": [],
   "source": [
    "table = beatles.to_json(orient=\"table\")"
   ]
  },
  {
   "cell_type": "code",
   "execution_count": 65,
   "id": "69156f81",
   "metadata": {},
   "outputs": [
    {
     "data": {
      "text/plain": [
       "'{\"schema\":{\"fields\":[{\"name\":\"index\",\"type\":\"integer\"},{\"name\":\"first\",\"type\":\"string\"},{\"name\":\"last\",\"type\":\"string\"},{\"name\":\"birth\",\"type\":\"integer\"}],\"primaryKey\":[\"index\"],\"pandas_version\":\"0.20.0\"},\"data\":[{\"index\":0,\"first\":\"Paul\",\"last\":\"McCartney\",\"birth\":1942},{\"index\":1,\"first\":\"John\",\"last\":\"Lennon\",\"birth\":1940},{\"index\":2,\"first\":\"Richard\",\"last\":\"Starkey\",\"birth\":1940},{\"index\":3,\"first\":\"George\",\"last\":\"Harrison\",\"birth\":1943}]}'"
      ]
     },
     "execution_count": 65,
     "metadata": {},
     "output_type": "execute_result"
    }
   ],
   "source": [
    "table"
   ]
  },
  {
   "cell_type": "code",
   "execution_count": 66,
   "id": "8afde688",
   "metadata": {},
   "outputs": [],
   "source": [
    "# If you are working on a web service and need to add\n",
    "# additional data to the JSON, just use the .to_dict\n",
    "# method to generate dictionaries. You can add your\n",
    "# new data to the dictionary, and then convert that\n",
    "# dictionary to JSON:\n",
    "\n",
    "output = beat.to_dict()"
   ]
  },
  {
   "cell_type": "code",
   "execution_count": 67,
   "id": "5abe2dc0",
   "metadata": {},
   "outputs": [
    {
     "data": {
      "text/plain": [
       "{'fname': {0: 'Paul', 1: 'John'},\n",
       " 'lname': {0: 'McCartney', 1: 'Lennon'},\n",
       " 'birthyear': {0: 1942, 1: 1940}}"
      ]
     },
     "execution_count": 67,
     "metadata": {},
     "output_type": "execute_result"
    }
   ],
   "source": [
    "output"
   ]
  },
  {
   "cell_type": "code",
   "execution_count": 69,
   "id": "53180974",
   "metadata": {},
   "outputs": [],
   "source": [
    "output[\"version\"] = \"0.4.1\""
   ]
  },
  {
   "cell_type": "code",
   "execution_count": 70,
   "id": "164f0aaa",
   "metadata": {},
   "outputs": [
    {
     "data": {
      "text/plain": [
       "'{\"fname\": {\"0\": \"Paul\", \"1\": \"John\"}, \"lname\": {\"0\": \"McCartney\", \"1\": \"Lennon\"}, \"birthyear\": {\"0\": 1942, \"1\": 1940}, \"version\": \"0.4.1\"}'"
      ]
     },
     "execution_count": 70,
     "metadata": {},
     "output_type": "execute_result"
    }
   ],
   "source": [
    "json.dumps(output)"
   ]
  },
  {
   "cell_type": "markdown",
   "id": "275ac4db",
   "metadata": {},
   "source": [
    "## Reading HTML tables"
   ]
  },
  {
   "cell_type": "code",
   "execution_count": 73,
   "id": "b1c2b894",
   "metadata": {},
   "outputs": [],
   "source": [
    "# You can use pandas to read HTML tables from websites. \n",
    "# This makes it easy to ingest tables such as those \n",
    "# found on Wikipedia or other websites.\n",
    "# Use the read_html function to load all of the tables\n",
    "# from https://en.wikipedia.org/wiki/The_Beatles_discography:\n",
    "\n",
    "url = \"https://en.wikipedia.org/wiki/The_Beatles_discography\"\n",
    "\n",
    "dfs = pd.read_html(url)"
   ]
  },
  {
   "cell_type": "code",
   "execution_count": 74,
   "id": "4725a969",
   "metadata": {},
   "outputs": [
    {
     "data": {
      "text/html": [
       "<div>\n",
       "<style scoped>\n",
       "    .dataframe tbody tr th:only-of-type {\n",
       "        vertical-align: middle;\n",
       "    }\n",
       "\n",
       "    .dataframe tbody tr th {\n",
       "        vertical-align: top;\n",
       "    }\n",
       "\n",
       "    .dataframe thead th {\n",
       "        text-align: right;\n",
       "    }\n",
       "</style>\n",
       "<table border=\"1\" class=\"dataframe\">\n",
       "  <thead>\n",
       "    <tr style=\"text-align: right;\">\n",
       "      <th></th>\n",
       "      <th>The Beatles discography</th>\n",
       "      <th>The Beatles discography.1</th>\n",
       "    </tr>\n",
       "  </thead>\n",
       "  <tbody>\n",
       "    <tr>\n",
       "      <th>0</th>\n",
       "      <td>The Beatles in 1965</td>\n",
       "      <td>The Beatles in 1965</td>\n",
       "    </tr>\n",
       "    <tr>\n",
       "      <th>1</th>\n",
       "      <td>Studio albums</td>\n",
       "      <td>13 (core catalogue), 21 (worldwide)</td>\n",
       "    </tr>\n",
       "    <tr>\n",
       "      <th>2</th>\n",
       "      <td>Live albums</td>\n",
       "      <td>6</td>\n",
       "    </tr>\n",
       "    <tr>\n",
       "      <th>3</th>\n",
       "      <td>Compilation albums</td>\n",
       "      <td>54</td>\n",
       "    </tr>\n",
       "    <tr>\n",
       "      <th>4</th>\n",
       "      <td>Video albums</td>\n",
       "      <td>22</td>\n",
       "    </tr>\n",
       "    <tr>\n",
       "      <th>5</th>\n",
       "      <td>Music videos</td>\n",
       "      <td>68</td>\n",
       "    </tr>\n",
       "    <tr>\n",
       "      <th>6</th>\n",
       "      <td>EPs</td>\n",
       "      <td>36</td>\n",
       "    </tr>\n",
       "    <tr>\n",
       "      <th>7</th>\n",
       "      <td>Singles</td>\n",
       "      <td>63</td>\n",
       "    </tr>\n",
       "    <tr>\n",
       "      <th>8</th>\n",
       "      <td>Mash-ups</td>\n",
       "      <td>2</td>\n",
       "    </tr>\n",
       "    <tr>\n",
       "      <th>9</th>\n",
       "      <td>Box sets</td>\n",
       "      <td>17</td>\n",
       "    </tr>\n",
       "  </tbody>\n",
       "</table>\n",
       "</div>"
      ],
      "text/plain": [
       "  The Beatles discography            The Beatles discography.1\n",
       "0     The Beatles in 1965                  The Beatles in 1965\n",
       "1           Studio albums  13 (core catalogue), 21 (worldwide)\n",
       "2             Live albums                                    6\n",
       "3      Compilation albums                                   54\n",
       "4            Video albums                                   22\n",
       "5            Music videos                                   68\n",
       "6                     EPs                                   36\n",
       "7                 Singles                                   63\n",
       "8                Mash-ups                                    2\n",
       "9                Box sets                                   17"
      ]
     },
     "execution_count": 74,
     "metadata": {},
     "output_type": "execute_result"
    }
   ],
   "source": [
    "dfs[0]"
   ]
  },
  {
   "cell_type": "code",
   "execution_count": 75,
   "id": "56f6899e",
   "metadata": {},
   "outputs": [
    {
     "data": {
      "text/plain": [
       "58"
      ]
     },
     "execution_count": 75,
     "metadata": {},
     "output_type": "execute_result"
    }
   ],
   "source": [
    "len(dfs)"
   ]
  },
  {
   "cell_type": "code",
   "execution_count": 76,
   "id": "7ccdb427",
   "metadata": {},
   "outputs": [],
   "source": [
    "url = \"https://en.wikipedia.org/wiki/The_Beatles_discography\"\n",
    "\n",
    "dfs = pd.read_html(\n",
    "    url, match=\"List of studio albums\", na_values=\"-\"\n",
    ")"
   ]
  },
  {
   "cell_type": "code",
   "execution_count": 77,
   "id": "d75e1667",
   "metadata": {},
   "outputs": [
    {
     "data": {
      "text/plain": [
       "1"
      ]
     },
     "execution_count": 77,
     "metadata": {},
     "output_type": "execute_result"
    }
   ],
   "source": [
    "len(dfs)"
   ]
  },
  {
   "cell_type": "code",
   "execution_count": 83,
   "id": "23f39a92",
   "metadata": {},
   "outputs": [
    {
     "data": {
      "text/plain": [
       "MultiIndex([(               'Title',          'Title'),\n",
       "            (       'Album details',  'Album details'),\n",
       "            ('Peak chart positions',       'UK[6][7]'),\n",
       "            ('Peak chart positions',         'AUS[8]'),\n",
       "            ('Peak chart positions',         'CAN[9]'),\n",
       "            ('Peak chart positions',        'FRA[10]'),\n",
       "            ('Peak chart positions',        'GER[11]'),\n",
       "            ('Peak chart positions',        'NOR[12]'),\n",
       "            ('Peak chart positions',     'US[13][14]'),\n",
       "            (      'Certifications', 'Certifications')],\n",
       "           )"
      ]
     },
     "execution_count": 83,
     "metadata": {},
     "output_type": "execute_result"
    }
   ],
   "source": [
    "dfs[0].columns"
   ]
  },
  {
   "cell_type": "code",
   "execution_count": 85,
   "id": "81a09f01",
   "metadata": {},
   "outputs": [],
   "source": [
    "url = \"https://en.wikipedia.org/wiki/The_Beatles_discography\"\n",
    "\n",
    "dfs = pd.read_html(\n",
    "    url, match=\"List of studio albums\", na_values=\"-\", header=[0, 1],\n",
    ")"
   ]
  },
  {
   "cell_type": "code",
   "execution_count": 86,
   "id": "4b2b262d",
   "metadata": {},
   "outputs": [
    {
     "data": {
      "text/plain": [
       "1"
      ]
     },
     "execution_count": 86,
     "metadata": {},
     "output_type": "execute_result"
    }
   ],
   "source": [
    "len(dfs)"
   ]
  },
  {
   "cell_type": "code",
   "execution_count": 88,
   "id": "88a0ac07",
   "metadata": {},
   "outputs": [
    {
     "data": {
      "text/html": [
       "<div>\n",
       "<style scoped>\n",
       "    .dataframe tbody tr th:only-of-type {\n",
       "        vertical-align: middle;\n",
       "    }\n",
       "\n",
       "    .dataframe tbody tr th {\n",
       "        vertical-align: top;\n",
       "    }\n",
       "\n",
       "    .dataframe thead tr th {\n",
       "        text-align: left;\n",
       "    }\n",
       "</style>\n",
       "<table border=\"1\" class=\"dataframe\">\n",
       "  <thead>\n",
       "    <tr>\n",
       "      <th></th>\n",
       "      <th>Title</th>\n",
       "      <th>Album details</th>\n",
       "      <th>...</th>\n",
       "      <th>Peak chart positions</th>\n",
       "      <th>Certifications</th>\n",
       "    </tr>\n",
       "    <tr>\n",
       "      <th></th>\n",
       "      <th>Title</th>\n",
       "      <th>Album details</th>\n",
       "      <th>...</th>\n",
       "      <th>US[13][14]</th>\n",
       "      <th>Certifications</th>\n",
       "    </tr>\n",
       "  </thead>\n",
       "  <tbody>\n",
       "    <tr>\n",
       "      <th>0</th>\n",
       "      <td>Please Please Me</td>\n",
       "      <td>Released: 22 March 1963 Label: Parlophone (UK)</td>\n",
       "      <td>...</td>\n",
       "      <td>—</td>\n",
       "      <td>BPI: Platinum[15] ARIA: Gold[16] MC: Gold[17] ...</td>\n",
       "    </tr>\n",
       "    <tr>\n",
       "      <th>1</th>\n",
       "      <td>With the Beatles[B]</td>\n",
       "      <td>Released: 22 November 1963 Label: Parlophone (...</td>\n",
       "      <td>...</td>\n",
       "      <td>—</td>\n",
       "      <td>BPI: Gold[15] ARIA: Gold[16] BVMI: Gold[19] MC...</td>\n",
       "    </tr>\n",
       "    <tr>\n",
       "      <th>2</th>\n",
       "      <td>Introducing... The Beatles</td>\n",
       "      <td>Released: 10 January 1964 Label: Vee-Jay (US)</td>\n",
       "      <td>...</td>\n",
       "      <td>2</td>\n",
       "      <td>RIAA: Platinum[18]</td>\n",
       "    </tr>\n",
       "    <tr>\n",
       "      <th>3</th>\n",
       "      <td>Meet the Beatles!</td>\n",
       "      <td>Released: 20 January 1964 Label: Capitol (US)</td>\n",
       "      <td>...</td>\n",
       "      <td>1</td>\n",
       "      <td>MC: Platinum[17] RIAA: 5× Platinum[18]</td>\n",
       "    </tr>\n",
       "    <tr>\n",
       "      <th>4</th>\n",
       "      <td>Twist and Shout</td>\n",
       "      <td>Released: 3 February 1964 Label: Capitol (CAN)</td>\n",
       "      <td>...</td>\n",
       "      <td>—</td>\n",
       "      <td>MC: 3× Platinum[17]</td>\n",
       "    </tr>\n",
       "    <tr>\n",
       "      <th>...</th>\n",
       "      <td>...</td>\n",
       "      <td>...</td>\n",
       "      <td>...</td>\n",
       "      <td>...</td>\n",
       "      <td>...</td>\n",
       "    </tr>\n",
       "    <tr>\n",
       "      <th>22</th>\n",
       "      <td>The Beatles (\"The White Album\")</td>\n",
       "      <td>Released: 22 November 1968 Label: Apple</td>\n",
       "      <td>...</td>\n",
       "      <td>1</td>\n",
       "      <td>BPI: 2× Platinum[15] ARIA: 2× Platinum[16] MC:...</td>\n",
       "    </tr>\n",
       "    <tr>\n",
       "      <th>23</th>\n",
       "      <td>Yellow Submarine[D]</td>\n",
       "      <td>Released: 13 January 1969 Label: Apple (UK), C...</td>\n",
       "      <td>...</td>\n",
       "      <td>2</td>\n",
       "      <td>BPI: Gold[15] MC: Gold[17] RIAA: Platinum[18]</td>\n",
       "    </tr>\n",
       "    <tr>\n",
       "      <th>24</th>\n",
       "      <td>Abbey Road</td>\n",
       "      <td>Released: 26 September 1969 Label: Apple</td>\n",
       "      <td>...</td>\n",
       "      <td>1</td>\n",
       "      <td>BPI: 8× Platinum[15] ARIA: 3× Platinum[16] BVM...</td>\n",
       "    </tr>\n",
       "    <tr>\n",
       "      <th>25</th>\n",
       "      <td>Let It Be</td>\n",
       "      <td>Released: 8 May 1970 Label: Apple</td>\n",
       "      <td>...</td>\n",
       "      <td>1</td>\n",
       "      <td>BPI: Platinum[15] ARIA: Platinum[16] MC: 3× Pl...</td>\n",
       "    </tr>\n",
       "    <tr>\n",
       "      <th>26</th>\n",
       "      <td>\"—\" denotes that the recording did not chart o...</td>\n",
       "      <td>\"—\" denotes that the recording did not chart o...</td>\n",
       "      <td>...</td>\n",
       "      <td>\"—\" denotes that the recording did not chart o...</td>\n",
       "      <td>\"—\" denotes that the recording did not chart o...</td>\n",
       "    </tr>\n",
       "  </tbody>\n",
       "</table>\n",
       "<p>27 rows × 10 columns</p>\n",
       "</div>"
      ],
      "text/plain": [
       "                                                Title  \\\n",
       "                                                Title   \n",
       "0                                    Please Please Me   \n",
       "1                                 With the Beatles[B]   \n",
       "2                          Introducing... The Beatles   \n",
       "3                                   Meet the Beatles!   \n",
       "4                                     Twist and Shout   \n",
       "..                                                ...   \n",
       "22                    The Beatles (\"The White Album\")   \n",
       "23                                Yellow Submarine[D]   \n",
       "24                                         Abbey Road   \n",
       "25                                          Let It Be   \n",
       "26  \"—\" denotes that the recording did not chart o...   \n",
       "\n",
       "                                        Album details  ...  \\\n",
       "                                        Album details  ...   \n",
       "0      Released: 22 March 1963 Label: Parlophone (UK)  ...   \n",
       "1   Released: 22 November 1963 Label: Parlophone (...  ...   \n",
       "2       Released: 10 January 1964 Label: Vee-Jay (US)  ...   \n",
       "3       Released: 20 January 1964 Label: Capitol (US)  ...   \n",
       "4      Released: 3 February 1964 Label: Capitol (CAN)  ...   \n",
       "..                                                ...  ...   \n",
       "22            Released: 22 November 1968 Label: Apple  ...   \n",
       "23  Released: 13 January 1969 Label: Apple (UK), C...  ...   \n",
       "24           Released: 26 September 1969 Label: Apple  ...   \n",
       "25                  Released: 8 May 1970 Label: Apple  ...   \n",
       "26  \"—\" denotes that the recording did not chart o...  ...   \n",
       "\n",
       "                                 Peak chart positions  \\\n",
       "                                           US[13][14]   \n",
       "0                                                   —   \n",
       "1                                                   —   \n",
       "2                                                   2   \n",
       "3                                                   1   \n",
       "4                                                   —   \n",
       "..                                                ...   \n",
       "22                                                  1   \n",
       "23                                                  2   \n",
       "24                                                  1   \n",
       "25                                                  1   \n",
       "26  \"—\" denotes that the recording did not chart o...   \n",
       "\n",
       "                                       Certifications  \n",
       "                                       Certifications  \n",
       "0   BPI: Platinum[15] ARIA: Gold[16] MC: Gold[17] ...  \n",
       "1   BPI: Gold[15] ARIA: Gold[16] BVMI: Gold[19] MC...  \n",
       "2                                  RIAA: Platinum[18]  \n",
       "3              MC: Platinum[17] RIAA: 5× Platinum[18]  \n",
       "4                                 MC: 3× Platinum[17]  \n",
       "..                                                ...  \n",
       "22  BPI: 2× Platinum[15] ARIA: 2× Platinum[16] MC:...  \n",
       "23      BPI: Gold[15] MC: Gold[17] RIAA: Platinum[18]  \n",
       "24  BPI: 8× Platinum[15] ARIA: 3× Platinum[16] BVM...  \n",
       "25  BPI: Platinum[15] ARIA: Platinum[16] MC: 3× Pl...  \n",
       "26  \"—\" denotes that the recording did not chart o...  \n",
       "\n",
       "[27 rows x 10 columns]"
      ]
     },
     "execution_count": 88,
     "metadata": {},
     "output_type": "execute_result"
    }
   ],
   "source": [
    "dfs[0]"
   ]
  },
  {
   "cell_type": "code",
   "execution_count": 90,
   "id": "03be7629",
   "metadata": {},
   "outputs": [
    {
     "data": {
      "text/plain": [
       "MultiIndex([(               'Title',          'Title'),\n",
       "            (       'Album details',  'Album details'),\n",
       "            ('Peak chart positions',       'UK[6][7]'),\n",
       "            ('Peak chart positions',         'AUS[8]'),\n",
       "            ('Peak chart positions',         'CAN[9]'),\n",
       "            ('Peak chart positions',        'FRA[10]'),\n",
       "            ('Peak chart positions',        'GER[11]'),\n",
       "            ('Peak chart positions',        'NOR[12]'),\n",
       "            ('Peak chart positions',     'US[13][14]'),\n",
       "            (      'Certifications', 'Certifications')],\n",
       "           )"
      ]
     },
     "execution_count": 90,
     "metadata": {},
     "output_type": "execute_result"
    }
   ],
   "source": [
    "dfs[0].columns"
   ]
  },
  {
   "cell_type": "code",
   "execution_count": 91,
   "id": "5a3c1795",
   "metadata": {},
   "outputs": [],
   "source": [
    "# This is not something that is easy to fix \n",
    "# programmatically. In this case, the easiest\n",
    "# solution is to update the columns manually\n",
    "\n",
    "df = dfs[0]"
   ]
  },
  {
   "cell_type": "code",
   "execution_count": 92,
   "id": "4d75d904",
   "metadata": {},
   "outputs": [],
   "source": [
    "df.columns = [\n",
    "    \"Title\",\n",
    "     \"Release\",\n",
    "     \"UK\",\n",
    "     \"AUS\",\n",
    "     \"CAN\",\n",
    "     \"FRA\",\n",
    "     \"GER\",\n",
    "     \"NOR\",\n",
    "     \"US\",\n",
    "     \"Certifications\",\n",
    "]"
   ]
  },
  {
   "cell_type": "code",
   "execution_count": 93,
   "id": "698165a6",
   "metadata": {},
   "outputs": [
    {
     "data": {
      "text/html": [
       "<div>\n",
       "<style scoped>\n",
       "    .dataframe tbody tr th:only-of-type {\n",
       "        vertical-align: middle;\n",
       "    }\n",
       "\n",
       "    .dataframe tbody tr th {\n",
       "        vertical-align: top;\n",
       "    }\n",
       "\n",
       "    .dataframe thead th {\n",
       "        text-align: right;\n",
       "    }\n",
       "</style>\n",
       "<table border=\"1\" class=\"dataframe\">\n",
       "  <thead>\n",
       "    <tr style=\"text-align: right;\">\n",
       "      <th></th>\n",
       "      <th>Title</th>\n",
       "      <th>Release</th>\n",
       "      <th>...</th>\n",
       "      <th>US</th>\n",
       "      <th>Certifications</th>\n",
       "    </tr>\n",
       "  </thead>\n",
       "  <tbody>\n",
       "    <tr>\n",
       "      <th>0</th>\n",
       "      <td>Please Please Me</td>\n",
       "      <td>Released: 22 March 1963 Label: Parlophone (UK)</td>\n",
       "      <td>...</td>\n",
       "      <td>—</td>\n",
       "      <td>BPI: Platinum[15] ARIA: Gold[16] MC: Gold[17] ...</td>\n",
       "    </tr>\n",
       "    <tr>\n",
       "      <th>1</th>\n",
       "      <td>With the Beatles[B]</td>\n",
       "      <td>Released: 22 November 1963 Label: Parlophone (...</td>\n",
       "      <td>...</td>\n",
       "      <td>—</td>\n",
       "      <td>BPI: Gold[15] ARIA: Gold[16] BVMI: Gold[19] MC...</td>\n",
       "    </tr>\n",
       "    <tr>\n",
       "      <th>2</th>\n",
       "      <td>Introducing... The Beatles</td>\n",
       "      <td>Released: 10 January 1964 Label: Vee-Jay (US)</td>\n",
       "      <td>...</td>\n",
       "      <td>2</td>\n",
       "      <td>RIAA: Platinum[18]</td>\n",
       "    </tr>\n",
       "    <tr>\n",
       "      <th>3</th>\n",
       "      <td>Meet the Beatles!</td>\n",
       "      <td>Released: 20 January 1964 Label: Capitol (US)</td>\n",
       "      <td>...</td>\n",
       "      <td>1</td>\n",
       "      <td>MC: Platinum[17] RIAA: 5× Platinum[18]</td>\n",
       "    </tr>\n",
       "    <tr>\n",
       "      <th>4</th>\n",
       "      <td>Twist and Shout</td>\n",
       "      <td>Released: 3 February 1964 Label: Capitol (CAN)</td>\n",
       "      <td>...</td>\n",
       "      <td>—</td>\n",
       "      <td>MC: 3× Platinum[17]</td>\n",
       "    </tr>\n",
       "    <tr>\n",
       "      <th>...</th>\n",
       "      <td>...</td>\n",
       "      <td>...</td>\n",
       "      <td>...</td>\n",
       "      <td>...</td>\n",
       "      <td>...</td>\n",
       "    </tr>\n",
       "    <tr>\n",
       "      <th>22</th>\n",
       "      <td>The Beatles (\"The White Album\")</td>\n",
       "      <td>Released: 22 November 1968 Label: Apple</td>\n",
       "      <td>...</td>\n",
       "      <td>1</td>\n",
       "      <td>BPI: 2× Platinum[15] ARIA: 2× Platinum[16] MC:...</td>\n",
       "    </tr>\n",
       "    <tr>\n",
       "      <th>23</th>\n",
       "      <td>Yellow Submarine[D]</td>\n",
       "      <td>Released: 13 January 1969 Label: Apple (UK), C...</td>\n",
       "      <td>...</td>\n",
       "      <td>2</td>\n",
       "      <td>BPI: Gold[15] MC: Gold[17] RIAA: Platinum[18]</td>\n",
       "    </tr>\n",
       "    <tr>\n",
       "      <th>24</th>\n",
       "      <td>Abbey Road</td>\n",
       "      <td>Released: 26 September 1969 Label: Apple</td>\n",
       "      <td>...</td>\n",
       "      <td>1</td>\n",
       "      <td>BPI: 8× Platinum[15] ARIA: 3× Platinum[16] BVM...</td>\n",
       "    </tr>\n",
       "    <tr>\n",
       "      <th>25</th>\n",
       "      <td>Let It Be</td>\n",
       "      <td>Released: 8 May 1970 Label: Apple</td>\n",
       "      <td>...</td>\n",
       "      <td>1</td>\n",
       "      <td>BPI: Platinum[15] ARIA: Platinum[16] MC: 3× Pl...</td>\n",
       "    </tr>\n",
       "    <tr>\n",
       "      <th>26</th>\n",
       "      <td>\"—\" denotes that the recording did not chart o...</td>\n",
       "      <td>\"—\" denotes that the recording did not chart o...</td>\n",
       "      <td>...</td>\n",
       "      <td>\"—\" denotes that the recording did not chart o...</td>\n",
       "      <td>\"—\" denotes that the recording did not chart o...</td>\n",
       "    </tr>\n",
       "  </tbody>\n",
       "</table>\n",
       "<p>27 rows × 10 columns</p>\n",
       "</div>"
      ],
      "text/plain": [
       "                                                Title  \\\n",
       "0                                    Please Please Me   \n",
       "1                                 With the Beatles[B]   \n",
       "2                          Introducing... The Beatles   \n",
       "3                                   Meet the Beatles!   \n",
       "4                                     Twist and Shout   \n",
       "..                                                ...   \n",
       "22                    The Beatles (\"The White Album\")   \n",
       "23                                Yellow Submarine[D]   \n",
       "24                                         Abbey Road   \n",
       "25                                          Let It Be   \n",
       "26  \"—\" denotes that the recording did not chart o...   \n",
       "\n",
       "                                              Release  ...  \\\n",
       "0      Released: 22 March 1963 Label: Parlophone (UK)  ...   \n",
       "1   Released: 22 November 1963 Label: Parlophone (...  ...   \n",
       "2       Released: 10 January 1964 Label: Vee-Jay (US)  ...   \n",
       "3       Released: 20 January 1964 Label: Capitol (US)  ...   \n",
       "4      Released: 3 February 1964 Label: Capitol (CAN)  ...   \n",
       "..                                                ...  ...   \n",
       "22            Released: 22 November 1968 Label: Apple  ...   \n",
       "23  Released: 13 January 1969 Label: Apple (UK), C...  ...   \n",
       "24           Released: 26 September 1969 Label: Apple  ...   \n",
       "25                  Released: 8 May 1970 Label: Apple  ...   \n",
       "26  \"—\" denotes that the recording did not chart o...  ...   \n",
       "\n",
       "                                                   US  \\\n",
       "0                                                   —   \n",
       "1                                                   —   \n",
       "2                                                   2   \n",
       "3                                                   1   \n",
       "4                                                   —   \n",
       "..                                                ...   \n",
       "22                                                  1   \n",
       "23                                                  2   \n",
       "24                                                  1   \n",
       "25                                                  1   \n",
       "26  \"—\" denotes that the recording did not chart o...   \n",
       "\n",
       "                                       Certifications  \n",
       "0   BPI: Platinum[15] ARIA: Gold[16] MC: Gold[17] ...  \n",
       "1   BPI: Gold[15] ARIA: Gold[16] BVMI: Gold[19] MC...  \n",
       "2                                  RIAA: Platinum[18]  \n",
       "3              MC: Platinum[17] RIAA: 5× Platinum[18]  \n",
       "4                                 MC: 3× Platinum[17]  \n",
       "..                                                ...  \n",
       "22  BPI: 2× Platinum[15] ARIA: 2× Platinum[16] MC:...  \n",
       "23      BPI: Gold[15] MC: Gold[17] RIAA: Platinum[18]  \n",
       "24  BPI: 8× Platinum[15] ARIA: 3× Platinum[16] BVM...  \n",
       "25  BPI: Platinum[15] ARIA: Platinum[16] MC: 3× Pl...  \n",
       "26  \"—\" denotes that the recording did not chart o...  \n",
       "\n",
       "[27 rows x 10 columns]"
      ]
     },
     "execution_count": 93,
     "metadata": {},
     "output_type": "execute_result"
    }
   ],
   "source": [
    "df"
   ]
  },
  {
   "cell_type": "code",
   "execution_count": 98,
   "id": "987a960f",
   "metadata": {},
   "outputs": [
    {
     "name": "stderr",
     "output_type": "stream",
     "text": [
      "C:\\Users\\JUSTIN~1.O_K\\AppData\\Local\\Temp/ipykernel_23800/828206245.py:13: FutureWarning: The default value of regex will change from True to False in a future version.\n",
      "  df_.Release.str.extract(\n"
     ]
    }
   ],
   "source": [
    "# We will skip these rows. They confuse pandas, and\n",
    "# the data pandas puts in these rows is not correct.\n",
    "# We will split the release column into two columns,\n",
    "# release_date and label:\n",
    "res = (\n",
    "    df.pipe(\n",
    "        lambda df_: df_[\n",
    "            ~df_.Title.str.startswith(\"Released\")\n",
    "        ]\n",
    "    )\n",
    "    .assign(\n",
    "        release_date=lambda df_: pd.to_datetime(\n",
    "          df_.Release.str.extract(\n",
    "            r\"Released: (.*) Label\"\n",
    "          )[0].str.replace(r\"\\[E\\]\", \"\")\n",
    "      ),\n",
    "      label=lambda df_: df_.Release.str.extract(\n",
    "        r\"Label: (.*)\"\n",
    "      ),\n",
    "    )\n",
    "    .loc[\n",
    "       :,\n",
    "        [\n",
    "           \"Title\",\n",
    "           \"UK\",\n",
    "           \"AUS\",\n",
    "           \"CAN\",\n",
    "           \"FRA\",\n",
    "           \"GER\",\n",
    "           \"NOR\",\n",
    "           \"US\",\n",
    "           \"release_date\",\n",
    "           \"label\",\n",
    "         ],\n",
    "     ]\n",
    ")"
   ]
  },
  {
   "cell_type": "code",
   "execution_count": 99,
   "id": "2bcc25d0",
   "metadata": {},
   "outputs": [
    {
     "data": {
      "text/html": [
       "<div>\n",
       "<style scoped>\n",
       "    .dataframe tbody tr th:only-of-type {\n",
       "        vertical-align: middle;\n",
       "    }\n",
       "\n",
       "    .dataframe tbody tr th {\n",
       "        vertical-align: top;\n",
       "    }\n",
       "\n",
       "    .dataframe thead th {\n",
       "        text-align: right;\n",
       "    }\n",
       "</style>\n",
       "<table border=\"1\" class=\"dataframe\">\n",
       "  <thead>\n",
       "    <tr style=\"text-align: right;\">\n",
       "      <th></th>\n",
       "      <th>Title</th>\n",
       "      <th>UK</th>\n",
       "      <th>...</th>\n",
       "      <th>release_date</th>\n",
       "      <th>label</th>\n",
       "    </tr>\n",
       "  </thead>\n",
       "  <tbody>\n",
       "    <tr>\n",
       "      <th>0</th>\n",
       "      <td>Please Please Me</td>\n",
       "      <td>1</td>\n",
       "      <td>...</td>\n",
       "      <td>1963-03-22</td>\n",
       "      <td>Parlophone (UK)</td>\n",
       "    </tr>\n",
       "    <tr>\n",
       "      <th>1</th>\n",
       "      <td>With the Beatles[B]</td>\n",
       "      <td>1</td>\n",
       "      <td>...</td>\n",
       "      <td>1963-11-22</td>\n",
       "      <td>Parlophone (UK), Capitol (CAN), Odeon (FRA)</td>\n",
       "    </tr>\n",
       "    <tr>\n",
       "      <th>2</th>\n",
       "      <td>Introducing... The Beatles</td>\n",
       "      <td>—</td>\n",
       "      <td>...</td>\n",
       "      <td>1964-01-10</td>\n",
       "      <td>Vee-Jay (US)</td>\n",
       "    </tr>\n",
       "    <tr>\n",
       "      <th>3</th>\n",
       "      <td>Meet the Beatles!</td>\n",
       "      <td>—</td>\n",
       "      <td>...</td>\n",
       "      <td>1964-01-20</td>\n",
       "      <td>Capitol (US)</td>\n",
       "    </tr>\n",
       "    <tr>\n",
       "      <th>4</th>\n",
       "      <td>Twist and Shout</td>\n",
       "      <td>—</td>\n",
       "      <td>...</td>\n",
       "      <td>1964-02-03</td>\n",
       "      <td>Capitol (CAN)</td>\n",
       "    </tr>\n",
       "    <tr>\n",
       "      <th>...</th>\n",
       "      <td>...</td>\n",
       "      <td>...</td>\n",
       "      <td>...</td>\n",
       "      <td>...</td>\n",
       "      <td>...</td>\n",
       "    </tr>\n",
       "    <tr>\n",
       "      <th>22</th>\n",
       "      <td>The Beatles (\"The White Album\")</td>\n",
       "      <td>1</td>\n",
       "      <td>...</td>\n",
       "      <td>1968-11-22</td>\n",
       "      <td>Apple</td>\n",
       "    </tr>\n",
       "    <tr>\n",
       "      <th>23</th>\n",
       "      <td>Yellow Submarine[D]</td>\n",
       "      <td>3</td>\n",
       "      <td>...</td>\n",
       "      <td>1969-01-13</td>\n",
       "      <td>Apple (UK), Capitol (US)</td>\n",
       "    </tr>\n",
       "    <tr>\n",
       "      <th>24</th>\n",
       "      <td>Abbey Road</td>\n",
       "      <td>1</td>\n",
       "      <td>...</td>\n",
       "      <td>1969-09-26</td>\n",
       "      <td>Apple</td>\n",
       "    </tr>\n",
       "    <tr>\n",
       "      <th>25</th>\n",
       "      <td>Let It Be</td>\n",
       "      <td>1</td>\n",
       "      <td>...</td>\n",
       "      <td>1970-05-08</td>\n",
       "      <td>Apple</td>\n",
       "    </tr>\n",
       "    <tr>\n",
       "      <th>26</th>\n",
       "      <td>\"—\" denotes that the recording did not chart o...</td>\n",
       "      <td>\"—\" denotes that the recording did not chart o...</td>\n",
       "      <td>...</td>\n",
       "      <td>NaT</td>\n",
       "      <td>NaN</td>\n",
       "    </tr>\n",
       "  </tbody>\n",
       "</table>\n",
       "<p>27 rows × 10 columns</p>\n",
       "</div>"
      ],
      "text/plain": [
       "                                                Title  \\\n",
       "0                                    Please Please Me   \n",
       "1                                 With the Beatles[B]   \n",
       "2                          Introducing... The Beatles   \n",
       "3                                   Meet the Beatles!   \n",
       "4                                     Twist and Shout   \n",
       "..                                                ...   \n",
       "22                    The Beatles (\"The White Album\")   \n",
       "23                                Yellow Submarine[D]   \n",
       "24                                         Abbey Road   \n",
       "25                                          Let It Be   \n",
       "26  \"—\" denotes that the recording did not chart o...   \n",
       "\n",
       "                                                   UK  ... release_date  \\\n",
       "0                                                   1  ...   1963-03-22   \n",
       "1                                                   1  ...   1963-11-22   \n",
       "2                                                   —  ...   1964-01-10   \n",
       "3                                                   —  ...   1964-01-20   \n",
       "4                                                   —  ...   1964-02-03   \n",
       "..                                                ...  ...          ...   \n",
       "22                                                  1  ...   1968-11-22   \n",
       "23                                                  3  ...   1969-01-13   \n",
       "24                                                  1  ...   1969-09-26   \n",
       "25                                                  1  ...   1970-05-08   \n",
       "26  \"—\" denotes that the recording did not chart o...  ...          NaT   \n",
       "\n",
       "                                          label  \n",
       "0                               Parlophone (UK)  \n",
       "1   Parlophone (UK), Capitol (CAN), Odeon (FRA)  \n",
       "2                                  Vee-Jay (US)  \n",
       "3                                  Capitol (US)  \n",
       "4                                 Capitol (CAN)  \n",
       "..                                          ...  \n",
       "22                                        Apple  \n",
       "23                     Apple (UK), Capitol (US)  \n",
       "24                                        Apple  \n",
       "25                                        Apple  \n",
       "26                                          NaN  \n",
       "\n",
       "[27 rows x 10 columns]"
      ]
     },
     "execution_count": 99,
     "metadata": {},
     "output_type": "execute_result"
    }
   ],
   "source": [
    "res"
   ]
  },
  {
   "cell_type": "code",
   "execution_count": null,
   "id": "c9d360af",
   "metadata": {},
   "outputs": [],
   "source": []
  }
 ],
 "metadata": {
  "kernelspec": {
   "display_name": "Python 3 (ipykernel)",
   "language": "python",
   "name": "python3"
  },
  "language_info": {
   "codemirror_mode": {
    "name": "ipython",
    "version": 3
   },
   "file_extension": ".py",
   "mimetype": "text/x-python",
   "name": "python",
   "nbconvert_exporter": "python",
   "pygments_lexer": "ipython3",
   "version": "3.9.7"
  }
 },
 "nbformat": 4,
 "nbformat_minor": 5
}
